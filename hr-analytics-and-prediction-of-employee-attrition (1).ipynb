{
 "cells": [
  {
   "cell_type": "markdown",
   "metadata": {},
   "source": [
    "<img src=\"https://images.squarespace-cdn.com/content/v1/5b80256a25bf0202e059a9d3/40c9f7f3-e8eb-498d-b416-88e3f04d10d0/AdobeStock_362621618.jpeg\" width=\"700\">\n",
    "<p style=\"text-align:right\"><a href=\"https://images.squarespace-cdn.com/content/v1/5b80256a25bf0202e059a9d3/40c9f7f3-e8eb-498d-b416-88e3f04d10d0/AdobeStock_362621618.jpeg\">Image source</a></p>\n",
    "\n",
    "# <div style=\"color:white;display:fill;border-radius:5px;background-color:#8ABEB9;overflow:hidden\"><p style=\"padding:20px;color:white;overflow:hidden;font-size:100%;margin:0;text-align:center\">Introduction</p></div>\n",
    "\n",
    "Employee retention strategies are integral to the success and well-being of a company. There are often many reasons why employees leave an organization, and in this case study, I will explore some of the key drivers of employee attrition. Employee attrition measures how many workers have left an organization and is a common metric companies use to assess their performance. While turnover rates vary from industry to industry, the [Bureau of Labor Statistics reported](https://www.bls.gov/news.release/jolts.t18.htm#) that among voluntary separations the overall turnover rate was 25% in 2020.\n",
    "\n",
    "In this notebook, I will explore IBM's [dataset](https://www.kaggle.com/pavansubhasht/ibm-hr-analytics-attrition-dataset) on HR Analytics. The data consists of nearly 1,500 current and former employees with information related to their job satisfaction, work life balance, tenure, experience, salary, and demographic data. Below is a brief overview and summary statistics of the data."
   ]
  },
  {
   "cell_type": "code",
   "execution_count": 76,
   "metadata": {
    "_kg_hide-input": true
   },
   "outputs": [
    {
     "data": {
      "text/html": [
       "        <script type=\"text/javascript\">\n",
       "        window.PlotlyConfig = {MathJaxConfig: 'local'};\n",
       "        if (window.MathJax && window.MathJax.Hub && window.MathJax.Hub.Config) {window.MathJax.Hub.Config({SVG: {font: \"STIX-Web\"}});}\n",
       "        if (typeof require !== 'undefined') {\n",
       "        require.undef(\"plotly\");\n",
       "        requirejs.config({\n",
       "            paths: {\n",
       "                'plotly': ['https://cdn.plot.ly/plotly-2.35.2.min']\n",
       "            }\n",
       "        });\n",
       "        require(['plotly'], function(Plotly) {\n",
       "            window._Plotly = Plotly;\n",
       "        });\n",
       "        }\n",
       "        </script>\n",
       "        "
      ]
     },
     "metadata": {},
     "output_type": "display_data"
    },
    {
     "name": "stdout",
     "output_type": "stream",
     "text": [
      "There are 1,470 rows and 35 columns in the data.\n",
      "There are 0 missing values in the data.\n"
     ]
    },
    {
     "data": {
      "text/html": [
       "<div>\n",
       "<style scoped>\n",
       "    .dataframe tbody tr th:only-of-type {\n",
       "        vertical-align: middle;\n",
       "    }\n",
       "\n",
       "    .dataframe tbody tr th {\n",
       "        vertical-align: top;\n",
       "    }\n",
       "\n",
       "    .dataframe thead th {\n",
       "        text-align: right;\n",
       "    }\n",
       "</style>\n",
       "<table border=\"1\" class=\"dataframe\">\n",
       "  <thead>\n",
       "    <tr style=\"text-align: right;\">\n",
       "      <th></th>\n",
       "      <th>Age</th>\n",
       "      <th>Attrition</th>\n",
       "      <th>BusinessTravel</th>\n",
       "      <th>DailyRate</th>\n",
       "      <th>Department</th>\n",
       "      <th>DistanceFromHome</th>\n",
       "      <th>Education</th>\n",
       "      <th>EducationField</th>\n",
       "      <th>EmployeeCount</th>\n",
       "      <th>EmployeeNumber</th>\n",
       "      <th>...</th>\n",
       "      <th>RelationshipSatisfaction</th>\n",
       "      <th>StandardHours</th>\n",
       "      <th>StockOptionLevel</th>\n",
       "      <th>TotalWorkingYears</th>\n",
       "      <th>TrainingTimesLastYear</th>\n",
       "      <th>WorkLifeBalance</th>\n",
       "      <th>YearsAtCompany</th>\n",
       "      <th>YearsInCurrentRole</th>\n",
       "      <th>YearsSinceLastPromotion</th>\n",
       "      <th>YearsWithCurrManager</th>\n",
       "    </tr>\n",
       "  </thead>\n",
       "  <tbody>\n",
       "    <tr>\n",
       "      <th>0</th>\n",
       "      <td>41</td>\n",
       "      <td>Yes</td>\n",
       "      <td>Travel_Rarely</td>\n",
       "      <td>1102</td>\n",
       "      <td>Sales</td>\n",
       "      <td>1</td>\n",
       "      <td>2</td>\n",
       "      <td>Life Sciences</td>\n",
       "      <td>1</td>\n",
       "      <td>1</td>\n",
       "      <td>...</td>\n",
       "      <td>1</td>\n",
       "      <td>80</td>\n",
       "      <td>0</td>\n",
       "      <td>8</td>\n",
       "      <td>0</td>\n",
       "      <td>1</td>\n",
       "      <td>6</td>\n",
       "      <td>4</td>\n",
       "      <td>0</td>\n",
       "      <td>5</td>\n",
       "    </tr>\n",
       "    <tr>\n",
       "      <th>1</th>\n",
       "      <td>49</td>\n",
       "      <td>No</td>\n",
       "      <td>Travel_Frequently</td>\n",
       "      <td>279</td>\n",
       "      <td>Research &amp; Development</td>\n",
       "      <td>8</td>\n",
       "      <td>1</td>\n",
       "      <td>Life Sciences</td>\n",
       "      <td>1</td>\n",
       "      <td>2</td>\n",
       "      <td>...</td>\n",
       "      <td>4</td>\n",
       "      <td>80</td>\n",
       "      <td>1</td>\n",
       "      <td>10</td>\n",
       "      <td>3</td>\n",
       "      <td>3</td>\n",
       "      <td>10</td>\n",
       "      <td>7</td>\n",
       "      <td>1</td>\n",
       "      <td>7</td>\n",
       "    </tr>\n",
       "    <tr>\n",
       "      <th>2</th>\n",
       "      <td>37</td>\n",
       "      <td>Yes</td>\n",
       "      <td>Travel_Rarely</td>\n",
       "      <td>1373</td>\n",
       "      <td>Research &amp; Development</td>\n",
       "      <td>2</td>\n",
       "      <td>2</td>\n",
       "      <td>Other</td>\n",
       "      <td>1</td>\n",
       "      <td>4</td>\n",
       "      <td>...</td>\n",
       "      <td>2</td>\n",
       "      <td>80</td>\n",
       "      <td>0</td>\n",
       "      <td>7</td>\n",
       "      <td>3</td>\n",
       "      <td>3</td>\n",
       "      <td>0</td>\n",
       "      <td>0</td>\n",
       "      <td>0</td>\n",
       "      <td>0</td>\n",
       "    </tr>\n",
       "    <tr>\n",
       "      <th>3</th>\n",
       "      <td>33</td>\n",
       "      <td>No</td>\n",
       "      <td>Travel_Frequently</td>\n",
       "      <td>1392</td>\n",
       "      <td>Research &amp; Development</td>\n",
       "      <td>3</td>\n",
       "      <td>4</td>\n",
       "      <td>Life Sciences</td>\n",
       "      <td>1</td>\n",
       "      <td>5</td>\n",
       "      <td>...</td>\n",
       "      <td>3</td>\n",
       "      <td>80</td>\n",
       "      <td>0</td>\n",
       "      <td>8</td>\n",
       "      <td>3</td>\n",
       "      <td>3</td>\n",
       "      <td>8</td>\n",
       "      <td>7</td>\n",
       "      <td>3</td>\n",
       "      <td>0</td>\n",
       "    </tr>\n",
       "    <tr>\n",
       "      <th>4</th>\n",
       "      <td>27</td>\n",
       "      <td>No</td>\n",
       "      <td>Travel_Rarely</td>\n",
       "      <td>591</td>\n",
       "      <td>Research &amp; Development</td>\n",
       "      <td>2</td>\n",
       "      <td>1</td>\n",
       "      <td>Medical</td>\n",
       "      <td>1</td>\n",
       "      <td>7</td>\n",
       "      <td>...</td>\n",
       "      <td>4</td>\n",
       "      <td>80</td>\n",
       "      <td>1</td>\n",
       "      <td>6</td>\n",
       "      <td>3</td>\n",
       "      <td>3</td>\n",
       "      <td>2</td>\n",
       "      <td>2</td>\n",
       "      <td>2</td>\n",
       "      <td>2</td>\n",
       "    </tr>\n",
       "  </tbody>\n",
       "</table>\n",
       "<p>5 rows × 35 columns</p>\n",
       "</div>"
      ],
      "text/plain": [
       "   Age Attrition     BusinessTravel  DailyRate              Department  \\\n",
       "0   41       Yes      Travel_Rarely       1102                   Sales   \n",
       "1   49        No  Travel_Frequently        279  Research & Development   \n",
       "2   37       Yes      Travel_Rarely       1373  Research & Development   \n",
       "3   33        No  Travel_Frequently       1392  Research & Development   \n",
       "4   27        No      Travel_Rarely        591  Research & Development   \n",
       "\n",
       "   DistanceFromHome  Education EducationField  EmployeeCount  EmployeeNumber  \\\n",
       "0                 1          2  Life Sciences              1               1   \n",
       "1                 8          1  Life Sciences              1               2   \n",
       "2                 2          2          Other              1               4   \n",
       "3                 3          4  Life Sciences              1               5   \n",
       "4                 2          1        Medical              1               7   \n",
       "\n",
       "   ...  RelationshipSatisfaction StandardHours  StockOptionLevel  \\\n",
       "0  ...                         1            80                 0   \n",
       "1  ...                         4            80                 1   \n",
       "2  ...                         2            80                 0   \n",
       "3  ...                         3            80                 0   \n",
       "4  ...                         4            80                 1   \n",
       "\n",
       "   TotalWorkingYears  TrainingTimesLastYear WorkLifeBalance  YearsAtCompany  \\\n",
       "0                  8                      0               1               6   \n",
       "1                 10                      3               3              10   \n",
       "2                  7                      3               3               0   \n",
       "3                  8                      3               3               8   \n",
       "4                  6                      3               3               2   \n",
       "\n",
       "  YearsInCurrentRole  YearsSinceLastPromotion  YearsWithCurrManager  \n",
       "0                  4                        0                     5  \n",
       "1                  7                        1                     7  \n",
       "2                  0                        0                     0  \n",
       "3                  7                        3                     0  \n",
       "4                  2                        2                     2  \n",
       "\n",
       "[5 rows x 35 columns]"
      ]
     },
     "execution_count": 76,
     "metadata": {},
     "output_type": "execute_result"
    }
   ],
   "source": [
    "import warnings\n",
    "import numpy as np\n",
    "import pandas as pd\n",
    "import seaborn as sns\n",
    "import matplotlib.pyplot as plt\n",
    "import plotly.express as px\n",
    "import plotly.graph_objects as go\n",
    "import scipy\n",
    "from scipy.stats import chi2_contingency \n",
    "from plotly.subplots import make_subplots\n",
    "from plotly.offline import init_notebook_mode\n",
    "from statistics import stdev\n",
    "from pprint import pprint\n",
    "from sklearn.model_selection import train_test_split\n",
    "from sklearn.preprocessing import RobustScaler, StandardScaler\n",
    "from sklearn.model_selection import RandomizedSearchCV\n",
    "from sklearn.ensemble import RandomForestClassifier\n",
    "from sklearn.metrics import accuracy_score, roc_auc_score\n",
    "warnings.filterwarnings(\"ignore\")\n",
    "import plotly.figure_factory as ff\n",
    "init_notebook_mode(connected=True)\n",
    "sns.set_context(\"notebook\")\n",
    "\n",
    "data = pd.read_csv(r\"WA_Fn-UseC_-HR-Employee-Attrition.csv\")\n",
    "print(\"There are {:,} rows and {} columns in the data.\".format(data.shape[0], data.shape[1]))\n",
    "print(\"There are {} missing values in the data.\".format(data.isnull().sum().sum()))\n",
    "data.head()"
   ]
  },
  {
   "cell_type": "markdown",
   "metadata": {},
   "source": [
    "## <b><span style='color:#68A19B'>1.1</span> | Summary Statistics of numeric variables</b>"
   ]
  },
  {
   "cell_type": "code",
   "execution_count": 78,
   "metadata": {
    "_kg_hide-input": true
   },
   "outputs": [
    {
     "data": {
      "text/html": [
       "<div>\n",
       "<style scoped>\n",
       "    .dataframe tbody tr th:only-of-type {\n",
       "        vertical-align: middle;\n",
       "    }\n",
       "\n",
       "    .dataframe tbody tr th {\n",
       "        vertical-align: top;\n",
       "    }\n",
       "\n",
       "    .dataframe thead th {\n",
       "        text-align: right;\n",
       "    }\n",
       "</style>\n",
       "<table border=\"1\" class=\"dataframe\">\n",
       "  <thead>\n",
       "    <tr style=\"text-align: right;\">\n",
       "      <th></th>\n",
       "      <th>Age</th>\n",
       "      <th>DailyRate</th>\n",
       "      <th>DistanceFromHome</th>\n",
       "      <th>Education</th>\n",
       "      <th>EmployeeCount</th>\n",
       "      <th>EmployeeNumber</th>\n",
       "      <th>EnvironmentSatisfaction</th>\n",
       "      <th>HourlyRate</th>\n",
       "      <th>JobInvolvement</th>\n",
       "      <th>JobLevel</th>\n",
       "      <th>...</th>\n",
       "      <th>RelationshipSatisfaction</th>\n",
       "      <th>StandardHours</th>\n",
       "      <th>StockOptionLevel</th>\n",
       "      <th>TotalWorkingYears</th>\n",
       "      <th>TrainingTimesLastYear</th>\n",
       "      <th>WorkLifeBalance</th>\n",
       "      <th>YearsAtCompany</th>\n",
       "      <th>YearsInCurrentRole</th>\n",
       "      <th>YearsSinceLastPromotion</th>\n",
       "      <th>YearsWithCurrManager</th>\n",
       "    </tr>\n",
       "  </thead>\n",
       "  <tbody>\n",
       "    <tr>\n",
       "      <th>count</th>\n",
       "      <td>1470.000000</td>\n",
       "      <td>1470.000000</td>\n",
       "      <td>1470.000000</td>\n",
       "      <td>1470.000000</td>\n",
       "      <td>1470.0</td>\n",
       "      <td>1470.000000</td>\n",
       "      <td>1470.000000</td>\n",
       "      <td>1470.000000</td>\n",
       "      <td>1470.000000</td>\n",
       "      <td>1470.000000</td>\n",
       "      <td>...</td>\n",
       "      <td>1470.000000</td>\n",
       "      <td>1470.0</td>\n",
       "      <td>1470.000000</td>\n",
       "      <td>1470.000000</td>\n",
       "      <td>1470.000000</td>\n",
       "      <td>1470.000000</td>\n",
       "      <td>1470.000000</td>\n",
       "      <td>1470.000000</td>\n",
       "      <td>1470.000000</td>\n",
       "      <td>1470.000000</td>\n",
       "    </tr>\n",
       "    <tr>\n",
       "      <th>mean</th>\n",
       "      <td>36.923810</td>\n",
       "      <td>802.485714</td>\n",
       "      <td>9.192517</td>\n",
       "      <td>2.912925</td>\n",
       "      <td>1.0</td>\n",
       "      <td>1024.865306</td>\n",
       "      <td>2.721769</td>\n",
       "      <td>65.891156</td>\n",
       "      <td>2.729932</td>\n",
       "      <td>2.063946</td>\n",
       "      <td>...</td>\n",
       "      <td>2.712245</td>\n",
       "      <td>80.0</td>\n",
       "      <td>0.793878</td>\n",
       "      <td>11.279592</td>\n",
       "      <td>2.799320</td>\n",
       "      <td>2.761224</td>\n",
       "      <td>7.008163</td>\n",
       "      <td>4.229252</td>\n",
       "      <td>2.187755</td>\n",
       "      <td>4.123129</td>\n",
       "    </tr>\n",
       "    <tr>\n",
       "      <th>std</th>\n",
       "      <td>9.135373</td>\n",
       "      <td>403.509100</td>\n",
       "      <td>8.106864</td>\n",
       "      <td>1.024165</td>\n",
       "      <td>0.0</td>\n",
       "      <td>602.024335</td>\n",
       "      <td>1.093082</td>\n",
       "      <td>20.329428</td>\n",
       "      <td>0.711561</td>\n",
       "      <td>1.106940</td>\n",
       "      <td>...</td>\n",
       "      <td>1.081209</td>\n",
       "      <td>0.0</td>\n",
       "      <td>0.852077</td>\n",
       "      <td>7.780782</td>\n",
       "      <td>1.289271</td>\n",
       "      <td>0.706476</td>\n",
       "      <td>6.126525</td>\n",
       "      <td>3.623137</td>\n",
       "      <td>3.222430</td>\n",
       "      <td>3.568136</td>\n",
       "    </tr>\n",
       "    <tr>\n",
       "      <th>min</th>\n",
       "      <td>18.000000</td>\n",
       "      <td>102.000000</td>\n",
       "      <td>1.000000</td>\n",
       "      <td>1.000000</td>\n",
       "      <td>1.0</td>\n",
       "      <td>1.000000</td>\n",
       "      <td>1.000000</td>\n",
       "      <td>30.000000</td>\n",
       "      <td>1.000000</td>\n",
       "      <td>1.000000</td>\n",
       "      <td>...</td>\n",
       "      <td>1.000000</td>\n",
       "      <td>80.0</td>\n",
       "      <td>0.000000</td>\n",
       "      <td>0.000000</td>\n",
       "      <td>0.000000</td>\n",
       "      <td>1.000000</td>\n",
       "      <td>0.000000</td>\n",
       "      <td>0.000000</td>\n",
       "      <td>0.000000</td>\n",
       "      <td>0.000000</td>\n",
       "    </tr>\n",
       "    <tr>\n",
       "      <th>25%</th>\n",
       "      <td>30.000000</td>\n",
       "      <td>465.000000</td>\n",
       "      <td>2.000000</td>\n",
       "      <td>2.000000</td>\n",
       "      <td>1.0</td>\n",
       "      <td>491.250000</td>\n",
       "      <td>2.000000</td>\n",
       "      <td>48.000000</td>\n",
       "      <td>2.000000</td>\n",
       "      <td>1.000000</td>\n",
       "      <td>...</td>\n",
       "      <td>2.000000</td>\n",
       "      <td>80.0</td>\n",
       "      <td>0.000000</td>\n",
       "      <td>6.000000</td>\n",
       "      <td>2.000000</td>\n",
       "      <td>2.000000</td>\n",
       "      <td>3.000000</td>\n",
       "      <td>2.000000</td>\n",
       "      <td>0.000000</td>\n",
       "      <td>2.000000</td>\n",
       "    </tr>\n",
       "    <tr>\n",
       "      <th>50%</th>\n",
       "      <td>36.000000</td>\n",
       "      <td>802.000000</td>\n",
       "      <td>7.000000</td>\n",
       "      <td>3.000000</td>\n",
       "      <td>1.0</td>\n",
       "      <td>1020.500000</td>\n",
       "      <td>3.000000</td>\n",
       "      <td>66.000000</td>\n",
       "      <td>3.000000</td>\n",
       "      <td>2.000000</td>\n",
       "      <td>...</td>\n",
       "      <td>3.000000</td>\n",
       "      <td>80.0</td>\n",
       "      <td>1.000000</td>\n",
       "      <td>10.000000</td>\n",
       "      <td>3.000000</td>\n",
       "      <td>3.000000</td>\n",
       "      <td>5.000000</td>\n",
       "      <td>3.000000</td>\n",
       "      <td>1.000000</td>\n",
       "      <td>3.000000</td>\n",
       "    </tr>\n",
       "    <tr>\n",
       "      <th>75%</th>\n",
       "      <td>43.000000</td>\n",
       "      <td>1157.000000</td>\n",
       "      <td>14.000000</td>\n",
       "      <td>4.000000</td>\n",
       "      <td>1.0</td>\n",
       "      <td>1555.750000</td>\n",
       "      <td>4.000000</td>\n",
       "      <td>83.750000</td>\n",
       "      <td>3.000000</td>\n",
       "      <td>3.000000</td>\n",
       "      <td>...</td>\n",
       "      <td>4.000000</td>\n",
       "      <td>80.0</td>\n",
       "      <td>1.000000</td>\n",
       "      <td>15.000000</td>\n",
       "      <td>3.000000</td>\n",
       "      <td>3.000000</td>\n",
       "      <td>9.000000</td>\n",
       "      <td>7.000000</td>\n",
       "      <td>3.000000</td>\n",
       "      <td>7.000000</td>\n",
       "    </tr>\n",
       "    <tr>\n",
       "      <th>max</th>\n",
       "      <td>60.000000</td>\n",
       "      <td>1499.000000</td>\n",
       "      <td>29.000000</td>\n",
       "      <td>5.000000</td>\n",
       "      <td>1.0</td>\n",
       "      <td>2068.000000</td>\n",
       "      <td>4.000000</td>\n",
       "      <td>100.000000</td>\n",
       "      <td>4.000000</td>\n",
       "      <td>5.000000</td>\n",
       "      <td>...</td>\n",
       "      <td>4.000000</td>\n",
       "      <td>80.0</td>\n",
       "      <td>3.000000</td>\n",
       "      <td>40.000000</td>\n",
       "      <td>6.000000</td>\n",
       "      <td>4.000000</td>\n",
       "      <td>40.000000</td>\n",
       "      <td>18.000000</td>\n",
       "      <td>15.000000</td>\n",
       "      <td>17.000000</td>\n",
       "    </tr>\n",
       "  </tbody>\n",
       "</table>\n",
       "<p>8 rows × 26 columns</p>\n",
       "</div>"
      ],
      "text/plain": [
       "               Age    DailyRate  DistanceFromHome    Education  EmployeeCount  \\\n",
       "count  1470.000000  1470.000000       1470.000000  1470.000000         1470.0   \n",
       "mean     36.923810   802.485714          9.192517     2.912925            1.0   \n",
       "std       9.135373   403.509100          8.106864     1.024165            0.0   \n",
       "min      18.000000   102.000000          1.000000     1.000000            1.0   \n",
       "25%      30.000000   465.000000          2.000000     2.000000            1.0   \n",
       "50%      36.000000   802.000000          7.000000     3.000000            1.0   \n",
       "75%      43.000000  1157.000000         14.000000     4.000000            1.0   \n",
       "max      60.000000  1499.000000         29.000000     5.000000            1.0   \n",
       "\n",
       "       EmployeeNumber  EnvironmentSatisfaction   HourlyRate  JobInvolvement  \\\n",
       "count     1470.000000              1470.000000  1470.000000     1470.000000   \n",
       "mean      1024.865306                 2.721769    65.891156        2.729932   \n",
       "std        602.024335                 1.093082    20.329428        0.711561   \n",
       "min          1.000000                 1.000000    30.000000        1.000000   \n",
       "25%        491.250000                 2.000000    48.000000        2.000000   \n",
       "50%       1020.500000                 3.000000    66.000000        3.000000   \n",
       "75%       1555.750000                 4.000000    83.750000        3.000000   \n",
       "max       2068.000000                 4.000000   100.000000        4.000000   \n",
       "\n",
       "          JobLevel  ...  RelationshipSatisfaction  StandardHours  \\\n",
       "count  1470.000000  ...               1470.000000         1470.0   \n",
       "mean      2.063946  ...                  2.712245           80.0   \n",
       "std       1.106940  ...                  1.081209            0.0   \n",
       "min       1.000000  ...                  1.000000           80.0   \n",
       "25%       1.000000  ...                  2.000000           80.0   \n",
       "50%       2.000000  ...                  3.000000           80.0   \n",
       "75%       3.000000  ...                  4.000000           80.0   \n",
       "max       5.000000  ...                  4.000000           80.0   \n",
       "\n",
       "       StockOptionLevel  TotalWorkingYears  TrainingTimesLastYear  \\\n",
       "count       1470.000000        1470.000000            1470.000000   \n",
       "mean           0.793878          11.279592               2.799320   \n",
       "std            0.852077           7.780782               1.289271   \n",
       "min            0.000000           0.000000               0.000000   \n",
       "25%            0.000000           6.000000               2.000000   \n",
       "50%            1.000000          10.000000               3.000000   \n",
       "75%            1.000000          15.000000               3.000000   \n",
       "max            3.000000          40.000000               6.000000   \n",
       "\n",
       "       WorkLifeBalance  YearsAtCompany  YearsInCurrentRole  \\\n",
       "count      1470.000000     1470.000000         1470.000000   \n",
       "mean          2.761224        7.008163            4.229252   \n",
       "std           0.706476        6.126525            3.623137   \n",
       "min           1.000000        0.000000            0.000000   \n",
       "25%           2.000000        3.000000            2.000000   \n",
       "50%           3.000000        5.000000            3.000000   \n",
       "75%           3.000000        9.000000            7.000000   \n",
       "max           4.000000       40.000000           18.000000   \n",
       "\n",
       "       YearsSinceLastPromotion  YearsWithCurrManager  \n",
       "count              1470.000000           1470.000000  \n",
       "mean                  2.187755              4.123129  \n",
       "std                   3.222430              3.568136  \n",
       "min                   0.000000              0.000000  \n",
       "25%                   0.000000              2.000000  \n",
       "50%                   1.000000              3.000000  \n",
       "75%                   3.000000              7.000000  \n",
       "max                  15.000000             17.000000  \n",
       "\n",
       "[8 rows x 26 columns]"
      ]
     },
     "execution_count": 78,
     "metadata": {},
     "output_type": "execute_result"
    }
   ],
   "source": [
    "data.describe()"
   ]
  },
  {
   "cell_type": "markdown",
   "metadata": {},
   "source": [
    "## <b><span style='color:#68A19B'>1.2</span> | Summary Statistics of categorical variables</b>"
   ]
  },
  {
   "cell_type": "code",
   "execution_count": 80,
   "metadata": {
    "_kg_hide-input": true
   },
   "outputs": [
    {
     "name": "stdout",
     "output_type": "stream",
     "text": [
      "Categorical Summary:\n"
     ]
    },
    {
     "data": {
      "text/html": [
       "<div>\n",
       "<style scoped>\n",
       "    .dataframe tbody tr th:only-of-type {\n",
       "        vertical-align: middle;\n",
       "    }\n",
       "\n",
       "    .dataframe tbody tr th {\n",
       "        vertical-align: top;\n",
       "    }\n",
       "\n",
       "    .dataframe thead th {\n",
       "        text-align: right;\n",
       "    }\n",
       "</style>\n",
       "<table border=\"1\" class=\"dataframe\">\n",
       "  <thead>\n",
       "    <tr style=\"text-align: right;\">\n",
       "      <th></th>\n",
       "      <th>Attrition</th>\n",
       "      <th>BusinessTravel</th>\n",
       "      <th>Department</th>\n",
       "      <th>EducationField</th>\n",
       "      <th>Gender</th>\n",
       "      <th>JobRole</th>\n",
       "      <th>MaritalStatus</th>\n",
       "      <th>Over18</th>\n",
       "      <th>OverTime</th>\n",
       "    </tr>\n",
       "  </thead>\n",
       "  <tbody>\n",
       "    <tr>\n",
       "      <th>count</th>\n",
       "      <td>1470</td>\n",
       "      <td>1470</td>\n",
       "      <td>1470</td>\n",
       "      <td>1470</td>\n",
       "      <td>1470</td>\n",
       "      <td>1470</td>\n",
       "      <td>1470</td>\n",
       "      <td>1470</td>\n",
       "      <td>1470</td>\n",
       "    </tr>\n",
       "    <tr>\n",
       "      <th>unique</th>\n",
       "      <td>2</td>\n",
       "      <td>3</td>\n",
       "      <td>3</td>\n",
       "      <td>6</td>\n",
       "      <td>2</td>\n",
       "      <td>9</td>\n",
       "      <td>3</td>\n",
       "      <td>1</td>\n",
       "      <td>2</td>\n",
       "    </tr>\n",
       "    <tr>\n",
       "      <th>top</th>\n",
       "      <td>No</td>\n",
       "      <td>Travel_Rarely</td>\n",
       "      <td>Research &amp; Development</td>\n",
       "      <td>Life Sciences</td>\n",
       "      <td>Male</td>\n",
       "      <td>Sales Executive</td>\n",
       "      <td>Married</td>\n",
       "      <td>Y</td>\n",
       "      <td>No</td>\n",
       "    </tr>\n",
       "    <tr>\n",
       "      <th>freq</th>\n",
       "      <td>1233</td>\n",
       "      <td>1043</td>\n",
       "      <td>961</td>\n",
       "      <td>606</td>\n",
       "      <td>882</td>\n",
       "      <td>326</td>\n",
       "      <td>673</td>\n",
       "      <td>1470</td>\n",
       "      <td>1054</td>\n",
       "    </tr>\n",
       "  </tbody>\n",
       "</table>\n",
       "</div>"
      ],
      "text/plain": [
       "       Attrition BusinessTravel              Department EducationField Gender  \\\n",
       "count       1470           1470                    1470           1470   1470   \n",
       "unique         2              3                       3              6      2   \n",
       "top           No  Travel_Rarely  Research & Development  Life Sciences   Male   \n",
       "freq        1233           1043                     961            606    882   \n",
       "\n",
       "                JobRole MaritalStatus Over18 OverTime  \n",
       "count              1470          1470   1470     1470  \n",
       "unique                9             3      1        2  \n",
       "top     Sales Executive       Married      Y       No  \n",
       "freq                326           673   1470     1054  "
      ]
     },
     "metadata": {},
     "output_type": "display_data"
    },
    {
     "name": "stdout",
     "output_type": "stream",
     "text": [
      "\n",
      "--- Attrition ---\n",
      "Attrition\n",
      "No     1233\n",
      "Yes     237\n",
      "Name: count, dtype: int64\n",
      "\n",
      "--- BusinessTravel ---\n",
      "BusinessTravel\n",
      "Travel_Rarely        1043\n",
      "Travel_Frequently     277\n",
      "Non-Travel            150\n",
      "Name: count, dtype: int64\n",
      "\n",
      "--- Department ---\n",
      "Department\n",
      "Research & Development    961\n",
      "Sales                     446\n",
      "Human Resources            63\n",
      "Name: count, dtype: int64\n",
      "\n",
      "--- EducationField ---\n",
      "EducationField\n",
      "Life Sciences       606\n",
      "Medical             464\n",
      "Marketing           159\n",
      "Technical Degree    132\n",
      "Other                82\n",
      "Human Resources      27\n",
      "Name: count, dtype: int64\n",
      "\n",
      "--- Gender ---\n",
      "Gender\n",
      "Male      882\n",
      "Female    588\n",
      "Name: count, dtype: int64\n",
      "\n",
      "--- JobRole ---\n",
      "JobRole\n",
      "Sales Executive              326\n",
      "Research Scientist           292\n",
      "Laboratory Technician        259\n",
      "Manufacturing Director       145\n",
      "Healthcare Representative    131\n",
      "Manager                      102\n",
      "Sales Representative          83\n",
      "Research Director             80\n",
      "Human Resources               52\n",
      "Name: count, dtype: int64\n",
      "\n",
      "--- MaritalStatus ---\n",
      "MaritalStatus\n",
      "Married     673\n",
      "Single      470\n",
      "Divorced    327\n",
      "Name: count, dtype: int64\n",
      "\n",
      "--- Over18 ---\n",
      "Over18\n",
      "Y    1470\n",
      "Name: count, dtype: int64\n",
      "\n",
      "--- OverTime ---\n",
      "OverTime\n",
      "No     1054\n",
      "Yes     416\n",
      "Name: count, dtype: int64\n"
     ]
    }
   ],
   "source": [
    "# 1. Get categorical columns\n",
    "cat_cols = data.select_dtypes(include='object').columns.tolist()\n",
    "\n",
    "# 2. Show summary statistics of categorical columns\n",
    "print(\"Categorical Summary:\")\n",
    "display(data[cat_cols].describe())\n",
    "\n",
    "# 3. Value counts for each categorical column\n",
    "for col in cat_cols:\n",
    "    print(f\"\\n--- {col} ---\")\n",
    "    print(data[col].value_counts())\n"
   ]
  },
  {
   "cell_type": "markdown",
   "metadata": {},
   "source": [
    "# <div style=\"color:white;display:fill;border-radius:5px;background-color:#8ABEB9;overflow:hidden\"><p style=\"padding:20px;color:white;overflow:hidden;font-size:100%;margin:0;text-align:center\">Exploratory Data Analysis</p></div>"
   ]
  },
  {
   "cell_type": "code",
   "execution_count": 82,
   "metadata": {
    "_kg_hide-input": true
   },
   "outputs": [
    {
     "data": {
      "application/vnd.plotly.v1+json": {
       "config": {
        "plotlyServerURL": "https://plot.ly"
       },
       "data": [
        {
         "text": [
          "83.9%",
          "16.1%"
         ],
         "textposition": "outside",
         "type": "bar",
         "x": [
          "No",
          "Yes"
         ],
         "xaxis": "x",
         "y": [
          83.87755102040816,
          16.122448979591837
         ],
         "yaxis": "y"
        },
        {
         "domain": {
          "x": [
           0.55,
           1
          ],
          "y": [
           0,
           1
          ]
         },
         "hole": 0.4,
         "labels": [
          "Research & Development",
          "Sales",
          "Human Resources"
         ],
         "type": "pie",
         "values": [
          56.118143459915615,
          38.81856540084388,
          5.063291139240507
         ]
        }
       ],
       "layout": {
        "annotations": [
         {
          "font": {
           "size": 16
          },
          "showarrow": false,
          "text": "Attrition Percentage",
          "x": 0.225,
          "xanchor": "center",
          "xref": "paper",
          "y": 1,
          "yanchor": "bottom",
          "yref": "paper"
         },
         {
          "font": {
           "size": 16
          },
          "showarrow": false,
          "text": "Attrition by Department",
          "x": 0.775,
          "xanchor": "center",
          "xref": "paper",
          "y": 1,
          "yanchor": "bottom",
          "yref": "paper"
         }
        ],
        "autosize": true,
        "template": {
         "data": {
          "bar": [
           {
            "error_x": {
             "color": "#2a3f5f"
            },
            "error_y": {
             "color": "#2a3f5f"
            },
            "marker": {
             "line": {
              "color": "#E5ECF6",
              "width": 0.5
             },
             "pattern": {
              "fillmode": "overlay",
              "size": 10,
              "solidity": 0.2
             }
            },
            "type": "bar"
           }
          ],
          "barpolar": [
           {
            "marker": {
             "line": {
              "color": "#E5ECF6",
              "width": 0.5
             },
             "pattern": {
              "fillmode": "overlay",
              "size": 10,
              "solidity": 0.2
             }
            },
            "type": "barpolar"
           }
          ],
          "carpet": [
           {
            "aaxis": {
             "endlinecolor": "#2a3f5f",
             "gridcolor": "white",
             "linecolor": "white",
             "minorgridcolor": "white",
             "startlinecolor": "#2a3f5f"
            },
            "baxis": {
             "endlinecolor": "#2a3f5f",
             "gridcolor": "white",
             "linecolor": "white",
             "minorgridcolor": "white",
             "startlinecolor": "#2a3f5f"
            },
            "type": "carpet"
           }
          ],
          "choropleth": [
           {
            "colorbar": {
             "outlinewidth": 0,
             "ticks": ""
            },
            "type": "choropleth"
           }
          ],
          "contour": [
           {
            "colorbar": {
             "outlinewidth": 0,
             "ticks": ""
            },
            "colorscale": [
             [
              0,
              "#0d0887"
             ],
             [
              0.1111111111111111,
              "#46039f"
             ],
             [
              0.2222222222222222,
              "#7201a8"
             ],
             [
              0.3333333333333333,
              "#9c179e"
             ],
             [
              0.4444444444444444,
              "#bd3786"
             ],
             [
              0.5555555555555556,
              "#d8576b"
             ],
             [
              0.6666666666666666,
              "#ed7953"
             ],
             [
              0.7777777777777778,
              "#fb9f3a"
             ],
             [
              0.8888888888888888,
              "#fdca26"
             ],
             [
              1,
              "#f0f921"
             ]
            ],
            "type": "contour"
           }
          ],
          "contourcarpet": [
           {
            "colorbar": {
             "outlinewidth": 0,
             "ticks": ""
            },
            "type": "contourcarpet"
           }
          ],
          "heatmap": [
           {
            "colorbar": {
             "outlinewidth": 0,
             "ticks": ""
            },
            "colorscale": [
             [
              0,
              "#0d0887"
             ],
             [
              0.1111111111111111,
              "#46039f"
             ],
             [
              0.2222222222222222,
              "#7201a8"
             ],
             [
              0.3333333333333333,
              "#9c179e"
             ],
             [
              0.4444444444444444,
              "#bd3786"
             ],
             [
              0.5555555555555556,
              "#d8576b"
             ],
             [
              0.6666666666666666,
              "#ed7953"
             ],
             [
              0.7777777777777778,
              "#fb9f3a"
             ],
             [
              0.8888888888888888,
              "#fdca26"
             ],
             [
              1,
              "#f0f921"
             ]
            ],
            "type": "heatmap"
           }
          ],
          "heatmapgl": [
           {
            "colorbar": {
             "outlinewidth": 0,
             "ticks": ""
            },
            "colorscale": [
             [
              0,
              "#0d0887"
             ],
             [
              0.1111111111111111,
              "#46039f"
             ],
             [
              0.2222222222222222,
              "#7201a8"
             ],
             [
              0.3333333333333333,
              "#9c179e"
             ],
             [
              0.4444444444444444,
              "#bd3786"
             ],
             [
              0.5555555555555556,
              "#d8576b"
             ],
             [
              0.6666666666666666,
              "#ed7953"
             ],
             [
              0.7777777777777778,
              "#fb9f3a"
             ],
             [
              0.8888888888888888,
              "#fdca26"
             ],
             [
              1,
              "#f0f921"
             ]
            ],
            "type": "heatmapgl"
           }
          ],
          "histogram": [
           {
            "marker": {
             "pattern": {
              "fillmode": "overlay",
              "size": 10,
              "solidity": 0.2
             }
            },
            "type": "histogram"
           }
          ],
          "histogram2d": [
           {
            "colorbar": {
             "outlinewidth": 0,
             "ticks": ""
            },
            "colorscale": [
             [
              0,
              "#0d0887"
             ],
             [
              0.1111111111111111,
              "#46039f"
             ],
             [
              0.2222222222222222,
              "#7201a8"
             ],
             [
              0.3333333333333333,
              "#9c179e"
             ],
             [
              0.4444444444444444,
              "#bd3786"
             ],
             [
              0.5555555555555556,
              "#d8576b"
             ],
             [
              0.6666666666666666,
              "#ed7953"
             ],
             [
              0.7777777777777778,
              "#fb9f3a"
             ],
             [
              0.8888888888888888,
              "#fdca26"
             ],
             [
              1,
              "#f0f921"
             ]
            ],
            "type": "histogram2d"
           }
          ],
          "histogram2dcontour": [
           {
            "colorbar": {
             "outlinewidth": 0,
             "ticks": ""
            },
            "colorscale": [
             [
              0,
              "#0d0887"
             ],
             [
              0.1111111111111111,
              "#46039f"
             ],
             [
              0.2222222222222222,
              "#7201a8"
             ],
             [
              0.3333333333333333,
              "#9c179e"
             ],
             [
              0.4444444444444444,
              "#bd3786"
             ],
             [
              0.5555555555555556,
              "#d8576b"
             ],
             [
              0.6666666666666666,
              "#ed7953"
             ],
             [
              0.7777777777777778,
              "#fb9f3a"
             ],
             [
              0.8888888888888888,
              "#fdca26"
             ],
             [
              1,
              "#f0f921"
             ]
            ],
            "type": "histogram2dcontour"
           }
          ],
          "mesh3d": [
           {
            "colorbar": {
             "outlinewidth": 0,
             "ticks": ""
            },
            "type": "mesh3d"
           }
          ],
          "parcoords": [
           {
            "line": {
             "colorbar": {
              "outlinewidth": 0,
              "ticks": ""
             }
            },
            "type": "parcoords"
           }
          ],
          "pie": [
           {
            "automargin": true,
            "type": "pie"
           }
          ],
          "scatter": [
           {
            "fillpattern": {
             "fillmode": "overlay",
             "size": 10,
             "solidity": 0.2
            },
            "type": "scatter"
           }
          ],
          "scatter3d": [
           {
            "line": {
             "colorbar": {
              "outlinewidth": 0,
              "ticks": ""
             }
            },
            "marker": {
             "colorbar": {
              "outlinewidth": 0,
              "ticks": ""
             }
            },
            "type": "scatter3d"
           }
          ],
          "scattercarpet": [
           {
            "marker": {
             "colorbar": {
              "outlinewidth": 0,
              "ticks": ""
             }
            },
            "type": "scattercarpet"
           }
          ],
          "scattergeo": [
           {
            "marker": {
             "colorbar": {
              "outlinewidth": 0,
              "ticks": ""
             }
            },
            "type": "scattergeo"
           }
          ],
          "scattergl": [
           {
            "marker": {
             "colorbar": {
              "outlinewidth": 0,
              "ticks": ""
             }
            },
            "type": "scattergl"
           }
          ],
          "scattermapbox": [
           {
            "marker": {
             "colorbar": {
              "outlinewidth": 0,
              "ticks": ""
             }
            },
            "type": "scattermapbox"
           }
          ],
          "scatterpolar": [
           {
            "marker": {
             "colorbar": {
              "outlinewidth": 0,
              "ticks": ""
             }
            },
            "type": "scatterpolar"
           }
          ],
          "scatterpolargl": [
           {
            "marker": {
             "colorbar": {
              "outlinewidth": 0,
              "ticks": ""
             }
            },
            "type": "scatterpolargl"
           }
          ],
          "scatterternary": [
           {
            "marker": {
             "colorbar": {
              "outlinewidth": 0,
              "ticks": ""
             }
            },
            "type": "scatterternary"
           }
          ],
          "surface": [
           {
            "colorbar": {
             "outlinewidth": 0,
             "ticks": ""
            },
            "colorscale": [
             [
              0,
              "#0d0887"
             ],
             [
              0.1111111111111111,
              "#46039f"
             ],
             [
              0.2222222222222222,
              "#7201a8"
             ],
             [
              0.3333333333333333,
              "#9c179e"
             ],
             [
              0.4444444444444444,
              "#bd3786"
             ],
             [
              0.5555555555555556,
              "#d8576b"
             ],
             [
              0.6666666666666666,
              "#ed7953"
             ],
             [
              0.7777777777777778,
              "#fb9f3a"
             ],
             [
              0.8888888888888888,
              "#fdca26"
             ],
             [
              1,
              "#f0f921"
             ]
            ],
            "type": "surface"
           }
          ],
          "table": [
           {
            "cells": {
             "fill": {
              "color": "#EBF0F8"
             },
             "line": {
              "color": "white"
             }
            },
            "header": {
             "fill": {
              "color": "#C8D4E3"
             },
             "line": {
              "color": "white"
             }
            },
            "type": "table"
           }
          ]
         },
         "layout": {
          "annotationdefaults": {
           "arrowcolor": "#2a3f5f",
           "arrowhead": 0,
           "arrowwidth": 1
          },
          "autotypenumbers": "strict",
          "coloraxis": {
           "colorbar": {
            "outlinewidth": 0,
            "ticks": ""
           }
          },
          "colorscale": {
           "diverging": [
            [
             0,
             "#8e0152"
            ],
            [
             0.1,
             "#c51b7d"
            ],
            [
             0.2,
             "#de77ae"
            ],
            [
             0.3,
             "#f1b6da"
            ],
            [
             0.4,
             "#fde0ef"
            ],
            [
             0.5,
             "#f7f7f7"
            ],
            [
             0.6,
             "#e6f5d0"
            ],
            [
             0.7,
             "#b8e186"
            ],
            [
             0.8,
             "#7fbc41"
            ],
            [
             0.9,
             "#4d9221"
            ],
            [
             1,
             "#276419"
            ]
           ],
           "sequential": [
            [
             0,
             "#0d0887"
            ],
            [
             0.1111111111111111,
             "#46039f"
            ],
            [
             0.2222222222222222,
             "#7201a8"
            ],
            [
             0.3333333333333333,
             "#9c179e"
            ],
            [
             0.4444444444444444,
             "#bd3786"
            ],
            [
             0.5555555555555556,
             "#d8576b"
            ],
            [
             0.6666666666666666,
             "#ed7953"
            ],
            [
             0.7777777777777778,
             "#fb9f3a"
            ],
            [
             0.8888888888888888,
             "#fdca26"
            ],
            [
             1,
             "#f0f921"
            ]
           ],
           "sequentialminus": [
            [
             0,
             "#0d0887"
            ],
            [
             0.1111111111111111,
             "#46039f"
            ],
            [
             0.2222222222222222,
             "#7201a8"
            ],
            [
             0.3333333333333333,
             "#9c179e"
            ],
            [
             0.4444444444444444,
             "#bd3786"
            ],
            [
             0.5555555555555556,
             "#d8576b"
            ],
            [
             0.6666666666666666,
             "#ed7953"
            ],
            [
             0.7777777777777778,
             "#fb9f3a"
            ],
            [
             0.8888888888888888,
             "#fdca26"
            ],
            [
             1,
             "#f0f921"
            ]
           ]
          },
          "colorway": [
           "#636efa",
           "#EF553B",
           "#00cc96",
           "#ab63fa",
           "#FFA15A",
           "#19d3f3",
           "#FF6692",
           "#B6E880",
           "#FF97FF",
           "#FECB52"
          ],
          "font": {
           "color": "#2a3f5f"
          },
          "geo": {
           "bgcolor": "white",
           "lakecolor": "white",
           "landcolor": "#E5ECF6",
           "showlakes": true,
           "showland": true,
           "subunitcolor": "white"
          },
          "hoverlabel": {
           "align": "left"
          },
          "hovermode": "closest",
          "mapbox": {
           "style": "light"
          },
          "paper_bgcolor": "white",
          "plot_bgcolor": "#E5ECF6",
          "polar": {
           "angularaxis": {
            "gridcolor": "white",
            "linecolor": "white",
            "ticks": ""
           },
           "bgcolor": "#E5ECF6",
           "radialaxis": {
            "gridcolor": "white",
            "linecolor": "white",
            "ticks": ""
           }
          },
          "scene": {
           "xaxis": {
            "backgroundcolor": "#E5ECF6",
            "gridcolor": "white",
            "gridwidth": 2,
            "linecolor": "white",
            "showbackground": true,
            "ticks": "",
            "zerolinecolor": "white"
           },
           "yaxis": {
            "backgroundcolor": "#E5ECF6",
            "gridcolor": "white",
            "gridwidth": 2,
            "linecolor": "white",
            "showbackground": true,
            "ticks": "",
            "zerolinecolor": "white"
           },
           "zaxis": {
            "backgroundcolor": "#E5ECF6",
            "gridcolor": "white",
            "gridwidth": 2,
            "linecolor": "white",
            "showbackground": true,
            "ticks": "",
            "zerolinecolor": "white"
           }
          },
          "shapedefaults": {
           "line": {
            "color": "#2a3f5f"
           }
          },
          "ternary": {
           "aaxis": {
            "gridcolor": "white",
            "linecolor": "white",
            "ticks": ""
           },
           "baxis": {
            "gridcolor": "white",
            "linecolor": "white",
            "ticks": ""
           },
           "bgcolor": "#E5ECF6",
           "caxis": {
            "gridcolor": "white",
            "linecolor": "white",
            "ticks": ""
           }
          },
          "title": {
           "x": 0.05
          },
          "xaxis": {
           "automargin": true,
           "gridcolor": "white",
           "linecolor": "white",
           "ticks": "",
           "title": {
            "standoff": 15
           },
           "zerolinecolor": "white",
           "zerolinewidth": 2
          },
          "yaxis": {
           "automargin": true,
           "gridcolor": "white",
           "linecolor": "white",
           "ticks": "",
           "title": {
            "standoff": 15
           },
           "zerolinecolor": "white",
           "zerolinewidth": 2
          }
         }
        },
        "title": {
         "text": "Employee Attrition Statistics"
        },
        "xaxis": {
         "anchor": "y",
         "autorange": true,
         "domain": [
          0,
          0.45
         ],
         "range": [
          -0.5,
          1.5
         ],
         "type": "category"
        },
        "yaxis": {
         "anchor": "x",
         "autorange": true,
         "domain": [
          0,
          1
         ],
         "range": [
          0,
          88.2921589688507
         ],
         "type": "linear"
        }
       }
      },
      "text/html": [
       "<div>                            <div id=\"c7d04f91-f746-4a8e-97d1-4303a9eaae28\" class=\"plotly-graph-div\" style=\"height:525px; width:100%;\"></div>            <script type=\"text/javascript\">                require([\"plotly\"], function(Plotly) {                    window.PLOTLYENV=window.PLOTLYENV || {};                                    if (document.getElementById(\"c7d04f91-f746-4a8e-97d1-4303a9eaae28\")) {                    Plotly.newPlot(                        \"c7d04f91-f746-4a8e-97d1-4303a9eaae28\",                        [{\"text\":[\"83.9%\",\"16.1%\"],\"textposition\":\"outside\",\"x\":[\"No\",\"Yes\"],\"y\":[83.87755102040816,16.122448979591837],\"type\":\"bar\",\"xaxis\":\"x\",\"yaxis\":\"y\"},{\"hole\":0.4,\"labels\":[\"Research & Development\",\"Sales\",\"Human Resources\"],\"values\":[56.118143459915615,38.81856540084388,5.063291139240507],\"type\":\"pie\",\"domain\":{\"x\":[0.55,1.0],\"y\":[0.0,1.0]}}],                        {\"template\":{\"data\":{\"histogram2dcontour\":[{\"type\":\"histogram2dcontour\",\"colorbar\":{\"outlinewidth\":0,\"ticks\":\"\"},\"colorscale\":[[0.0,\"#0d0887\"],[0.1111111111111111,\"#46039f\"],[0.2222222222222222,\"#7201a8\"],[0.3333333333333333,\"#9c179e\"],[0.4444444444444444,\"#bd3786\"],[0.5555555555555556,\"#d8576b\"],[0.6666666666666666,\"#ed7953\"],[0.7777777777777778,\"#fb9f3a\"],[0.8888888888888888,\"#fdca26\"],[1.0,\"#f0f921\"]]}],\"choropleth\":[{\"type\":\"choropleth\",\"colorbar\":{\"outlinewidth\":0,\"ticks\":\"\"}}],\"histogram2d\":[{\"type\":\"histogram2d\",\"colorbar\":{\"outlinewidth\":0,\"ticks\":\"\"},\"colorscale\":[[0.0,\"#0d0887\"],[0.1111111111111111,\"#46039f\"],[0.2222222222222222,\"#7201a8\"],[0.3333333333333333,\"#9c179e\"],[0.4444444444444444,\"#bd3786\"],[0.5555555555555556,\"#d8576b\"],[0.6666666666666666,\"#ed7953\"],[0.7777777777777778,\"#fb9f3a\"],[0.8888888888888888,\"#fdca26\"],[1.0,\"#f0f921\"]]}],\"heatmap\":[{\"type\":\"heatmap\",\"colorbar\":{\"outlinewidth\":0,\"ticks\":\"\"},\"colorscale\":[[0.0,\"#0d0887\"],[0.1111111111111111,\"#46039f\"],[0.2222222222222222,\"#7201a8\"],[0.3333333333333333,\"#9c179e\"],[0.4444444444444444,\"#bd3786\"],[0.5555555555555556,\"#d8576b\"],[0.6666666666666666,\"#ed7953\"],[0.7777777777777778,\"#fb9f3a\"],[0.8888888888888888,\"#fdca26\"],[1.0,\"#f0f921\"]]}],\"heatmapgl\":[{\"type\":\"heatmapgl\",\"colorbar\":{\"outlinewidth\":0,\"ticks\":\"\"},\"colorscale\":[[0.0,\"#0d0887\"],[0.1111111111111111,\"#46039f\"],[0.2222222222222222,\"#7201a8\"],[0.3333333333333333,\"#9c179e\"],[0.4444444444444444,\"#bd3786\"],[0.5555555555555556,\"#d8576b\"],[0.6666666666666666,\"#ed7953\"],[0.7777777777777778,\"#fb9f3a\"],[0.8888888888888888,\"#fdca26\"],[1.0,\"#f0f921\"]]}],\"contourcarpet\":[{\"type\":\"contourcarpet\",\"colorbar\":{\"outlinewidth\":0,\"ticks\":\"\"}}],\"contour\":[{\"type\":\"contour\",\"colorbar\":{\"outlinewidth\":0,\"ticks\":\"\"},\"colorscale\":[[0.0,\"#0d0887\"],[0.1111111111111111,\"#46039f\"],[0.2222222222222222,\"#7201a8\"],[0.3333333333333333,\"#9c179e\"],[0.4444444444444444,\"#bd3786\"],[0.5555555555555556,\"#d8576b\"],[0.6666666666666666,\"#ed7953\"],[0.7777777777777778,\"#fb9f3a\"],[0.8888888888888888,\"#fdca26\"],[1.0,\"#f0f921\"]]}],\"surface\":[{\"type\":\"surface\",\"colorbar\":{\"outlinewidth\":0,\"ticks\":\"\"},\"colorscale\":[[0.0,\"#0d0887\"],[0.1111111111111111,\"#46039f\"],[0.2222222222222222,\"#7201a8\"],[0.3333333333333333,\"#9c179e\"],[0.4444444444444444,\"#bd3786\"],[0.5555555555555556,\"#d8576b\"],[0.6666666666666666,\"#ed7953\"],[0.7777777777777778,\"#fb9f3a\"],[0.8888888888888888,\"#fdca26\"],[1.0,\"#f0f921\"]]}],\"mesh3d\":[{\"type\":\"mesh3d\",\"colorbar\":{\"outlinewidth\":0,\"ticks\":\"\"}}],\"scatter\":[{\"fillpattern\":{\"fillmode\":\"overlay\",\"size\":10,\"solidity\":0.2},\"type\":\"scatter\"}],\"parcoords\":[{\"type\":\"parcoords\",\"line\":{\"colorbar\":{\"outlinewidth\":0,\"ticks\":\"\"}}}],\"scatterpolargl\":[{\"type\":\"scatterpolargl\",\"marker\":{\"colorbar\":{\"outlinewidth\":0,\"ticks\":\"\"}}}],\"bar\":[{\"error_x\":{\"color\":\"#2a3f5f\"},\"error_y\":{\"color\":\"#2a3f5f\"},\"marker\":{\"line\":{\"color\":\"#E5ECF6\",\"width\":0.5},\"pattern\":{\"fillmode\":\"overlay\",\"size\":10,\"solidity\":0.2}},\"type\":\"bar\"}],\"scattergeo\":[{\"type\":\"scattergeo\",\"marker\":{\"colorbar\":{\"outlinewidth\":0,\"ticks\":\"\"}}}],\"scatterpolar\":[{\"type\":\"scatterpolar\",\"marker\":{\"colorbar\":{\"outlinewidth\":0,\"ticks\":\"\"}}}],\"histogram\":[{\"marker\":{\"pattern\":{\"fillmode\":\"overlay\",\"size\":10,\"solidity\":0.2}},\"type\":\"histogram\"}],\"scattergl\":[{\"type\":\"scattergl\",\"marker\":{\"colorbar\":{\"outlinewidth\":0,\"ticks\":\"\"}}}],\"scatter3d\":[{\"type\":\"scatter3d\",\"line\":{\"colorbar\":{\"outlinewidth\":0,\"ticks\":\"\"}},\"marker\":{\"colorbar\":{\"outlinewidth\":0,\"ticks\":\"\"}}}],\"scattermapbox\":[{\"type\":\"scattermapbox\",\"marker\":{\"colorbar\":{\"outlinewidth\":0,\"ticks\":\"\"}}}],\"scatterternary\":[{\"type\":\"scatterternary\",\"marker\":{\"colorbar\":{\"outlinewidth\":0,\"ticks\":\"\"}}}],\"scattercarpet\":[{\"type\":\"scattercarpet\",\"marker\":{\"colorbar\":{\"outlinewidth\":0,\"ticks\":\"\"}}}],\"carpet\":[{\"aaxis\":{\"endlinecolor\":\"#2a3f5f\",\"gridcolor\":\"white\",\"linecolor\":\"white\",\"minorgridcolor\":\"white\",\"startlinecolor\":\"#2a3f5f\"},\"baxis\":{\"endlinecolor\":\"#2a3f5f\",\"gridcolor\":\"white\",\"linecolor\":\"white\",\"minorgridcolor\":\"white\",\"startlinecolor\":\"#2a3f5f\"},\"type\":\"carpet\"}],\"table\":[{\"cells\":{\"fill\":{\"color\":\"#EBF0F8\"},\"line\":{\"color\":\"white\"}},\"header\":{\"fill\":{\"color\":\"#C8D4E3\"},\"line\":{\"color\":\"white\"}},\"type\":\"table\"}],\"barpolar\":[{\"marker\":{\"line\":{\"color\":\"#E5ECF6\",\"width\":0.5},\"pattern\":{\"fillmode\":\"overlay\",\"size\":10,\"solidity\":0.2}},\"type\":\"barpolar\"}],\"pie\":[{\"automargin\":true,\"type\":\"pie\"}]},\"layout\":{\"autotypenumbers\":\"strict\",\"colorway\":[\"#636efa\",\"#EF553B\",\"#00cc96\",\"#ab63fa\",\"#FFA15A\",\"#19d3f3\",\"#FF6692\",\"#B6E880\",\"#FF97FF\",\"#FECB52\"],\"font\":{\"color\":\"#2a3f5f\"},\"hovermode\":\"closest\",\"hoverlabel\":{\"align\":\"left\"},\"paper_bgcolor\":\"white\",\"plot_bgcolor\":\"#E5ECF6\",\"polar\":{\"bgcolor\":\"#E5ECF6\",\"angularaxis\":{\"gridcolor\":\"white\",\"linecolor\":\"white\",\"ticks\":\"\"},\"radialaxis\":{\"gridcolor\":\"white\",\"linecolor\":\"white\",\"ticks\":\"\"}},\"ternary\":{\"bgcolor\":\"#E5ECF6\",\"aaxis\":{\"gridcolor\":\"white\",\"linecolor\":\"white\",\"ticks\":\"\"},\"baxis\":{\"gridcolor\":\"white\",\"linecolor\":\"white\",\"ticks\":\"\"},\"caxis\":{\"gridcolor\":\"white\",\"linecolor\":\"white\",\"ticks\":\"\"}},\"coloraxis\":{\"colorbar\":{\"outlinewidth\":0,\"ticks\":\"\"}},\"colorscale\":{\"sequential\":[[0.0,\"#0d0887\"],[0.1111111111111111,\"#46039f\"],[0.2222222222222222,\"#7201a8\"],[0.3333333333333333,\"#9c179e\"],[0.4444444444444444,\"#bd3786\"],[0.5555555555555556,\"#d8576b\"],[0.6666666666666666,\"#ed7953\"],[0.7777777777777778,\"#fb9f3a\"],[0.8888888888888888,\"#fdca26\"],[1.0,\"#f0f921\"]],\"sequentialminus\":[[0.0,\"#0d0887\"],[0.1111111111111111,\"#46039f\"],[0.2222222222222222,\"#7201a8\"],[0.3333333333333333,\"#9c179e\"],[0.4444444444444444,\"#bd3786\"],[0.5555555555555556,\"#d8576b\"],[0.6666666666666666,\"#ed7953\"],[0.7777777777777778,\"#fb9f3a\"],[0.8888888888888888,\"#fdca26\"],[1.0,\"#f0f921\"]],\"diverging\":[[0,\"#8e0152\"],[0.1,\"#c51b7d\"],[0.2,\"#de77ae\"],[0.3,\"#f1b6da\"],[0.4,\"#fde0ef\"],[0.5,\"#f7f7f7\"],[0.6,\"#e6f5d0\"],[0.7,\"#b8e186\"],[0.8,\"#7fbc41\"],[0.9,\"#4d9221\"],[1,\"#276419\"]]},\"xaxis\":{\"gridcolor\":\"white\",\"linecolor\":\"white\",\"ticks\":\"\",\"title\":{\"standoff\":15},\"zerolinecolor\":\"white\",\"automargin\":true,\"zerolinewidth\":2},\"yaxis\":{\"gridcolor\":\"white\",\"linecolor\":\"white\",\"ticks\":\"\",\"title\":{\"standoff\":15},\"zerolinecolor\":\"white\",\"automargin\":true,\"zerolinewidth\":2},\"scene\":{\"xaxis\":{\"backgroundcolor\":\"#E5ECF6\",\"gridcolor\":\"white\",\"linecolor\":\"white\",\"showbackground\":true,\"ticks\":\"\",\"zerolinecolor\":\"white\",\"gridwidth\":2},\"yaxis\":{\"backgroundcolor\":\"#E5ECF6\",\"gridcolor\":\"white\",\"linecolor\":\"white\",\"showbackground\":true,\"ticks\":\"\",\"zerolinecolor\":\"white\",\"gridwidth\":2},\"zaxis\":{\"backgroundcolor\":\"#E5ECF6\",\"gridcolor\":\"white\",\"linecolor\":\"white\",\"showbackground\":true,\"ticks\":\"\",\"zerolinecolor\":\"white\",\"gridwidth\":2}},\"shapedefaults\":{\"line\":{\"color\":\"#2a3f5f\"}},\"annotationdefaults\":{\"arrowcolor\":\"#2a3f5f\",\"arrowhead\":0,\"arrowwidth\":1},\"geo\":{\"bgcolor\":\"white\",\"landcolor\":\"#E5ECF6\",\"subunitcolor\":\"white\",\"showland\":true,\"showlakes\":true,\"lakecolor\":\"white\"},\"title\":{\"x\":0.05},\"mapbox\":{\"style\":\"light\"}}},\"xaxis\":{\"anchor\":\"y\",\"domain\":[0.0,0.45]},\"yaxis\":{\"anchor\":\"x\",\"domain\":[0.0,1.0]},\"annotations\":[{\"font\":{\"size\":16},\"showarrow\":false,\"text\":\"Attrition Percentage\",\"x\":0.225,\"xanchor\":\"center\",\"xref\":\"paper\",\"y\":1.0,\"yanchor\":\"bottom\",\"yref\":\"paper\"},{\"font\":{\"size\":16},\"showarrow\":false,\"text\":\"Attrition by Department\",\"x\":0.775,\"xanchor\":\"center\",\"xref\":\"paper\",\"y\":1.0,\"yanchor\":\"bottom\",\"yref\":\"paper\"}],\"title\":{\"text\":\"Employee Attrition Statistics\"}},                        {\"responsive\": true}                    ).then(function(){\n",
       "                            \n",
       "var gd = document.getElementById('c7d04f91-f746-4a8e-97d1-4303a9eaae28');\n",
       "var x = new MutationObserver(function (mutations, observer) {{\n",
       "        var display = window.getComputedStyle(gd).display;\n",
       "        if (!display || display === 'none') {{\n",
       "            console.log([gd, 'removed!']);\n",
       "            Plotly.purge(gd);\n",
       "            observer.disconnect();\n",
       "        }}\n",
       "}});\n",
       "\n",
       "// Listen for the removal of the full notebook cells\n",
       "var notebookContainer = gd.closest('#notebook-container');\n",
       "if (notebookContainer) {{\n",
       "    x.observe(notebookContainer, {childList: true});\n",
       "}}\n",
       "\n",
       "// Listen for the clearing of the current output cell\n",
       "var outputEl = gd.closest('.output');\n",
       "if (outputEl) {{\n",
       "    x.observe(outputEl, {childList: true});\n",
       "}}\n",
       "\n",
       "                        })                };                });            </script>        </div>"
      ]
     },
     "metadata": {},
     "output_type": "display_data"
    }
   ],
   "source": [
    "from plotly.subplots import make_subplots\n",
    "import plotly.graph_objects as go\n",
    "\n",
    "# Create subplot (1 row, 2 cols)\n",
    "fig = make_subplots(rows=1, cols=2,\n",
    "                    subplot_titles=(\"Attrition Percentage\", \"Attrition by Department\"),\n",
    "                    specs=[[{\"type\": \"bar\"}, {\"type\": \"pie\"}]])\n",
    "\n",
    "# --- Bar chart: Attrition distribution ---\n",
    "attrition_counts = data['Attrition'].value_counts(normalize=True) * 100\n",
    "fig.add_trace(\n",
    "    go.Bar(x=attrition_counts.index,\n",
    "           y=attrition_counts.values,\n",
    "           text=[f\"{v:.1f}%\" for v in attrition_counts.values],\n",
    "           textposition=\"outside\"),\n",
    "    row=1, col=1\n",
    ")\n",
    "\n",
    "# --- Pie chart: Attrition by Department (only \"Yes\") ---\n",
    "dept_counts = data.loc[data['Attrition']==\"Yes\", \"Department\"].value_counts(normalize=True) * 100\n",
    "fig.add_trace(\n",
    "    go.Pie(labels=dept_counts.index,\n",
    "           values=dept_counts.values,\n",
    "           hole=0.4),\n",
    "    row=1, col=2\n",
    ")\n",
    "\n",
    "# Layout\n",
    "fig.update_layout(title=\"Employee Attrition Statistics\")\n",
    "fig.show()\n"
   ]
  },
  {
   "cell_type": "markdown",
   "metadata": {},
   "source": [
    "This small dashboard shows the attrition rates among employees in the previous quarter. Overall, around 16% of employees left the company. Among former employees, over half worked in Research & Development, while only 5% were from Human Resources. "
   ]
  },
  {
   "cell_type": "code",
   "execution_count": 84,
   "metadata": {
    "_kg_hide-input": true
   },
   "outputs": [
    {
     "data": {
      "application/vnd.plotly.v1+json": {
       "config": {
        "plotlyServerURL": "https://plot.ly"
       },
       "data": [
        {
         "alignmentgroup": "True",
         "hovertemplate": "Attrition=No<br>Gender=Female<br>Department=%{x}<br>Percent=%{text}<extra></extra>",
         "legendgroup": "No",
         "marker": {
          "color": "#636efa",
          "pattern": {
           "shape": ""
          }
         },
         "name": "No",
         "offsetgroup": "No",
         "orientation": "v",
         "showlegend": true,
         "text": [
          70,
          88.65435356200527,
          79.8941798941799
         ],
         "textposition": "outside",
         "texttemplate": "%{text:.1f}%",
         "type": "bar",
         "x": [
          "Human Resources",
          "Research & Development",
          "Sales"
         ],
         "xaxis": "x",
         "y": [
          70,
          88.65435356200527,
          79.8941798941799
         ],
         "yaxis": "y"
        },
        {
         "alignmentgroup": "True",
         "hovertemplate": "Attrition=No<br>Gender=Male<br>Department=%{x}<br>Percent=%{text}<extra></extra>",
         "legendgroup": "No",
         "marker": {
          "color": "#636efa",
          "pattern": {
           "shape": ""
          }
         },
         "name": "No",
         "offsetgroup": "No",
         "orientation": "v",
         "showlegend": false,
         "text": [
          86.04651162790698,
          84.5360824742268,
          78.98832684824903
         ],
         "textposition": "outside",
         "texttemplate": "%{text:.1f}%",
         "type": "bar",
         "x": [
          "Human Resources",
          "Research & Development",
          "Sales"
         ],
         "xaxis": "x2",
         "y": [
          86.04651162790698,
          84.5360824742268,
          78.98832684824903
         ],
         "yaxis": "y2"
        },
        {
         "alignmentgroup": "True",
         "hovertemplate": "Attrition=Yes<br>Gender=Female<br>Department=%{x}<br>Percent=%{text}<extra></extra>",
         "legendgroup": "Yes",
         "marker": {
          "color": "#EF553B",
          "pattern": {
           "shape": ""
          }
         },
         "name": "Yes",
         "offsetgroup": "Yes",
         "orientation": "v",
         "showlegend": true,
         "text": [
          30,
          11.345646437994723,
          20.105820105820104
         ],
         "textposition": "outside",
         "texttemplate": "%{text:.1f}%",
         "type": "bar",
         "x": [
          "Human Resources",
          "Research & Development",
          "Sales"
         ],
         "xaxis": "x",
         "y": [
          30,
          11.345646437994723,
          20.105820105820104
         ],
         "yaxis": "y"
        },
        {
         "alignmentgroup": "True",
         "hovertemplate": "Attrition=Yes<br>Gender=Male<br>Department=%{x}<br>Percent=%{text}<extra></extra>",
         "legendgroup": "Yes",
         "marker": {
          "color": "#EF553B",
          "pattern": {
           "shape": ""
          }
         },
         "name": "Yes",
         "offsetgroup": "Yes",
         "orientation": "v",
         "showlegend": false,
         "text": [
          13.953488372093023,
          15.463917525773196,
          21.011673151750973
         ],
         "textposition": "outside",
         "texttemplate": "%{text:.1f}%",
         "type": "bar",
         "x": [
          "Human Resources",
          "Research & Development",
          "Sales"
         ],
         "xaxis": "x2",
         "y": [
          13.953488372093023,
          15.463917525773196,
          21.011673151750973
         ],
         "yaxis": "y2"
        }
       ],
       "layout": {
        "annotations": [
         {
          "font": {},
          "showarrow": false,
          "text": "Gender=Female",
          "x": 0.245,
          "xanchor": "center",
          "xref": "paper",
          "y": 1,
          "yanchor": "bottom",
          "yref": "paper"
         },
         {
          "font": {},
          "showarrow": false,
          "text": "Gender=Male",
          "x": 0.755,
          "xanchor": "center",
          "xref": "paper",
          "y": 1,
          "yanchor": "bottom",
          "yref": "paper"
         }
        ],
        "autosize": true,
        "barmode": "group",
        "legend": {
         "title": {
          "text": "Attrition"
         },
         "tracegroupgap": 0
        },
        "margin": {
         "t": 60
        },
        "template": {
         "data": {
          "bar": [
           {
            "error_x": {
             "color": "#2a3f5f"
            },
            "error_y": {
             "color": "#2a3f5f"
            },
            "marker": {
             "line": {
              "color": "#E5ECF6",
              "width": 0.5
             },
             "pattern": {
              "fillmode": "overlay",
              "size": 10,
              "solidity": 0.2
             }
            },
            "type": "bar"
           }
          ],
          "barpolar": [
           {
            "marker": {
             "line": {
              "color": "#E5ECF6",
              "width": 0.5
             },
             "pattern": {
              "fillmode": "overlay",
              "size": 10,
              "solidity": 0.2
             }
            },
            "type": "barpolar"
           }
          ],
          "carpet": [
           {
            "aaxis": {
             "endlinecolor": "#2a3f5f",
             "gridcolor": "white",
             "linecolor": "white",
             "minorgridcolor": "white",
             "startlinecolor": "#2a3f5f"
            },
            "baxis": {
             "endlinecolor": "#2a3f5f",
             "gridcolor": "white",
             "linecolor": "white",
             "minorgridcolor": "white",
             "startlinecolor": "#2a3f5f"
            },
            "type": "carpet"
           }
          ],
          "choropleth": [
           {
            "colorbar": {
             "outlinewidth": 0,
             "ticks": ""
            },
            "type": "choropleth"
           }
          ],
          "contour": [
           {
            "colorbar": {
             "outlinewidth": 0,
             "ticks": ""
            },
            "colorscale": [
             [
              0,
              "#0d0887"
             ],
             [
              0.1111111111111111,
              "#46039f"
             ],
             [
              0.2222222222222222,
              "#7201a8"
             ],
             [
              0.3333333333333333,
              "#9c179e"
             ],
             [
              0.4444444444444444,
              "#bd3786"
             ],
             [
              0.5555555555555556,
              "#d8576b"
             ],
             [
              0.6666666666666666,
              "#ed7953"
             ],
             [
              0.7777777777777778,
              "#fb9f3a"
             ],
             [
              0.8888888888888888,
              "#fdca26"
             ],
             [
              1,
              "#f0f921"
             ]
            ],
            "type": "contour"
           }
          ],
          "contourcarpet": [
           {
            "colorbar": {
             "outlinewidth": 0,
             "ticks": ""
            },
            "type": "contourcarpet"
           }
          ],
          "heatmap": [
           {
            "colorbar": {
             "outlinewidth": 0,
             "ticks": ""
            },
            "colorscale": [
             [
              0,
              "#0d0887"
             ],
             [
              0.1111111111111111,
              "#46039f"
             ],
             [
              0.2222222222222222,
              "#7201a8"
             ],
             [
              0.3333333333333333,
              "#9c179e"
             ],
             [
              0.4444444444444444,
              "#bd3786"
             ],
             [
              0.5555555555555556,
              "#d8576b"
             ],
             [
              0.6666666666666666,
              "#ed7953"
             ],
             [
              0.7777777777777778,
              "#fb9f3a"
             ],
             [
              0.8888888888888888,
              "#fdca26"
             ],
             [
              1,
              "#f0f921"
             ]
            ],
            "type": "heatmap"
           }
          ],
          "heatmapgl": [
           {
            "colorbar": {
             "outlinewidth": 0,
             "ticks": ""
            },
            "colorscale": [
             [
              0,
              "#0d0887"
             ],
             [
              0.1111111111111111,
              "#46039f"
             ],
             [
              0.2222222222222222,
              "#7201a8"
             ],
             [
              0.3333333333333333,
              "#9c179e"
             ],
             [
              0.4444444444444444,
              "#bd3786"
             ],
             [
              0.5555555555555556,
              "#d8576b"
             ],
             [
              0.6666666666666666,
              "#ed7953"
             ],
             [
              0.7777777777777778,
              "#fb9f3a"
             ],
             [
              0.8888888888888888,
              "#fdca26"
             ],
             [
              1,
              "#f0f921"
             ]
            ],
            "type": "heatmapgl"
           }
          ],
          "histogram": [
           {
            "marker": {
             "pattern": {
              "fillmode": "overlay",
              "size": 10,
              "solidity": 0.2
             }
            },
            "type": "histogram"
           }
          ],
          "histogram2d": [
           {
            "colorbar": {
             "outlinewidth": 0,
             "ticks": ""
            },
            "colorscale": [
             [
              0,
              "#0d0887"
             ],
             [
              0.1111111111111111,
              "#46039f"
             ],
             [
              0.2222222222222222,
              "#7201a8"
             ],
             [
              0.3333333333333333,
              "#9c179e"
             ],
             [
              0.4444444444444444,
              "#bd3786"
             ],
             [
              0.5555555555555556,
              "#d8576b"
             ],
             [
              0.6666666666666666,
              "#ed7953"
             ],
             [
              0.7777777777777778,
              "#fb9f3a"
             ],
             [
              0.8888888888888888,
              "#fdca26"
             ],
             [
              1,
              "#f0f921"
             ]
            ],
            "type": "histogram2d"
           }
          ],
          "histogram2dcontour": [
           {
            "colorbar": {
             "outlinewidth": 0,
             "ticks": ""
            },
            "colorscale": [
             [
              0,
              "#0d0887"
             ],
             [
              0.1111111111111111,
              "#46039f"
             ],
             [
              0.2222222222222222,
              "#7201a8"
             ],
             [
              0.3333333333333333,
              "#9c179e"
             ],
             [
              0.4444444444444444,
              "#bd3786"
             ],
             [
              0.5555555555555556,
              "#d8576b"
             ],
             [
              0.6666666666666666,
              "#ed7953"
             ],
             [
              0.7777777777777778,
              "#fb9f3a"
             ],
             [
              0.8888888888888888,
              "#fdca26"
             ],
             [
              1,
              "#f0f921"
             ]
            ],
            "type": "histogram2dcontour"
           }
          ],
          "mesh3d": [
           {
            "colorbar": {
             "outlinewidth": 0,
             "ticks": ""
            },
            "type": "mesh3d"
           }
          ],
          "parcoords": [
           {
            "line": {
             "colorbar": {
              "outlinewidth": 0,
              "ticks": ""
             }
            },
            "type": "parcoords"
           }
          ],
          "pie": [
           {
            "automargin": true,
            "type": "pie"
           }
          ],
          "scatter": [
           {
            "fillpattern": {
             "fillmode": "overlay",
             "size": 10,
             "solidity": 0.2
            },
            "type": "scatter"
           }
          ],
          "scatter3d": [
           {
            "line": {
             "colorbar": {
              "outlinewidth": 0,
              "ticks": ""
             }
            },
            "marker": {
             "colorbar": {
              "outlinewidth": 0,
              "ticks": ""
             }
            },
            "type": "scatter3d"
           }
          ],
          "scattercarpet": [
           {
            "marker": {
             "colorbar": {
              "outlinewidth": 0,
              "ticks": ""
             }
            },
            "type": "scattercarpet"
           }
          ],
          "scattergeo": [
           {
            "marker": {
             "colorbar": {
              "outlinewidth": 0,
              "ticks": ""
             }
            },
            "type": "scattergeo"
           }
          ],
          "scattergl": [
           {
            "marker": {
             "colorbar": {
              "outlinewidth": 0,
              "ticks": ""
             }
            },
            "type": "scattergl"
           }
          ],
          "scattermapbox": [
           {
            "marker": {
             "colorbar": {
              "outlinewidth": 0,
              "ticks": ""
             }
            },
            "type": "scattermapbox"
           }
          ],
          "scatterpolar": [
           {
            "marker": {
             "colorbar": {
              "outlinewidth": 0,
              "ticks": ""
             }
            },
            "type": "scatterpolar"
           }
          ],
          "scatterpolargl": [
           {
            "marker": {
             "colorbar": {
              "outlinewidth": 0,
              "ticks": ""
             }
            },
            "type": "scatterpolargl"
           }
          ],
          "scatterternary": [
           {
            "marker": {
             "colorbar": {
              "outlinewidth": 0,
              "ticks": ""
             }
            },
            "type": "scatterternary"
           }
          ],
          "surface": [
           {
            "colorbar": {
             "outlinewidth": 0,
             "ticks": ""
            },
            "colorscale": [
             [
              0,
              "#0d0887"
             ],
             [
              0.1111111111111111,
              "#46039f"
             ],
             [
              0.2222222222222222,
              "#7201a8"
             ],
             [
              0.3333333333333333,
              "#9c179e"
             ],
             [
              0.4444444444444444,
              "#bd3786"
             ],
             [
              0.5555555555555556,
              "#d8576b"
             ],
             [
              0.6666666666666666,
              "#ed7953"
             ],
             [
              0.7777777777777778,
              "#fb9f3a"
             ],
             [
              0.8888888888888888,
              "#fdca26"
             ],
             [
              1,
              "#f0f921"
             ]
            ],
            "type": "surface"
           }
          ],
          "table": [
           {
            "cells": {
             "fill": {
              "color": "#EBF0F8"
             },
             "line": {
              "color": "white"
             }
            },
            "header": {
             "fill": {
              "color": "#C8D4E3"
             },
             "line": {
              "color": "white"
             }
            },
            "type": "table"
           }
          ]
         },
         "layout": {
          "annotationdefaults": {
           "arrowcolor": "#2a3f5f",
           "arrowhead": 0,
           "arrowwidth": 1
          },
          "autotypenumbers": "strict",
          "coloraxis": {
           "colorbar": {
            "outlinewidth": 0,
            "ticks": ""
           }
          },
          "colorscale": {
           "diverging": [
            [
             0,
             "#8e0152"
            ],
            [
             0.1,
             "#c51b7d"
            ],
            [
             0.2,
             "#de77ae"
            ],
            [
             0.3,
             "#f1b6da"
            ],
            [
             0.4,
             "#fde0ef"
            ],
            [
             0.5,
             "#f7f7f7"
            ],
            [
             0.6,
             "#e6f5d0"
            ],
            [
             0.7,
             "#b8e186"
            ],
            [
             0.8,
             "#7fbc41"
            ],
            [
             0.9,
             "#4d9221"
            ],
            [
             1,
             "#276419"
            ]
           ],
           "sequential": [
            [
             0,
             "#0d0887"
            ],
            [
             0.1111111111111111,
             "#46039f"
            ],
            [
             0.2222222222222222,
             "#7201a8"
            ],
            [
             0.3333333333333333,
             "#9c179e"
            ],
            [
             0.4444444444444444,
             "#bd3786"
            ],
            [
             0.5555555555555556,
             "#d8576b"
            ],
            [
             0.6666666666666666,
             "#ed7953"
            ],
            [
             0.7777777777777778,
             "#fb9f3a"
            ],
            [
             0.8888888888888888,
             "#fdca26"
            ],
            [
             1,
             "#f0f921"
            ]
           ],
           "sequentialminus": [
            [
             0,
             "#0d0887"
            ],
            [
             0.1111111111111111,
             "#46039f"
            ],
            [
             0.2222222222222222,
             "#7201a8"
            ],
            [
             0.3333333333333333,
             "#9c179e"
            ],
            [
             0.4444444444444444,
             "#bd3786"
            ],
            [
             0.5555555555555556,
             "#d8576b"
            ],
            [
             0.6666666666666666,
             "#ed7953"
            ],
            [
             0.7777777777777778,
             "#fb9f3a"
            ],
            [
             0.8888888888888888,
             "#fdca26"
            ],
            [
             1,
             "#f0f921"
            ]
           ]
          },
          "colorway": [
           "#636efa",
           "#EF553B",
           "#00cc96",
           "#ab63fa",
           "#FFA15A",
           "#19d3f3",
           "#FF6692",
           "#B6E880",
           "#FF97FF",
           "#FECB52"
          ],
          "font": {
           "color": "#2a3f5f"
          },
          "geo": {
           "bgcolor": "white",
           "lakecolor": "white",
           "landcolor": "#E5ECF6",
           "showlakes": true,
           "showland": true,
           "subunitcolor": "white"
          },
          "hoverlabel": {
           "align": "left"
          },
          "hovermode": "closest",
          "mapbox": {
           "style": "light"
          },
          "paper_bgcolor": "white",
          "plot_bgcolor": "#E5ECF6",
          "polar": {
           "angularaxis": {
            "gridcolor": "white",
            "linecolor": "white",
            "ticks": ""
           },
           "bgcolor": "#E5ECF6",
           "radialaxis": {
            "gridcolor": "white",
            "linecolor": "white",
            "ticks": ""
           }
          },
          "scene": {
           "xaxis": {
            "backgroundcolor": "#E5ECF6",
            "gridcolor": "white",
            "gridwidth": 2,
            "linecolor": "white",
            "showbackground": true,
            "ticks": "",
            "zerolinecolor": "white"
           },
           "yaxis": {
            "backgroundcolor": "#E5ECF6",
            "gridcolor": "white",
            "gridwidth": 2,
            "linecolor": "white",
            "showbackground": true,
            "ticks": "",
            "zerolinecolor": "white"
           },
           "zaxis": {
            "backgroundcolor": "#E5ECF6",
            "gridcolor": "white",
            "gridwidth": 2,
            "linecolor": "white",
            "showbackground": true,
            "ticks": "",
            "zerolinecolor": "white"
           }
          },
          "shapedefaults": {
           "line": {
            "color": "#2a3f5f"
           }
          },
          "ternary": {
           "aaxis": {
            "gridcolor": "white",
            "linecolor": "white",
            "ticks": ""
           },
           "baxis": {
            "gridcolor": "white",
            "linecolor": "white",
            "ticks": ""
           },
           "bgcolor": "#E5ECF6",
           "caxis": {
            "gridcolor": "white",
            "linecolor": "white",
            "ticks": ""
           }
          },
          "title": {
           "x": 0.05
          },
          "xaxis": {
           "automargin": true,
           "gridcolor": "white",
           "linecolor": "white",
           "ticks": "",
           "title": {
            "standoff": 15
           },
           "zerolinecolor": "white",
           "zerolinewidth": 2
          },
          "yaxis": {
           "automargin": true,
           "gridcolor": "white",
           "linecolor": "white",
           "ticks": "",
           "title": {
            "standoff": 15
           },
           "zerolinecolor": "white",
           "zerolinewidth": 2
          }
         }
        },
        "title": {
         "text": "Attrition Rates by Department and Gender"
        },
        "xaxis": {
         "anchor": "y",
         "autorange": true,
         "domain": [
          0,
          0.49
         ],
         "range": [
          -0.5,
          2.5
         ],
         "title": {
          "text": "Department"
         },
         "type": "category"
        },
        "xaxis2": {
         "anchor": "y2",
         "autorange": true,
         "domain": [
          0.51,
          1
         ],
         "matches": "x",
         "range": [
          -0.5,
          2.5
         ],
         "title": {
          "text": "Department"
         },
         "type": "category"
        },
        "yaxis": {
         "anchor": "x",
         "autorange": true,
         "domain": [
          0,
          1
         ],
         "range": [
          0,
          93.32037217053187
         ],
         "ticksuffix": "%",
         "title": {
          "text": "Percent"
         },
         "type": "linear"
        },
        "yaxis2": {
         "anchor": "x2",
         "autorange": true,
         "domain": [
          0,
          1
         ],
         "matches": "y",
         "range": [
          0,
          93.32037217053187
         ],
         "showticklabels": false,
         "type": "linear"
        }
       }
      },
      "text/html": [
       "<div>                            <div id=\"52837634-6ba2-4e97-b35f-373423bb4c76\" class=\"plotly-graph-div\" style=\"height:500px; width:100%;\"></div>            <script type=\"text/javascript\">                require([\"plotly\"], function(Plotly) {                    window.PLOTLYENV=window.PLOTLYENV || {};                                    if (document.getElementById(\"52837634-6ba2-4e97-b35f-373423bb4c76\")) {                    Plotly.newPlot(                        \"52837634-6ba2-4e97-b35f-373423bb4c76\",                        [{\"alignmentgroup\":\"True\",\"hovertemplate\":\"Attrition=No\\u003cbr\\u003eGender=Female\\u003cbr\\u003eDepartment=%{x}\\u003cbr\\u003ePercent=%{text}\\u003cextra\\u003e\\u003c\\u002fextra\\u003e\",\"legendgroup\":\"No\",\"marker\":{\"color\":\"#636efa\",\"pattern\":{\"shape\":\"\"}},\"name\":\"No\",\"offsetgroup\":\"No\",\"orientation\":\"v\",\"showlegend\":true,\"text\":[70.0,88.65435356200527,79.8941798941799],\"textposition\":\"outside\",\"x\":[\"Human Resources\",\"Research & Development\",\"Sales\"],\"xaxis\":\"x\",\"y\":[70.0,88.65435356200527,79.8941798941799],\"yaxis\":\"y\",\"type\":\"bar\",\"texttemplate\":\"%{text:.1f}%\"},{\"alignmentgroup\":\"True\",\"hovertemplate\":\"Attrition=No\\u003cbr\\u003eGender=Male\\u003cbr\\u003eDepartment=%{x}\\u003cbr\\u003ePercent=%{text}\\u003cextra\\u003e\\u003c\\u002fextra\\u003e\",\"legendgroup\":\"No\",\"marker\":{\"color\":\"#636efa\",\"pattern\":{\"shape\":\"\"}},\"name\":\"No\",\"offsetgroup\":\"No\",\"orientation\":\"v\",\"showlegend\":false,\"text\":[86.04651162790698,84.5360824742268,78.98832684824903],\"textposition\":\"outside\",\"x\":[\"Human Resources\",\"Research & Development\",\"Sales\"],\"xaxis\":\"x2\",\"y\":[86.04651162790698,84.5360824742268,78.98832684824903],\"yaxis\":\"y2\",\"type\":\"bar\",\"texttemplate\":\"%{text:.1f}%\"},{\"alignmentgroup\":\"True\",\"hovertemplate\":\"Attrition=Yes\\u003cbr\\u003eGender=Female\\u003cbr\\u003eDepartment=%{x}\\u003cbr\\u003ePercent=%{text}\\u003cextra\\u003e\\u003c\\u002fextra\\u003e\",\"legendgroup\":\"Yes\",\"marker\":{\"color\":\"#EF553B\",\"pattern\":{\"shape\":\"\"}},\"name\":\"Yes\",\"offsetgroup\":\"Yes\",\"orientation\":\"v\",\"showlegend\":true,\"text\":[30.0,11.345646437994723,20.105820105820104],\"textposition\":\"outside\",\"x\":[\"Human Resources\",\"Research & Development\",\"Sales\"],\"xaxis\":\"x\",\"y\":[30.0,11.345646437994723,20.105820105820104],\"yaxis\":\"y\",\"type\":\"bar\",\"texttemplate\":\"%{text:.1f}%\"},{\"alignmentgroup\":\"True\",\"hovertemplate\":\"Attrition=Yes\\u003cbr\\u003eGender=Male\\u003cbr\\u003eDepartment=%{x}\\u003cbr\\u003ePercent=%{text}\\u003cextra\\u003e\\u003c\\u002fextra\\u003e\",\"legendgroup\":\"Yes\",\"marker\":{\"color\":\"#EF553B\",\"pattern\":{\"shape\":\"\"}},\"name\":\"Yes\",\"offsetgroup\":\"Yes\",\"orientation\":\"v\",\"showlegend\":false,\"text\":[13.953488372093023,15.463917525773196,21.011673151750973],\"textposition\":\"outside\",\"x\":[\"Human Resources\",\"Research & Development\",\"Sales\"],\"xaxis\":\"x2\",\"y\":[13.953488372093023,15.463917525773196,21.011673151750973],\"yaxis\":\"y2\",\"type\":\"bar\",\"texttemplate\":\"%{text:.1f}%\"}],                        {\"template\":{\"data\":{\"histogram2dcontour\":[{\"type\":\"histogram2dcontour\",\"colorbar\":{\"outlinewidth\":0,\"ticks\":\"\"},\"colorscale\":[[0.0,\"#0d0887\"],[0.1111111111111111,\"#46039f\"],[0.2222222222222222,\"#7201a8\"],[0.3333333333333333,\"#9c179e\"],[0.4444444444444444,\"#bd3786\"],[0.5555555555555556,\"#d8576b\"],[0.6666666666666666,\"#ed7953\"],[0.7777777777777778,\"#fb9f3a\"],[0.8888888888888888,\"#fdca26\"],[1.0,\"#f0f921\"]]}],\"choropleth\":[{\"type\":\"choropleth\",\"colorbar\":{\"outlinewidth\":0,\"ticks\":\"\"}}],\"histogram2d\":[{\"type\":\"histogram2d\",\"colorbar\":{\"outlinewidth\":0,\"ticks\":\"\"},\"colorscale\":[[0.0,\"#0d0887\"],[0.1111111111111111,\"#46039f\"],[0.2222222222222222,\"#7201a8\"],[0.3333333333333333,\"#9c179e\"],[0.4444444444444444,\"#bd3786\"],[0.5555555555555556,\"#d8576b\"],[0.6666666666666666,\"#ed7953\"],[0.7777777777777778,\"#fb9f3a\"],[0.8888888888888888,\"#fdca26\"],[1.0,\"#f0f921\"]]}],\"heatmap\":[{\"type\":\"heatmap\",\"colorbar\":{\"outlinewidth\":0,\"ticks\":\"\"},\"colorscale\":[[0.0,\"#0d0887\"],[0.1111111111111111,\"#46039f\"],[0.2222222222222222,\"#7201a8\"],[0.3333333333333333,\"#9c179e\"],[0.4444444444444444,\"#bd3786\"],[0.5555555555555556,\"#d8576b\"],[0.6666666666666666,\"#ed7953\"],[0.7777777777777778,\"#fb9f3a\"],[0.8888888888888888,\"#fdca26\"],[1.0,\"#f0f921\"]]}],\"heatmapgl\":[{\"type\":\"heatmapgl\",\"colorbar\":{\"outlinewidth\":0,\"ticks\":\"\"},\"colorscale\":[[0.0,\"#0d0887\"],[0.1111111111111111,\"#46039f\"],[0.2222222222222222,\"#7201a8\"],[0.3333333333333333,\"#9c179e\"],[0.4444444444444444,\"#bd3786\"],[0.5555555555555556,\"#d8576b\"],[0.6666666666666666,\"#ed7953\"],[0.7777777777777778,\"#fb9f3a\"],[0.8888888888888888,\"#fdca26\"],[1.0,\"#f0f921\"]]}],\"contourcarpet\":[{\"type\":\"contourcarpet\",\"colorbar\":{\"outlinewidth\":0,\"ticks\":\"\"}}],\"contour\":[{\"type\":\"contour\",\"colorbar\":{\"outlinewidth\":0,\"ticks\":\"\"},\"colorscale\":[[0.0,\"#0d0887\"],[0.1111111111111111,\"#46039f\"],[0.2222222222222222,\"#7201a8\"],[0.3333333333333333,\"#9c179e\"],[0.4444444444444444,\"#bd3786\"],[0.5555555555555556,\"#d8576b\"],[0.6666666666666666,\"#ed7953\"],[0.7777777777777778,\"#fb9f3a\"],[0.8888888888888888,\"#fdca26\"],[1.0,\"#f0f921\"]]}],\"surface\":[{\"type\":\"surface\",\"colorbar\":{\"outlinewidth\":0,\"ticks\":\"\"},\"colorscale\":[[0.0,\"#0d0887\"],[0.1111111111111111,\"#46039f\"],[0.2222222222222222,\"#7201a8\"],[0.3333333333333333,\"#9c179e\"],[0.4444444444444444,\"#bd3786\"],[0.5555555555555556,\"#d8576b\"],[0.6666666666666666,\"#ed7953\"],[0.7777777777777778,\"#fb9f3a\"],[0.8888888888888888,\"#fdca26\"],[1.0,\"#f0f921\"]]}],\"mesh3d\":[{\"type\":\"mesh3d\",\"colorbar\":{\"outlinewidth\":0,\"ticks\":\"\"}}],\"scatter\":[{\"fillpattern\":{\"fillmode\":\"overlay\",\"size\":10,\"solidity\":0.2},\"type\":\"scatter\"}],\"parcoords\":[{\"type\":\"parcoords\",\"line\":{\"colorbar\":{\"outlinewidth\":0,\"ticks\":\"\"}}}],\"scatterpolargl\":[{\"type\":\"scatterpolargl\",\"marker\":{\"colorbar\":{\"outlinewidth\":0,\"ticks\":\"\"}}}],\"bar\":[{\"error_x\":{\"color\":\"#2a3f5f\"},\"error_y\":{\"color\":\"#2a3f5f\"},\"marker\":{\"line\":{\"color\":\"#E5ECF6\",\"width\":0.5},\"pattern\":{\"fillmode\":\"overlay\",\"size\":10,\"solidity\":0.2}},\"type\":\"bar\"}],\"scattergeo\":[{\"type\":\"scattergeo\",\"marker\":{\"colorbar\":{\"outlinewidth\":0,\"ticks\":\"\"}}}],\"scatterpolar\":[{\"type\":\"scatterpolar\",\"marker\":{\"colorbar\":{\"outlinewidth\":0,\"ticks\":\"\"}}}],\"histogram\":[{\"marker\":{\"pattern\":{\"fillmode\":\"overlay\",\"size\":10,\"solidity\":0.2}},\"type\":\"histogram\"}],\"scattergl\":[{\"type\":\"scattergl\",\"marker\":{\"colorbar\":{\"outlinewidth\":0,\"ticks\":\"\"}}}],\"scatter3d\":[{\"type\":\"scatter3d\",\"line\":{\"colorbar\":{\"outlinewidth\":0,\"ticks\":\"\"}},\"marker\":{\"colorbar\":{\"outlinewidth\":0,\"ticks\":\"\"}}}],\"scattermapbox\":[{\"type\":\"scattermapbox\",\"marker\":{\"colorbar\":{\"outlinewidth\":0,\"ticks\":\"\"}}}],\"scatterternary\":[{\"type\":\"scatterternary\",\"marker\":{\"colorbar\":{\"outlinewidth\":0,\"ticks\":\"\"}}}],\"scattercarpet\":[{\"type\":\"scattercarpet\",\"marker\":{\"colorbar\":{\"outlinewidth\":0,\"ticks\":\"\"}}}],\"carpet\":[{\"aaxis\":{\"endlinecolor\":\"#2a3f5f\",\"gridcolor\":\"white\",\"linecolor\":\"white\",\"minorgridcolor\":\"white\",\"startlinecolor\":\"#2a3f5f\"},\"baxis\":{\"endlinecolor\":\"#2a3f5f\",\"gridcolor\":\"white\",\"linecolor\":\"white\",\"minorgridcolor\":\"white\",\"startlinecolor\":\"#2a3f5f\"},\"type\":\"carpet\"}],\"table\":[{\"cells\":{\"fill\":{\"color\":\"#EBF0F8\"},\"line\":{\"color\":\"white\"}},\"header\":{\"fill\":{\"color\":\"#C8D4E3\"},\"line\":{\"color\":\"white\"}},\"type\":\"table\"}],\"barpolar\":[{\"marker\":{\"line\":{\"color\":\"#E5ECF6\",\"width\":0.5},\"pattern\":{\"fillmode\":\"overlay\",\"size\":10,\"solidity\":0.2}},\"type\":\"barpolar\"}],\"pie\":[{\"automargin\":true,\"type\":\"pie\"}]},\"layout\":{\"autotypenumbers\":\"strict\",\"colorway\":[\"#636efa\",\"#EF553B\",\"#00cc96\",\"#ab63fa\",\"#FFA15A\",\"#19d3f3\",\"#FF6692\",\"#B6E880\",\"#FF97FF\",\"#FECB52\"],\"font\":{\"color\":\"#2a3f5f\"},\"hovermode\":\"closest\",\"hoverlabel\":{\"align\":\"left\"},\"paper_bgcolor\":\"white\",\"plot_bgcolor\":\"#E5ECF6\",\"polar\":{\"bgcolor\":\"#E5ECF6\",\"angularaxis\":{\"gridcolor\":\"white\",\"linecolor\":\"white\",\"ticks\":\"\"},\"radialaxis\":{\"gridcolor\":\"white\",\"linecolor\":\"white\",\"ticks\":\"\"}},\"ternary\":{\"bgcolor\":\"#E5ECF6\",\"aaxis\":{\"gridcolor\":\"white\",\"linecolor\":\"white\",\"ticks\":\"\"},\"baxis\":{\"gridcolor\":\"white\",\"linecolor\":\"white\",\"ticks\":\"\"},\"caxis\":{\"gridcolor\":\"white\",\"linecolor\":\"white\",\"ticks\":\"\"}},\"coloraxis\":{\"colorbar\":{\"outlinewidth\":0,\"ticks\":\"\"}},\"colorscale\":{\"sequential\":[[0.0,\"#0d0887\"],[0.1111111111111111,\"#46039f\"],[0.2222222222222222,\"#7201a8\"],[0.3333333333333333,\"#9c179e\"],[0.4444444444444444,\"#bd3786\"],[0.5555555555555556,\"#d8576b\"],[0.6666666666666666,\"#ed7953\"],[0.7777777777777778,\"#fb9f3a\"],[0.8888888888888888,\"#fdca26\"],[1.0,\"#f0f921\"]],\"sequentialminus\":[[0.0,\"#0d0887\"],[0.1111111111111111,\"#46039f\"],[0.2222222222222222,\"#7201a8\"],[0.3333333333333333,\"#9c179e\"],[0.4444444444444444,\"#bd3786\"],[0.5555555555555556,\"#d8576b\"],[0.6666666666666666,\"#ed7953\"],[0.7777777777777778,\"#fb9f3a\"],[0.8888888888888888,\"#fdca26\"],[1.0,\"#f0f921\"]],\"diverging\":[[0,\"#8e0152\"],[0.1,\"#c51b7d\"],[0.2,\"#de77ae\"],[0.3,\"#f1b6da\"],[0.4,\"#fde0ef\"],[0.5,\"#f7f7f7\"],[0.6,\"#e6f5d0\"],[0.7,\"#b8e186\"],[0.8,\"#7fbc41\"],[0.9,\"#4d9221\"],[1,\"#276419\"]]},\"xaxis\":{\"gridcolor\":\"white\",\"linecolor\":\"white\",\"ticks\":\"\",\"title\":{\"standoff\":15},\"zerolinecolor\":\"white\",\"automargin\":true,\"zerolinewidth\":2},\"yaxis\":{\"gridcolor\":\"white\",\"linecolor\":\"white\",\"ticks\":\"\",\"title\":{\"standoff\":15},\"zerolinecolor\":\"white\",\"automargin\":true,\"zerolinewidth\":2},\"scene\":{\"xaxis\":{\"backgroundcolor\":\"#E5ECF6\",\"gridcolor\":\"white\",\"linecolor\":\"white\",\"showbackground\":true,\"ticks\":\"\",\"zerolinecolor\":\"white\",\"gridwidth\":2},\"yaxis\":{\"backgroundcolor\":\"#E5ECF6\",\"gridcolor\":\"white\",\"linecolor\":\"white\",\"showbackground\":true,\"ticks\":\"\",\"zerolinecolor\":\"white\",\"gridwidth\":2},\"zaxis\":{\"backgroundcolor\":\"#E5ECF6\",\"gridcolor\":\"white\",\"linecolor\":\"white\",\"showbackground\":true,\"ticks\":\"\",\"zerolinecolor\":\"white\",\"gridwidth\":2}},\"shapedefaults\":{\"line\":{\"color\":\"#2a3f5f\"}},\"annotationdefaults\":{\"arrowcolor\":\"#2a3f5f\",\"arrowhead\":0,\"arrowwidth\":1},\"geo\":{\"bgcolor\":\"white\",\"landcolor\":\"#E5ECF6\",\"subunitcolor\":\"white\",\"showland\":true,\"showlakes\":true,\"lakecolor\":\"white\"},\"title\":{\"x\":0.05},\"mapbox\":{\"style\":\"light\"}}},\"xaxis\":{\"anchor\":\"y\",\"domain\":[0.0,0.49],\"title\":{\"text\":\"Department\"}},\"yaxis\":{\"anchor\":\"x\",\"domain\":[0.0,1.0],\"title\":{\"text\":\"Percent\"},\"ticksuffix\":\"%\"},\"xaxis2\":{\"anchor\":\"y2\",\"domain\":[0.51,1.0],\"matches\":\"x\",\"title\":{\"text\":\"Department\"}},\"yaxis2\":{\"anchor\":\"x2\",\"domain\":[0.0,1.0],\"matches\":\"y\",\"showticklabels\":false},\"annotations\":[{\"font\":{},\"showarrow\":false,\"text\":\"Gender=Female\",\"x\":0.245,\"xanchor\":\"center\",\"xref\":\"paper\",\"y\":1.0,\"yanchor\":\"bottom\",\"yref\":\"paper\"},{\"font\":{},\"showarrow\":false,\"text\":\"Gender=Male\",\"x\":0.755,\"xanchor\":\"center\",\"xref\":\"paper\",\"y\":1.0,\"yanchor\":\"bottom\",\"yref\":\"paper\"}],\"legend\":{\"title\":{\"text\":\"Attrition\"},\"tracegroupgap\":0},\"margin\":{\"t\":60},\"barmode\":\"group\",\"title\":{\"text\":\"Attrition Rates by Department and Gender\"},\"height\":500},                        {\"responsive\": true}                    ).then(function(){\n",
       "                            \n",
       "var gd = document.getElementById('52837634-6ba2-4e97-b35f-373423bb4c76');\n",
       "var x = new MutationObserver(function (mutations, observer) {{\n",
       "        var display = window.getComputedStyle(gd).display;\n",
       "        if (!display || display === 'none') {{\n",
       "            console.log([gd, 'removed!']);\n",
       "            Plotly.purge(gd);\n",
       "            observer.disconnect();\n",
       "        }}\n",
       "}});\n",
       "\n",
       "// Listen for the removal of the full notebook cells\n",
       "var notebookContainer = gd.closest('#notebook-container');\n",
       "if (notebookContainer) {{\n",
       "    x.observe(notebookContainer, {childList: true});\n",
       "}}\n",
       "\n",
       "// Listen for the clearing of the current output cell\n",
       "var outputEl = gd.closest('.output');\n",
       "if (outputEl) {{\n",
       "    x.observe(outputEl, {childList: true});\n",
       "}}\n",
       "\n",
       "                        })                };                });            </script>        </div>"
      ]
     },
     "metadata": {},
     "output_type": "display_data"
    }
   ],
   "source": [
    "import plotly.express as px\n",
    "\n",
    "# Group by Gender, Department and Attrition → percentage\n",
    "plot_df = (\n",
    "    data.groupby(['Gender','Department'])['Attrition']\n",
    "    .value_counts(normalize=True)\n",
    "    .mul(100)\n",
    "    .rename('Percent')\n",
    "    .reset_index()\n",
    ")\n",
    "\n",
    "# Plot grouped bar with facets by Gender\n",
    "fig = px.bar(plot_df,\n",
    "             x=\"Department\", y=\"Percent\",\n",
    "             color=\"Attrition\", barmode=\"group\",\n",
    "             facet_col=\"Gender\",\n",
    "             text=\"Percent\")\n",
    "\n",
    "# Simple formatting\n",
    "fig.update_traces(texttemplate='%{text:.1f}%', textposition='outside')\n",
    "fig.update_layout(title=\"Attrition Rates by Department and Gender\",\n",
    "                  yaxis_ticksuffix=\"%\", height=500)\n",
    "fig.show()\n"
   ]
  },
  {
   "cell_type": "markdown",
   "metadata": {},
   "source": [
    "Women in Human Resources experienced the highest amount of turnover, with nearly 1 out of every 3 women in HR leaving the company. For men, the highest turnover occurred in the Sales department."
   ]
  },
  {
   "cell_type": "code",
   "execution_count": 86,
   "metadata": {
    "_kg_hide-input": true
   },
   "outputs": [
    {
     "data": {
      "application/vnd.plotly.v1+json": {
       "config": {
        "plotlyServerURL": "https://plot.ly"
       },
       "data": [
        {
         "alignmentgroup": "True",
         "hovertemplate": "Attrition=Yes<br>Gender=Female<br>WorkLifeBalance=%{x}<br>Percent=%{text}<extra></extra>",
         "legendgroup": "Yes",
         "marker": {
          "color": "#C02B34",
          "line": {
           "color": "#28221D",
           "width": 1
          },
          "opacity": 0.75,
          "pattern": {
           "shape": ""
          }
         },
         "name": "Yes",
         "offsetgroup": "Yes",
         "orientation": "v",
         "showlegend": true,
         "text": [
          23.333333333333332,
          13.970588235294118,
          12.876712328767123,
          24.561403508771928
         ],
         "textposition": "outside",
         "texttemplate": "%{text:.2s}%",
         "type": "bar",
         "x": [
          1,
          2,
          3,
          4
         ],
         "xaxis": "x2",
         "y": [
          23.333333333333332,
          13.970588235294118,
          12.876712328767123,
          24.561403508771928
         ],
         "yaxis": "y2"
        },
        {
         "alignmentgroup": "True",
         "hovertemplate": "Attrition=Yes<br>Gender=Male<br>WorkLifeBalance=%{x}<br>Percent=%{text}<extra></extra>",
         "legendgroup": "Yes",
         "marker": {
          "color": "#C02B34",
          "line": {
           "color": "#28221D",
           "width": 1
          },
          "opacity": 0.75,
          "pattern": {
           "shape": ""
          }
         },
         "name": "Yes",
         "offsetgroup": "Yes",
         "orientation": "v",
         "showlegend": false,
         "text": [
          36,
          18.75,
          15.151515151515152,
          13.541666666666666
         ],
         "textposition": "outside",
         "texttemplate": "%{text:.2s}%",
         "type": "bar",
         "x": [
          1,
          2,
          3,
          4
         ],
         "xaxis": "x",
         "y": [
          36,
          18.75,
          15.151515151515152,
          13.541666666666666
         ],
         "yaxis": "y"
        },
        {
         "alignmentgroup": "True",
         "hovertemplate": "Attrition=No<br>Gender=Female<br>WorkLifeBalance=%{x}<br>Percent=%{text}<extra></extra>",
         "legendgroup": "No",
         "marker": {
          "color": "#CDBBA7",
          "line": {
           "color": "#28221D",
           "width": 1
          },
          "opacity": 0.75,
          "pattern": {
           "shape": ""
          }
         },
         "name": "No",
         "offsetgroup": "No",
         "orientation": "v",
         "showlegend": true,
         "text": [
          76.66666666666667,
          86.02941176470588,
          87.12328767123287,
          75.43859649122807
         ],
         "textposition": "outside",
         "texttemplate": "%{text:.2s}%",
         "type": "bar",
         "x": [
          1,
          2,
          3,
          4
         ],
         "xaxis": "x2",
         "y": [
          76.66666666666667,
          86.02941176470588,
          87.12328767123287,
          75.43859649122807
         ],
         "yaxis": "y2"
        },
        {
         "alignmentgroup": "True",
         "hovertemplate": "Attrition=No<br>Gender=Male<br>WorkLifeBalance=%{x}<br>Percent=%{text}<extra></extra>",
         "legendgroup": "No",
         "marker": {
          "color": "#CDBBA7",
          "line": {
           "color": "#28221D",
           "width": 1
          },
          "opacity": 0.75,
          "pattern": {
           "shape": ""
          }
         },
         "name": "No",
         "offsetgroup": "No",
         "orientation": "v",
         "showlegend": false,
         "text": [
          64,
          81.25,
          84.84848484848484,
          86.45833333333334
         ],
         "textposition": "outside",
         "texttemplate": "%{text:.2s}%",
         "type": "bar",
         "x": [
          1,
          2,
          3,
          4
         ],
         "xaxis": "x",
         "y": [
          64,
          81.25,
          84.84848484848484,
          86.45833333333334
         ],
         "yaxis": "y"
        }
       ],
       "layout": {
        "annotations": [
         {
          "font": {},
          "showarrow": false,
          "text": "Gender=Male",
          "textangle": 90,
          "x": 0.98,
          "xanchor": "left",
          "xref": "paper",
          "y": 0.2425,
          "yanchor": "middle",
          "yref": "paper"
         },
         {
          "font": {},
          "showarrow": false,
          "text": "Gender=Female",
          "textangle": 90,
          "x": 0.98,
          "xanchor": "left",
          "xref": "paper",
          "y": 0.7575000000000001,
          "yanchor": "middle",
          "yref": "paper"
         }
        ],
        "autosize": true,
        "barmode": "group",
        "font": {
         "color": "#28221D"
        },
        "legend": {
         "title": {
          "text": "Attrition"
         },
         "tracegroupgap": 0
        },
        "margin": {
         "t": 60
        },
        "paper_bgcolor": "#F4F2F0",
        "plot_bgcolor": "#F4F2F0",
        "template": {
         "data": {
          "bar": [
           {
            "error_x": {
             "color": "#2a3f5f"
            },
            "error_y": {
             "color": "#2a3f5f"
            },
            "marker": {
             "line": {
              "color": "#E5ECF6",
              "width": 0.5
             },
             "pattern": {
              "fillmode": "overlay",
              "size": 10,
              "solidity": 0.2
             }
            },
            "type": "bar"
           }
          ],
          "barpolar": [
           {
            "marker": {
             "line": {
              "color": "#E5ECF6",
              "width": 0.5
             },
             "pattern": {
              "fillmode": "overlay",
              "size": 10,
              "solidity": 0.2
             }
            },
            "type": "barpolar"
           }
          ],
          "carpet": [
           {
            "aaxis": {
             "endlinecolor": "#2a3f5f",
             "gridcolor": "white",
             "linecolor": "white",
             "minorgridcolor": "white",
             "startlinecolor": "#2a3f5f"
            },
            "baxis": {
             "endlinecolor": "#2a3f5f",
             "gridcolor": "white",
             "linecolor": "white",
             "minorgridcolor": "white",
             "startlinecolor": "#2a3f5f"
            },
            "type": "carpet"
           }
          ],
          "choropleth": [
           {
            "colorbar": {
             "outlinewidth": 0,
             "ticks": ""
            },
            "type": "choropleth"
           }
          ],
          "contour": [
           {
            "colorbar": {
             "outlinewidth": 0,
             "ticks": ""
            },
            "colorscale": [
             [
              0,
              "#0d0887"
             ],
             [
              0.1111111111111111,
              "#46039f"
             ],
             [
              0.2222222222222222,
              "#7201a8"
             ],
             [
              0.3333333333333333,
              "#9c179e"
             ],
             [
              0.4444444444444444,
              "#bd3786"
             ],
             [
              0.5555555555555556,
              "#d8576b"
             ],
             [
              0.6666666666666666,
              "#ed7953"
             ],
             [
              0.7777777777777778,
              "#fb9f3a"
             ],
             [
              0.8888888888888888,
              "#fdca26"
             ],
             [
              1,
              "#f0f921"
             ]
            ],
            "type": "contour"
           }
          ],
          "contourcarpet": [
           {
            "colorbar": {
             "outlinewidth": 0,
             "ticks": ""
            },
            "type": "contourcarpet"
           }
          ],
          "heatmap": [
           {
            "colorbar": {
             "outlinewidth": 0,
             "ticks": ""
            },
            "colorscale": [
             [
              0,
              "#0d0887"
             ],
             [
              0.1111111111111111,
              "#46039f"
             ],
             [
              0.2222222222222222,
              "#7201a8"
             ],
             [
              0.3333333333333333,
              "#9c179e"
             ],
             [
              0.4444444444444444,
              "#bd3786"
             ],
             [
              0.5555555555555556,
              "#d8576b"
             ],
             [
              0.6666666666666666,
              "#ed7953"
             ],
             [
              0.7777777777777778,
              "#fb9f3a"
             ],
             [
              0.8888888888888888,
              "#fdca26"
             ],
             [
              1,
              "#f0f921"
             ]
            ],
            "type": "heatmap"
           }
          ],
          "heatmapgl": [
           {
            "colorbar": {
             "outlinewidth": 0,
             "ticks": ""
            },
            "colorscale": [
             [
              0,
              "#0d0887"
             ],
             [
              0.1111111111111111,
              "#46039f"
             ],
             [
              0.2222222222222222,
              "#7201a8"
             ],
             [
              0.3333333333333333,
              "#9c179e"
             ],
             [
              0.4444444444444444,
              "#bd3786"
             ],
             [
              0.5555555555555556,
              "#d8576b"
             ],
             [
              0.6666666666666666,
              "#ed7953"
             ],
             [
              0.7777777777777778,
              "#fb9f3a"
             ],
             [
              0.8888888888888888,
              "#fdca26"
             ],
             [
              1,
              "#f0f921"
             ]
            ],
            "type": "heatmapgl"
           }
          ],
          "histogram": [
           {
            "marker": {
             "pattern": {
              "fillmode": "overlay",
              "size": 10,
              "solidity": 0.2
             }
            },
            "type": "histogram"
           }
          ],
          "histogram2d": [
           {
            "colorbar": {
             "outlinewidth": 0,
             "ticks": ""
            },
            "colorscale": [
             [
              0,
              "#0d0887"
             ],
             [
              0.1111111111111111,
              "#46039f"
             ],
             [
              0.2222222222222222,
              "#7201a8"
             ],
             [
              0.3333333333333333,
              "#9c179e"
             ],
             [
              0.4444444444444444,
              "#bd3786"
             ],
             [
              0.5555555555555556,
              "#d8576b"
             ],
             [
              0.6666666666666666,
              "#ed7953"
             ],
             [
              0.7777777777777778,
              "#fb9f3a"
             ],
             [
              0.8888888888888888,
              "#fdca26"
             ],
             [
              1,
              "#f0f921"
             ]
            ],
            "type": "histogram2d"
           }
          ],
          "histogram2dcontour": [
           {
            "colorbar": {
             "outlinewidth": 0,
             "ticks": ""
            },
            "colorscale": [
             [
              0,
              "#0d0887"
             ],
             [
              0.1111111111111111,
              "#46039f"
             ],
             [
              0.2222222222222222,
              "#7201a8"
             ],
             [
              0.3333333333333333,
              "#9c179e"
             ],
             [
              0.4444444444444444,
              "#bd3786"
             ],
             [
              0.5555555555555556,
              "#d8576b"
             ],
             [
              0.6666666666666666,
              "#ed7953"
             ],
             [
              0.7777777777777778,
              "#fb9f3a"
             ],
             [
              0.8888888888888888,
              "#fdca26"
             ],
             [
              1,
              "#f0f921"
             ]
            ],
            "type": "histogram2dcontour"
           }
          ],
          "mesh3d": [
           {
            "colorbar": {
             "outlinewidth": 0,
             "ticks": ""
            },
            "type": "mesh3d"
           }
          ],
          "parcoords": [
           {
            "line": {
             "colorbar": {
              "outlinewidth": 0,
              "ticks": ""
             }
            },
            "type": "parcoords"
           }
          ],
          "pie": [
           {
            "automargin": true,
            "type": "pie"
           }
          ],
          "scatter": [
           {
            "fillpattern": {
             "fillmode": "overlay",
             "size": 10,
             "solidity": 0.2
            },
            "type": "scatter"
           }
          ],
          "scatter3d": [
           {
            "line": {
             "colorbar": {
              "outlinewidth": 0,
              "ticks": ""
             }
            },
            "marker": {
             "colorbar": {
              "outlinewidth": 0,
              "ticks": ""
             }
            },
            "type": "scatter3d"
           }
          ],
          "scattercarpet": [
           {
            "marker": {
             "colorbar": {
              "outlinewidth": 0,
              "ticks": ""
             }
            },
            "type": "scattercarpet"
           }
          ],
          "scattergeo": [
           {
            "marker": {
             "colorbar": {
              "outlinewidth": 0,
              "ticks": ""
             }
            },
            "type": "scattergeo"
           }
          ],
          "scattergl": [
           {
            "marker": {
             "colorbar": {
              "outlinewidth": 0,
              "ticks": ""
             }
            },
            "type": "scattergl"
           }
          ],
          "scattermapbox": [
           {
            "marker": {
             "colorbar": {
              "outlinewidth": 0,
              "ticks": ""
             }
            },
            "type": "scattermapbox"
           }
          ],
          "scatterpolar": [
           {
            "marker": {
             "colorbar": {
              "outlinewidth": 0,
              "ticks": ""
             }
            },
            "type": "scatterpolar"
           }
          ],
          "scatterpolargl": [
           {
            "marker": {
             "colorbar": {
              "outlinewidth": 0,
              "ticks": ""
             }
            },
            "type": "scatterpolargl"
           }
          ],
          "scatterternary": [
           {
            "marker": {
             "colorbar": {
              "outlinewidth": 0,
              "ticks": ""
             }
            },
            "type": "scatterternary"
           }
          ],
          "surface": [
           {
            "colorbar": {
             "outlinewidth": 0,
             "ticks": ""
            },
            "colorscale": [
             [
              0,
              "#0d0887"
             ],
             [
              0.1111111111111111,
              "#46039f"
             ],
             [
              0.2222222222222222,
              "#7201a8"
             ],
             [
              0.3333333333333333,
              "#9c179e"
             ],
             [
              0.4444444444444444,
              "#bd3786"
             ],
             [
              0.5555555555555556,
              "#d8576b"
             ],
             [
              0.6666666666666666,
              "#ed7953"
             ],
             [
              0.7777777777777778,
              "#fb9f3a"
             ],
             [
              0.8888888888888888,
              "#fdca26"
             ],
             [
              1,
              "#f0f921"
             ]
            ],
            "type": "surface"
           }
          ],
          "table": [
           {
            "cells": {
             "fill": {
              "color": "#EBF0F8"
             },
             "line": {
              "color": "white"
             }
            },
            "header": {
             "fill": {
              "color": "#C8D4E3"
             },
             "line": {
              "color": "white"
             }
            },
            "type": "table"
           }
          ]
         },
         "layout": {
          "annotationdefaults": {
           "arrowcolor": "#2a3f5f",
           "arrowhead": 0,
           "arrowwidth": 1
          },
          "autotypenumbers": "strict",
          "coloraxis": {
           "colorbar": {
            "outlinewidth": 0,
            "ticks": ""
           }
          },
          "colorscale": {
           "diverging": [
            [
             0,
             "#8e0152"
            ],
            [
             0.1,
             "#c51b7d"
            ],
            [
             0.2,
             "#de77ae"
            ],
            [
             0.3,
             "#f1b6da"
            ],
            [
             0.4,
             "#fde0ef"
            ],
            [
             0.5,
             "#f7f7f7"
            ],
            [
             0.6,
             "#e6f5d0"
            ],
            [
             0.7,
             "#b8e186"
            ],
            [
             0.8,
             "#7fbc41"
            ],
            [
             0.9,
             "#4d9221"
            ],
            [
             1,
             "#276419"
            ]
           ],
           "sequential": [
            [
             0,
             "#0d0887"
            ],
            [
             0.1111111111111111,
             "#46039f"
            ],
            [
             0.2222222222222222,
             "#7201a8"
            ],
            [
             0.3333333333333333,
             "#9c179e"
            ],
            [
             0.4444444444444444,
             "#bd3786"
            ],
            [
             0.5555555555555556,
             "#d8576b"
            ],
            [
             0.6666666666666666,
             "#ed7953"
            ],
            [
             0.7777777777777778,
             "#fb9f3a"
            ],
            [
             0.8888888888888888,
             "#fdca26"
            ],
            [
             1,
             "#f0f921"
            ]
           ],
           "sequentialminus": [
            [
             0,
             "#0d0887"
            ],
            [
             0.1111111111111111,
             "#46039f"
            ],
            [
             0.2222222222222222,
             "#7201a8"
            ],
            [
             0.3333333333333333,
             "#9c179e"
            ],
            [
             0.4444444444444444,
             "#bd3786"
            ],
            [
             0.5555555555555556,
             "#d8576b"
            ],
            [
             0.6666666666666666,
             "#ed7953"
            ],
            [
             0.7777777777777778,
             "#fb9f3a"
            ],
            [
             0.8888888888888888,
             "#fdca26"
            ],
            [
             1,
             "#f0f921"
            ]
           ]
          },
          "colorway": [
           "#636efa",
           "#EF553B",
           "#00cc96",
           "#ab63fa",
           "#FFA15A",
           "#19d3f3",
           "#FF6692",
           "#B6E880",
           "#FF97FF",
           "#FECB52"
          ],
          "font": {
           "color": "#2a3f5f"
          },
          "geo": {
           "bgcolor": "white",
           "lakecolor": "white",
           "landcolor": "#E5ECF6",
           "showlakes": true,
           "showland": true,
           "subunitcolor": "white"
          },
          "hoverlabel": {
           "align": "left"
          },
          "hovermode": "closest",
          "mapbox": {
           "style": "light"
          },
          "paper_bgcolor": "white",
          "plot_bgcolor": "#E5ECF6",
          "polar": {
           "angularaxis": {
            "gridcolor": "white",
            "linecolor": "white",
            "ticks": ""
           },
           "bgcolor": "#E5ECF6",
           "radialaxis": {
            "gridcolor": "white",
            "linecolor": "white",
            "ticks": ""
           }
          },
          "scene": {
           "xaxis": {
            "backgroundcolor": "#E5ECF6",
            "gridcolor": "white",
            "gridwidth": 2,
            "linecolor": "white",
            "showbackground": true,
            "ticks": "",
            "zerolinecolor": "white"
           },
           "yaxis": {
            "backgroundcolor": "#E5ECF6",
            "gridcolor": "white",
            "gridwidth": 2,
            "linecolor": "white",
            "showbackground": true,
            "ticks": "",
            "zerolinecolor": "white"
           },
           "zaxis": {
            "backgroundcolor": "#E5ECF6",
            "gridcolor": "white",
            "gridwidth": 2,
            "linecolor": "white",
            "showbackground": true,
            "ticks": "",
            "zerolinecolor": "white"
           }
          },
          "shapedefaults": {
           "line": {
            "color": "#2a3f5f"
           }
          },
          "ternary": {
           "aaxis": {
            "gridcolor": "white",
            "linecolor": "white",
            "ticks": ""
           },
           "baxis": {
            "gridcolor": "white",
            "linecolor": "white",
            "ticks": ""
           },
           "bgcolor": "#E5ECF6",
           "caxis": {
            "gridcolor": "white",
            "linecolor": "white",
            "ticks": ""
           }
          },
          "title": {
           "x": 0.05
          },
          "xaxis": {
           "automargin": true,
           "gridcolor": "white",
           "linecolor": "white",
           "ticks": "",
           "title": {
            "standoff": 15
           },
           "zerolinecolor": "white",
           "zerolinewidth": 2
          },
          "yaxis": {
           "automargin": true,
           "gridcolor": "white",
           "linecolor": "white",
           "ticks": "",
           "title": {
            "standoff": 15
           },
           "zerolinecolor": "white",
           "zerolinewidth": 2
          }
         }
        },
        "title": {
         "text": "Attrition Rates by Work Life Balance and Gender"
        },
        "xaxis": {
         "anchor": "y",
         "autorange": true,
         "domain": [
          0,
          0.98
         ],
         "range": [
          0.5,
          4.5
         ],
         "tickmode": "array",
         "ticktext": [
          "Poor",
          "Neutral",
          "Good",
          "Excellent"
         ],
         "tickvals": [
          1,
          2,
          3,
          4
         ],
         "title": {
          "text": "Work Life Balance"
         },
         "type": "linear"
        },
        "xaxis2": {
         "anchor": "y2",
         "autorange": true,
         "domain": [
          0,
          0.98
         ],
         "matches": "x",
         "range": [
          0.5,
          4.5
         ],
         "showticklabels": false,
         "type": "linear"
        },
        "yaxis": {
         "anchor": "x",
         "autorange": true,
         "domain": [
          0,
          0.485
         ],
         "range": [
          0,
          91.70872386445566
         ],
         "ticksuffix": "%",
         "title": {
          "text": ""
         },
         "type": "linear",
         "zeroline": true,
         "zerolinecolor": "#1F0202",
         "zerolinewidth": 1
        },
        "yaxis2": {
         "anchor": "x2",
         "autorange": true,
         "domain": [
          0.515,
          1
         ],
         "matches": "y",
         "range": [
          0,
          91.70872386445566
         ],
         "ticksuffix": "%",
         "title": {
          "text": ""
         },
         "type": "linear",
         "zeroline": true,
         "zerolinecolor": "#1F0202",
         "zerolinewidth": 1
        }
       }
      },
      "text/html": [
       "<div>                            <div id=\"66e6c124-ee31-40e2-be12-f51b298fd0d3\" class=\"plotly-graph-div\" style=\"height:750px; width:100%;\"></div>            <script type=\"text/javascript\">                require([\"plotly\"], function(Plotly) {                    window.PLOTLYENV=window.PLOTLYENV || {};                                    if (document.getElementById(\"66e6c124-ee31-40e2-be12-f51b298fd0d3\")) {                    Plotly.newPlot(                        \"66e6c124-ee31-40e2-be12-f51b298fd0d3\",                        [{\"alignmentgroup\":\"True\",\"hovertemplate\":\"Attrition=Yes\\u003cbr\\u003eGender=Female\\u003cbr\\u003eWorkLifeBalance=%{x}\\u003cbr\\u003ePercent=%{text}\\u003cextra\\u003e\\u003c\\u002fextra\\u003e\",\"legendgroup\":\"Yes\",\"marker\":{\"color\":\"#C02B34\",\"opacity\":0.75,\"pattern\":{\"shape\":\"\"},\"line\":{\"color\":\"#28221D\",\"width\":1}},\"name\":\"Yes\",\"offsetgroup\":\"Yes\",\"orientation\":\"v\",\"showlegend\":true,\"text\":[23.333333333333332,13.970588235294118,12.876712328767123,24.561403508771928],\"textposition\":\"outside\",\"x\":[1,2,3,4],\"xaxis\":\"x2\",\"y\":[23.333333333333332,13.970588235294118,12.876712328767123,24.561403508771928],\"yaxis\":\"y2\",\"type\":\"bar\",\"texttemplate\":\"%{text:.2s}%\"},{\"alignmentgroup\":\"True\",\"hovertemplate\":\"Attrition=Yes\\u003cbr\\u003eGender=Male\\u003cbr\\u003eWorkLifeBalance=%{x}\\u003cbr\\u003ePercent=%{text}\\u003cextra\\u003e\\u003c\\u002fextra\\u003e\",\"legendgroup\":\"Yes\",\"marker\":{\"color\":\"#C02B34\",\"opacity\":0.75,\"pattern\":{\"shape\":\"\"},\"line\":{\"color\":\"#28221D\",\"width\":1}},\"name\":\"Yes\",\"offsetgroup\":\"Yes\",\"orientation\":\"v\",\"showlegend\":false,\"text\":[36.0,18.75,15.151515151515152,13.541666666666666],\"textposition\":\"outside\",\"x\":[1,2,3,4],\"xaxis\":\"x\",\"y\":[36.0,18.75,15.151515151515152,13.541666666666666],\"yaxis\":\"y\",\"type\":\"bar\",\"texttemplate\":\"%{text:.2s}%\"},{\"alignmentgroup\":\"True\",\"hovertemplate\":\"Attrition=No\\u003cbr\\u003eGender=Female\\u003cbr\\u003eWorkLifeBalance=%{x}\\u003cbr\\u003ePercent=%{text}\\u003cextra\\u003e\\u003c\\u002fextra\\u003e\",\"legendgroup\":\"No\",\"marker\":{\"color\":\"#CDBBA7\",\"opacity\":0.75,\"pattern\":{\"shape\":\"\"},\"line\":{\"color\":\"#28221D\",\"width\":1}},\"name\":\"No\",\"offsetgroup\":\"No\",\"orientation\":\"v\",\"showlegend\":true,\"text\":[76.66666666666667,86.02941176470588,87.12328767123287,75.43859649122807],\"textposition\":\"outside\",\"x\":[1,2,3,4],\"xaxis\":\"x2\",\"y\":[76.66666666666667,86.02941176470588,87.12328767123287,75.43859649122807],\"yaxis\":\"y2\",\"type\":\"bar\",\"texttemplate\":\"%{text:.2s}%\"},{\"alignmentgroup\":\"True\",\"hovertemplate\":\"Attrition=No\\u003cbr\\u003eGender=Male\\u003cbr\\u003eWorkLifeBalance=%{x}\\u003cbr\\u003ePercent=%{text}\\u003cextra\\u003e\\u003c\\u002fextra\\u003e\",\"legendgroup\":\"No\",\"marker\":{\"color\":\"#CDBBA7\",\"opacity\":0.75,\"pattern\":{\"shape\":\"\"},\"line\":{\"color\":\"#28221D\",\"width\":1}},\"name\":\"No\",\"offsetgroup\":\"No\",\"orientation\":\"v\",\"showlegend\":false,\"text\":[64.0,81.25,84.84848484848484,86.45833333333334],\"textposition\":\"outside\",\"x\":[1,2,3,4],\"xaxis\":\"x\",\"y\":[64.0,81.25,84.84848484848484,86.45833333333334],\"yaxis\":\"y\",\"type\":\"bar\",\"texttemplate\":\"%{text:.2s}%\"}],                        {\"template\":{\"data\":{\"histogram2dcontour\":[{\"type\":\"histogram2dcontour\",\"colorbar\":{\"outlinewidth\":0,\"ticks\":\"\"},\"colorscale\":[[0.0,\"#0d0887\"],[0.1111111111111111,\"#46039f\"],[0.2222222222222222,\"#7201a8\"],[0.3333333333333333,\"#9c179e\"],[0.4444444444444444,\"#bd3786\"],[0.5555555555555556,\"#d8576b\"],[0.6666666666666666,\"#ed7953\"],[0.7777777777777778,\"#fb9f3a\"],[0.8888888888888888,\"#fdca26\"],[1.0,\"#f0f921\"]]}],\"choropleth\":[{\"type\":\"choropleth\",\"colorbar\":{\"outlinewidth\":0,\"ticks\":\"\"}}],\"histogram2d\":[{\"type\":\"histogram2d\",\"colorbar\":{\"outlinewidth\":0,\"ticks\":\"\"},\"colorscale\":[[0.0,\"#0d0887\"],[0.1111111111111111,\"#46039f\"],[0.2222222222222222,\"#7201a8\"],[0.3333333333333333,\"#9c179e\"],[0.4444444444444444,\"#bd3786\"],[0.5555555555555556,\"#d8576b\"],[0.6666666666666666,\"#ed7953\"],[0.7777777777777778,\"#fb9f3a\"],[0.8888888888888888,\"#fdca26\"],[1.0,\"#f0f921\"]]}],\"heatmap\":[{\"type\":\"heatmap\",\"colorbar\":{\"outlinewidth\":0,\"ticks\":\"\"},\"colorscale\":[[0.0,\"#0d0887\"],[0.1111111111111111,\"#46039f\"],[0.2222222222222222,\"#7201a8\"],[0.3333333333333333,\"#9c179e\"],[0.4444444444444444,\"#bd3786\"],[0.5555555555555556,\"#d8576b\"],[0.6666666666666666,\"#ed7953\"],[0.7777777777777778,\"#fb9f3a\"],[0.8888888888888888,\"#fdca26\"],[1.0,\"#f0f921\"]]}],\"heatmapgl\":[{\"type\":\"heatmapgl\",\"colorbar\":{\"outlinewidth\":0,\"ticks\":\"\"},\"colorscale\":[[0.0,\"#0d0887\"],[0.1111111111111111,\"#46039f\"],[0.2222222222222222,\"#7201a8\"],[0.3333333333333333,\"#9c179e\"],[0.4444444444444444,\"#bd3786\"],[0.5555555555555556,\"#d8576b\"],[0.6666666666666666,\"#ed7953\"],[0.7777777777777778,\"#fb9f3a\"],[0.8888888888888888,\"#fdca26\"],[1.0,\"#f0f921\"]]}],\"contourcarpet\":[{\"type\":\"contourcarpet\",\"colorbar\":{\"outlinewidth\":0,\"ticks\":\"\"}}],\"contour\":[{\"type\":\"contour\",\"colorbar\":{\"outlinewidth\":0,\"ticks\":\"\"},\"colorscale\":[[0.0,\"#0d0887\"],[0.1111111111111111,\"#46039f\"],[0.2222222222222222,\"#7201a8\"],[0.3333333333333333,\"#9c179e\"],[0.4444444444444444,\"#bd3786\"],[0.5555555555555556,\"#d8576b\"],[0.6666666666666666,\"#ed7953\"],[0.7777777777777778,\"#fb9f3a\"],[0.8888888888888888,\"#fdca26\"],[1.0,\"#f0f921\"]]}],\"surface\":[{\"type\":\"surface\",\"colorbar\":{\"outlinewidth\":0,\"ticks\":\"\"},\"colorscale\":[[0.0,\"#0d0887\"],[0.1111111111111111,\"#46039f\"],[0.2222222222222222,\"#7201a8\"],[0.3333333333333333,\"#9c179e\"],[0.4444444444444444,\"#bd3786\"],[0.5555555555555556,\"#d8576b\"],[0.6666666666666666,\"#ed7953\"],[0.7777777777777778,\"#fb9f3a\"],[0.8888888888888888,\"#fdca26\"],[1.0,\"#f0f921\"]]}],\"mesh3d\":[{\"type\":\"mesh3d\",\"colorbar\":{\"outlinewidth\":0,\"ticks\":\"\"}}],\"scatter\":[{\"fillpattern\":{\"fillmode\":\"overlay\",\"size\":10,\"solidity\":0.2},\"type\":\"scatter\"}],\"parcoords\":[{\"type\":\"parcoords\",\"line\":{\"colorbar\":{\"outlinewidth\":0,\"ticks\":\"\"}}}],\"scatterpolargl\":[{\"type\":\"scatterpolargl\",\"marker\":{\"colorbar\":{\"outlinewidth\":0,\"ticks\":\"\"}}}],\"bar\":[{\"error_x\":{\"color\":\"#2a3f5f\"},\"error_y\":{\"color\":\"#2a3f5f\"},\"marker\":{\"line\":{\"color\":\"#E5ECF6\",\"width\":0.5},\"pattern\":{\"fillmode\":\"overlay\",\"size\":10,\"solidity\":0.2}},\"type\":\"bar\"}],\"scattergeo\":[{\"type\":\"scattergeo\",\"marker\":{\"colorbar\":{\"outlinewidth\":0,\"ticks\":\"\"}}}],\"scatterpolar\":[{\"type\":\"scatterpolar\",\"marker\":{\"colorbar\":{\"outlinewidth\":0,\"ticks\":\"\"}}}],\"histogram\":[{\"marker\":{\"pattern\":{\"fillmode\":\"overlay\",\"size\":10,\"solidity\":0.2}},\"type\":\"histogram\"}],\"scattergl\":[{\"type\":\"scattergl\",\"marker\":{\"colorbar\":{\"outlinewidth\":0,\"ticks\":\"\"}}}],\"scatter3d\":[{\"type\":\"scatter3d\",\"line\":{\"colorbar\":{\"outlinewidth\":0,\"ticks\":\"\"}},\"marker\":{\"colorbar\":{\"outlinewidth\":0,\"ticks\":\"\"}}}],\"scattermapbox\":[{\"type\":\"scattermapbox\",\"marker\":{\"colorbar\":{\"outlinewidth\":0,\"ticks\":\"\"}}}],\"scatterternary\":[{\"type\":\"scatterternary\",\"marker\":{\"colorbar\":{\"outlinewidth\":0,\"ticks\":\"\"}}}],\"scattercarpet\":[{\"type\":\"scattercarpet\",\"marker\":{\"colorbar\":{\"outlinewidth\":0,\"ticks\":\"\"}}}],\"carpet\":[{\"aaxis\":{\"endlinecolor\":\"#2a3f5f\",\"gridcolor\":\"white\",\"linecolor\":\"white\",\"minorgridcolor\":\"white\",\"startlinecolor\":\"#2a3f5f\"},\"baxis\":{\"endlinecolor\":\"#2a3f5f\",\"gridcolor\":\"white\",\"linecolor\":\"white\",\"minorgridcolor\":\"white\",\"startlinecolor\":\"#2a3f5f\"},\"type\":\"carpet\"}],\"table\":[{\"cells\":{\"fill\":{\"color\":\"#EBF0F8\"},\"line\":{\"color\":\"white\"}},\"header\":{\"fill\":{\"color\":\"#C8D4E3\"},\"line\":{\"color\":\"white\"}},\"type\":\"table\"}],\"barpolar\":[{\"marker\":{\"line\":{\"color\":\"#E5ECF6\",\"width\":0.5},\"pattern\":{\"fillmode\":\"overlay\",\"size\":10,\"solidity\":0.2}},\"type\":\"barpolar\"}],\"pie\":[{\"automargin\":true,\"type\":\"pie\"}]},\"layout\":{\"autotypenumbers\":\"strict\",\"colorway\":[\"#636efa\",\"#EF553B\",\"#00cc96\",\"#ab63fa\",\"#FFA15A\",\"#19d3f3\",\"#FF6692\",\"#B6E880\",\"#FF97FF\",\"#FECB52\"],\"font\":{\"color\":\"#2a3f5f\"},\"hovermode\":\"closest\",\"hoverlabel\":{\"align\":\"left\"},\"paper_bgcolor\":\"white\",\"plot_bgcolor\":\"#E5ECF6\",\"polar\":{\"bgcolor\":\"#E5ECF6\",\"angularaxis\":{\"gridcolor\":\"white\",\"linecolor\":\"white\",\"ticks\":\"\"},\"radialaxis\":{\"gridcolor\":\"white\",\"linecolor\":\"white\",\"ticks\":\"\"}},\"ternary\":{\"bgcolor\":\"#E5ECF6\",\"aaxis\":{\"gridcolor\":\"white\",\"linecolor\":\"white\",\"ticks\":\"\"},\"baxis\":{\"gridcolor\":\"white\",\"linecolor\":\"white\",\"ticks\":\"\"},\"caxis\":{\"gridcolor\":\"white\",\"linecolor\":\"white\",\"ticks\":\"\"}},\"coloraxis\":{\"colorbar\":{\"outlinewidth\":0,\"ticks\":\"\"}},\"colorscale\":{\"sequential\":[[0.0,\"#0d0887\"],[0.1111111111111111,\"#46039f\"],[0.2222222222222222,\"#7201a8\"],[0.3333333333333333,\"#9c179e\"],[0.4444444444444444,\"#bd3786\"],[0.5555555555555556,\"#d8576b\"],[0.6666666666666666,\"#ed7953\"],[0.7777777777777778,\"#fb9f3a\"],[0.8888888888888888,\"#fdca26\"],[1.0,\"#f0f921\"]],\"sequentialminus\":[[0.0,\"#0d0887\"],[0.1111111111111111,\"#46039f\"],[0.2222222222222222,\"#7201a8\"],[0.3333333333333333,\"#9c179e\"],[0.4444444444444444,\"#bd3786\"],[0.5555555555555556,\"#d8576b\"],[0.6666666666666666,\"#ed7953\"],[0.7777777777777778,\"#fb9f3a\"],[0.8888888888888888,\"#fdca26\"],[1.0,\"#f0f921\"]],\"diverging\":[[0,\"#8e0152\"],[0.1,\"#c51b7d\"],[0.2,\"#de77ae\"],[0.3,\"#f1b6da\"],[0.4,\"#fde0ef\"],[0.5,\"#f7f7f7\"],[0.6,\"#e6f5d0\"],[0.7,\"#b8e186\"],[0.8,\"#7fbc41\"],[0.9,\"#4d9221\"],[1,\"#276419\"]]},\"xaxis\":{\"gridcolor\":\"white\",\"linecolor\":\"white\",\"ticks\":\"\",\"title\":{\"standoff\":15},\"zerolinecolor\":\"white\",\"automargin\":true,\"zerolinewidth\":2},\"yaxis\":{\"gridcolor\":\"white\",\"linecolor\":\"white\",\"ticks\":\"\",\"title\":{\"standoff\":15},\"zerolinecolor\":\"white\",\"automargin\":true,\"zerolinewidth\":2},\"scene\":{\"xaxis\":{\"backgroundcolor\":\"#E5ECF6\",\"gridcolor\":\"white\",\"linecolor\":\"white\",\"showbackground\":true,\"ticks\":\"\",\"zerolinecolor\":\"white\",\"gridwidth\":2},\"yaxis\":{\"backgroundcolor\":\"#E5ECF6\",\"gridcolor\":\"white\",\"linecolor\":\"white\",\"showbackground\":true,\"ticks\":\"\",\"zerolinecolor\":\"white\",\"gridwidth\":2},\"zaxis\":{\"backgroundcolor\":\"#E5ECF6\",\"gridcolor\":\"white\",\"linecolor\":\"white\",\"showbackground\":true,\"ticks\":\"\",\"zerolinecolor\":\"white\",\"gridwidth\":2}},\"shapedefaults\":{\"line\":{\"color\":\"#2a3f5f\"}},\"annotationdefaults\":{\"arrowcolor\":\"#2a3f5f\",\"arrowhead\":0,\"arrowwidth\":1},\"geo\":{\"bgcolor\":\"white\",\"landcolor\":\"#E5ECF6\",\"subunitcolor\":\"white\",\"showland\":true,\"showlakes\":true,\"lakecolor\":\"white\"},\"title\":{\"x\":0.05},\"mapbox\":{\"style\":\"light\"}}},\"xaxis\":{\"anchor\":\"y\",\"domain\":[0.0,0.98],\"title\":{\"text\":\"Work Life Balance\"},\"tickmode\":\"array\",\"tickvals\":[1,2,3,4],\"ticktext\":[\"Poor\",\"Neutral\",\"Good\",\"Excellent\"]},\"yaxis\":{\"anchor\":\"x\",\"domain\":[0.0,0.485],\"title\":{\"text\":\"\"},\"zeroline\":true,\"zerolinewidth\":1,\"zerolinecolor\":\"#1F0202\",\"ticksuffix\":\"%\"},\"xaxis2\":{\"anchor\":\"y2\",\"domain\":[0.0,0.98],\"matches\":\"x\",\"showticklabels\":false},\"yaxis2\":{\"anchor\":\"x2\",\"domain\":[0.515,1.0],\"matches\":\"y\",\"title\":{\"text\":\"\"},\"zeroline\":true,\"zerolinewidth\":1,\"zerolinecolor\":\"#1F0202\",\"ticksuffix\":\"%\"},\"annotations\":[{\"font\":{},\"showarrow\":false,\"text\":\"Gender=Male\",\"textangle\":90,\"x\":0.98,\"xanchor\":\"left\",\"xref\":\"paper\",\"y\":0.2425,\"yanchor\":\"middle\",\"yref\":\"paper\"},{\"font\":{},\"showarrow\":false,\"text\":\"Gender=Female\",\"textangle\":90,\"x\":0.98,\"xanchor\":\"left\",\"xref\":\"paper\",\"y\":0.7575000000000001,\"yanchor\":\"middle\",\"yref\":\"paper\"}],\"legend\":{\"title\":{\"text\":\"Attrition\"},\"tracegroupgap\":0},\"margin\":{\"t\":60},\"barmode\":\"group\",\"title\":{\"text\":\"Attrition Rates by Work Life Balance and Gender\"},\"font\":{\"color\":\"#28221D\"},\"height\":750,\"paper_bgcolor\":\"#F4F2F0\",\"plot_bgcolor\":\"#F4F2F0\"},                        {\"responsive\": true}                    ).then(function(){\n",
       "                            \n",
       "var gd = document.getElementById('66e6c124-ee31-40e2-be12-f51b298fd0d3');\n",
       "var x = new MutationObserver(function (mutations, observer) {{\n",
       "        var display = window.getComputedStyle(gd).display;\n",
       "        if (!display || display === 'none') {{\n",
       "            console.log([gd, 'removed!']);\n",
       "            Plotly.purge(gd);\n",
       "            observer.disconnect();\n",
       "        }}\n",
       "}});\n",
       "\n",
       "// Listen for the removal of the full notebook cells\n",
       "var notebookContainer = gd.closest('#notebook-container');\n",
       "if (notebookContainer) {{\n",
       "    x.observe(notebookContainer, {childList: true});\n",
       "}}\n",
       "\n",
       "// Listen for the clearing of the current output cell\n",
       "var outputEl = gd.closest('.output');\n",
       "if (outputEl) {{\n",
       "    x.observe(outputEl, {childList: true});\n",
       "}}\n",
       "\n",
       "                        })                };                });            </script>        </div>"
      ]
     },
     "metadata": {},
     "output_type": "display_data"
    }
   ],
   "source": [
    "plot_df = data.groupby(['WorkLifeBalance','Gender'])['Attrition'].value_counts(normalize=True)\n",
    "plot_df = plot_df.mul(100).rename('Percent').reset_index()\n",
    "fig = px.bar(plot_df, x='WorkLifeBalance', y='Percent', color='Attrition',\n",
    "             facet_row='Gender', text='Percent', opacity=0.75, barmode='group', \n",
    "             category_orders={'Attrition': ['Yes', 'No']},\n",
    "             color_discrete_map={'Yes': '#C02B34','No': '#CDBBA7'})\n",
    "fig.update_traces(texttemplate='%{text:.2s}%', textposition='outside', \n",
    "                  marker_line=dict(width=1, color='#28221D'))\n",
    "fig.update_yaxes(title=\"\",zeroline=True, zerolinewidth=1, zerolinecolor='#1F0202',ticksuffix = '%')\n",
    "fig.update_layout(title_text='Attrition Rates by Work Life Balance and Gender',height=750,font_color='#28221D',\n",
    "                  xaxis_title='Work Life Balance', paper_bgcolor='#F4F2F0', plot_bgcolor='#F4F2F0', \n",
    "                  xaxis = dict(tickmode = 'array', tickvals = [1, 2, 3, 4],\n",
    "                               ticktext = ['Poor', 'Neutral', 'Good', 'Excellent']))\n",
    "fig.show()"
   ]
  },
  {
   "cell_type": "markdown",
   "metadata": {},
   "source": [
    "Among women with the highest rated work life balance, 1 out of 4 left the company, the highest proportion among the ratings for women. For men, the highest proportion occurred in those with the lowest work life balance. "
   ]
  },
  {
   "cell_type": "code",
   "execution_count": 88,
   "metadata": {
    "_kg_hide-input": true
   },
   "outputs": [
    {
     "data": {
      "application/vnd.plotly.v1+json": {
       "config": {
        "plotlyServerURL": "https://plot.ly"
       },
       "data": [
        {
         "alignmentgroup": "True",
         "hovertemplate": "JobSatisfaction=%{x}<br>Attrition=Yes<br>Percent=%{text}<extra></extra>",
         "legendgroup": "Poor",
         "marker": {
          "color": "#E74C3C",
          "pattern": {
           "shape": ""
          }
         },
         "name": "Poor",
         "offsetgroup": "Poor",
         "orientation": "v",
         "showlegend": true,
         "text": [
          27.848101265822784
         ],
         "textposition": "outside",
         "texttemplate": "%{text:.1f}%",
         "type": "bar",
         "x": [
          "Poor"
         ],
         "xaxis": "x",
         "y": [
          27.848101265822784
         ],
         "yaxis": "y"
        },
        {
         "alignmentgroup": "True",
         "hovertemplate": "JobSatisfaction=%{x}<br>Attrition=No<br>Percent=%{text}<extra></extra>",
         "legendgroup": "Poor",
         "marker": {
          "color": "#E74C3C",
          "pattern": {
           "shape": ""
          }
         },
         "name": "Poor",
         "offsetgroup": "Poor",
         "orientation": "v",
         "showlegend": false,
         "text": [
          18.085969180859692
         ],
         "textposition": "outside",
         "texttemplate": "%{text:.1f}%",
         "type": "bar",
         "x": [
          "Poor"
         ],
         "xaxis": "x2",
         "y": [
          18.085969180859692
         ],
         "yaxis": "y2"
        },
        {
         "alignmentgroup": "True",
         "hovertemplate": "JobSatisfaction=%{x}<br>Attrition=Yes<br>Percent=%{text}<extra></extra>",
         "legendgroup": "Neutral",
         "marker": {
          "color": "#F1C40F",
          "pattern": {
           "shape": ""
          }
         },
         "name": "Neutral",
         "offsetgroup": "Neutral",
         "orientation": "v",
         "showlegend": true,
         "text": [
          19.40928270042194
         ],
         "textposition": "outside",
         "texttemplate": "%{text:.1f}%",
         "type": "bar",
         "x": [
          "Neutral"
         ],
         "xaxis": "x",
         "y": [
          19.40928270042194
         ],
         "yaxis": "y"
        },
        {
         "alignmentgroup": "True",
         "hovertemplate": "JobSatisfaction=%{x}<br>Attrition=No<br>Percent=%{text}<extra></extra>",
         "legendgroup": "Neutral",
         "marker": {
          "color": "#F1C40F",
          "pattern": {
           "shape": ""
          }
         },
         "name": "Neutral",
         "offsetgroup": "Neutral",
         "orientation": "v",
         "showlegend": false,
         "text": [
          18.97810218978102
         ],
         "textposition": "outside",
         "texttemplate": "%{text:.1f}%",
         "type": "bar",
         "x": [
          "Neutral"
         ],
         "xaxis": "x2",
         "y": [
          18.97810218978102
         ],
         "yaxis": "y2"
        },
        {
         "alignmentgroup": "True",
         "hovertemplate": "JobSatisfaction=%{x}<br>Attrition=Yes<br>Percent=%{text}<extra></extra>",
         "legendgroup": "Good",
         "marker": {
          "color": "#2ECC71",
          "pattern": {
           "shape": ""
          }
         },
         "name": "Good",
         "offsetgroup": "Good",
         "orientation": "v",
         "showlegend": true,
         "text": [
          30.801687763713083
         ],
         "textposition": "outside",
         "texttemplate": "%{text:.1f}%",
         "type": "bar",
         "x": [
          "Good"
         ],
         "xaxis": "x",
         "y": [
          30.801687763713083
         ],
         "yaxis": "y"
        },
        {
         "alignmentgroup": "True",
         "hovertemplate": "JobSatisfaction=%{x}<br>Attrition=No<br>Percent=%{text}<extra></extra>",
         "legendgroup": "Good",
         "marker": {
          "color": "#2ECC71",
          "pattern": {
           "shape": ""
          }
         },
         "name": "Good",
         "offsetgroup": "Good",
         "orientation": "v",
         "showlegend": false,
         "text": [
          29.927007299270077
         ],
         "textposition": "outside",
         "texttemplate": "%{text:.1f}%",
         "type": "bar",
         "x": [
          "Good"
         ],
         "xaxis": "x2",
         "y": [
          29.927007299270077
         ],
         "yaxis": "y2"
        },
        {
         "alignmentgroup": "True",
         "hovertemplate": "JobSatisfaction=%{x}<br>Attrition=Yes<br>Percent=%{text}<extra></extra>",
         "legendgroup": "Excellent",
         "marker": {
          "color": "#3498DB",
          "pattern": {
           "shape": ""
          }
         },
         "name": "Excellent",
         "offsetgroup": "Excellent",
         "orientation": "v",
         "showlegend": true,
         "text": [
          21.940928270042196
         ],
         "textposition": "outside",
         "texttemplate": "%{text:.1f}%",
         "type": "bar",
         "x": [
          "Excellent"
         ],
         "xaxis": "x",
         "y": [
          21.940928270042196
         ],
         "yaxis": "y"
        },
        {
         "alignmentgroup": "True",
         "hovertemplate": "JobSatisfaction=%{x}<br>Attrition=No<br>Percent=%{text}<extra></extra>",
         "legendgroup": "Excellent",
         "marker": {
          "color": "#3498DB",
          "pattern": {
           "shape": ""
          }
         },
         "name": "Excellent",
         "offsetgroup": "Excellent",
         "orientation": "v",
         "showlegend": false,
         "text": [
          33.008921330089215
         ],
         "textposition": "outside",
         "texttemplate": "%{text:.1f}%",
         "type": "bar",
         "x": [
          "Excellent"
         ],
         "xaxis": "x2",
         "y": [
          33.008921330089215
         ],
         "yaxis": "y2"
        }
       ],
       "layout": {
        "annotations": [
         {
          "font": {},
          "showarrow": false,
          "text": "Attrition=Yes",
          "x": 0.245,
          "xanchor": "center",
          "xref": "paper",
          "y": 1,
          "yanchor": "bottom",
          "yref": "paper"
         },
         {
          "font": {},
          "showarrow": false,
          "text": "Attrition=No",
          "x": 0.755,
          "xanchor": "center",
          "xref": "paper",
          "y": 1,
          "yanchor": "bottom",
          "yref": "paper"
         }
        ],
        "autosize": true,
        "barmode": "relative",
        "legend": {
         "title": {
          "text": "JobSatisfaction"
         },
         "tracegroupgap": 0
        },
        "margin": {
         "t": 60
        },
        "template": {
         "data": {
          "bar": [
           {
            "error_x": {
             "color": "#2a3f5f"
            },
            "error_y": {
             "color": "#2a3f5f"
            },
            "marker": {
             "line": {
              "color": "#E5ECF6",
              "width": 0.5
             },
             "pattern": {
              "fillmode": "overlay",
              "size": 10,
              "solidity": 0.2
             }
            },
            "type": "bar"
           }
          ],
          "barpolar": [
           {
            "marker": {
             "line": {
              "color": "#E5ECF6",
              "width": 0.5
             },
             "pattern": {
              "fillmode": "overlay",
              "size": 10,
              "solidity": 0.2
             }
            },
            "type": "barpolar"
           }
          ],
          "carpet": [
           {
            "aaxis": {
             "endlinecolor": "#2a3f5f",
             "gridcolor": "white",
             "linecolor": "white",
             "minorgridcolor": "white",
             "startlinecolor": "#2a3f5f"
            },
            "baxis": {
             "endlinecolor": "#2a3f5f",
             "gridcolor": "white",
             "linecolor": "white",
             "minorgridcolor": "white",
             "startlinecolor": "#2a3f5f"
            },
            "type": "carpet"
           }
          ],
          "choropleth": [
           {
            "colorbar": {
             "outlinewidth": 0,
             "ticks": ""
            },
            "type": "choropleth"
           }
          ],
          "contour": [
           {
            "colorbar": {
             "outlinewidth": 0,
             "ticks": ""
            },
            "colorscale": [
             [
              0,
              "#0d0887"
             ],
             [
              0.1111111111111111,
              "#46039f"
             ],
             [
              0.2222222222222222,
              "#7201a8"
             ],
             [
              0.3333333333333333,
              "#9c179e"
             ],
             [
              0.4444444444444444,
              "#bd3786"
             ],
             [
              0.5555555555555556,
              "#d8576b"
             ],
             [
              0.6666666666666666,
              "#ed7953"
             ],
             [
              0.7777777777777778,
              "#fb9f3a"
             ],
             [
              0.8888888888888888,
              "#fdca26"
             ],
             [
              1,
              "#f0f921"
             ]
            ],
            "type": "contour"
           }
          ],
          "contourcarpet": [
           {
            "colorbar": {
             "outlinewidth": 0,
             "ticks": ""
            },
            "type": "contourcarpet"
           }
          ],
          "heatmap": [
           {
            "colorbar": {
             "outlinewidth": 0,
             "ticks": ""
            },
            "colorscale": [
             [
              0,
              "#0d0887"
             ],
             [
              0.1111111111111111,
              "#46039f"
             ],
             [
              0.2222222222222222,
              "#7201a8"
             ],
             [
              0.3333333333333333,
              "#9c179e"
             ],
             [
              0.4444444444444444,
              "#bd3786"
             ],
             [
              0.5555555555555556,
              "#d8576b"
             ],
             [
              0.6666666666666666,
              "#ed7953"
             ],
             [
              0.7777777777777778,
              "#fb9f3a"
             ],
             [
              0.8888888888888888,
              "#fdca26"
             ],
             [
              1,
              "#f0f921"
             ]
            ],
            "type": "heatmap"
           }
          ],
          "heatmapgl": [
           {
            "colorbar": {
             "outlinewidth": 0,
             "ticks": ""
            },
            "colorscale": [
             [
              0,
              "#0d0887"
             ],
             [
              0.1111111111111111,
              "#46039f"
             ],
             [
              0.2222222222222222,
              "#7201a8"
             ],
             [
              0.3333333333333333,
              "#9c179e"
             ],
             [
              0.4444444444444444,
              "#bd3786"
             ],
             [
              0.5555555555555556,
              "#d8576b"
             ],
             [
              0.6666666666666666,
              "#ed7953"
             ],
             [
              0.7777777777777778,
              "#fb9f3a"
             ],
             [
              0.8888888888888888,
              "#fdca26"
             ],
             [
              1,
              "#f0f921"
             ]
            ],
            "type": "heatmapgl"
           }
          ],
          "histogram": [
           {
            "marker": {
             "pattern": {
              "fillmode": "overlay",
              "size": 10,
              "solidity": 0.2
             }
            },
            "type": "histogram"
           }
          ],
          "histogram2d": [
           {
            "colorbar": {
             "outlinewidth": 0,
             "ticks": ""
            },
            "colorscale": [
             [
              0,
              "#0d0887"
             ],
             [
              0.1111111111111111,
              "#46039f"
             ],
             [
              0.2222222222222222,
              "#7201a8"
             ],
             [
              0.3333333333333333,
              "#9c179e"
             ],
             [
              0.4444444444444444,
              "#bd3786"
             ],
             [
              0.5555555555555556,
              "#d8576b"
             ],
             [
              0.6666666666666666,
              "#ed7953"
             ],
             [
              0.7777777777777778,
              "#fb9f3a"
             ],
             [
              0.8888888888888888,
              "#fdca26"
             ],
             [
              1,
              "#f0f921"
             ]
            ],
            "type": "histogram2d"
           }
          ],
          "histogram2dcontour": [
           {
            "colorbar": {
             "outlinewidth": 0,
             "ticks": ""
            },
            "colorscale": [
             [
              0,
              "#0d0887"
             ],
             [
              0.1111111111111111,
              "#46039f"
             ],
             [
              0.2222222222222222,
              "#7201a8"
             ],
             [
              0.3333333333333333,
              "#9c179e"
             ],
             [
              0.4444444444444444,
              "#bd3786"
             ],
             [
              0.5555555555555556,
              "#d8576b"
             ],
             [
              0.6666666666666666,
              "#ed7953"
             ],
             [
              0.7777777777777778,
              "#fb9f3a"
             ],
             [
              0.8888888888888888,
              "#fdca26"
             ],
             [
              1,
              "#f0f921"
             ]
            ],
            "type": "histogram2dcontour"
           }
          ],
          "mesh3d": [
           {
            "colorbar": {
             "outlinewidth": 0,
             "ticks": ""
            },
            "type": "mesh3d"
           }
          ],
          "parcoords": [
           {
            "line": {
             "colorbar": {
              "outlinewidth": 0,
              "ticks": ""
             }
            },
            "type": "parcoords"
           }
          ],
          "pie": [
           {
            "automargin": true,
            "type": "pie"
           }
          ],
          "scatter": [
           {
            "fillpattern": {
             "fillmode": "overlay",
             "size": 10,
             "solidity": 0.2
            },
            "type": "scatter"
           }
          ],
          "scatter3d": [
           {
            "line": {
             "colorbar": {
              "outlinewidth": 0,
              "ticks": ""
             }
            },
            "marker": {
             "colorbar": {
              "outlinewidth": 0,
              "ticks": ""
             }
            },
            "type": "scatter3d"
           }
          ],
          "scattercarpet": [
           {
            "marker": {
             "colorbar": {
              "outlinewidth": 0,
              "ticks": ""
             }
            },
            "type": "scattercarpet"
           }
          ],
          "scattergeo": [
           {
            "marker": {
             "colorbar": {
              "outlinewidth": 0,
              "ticks": ""
             }
            },
            "type": "scattergeo"
           }
          ],
          "scattergl": [
           {
            "marker": {
             "colorbar": {
              "outlinewidth": 0,
              "ticks": ""
             }
            },
            "type": "scattergl"
           }
          ],
          "scattermapbox": [
           {
            "marker": {
             "colorbar": {
              "outlinewidth": 0,
              "ticks": ""
             }
            },
            "type": "scattermapbox"
           }
          ],
          "scatterpolar": [
           {
            "marker": {
             "colorbar": {
              "outlinewidth": 0,
              "ticks": ""
             }
            },
            "type": "scatterpolar"
           }
          ],
          "scatterpolargl": [
           {
            "marker": {
             "colorbar": {
              "outlinewidth": 0,
              "ticks": ""
             }
            },
            "type": "scatterpolargl"
           }
          ],
          "scatterternary": [
           {
            "marker": {
             "colorbar": {
              "outlinewidth": 0,
              "ticks": ""
             }
            },
            "type": "scatterternary"
           }
          ],
          "surface": [
           {
            "colorbar": {
             "outlinewidth": 0,
             "ticks": ""
            },
            "colorscale": [
             [
              0,
              "#0d0887"
             ],
             [
              0.1111111111111111,
              "#46039f"
             ],
             [
              0.2222222222222222,
              "#7201a8"
             ],
             [
              0.3333333333333333,
              "#9c179e"
             ],
             [
              0.4444444444444444,
              "#bd3786"
             ],
             [
              0.5555555555555556,
              "#d8576b"
             ],
             [
              0.6666666666666666,
              "#ed7953"
             ],
             [
              0.7777777777777778,
              "#fb9f3a"
             ],
             [
              0.8888888888888888,
              "#fdca26"
             ],
             [
              1,
              "#f0f921"
             ]
            ],
            "type": "surface"
           }
          ],
          "table": [
           {
            "cells": {
             "fill": {
              "color": "#EBF0F8"
             },
             "line": {
              "color": "white"
             }
            },
            "header": {
             "fill": {
              "color": "#C8D4E3"
             },
             "line": {
              "color": "white"
             }
            },
            "type": "table"
           }
          ]
         },
         "layout": {
          "annotationdefaults": {
           "arrowcolor": "#2a3f5f",
           "arrowhead": 0,
           "arrowwidth": 1
          },
          "autotypenumbers": "strict",
          "coloraxis": {
           "colorbar": {
            "outlinewidth": 0,
            "ticks": ""
           }
          },
          "colorscale": {
           "diverging": [
            [
             0,
             "#8e0152"
            ],
            [
             0.1,
             "#c51b7d"
            ],
            [
             0.2,
             "#de77ae"
            ],
            [
             0.3,
             "#f1b6da"
            ],
            [
             0.4,
             "#fde0ef"
            ],
            [
             0.5,
             "#f7f7f7"
            ],
            [
             0.6,
             "#e6f5d0"
            ],
            [
             0.7,
             "#b8e186"
            ],
            [
             0.8,
             "#7fbc41"
            ],
            [
             0.9,
             "#4d9221"
            ],
            [
             1,
             "#276419"
            ]
           ],
           "sequential": [
            [
             0,
             "#0d0887"
            ],
            [
             0.1111111111111111,
             "#46039f"
            ],
            [
             0.2222222222222222,
             "#7201a8"
            ],
            [
             0.3333333333333333,
             "#9c179e"
            ],
            [
             0.4444444444444444,
             "#bd3786"
            ],
            [
             0.5555555555555556,
             "#d8576b"
            ],
            [
             0.6666666666666666,
             "#ed7953"
            ],
            [
             0.7777777777777778,
             "#fb9f3a"
            ],
            [
             0.8888888888888888,
             "#fdca26"
            ],
            [
             1,
             "#f0f921"
            ]
           ],
           "sequentialminus": [
            [
             0,
             "#0d0887"
            ],
            [
             0.1111111111111111,
             "#46039f"
            ],
            [
             0.2222222222222222,
             "#7201a8"
            ],
            [
             0.3333333333333333,
             "#9c179e"
            ],
            [
             0.4444444444444444,
             "#bd3786"
            ],
            [
             0.5555555555555556,
             "#d8576b"
            ],
            [
             0.6666666666666666,
             "#ed7953"
            ],
            [
             0.7777777777777778,
             "#fb9f3a"
            ],
            [
             0.8888888888888888,
             "#fdca26"
            ],
            [
             1,
             "#f0f921"
            ]
           ]
          },
          "colorway": [
           "#636efa",
           "#EF553B",
           "#00cc96",
           "#ab63fa",
           "#FFA15A",
           "#19d3f3",
           "#FF6692",
           "#B6E880",
           "#FF97FF",
           "#FECB52"
          ],
          "font": {
           "color": "#2a3f5f"
          },
          "geo": {
           "bgcolor": "white",
           "lakecolor": "white",
           "landcolor": "#E5ECF6",
           "showlakes": true,
           "showland": true,
           "subunitcolor": "white"
          },
          "hoverlabel": {
           "align": "left"
          },
          "hovermode": "closest",
          "mapbox": {
           "style": "light"
          },
          "paper_bgcolor": "white",
          "plot_bgcolor": "#E5ECF6",
          "polar": {
           "angularaxis": {
            "gridcolor": "white",
            "linecolor": "white",
            "ticks": ""
           },
           "bgcolor": "#E5ECF6",
           "radialaxis": {
            "gridcolor": "white",
            "linecolor": "white",
            "ticks": ""
           }
          },
          "scene": {
           "xaxis": {
            "backgroundcolor": "#E5ECF6",
            "gridcolor": "white",
            "gridwidth": 2,
            "linecolor": "white",
            "showbackground": true,
            "ticks": "",
            "zerolinecolor": "white"
           },
           "yaxis": {
            "backgroundcolor": "#E5ECF6",
            "gridcolor": "white",
            "gridwidth": 2,
            "linecolor": "white",
            "showbackground": true,
            "ticks": "",
            "zerolinecolor": "white"
           },
           "zaxis": {
            "backgroundcolor": "#E5ECF6",
            "gridcolor": "white",
            "gridwidth": 2,
            "linecolor": "white",
            "showbackground": true,
            "ticks": "",
            "zerolinecolor": "white"
           }
          },
          "shapedefaults": {
           "line": {
            "color": "#2a3f5f"
           }
          },
          "ternary": {
           "aaxis": {
            "gridcolor": "white",
            "linecolor": "white",
            "ticks": ""
           },
           "baxis": {
            "gridcolor": "white",
            "linecolor": "white",
            "ticks": ""
           },
           "bgcolor": "#E5ECF6",
           "caxis": {
            "gridcolor": "white",
            "linecolor": "white",
            "ticks": ""
           }
          },
          "title": {
           "x": 0.05
          },
          "xaxis": {
           "automargin": true,
           "gridcolor": "white",
           "linecolor": "white",
           "ticks": "",
           "title": {
            "standoff": 15
           },
           "zerolinecolor": "white",
           "zerolinewidth": 2
          },
          "yaxis": {
           "automargin": true,
           "gridcolor": "white",
           "linecolor": "white",
           "ticks": "",
           "title": {
            "standoff": 15
           },
           "zerolinecolor": "white",
           "zerolinewidth": 2
          }
         }
        },
        "title": {
         "text": "Attrition Rates by Job Satisfaction"
        },
        "xaxis": {
         "anchor": "y",
         "autorange": true,
         "categoryarray": [
          "Poor",
          "Neutral",
          "Good",
          "Excellent"
         ],
         "categoryorder": "array",
         "domain": [
          0,
          0.49
         ],
         "range": [
          -0.5,
          3.5
         ],
         "title": {
          "text": "Job Satisfaction"
         },
         "type": "category"
        },
        "xaxis2": {
         "anchor": "y2",
         "autorange": true,
         "categoryarray": [
          "Poor",
          "Neutral",
          "Good",
          "Excellent"
         ],
         "categoryorder": "array",
         "domain": [
          0.51,
          1
         ],
         "matches": "x",
         "range": [
          -0.5,
          3.5
         ],
         "title": {
          "text": "JobSatisfaction"
         },
         "type": "category"
        },
        "yaxis": {
         "anchor": "x",
         "autorange": true,
         "domain": [
          0,
          1
         ],
         "range": [
          0,
          34.74623297904128
         ],
         "ticksuffix": "%",
         "title": {
          "text": "Percent"
         },
         "type": "linear"
        },
        "yaxis2": {
         "anchor": "x2",
         "autorange": true,
         "domain": [
          0,
          1
         ],
         "matches": "y",
         "range": [
          0,
          34.74623297904128
         ],
         "showticklabels": false,
         "type": "linear"
        }
       }
      },
      "text/html": [
       "<div>                            <div id=\"58dca595-c8bd-446e-98d5-07cd0c694ac6\" class=\"plotly-graph-div\" style=\"height:600px; width:100%;\"></div>            <script type=\"text/javascript\">                require([\"plotly\"], function(Plotly) {                    window.PLOTLYENV=window.PLOTLYENV || {};                                    if (document.getElementById(\"58dca595-c8bd-446e-98d5-07cd0c694ac6\")) {                    Plotly.newPlot(                        \"58dca595-c8bd-446e-98d5-07cd0c694ac6\",                        [{\"alignmentgroup\":\"True\",\"hovertemplate\":\"JobSatisfaction=%{x}\\u003cbr\\u003eAttrition=Yes\\u003cbr\\u003ePercent=%{text}\\u003cextra\\u003e\\u003c\\u002fextra\\u003e\",\"legendgroup\":\"Poor\",\"marker\":{\"color\":\"#E74C3C\",\"pattern\":{\"shape\":\"\"}},\"name\":\"Poor\",\"offsetgroup\":\"Poor\",\"orientation\":\"v\",\"showlegend\":true,\"text\":[27.848101265822784],\"textposition\":\"outside\",\"x\":[\"Poor\"],\"xaxis\":\"x\",\"y\":[27.848101265822784],\"yaxis\":\"y\",\"type\":\"bar\",\"texttemplate\":\"%{text:.1f}%\"},{\"alignmentgroup\":\"True\",\"hovertemplate\":\"JobSatisfaction=%{x}\\u003cbr\\u003eAttrition=No\\u003cbr\\u003ePercent=%{text}\\u003cextra\\u003e\\u003c\\u002fextra\\u003e\",\"legendgroup\":\"Poor\",\"marker\":{\"color\":\"#E74C3C\",\"pattern\":{\"shape\":\"\"}},\"name\":\"Poor\",\"offsetgroup\":\"Poor\",\"orientation\":\"v\",\"showlegend\":false,\"text\":[18.085969180859692],\"textposition\":\"outside\",\"x\":[\"Poor\"],\"xaxis\":\"x2\",\"y\":[18.085969180859692],\"yaxis\":\"y2\",\"type\":\"bar\",\"texttemplate\":\"%{text:.1f}%\"},{\"alignmentgroup\":\"True\",\"hovertemplate\":\"JobSatisfaction=%{x}\\u003cbr\\u003eAttrition=Yes\\u003cbr\\u003ePercent=%{text}\\u003cextra\\u003e\\u003c\\u002fextra\\u003e\",\"legendgroup\":\"Neutral\",\"marker\":{\"color\":\"#F1C40F\",\"pattern\":{\"shape\":\"\"}},\"name\":\"Neutral\",\"offsetgroup\":\"Neutral\",\"orientation\":\"v\",\"showlegend\":true,\"text\":[19.40928270042194],\"textposition\":\"outside\",\"x\":[\"Neutral\"],\"xaxis\":\"x\",\"y\":[19.40928270042194],\"yaxis\":\"y\",\"type\":\"bar\",\"texttemplate\":\"%{text:.1f}%\"},{\"alignmentgroup\":\"True\",\"hovertemplate\":\"JobSatisfaction=%{x}\\u003cbr\\u003eAttrition=No\\u003cbr\\u003ePercent=%{text}\\u003cextra\\u003e\\u003c\\u002fextra\\u003e\",\"legendgroup\":\"Neutral\",\"marker\":{\"color\":\"#F1C40F\",\"pattern\":{\"shape\":\"\"}},\"name\":\"Neutral\",\"offsetgroup\":\"Neutral\",\"orientation\":\"v\",\"showlegend\":false,\"text\":[18.97810218978102],\"textposition\":\"outside\",\"x\":[\"Neutral\"],\"xaxis\":\"x2\",\"y\":[18.97810218978102],\"yaxis\":\"y2\",\"type\":\"bar\",\"texttemplate\":\"%{text:.1f}%\"},{\"alignmentgroup\":\"True\",\"hovertemplate\":\"JobSatisfaction=%{x}\\u003cbr\\u003eAttrition=Yes\\u003cbr\\u003ePercent=%{text}\\u003cextra\\u003e\\u003c\\u002fextra\\u003e\",\"legendgroup\":\"Good\",\"marker\":{\"color\":\"#2ECC71\",\"pattern\":{\"shape\":\"\"}},\"name\":\"Good\",\"offsetgroup\":\"Good\",\"orientation\":\"v\",\"showlegend\":true,\"text\":[30.801687763713083],\"textposition\":\"outside\",\"x\":[\"Good\"],\"xaxis\":\"x\",\"y\":[30.801687763713083],\"yaxis\":\"y\",\"type\":\"bar\",\"texttemplate\":\"%{text:.1f}%\"},{\"alignmentgroup\":\"True\",\"hovertemplate\":\"JobSatisfaction=%{x}\\u003cbr\\u003eAttrition=No\\u003cbr\\u003ePercent=%{text}\\u003cextra\\u003e\\u003c\\u002fextra\\u003e\",\"legendgroup\":\"Good\",\"marker\":{\"color\":\"#2ECC71\",\"pattern\":{\"shape\":\"\"}},\"name\":\"Good\",\"offsetgroup\":\"Good\",\"orientation\":\"v\",\"showlegend\":false,\"text\":[29.927007299270077],\"textposition\":\"outside\",\"x\":[\"Good\"],\"xaxis\":\"x2\",\"y\":[29.927007299270077],\"yaxis\":\"y2\",\"type\":\"bar\",\"texttemplate\":\"%{text:.1f}%\"},{\"alignmentgroup\":\"True\",\"hovertemplate\":\"JobSatisfaction=%{x}\\u003cbr\\u003eAttrition=Yes\\u003cbr\\u003ePercent=%{text}\\u003cextra\\u003e\\u003c\\u002fextra\\u003e\",\"legendgroup\":\"Excellent\",\"marker\":{\"color\":\"#3498DB\",\"pattern\":{\"shape\":\"\"}},\"name\":\"Excellent\",\"offsetgroup\":\"Excellent\",\"orientation\":\"v\",\"showlegend\":true,\"text\":[21.940928270042196],\"textposition\":\"outside\",\"x\":[\"Excellent\"],\"xaxis\":\"x\",\"y\":[21.940928270042196],\"yaxis\":\"y\",\"type\":\"bar\",\"texttemplate\":\"%{text:.1f}%\"},{\"alignmentgroup\":\"True\",\"hovertemplate\":\"JobSatisfaction=%{x}\\u003cbr\\u003eAttrition=No\\u003cbr\\u003ePercent=%{text}\\u003cextra\\u003e\\u003c\\u002fextra\\u003e\",\"legendgroup\":\"Excellent\",\"marker\":{\"color\":\"#3498DB\",\"pattern\":{\"shape\":\"\"}},\"name\":\"Excellent\",\"offsetgroup\":\"Excellent\",\"orientation\":\"v\",\"showlegend\":false,\"text\":[33.008921330089215],\"textposition\":\"outside\",\"x\":[\"Excellent\"],\"xaxis\":\"x2\",\"y\":[33.008921330089215],\"yaxis\":\"y2\",\"type\":\"bar\",\"texttemplate\":\"%{text:.1f}%\"}],                        {\"template\":{\"data\":{\"histogram2dcontour\":[{\"type\":\"histogram2dcontour\",\"colorbar\":{\"outlinewidth\":0,\"ticks\":\"\"},\"colorscale\":[[0.0,\"#0d0887\"],[0.1111111111111111,\"#46039f\"],[0.2222222222222222,\"#7201a8\"],[0.3333333333333333,\"#9c179e\"],[0.4444444444444444,\"#bd3786\"],[0.5555555555555556,\"#d8576b\"],[0.6666666666666666,\"#ed7953\"],[0.7777777777777778,\"#fb9f3a\"],[0.8888888888888888,\"#fdca26\"],[1.0,\"#f0f921\"]]}],\"choropleth\":[{\"type\":\"choropleth\",\"colorbar\":{\"outlinewidth\":0,\"ticks\":\"\"}}],\"histogram2d\":[{\"type\":\"histogram2d\",\"colorbar\":{\"outlinewidth\":0,\"ticks\":\"\"},\"colorscale\":[[0.0,\"#0d0887\"],[0.1111111111111111,\"#46039f\"],[0.2222222222222222,\"#7201a8\"],[0.3333333333333333,\"#9c179e\"],[0.4444444444444444,\"#bd3786\"],[0.5555555555555556,\"#d8576b\"],[0.6666666666666666,\"#ed7953\"],[0.7777777777777778,\"#fb9f3a\"],[0.8888888888888888,\"#fdca26\"],[1.0,\"#f0f921\"]]}],\"heatmap\":[{\"type\":\"heatmap\",\"colorbar\":{\"outlinewidth\":0,\"ticks\":\"\"},\"colorscale\":[[0.0,\"#0d0887\"],[0.1111111111111111,\"#46039f\"],[0.2222222222222222,\"#7201a8\"],[0.3333333333333333,\"#9c179e\"],[0.4444444444444444,\"#bd3786\"],[0.5555555555555556,\"#d8576b\"],[0.6666666666666666,\"#ed7953\"],[0.7777777777777778,\"#fb9f3a\"],[0.8888888888888888,\"#fdca26\"],[1.0,\"#f0f921\"]]}],\"heatmapgl\":[{\"type\":\"heatmapgl\",\"colorbar\":{\"outlinewidth\":0,\"ticks\":\"\"},\"colorscale\":[[0.0,\"#0d0887\"],[0.1111111111111111,\"#46039f\"],[0.2222222222222222,\"#7201a8\"],[0.3333333333333333,\"#9c179e\"],[0.4444444444444444,\"#bd3786\"],[0.5555555555555556,\"#d8576b\"],[0.6666666666666666,\"#ed7953\"],[0.7777777777777778,\"#fb9f3a\"],[0.8888888888888888,\"#fdca26\"],[1.0,\"#f0f921\"]]}],\"contourcarpet\":[{\"type\":\"contourcarpet\",\"colorbar\":{\"outlinewidth\":0,\"ticks\":\"\"}}],\"contour\":[{\"type\":\"contour\",\"colorbar\":{\"outlinewidth\":0,\"ticks\":\"\"},\"colorscale\":[[0.0,\"#0d0887\"],[0.1111111111111111,\"#46039f\"],[0.2222222222222222,\"#7201a8\"],[0.3333333333333333,\"#9c179e\"],[0.4444444444444444,\"#bd3786\"],[0.5555555555555556,\"#d8576b\"],[0.6666666666666666,\"#ed7953\"],[0.7777777777777778,\"#fb9f3a\"],[0.8888888888888888,\"#fdca26\"],[1.0,\"#f0f921\"]]}],\"surface\":[{\"type\":\"surface\",\"colorbar\":{\"outlinewidth\":0,\"ticks\":\"\"},\"colorscale\":[[0.0,\"#0d0887\"],[0.1111111111111111,\"#46039f\"],[0.2222222222222222,\"#7201a8\"],[0.3333333333333333,\"#9c179e\"],[0.4444444444444444,\"#bd3786\"],[0.5555555555555556,\"#d8576b\"],[0.6666666666666666,\"#ed7953\"],[0.7777777777777778,\"#fb9f3a\"],[0.8888888888888888,\"#fdca26\"],[1.0,\"#f0f921\"]]}],\"mesh3d\":[{\"type\":\"mesh3d\",\"colorbar\":{\"outlinewidth\":0,\"ticks\":\"\"}}],\"scatter\":[{\"fillpattern\":{\"fillmode\":\"overlay\",\"size\":10,\"solidity\":0.2},\"type\":\"scatter\"}],\"parcoords\":[{\"type\":\"parcoords\",\"line\":{\"colorbar\":{\"outlinewidth\":0,\"ticks\":\"\"}}}],\"scatterpolargl\":[{\"type\":\"scatterpolargl\",\"marker\":{\"colorbar\":{\"outlinewidth\":0,\"ticks\":\"\"}}}],\"bar\":[{\"error_x\":{\"color\":\"#2a3f5f\"},\"error_y\":{\"color\":\"#2a3f5f\"},\"marker\":{\"line\":{\"color\":\"#E5ECF6\",\"width\":0.5},\"pattern\":{\"fillmode\":\"overlay\",\"size\":10,\"solidity\":0.2}},\"type\":\"bar\"}],\"scattergeo\":[{\"type\":\"scattergeo\",\"marker\":{\"colorbar\":{\"outlinewidth\":0,\"ticks\":\"\"}}}],\"scatterpolar\":[{\"type\":\"scatterpolar\",\"marker\":{\"colorbar\":{\"outlinewidth\":0,\"ticks\":\"\"}}}],\"histogram\":[{\"marker\":{\"pattern\":{\"fillmode\":\"overlay\",\"size\":10,\"solidity\":0.2}},\"type\":\"histogram\"}],\"scattergl\":[{\"type\":\"scattergl\",\"marker\":{\"colorbar\":{\"outlinewidth\":0,\"ticks\":\"\"}}}],\"scatter3d\":[{\"type\":\"scatter3d\",\"line\":{\"colorbar\":{\"outlinewidth\":0,\"ticks\":\"\"}},\"marker\":{\"colorbar\":{\"outlinewidth\":0,\"ticks\":\"\"}}}],\"scattermapbox\":[{\"type\":\"scattermapbox\",\"marker\":{\"colorbar\":{\"outlinewidth\":0,\"ticks\":\"\"}}}],\"scatterternary\":[{\"type\":\"scatterternary\",\"marker\":{\"colorbar\":{\"outlinewidth\":0,\"ticks\":\"\"}}}],\"scattercarpet\":[{\"type\":\"scattercarpet\",\"marker\":{\"colorbar\":{\"outlinewidth\":0,\"ticks\":\"\"}}}],\"carpet\":[{\"aaxis\":{\"endlinecolor\":\"#2a3f5f\",\"gridcolor\":\"white\",\"linecolor\":\"white\",\"minorgridcolor\":\"white\",\"startlinecolor\":\"#2a3f5f\"},\"baxis\":{\"endlinecolor\":\"#2a3f5f\",\"gridcolor\":\"white\",\"linecolor\":\"white\",\"minorgridcolor\":\"white\",\"startlinecolor\":\"#2a3f5f\"},\"type\":\"carpet\"}],\"table\":[{\"cells\":{\"fill\":{\"color\":\"#EBF0F8\"},\"line\":{\"color\":\"white\"}},\"header\":{\"fill\":{\"color\":\"#C8D4E3\"},\"line\":{\"color\":\"white\"}},\"type\":\"table\"}],\"barpolar\":[{\"marker\":{\"line\":{\"color\":\"#E5ECF6\",\"width\":0.5},\"pattern\":{\"fillmode\":\"overlay\",\"size\":10,\"solidity\":0.2}},\"type\":\"barpolar\"}],\"pie\":[{\"automargin\":true,\"type\":\"pie\"}]},\"layout\":{\"autotypenumbers\":\"strict\",\"colorway\":[\"#636efa\",\"#EF553B\",\"#00cc96\",\"#ab63fa\",\"#FFA15A\",\"#19d3f3\",\"#FF6692\",\"#B6E880\",\"#FF97FF\",\"#FECB52\"],\"font\":{\"color\":\"#2a3f5f\"},\"hovermode\":\"closest\",\"hoverlabel\":{\"align\":\"left\"},\"paper_bgcolor\":\"white\",\"plot_bgcolor\":\"#E5ECF6\",\"polar\":{\"bgcolor\":\"#E5ECF6\",\"angularaxis\":{\"gridcolor\":\"white\",\"linecolor\":\"white\",\"ticks\":\"\"},\"radialaxis\":{\"gridcolor\":\"white\",\"linecolor\":\"white\",\"ticks\":\"\"}},\"ternary\":{\"bgcolor\":\"#E5ECF6\",\"aaxis\":{\"gridcolor\":\"white\",\"linecolor\":\"white\",\"ticks\":\"\"},\"baxis\":{\"gridcolor\":\"white\",\"linecolor\":\"white\",\"ticks\":\"\"},\"caxis\":{\"gridcolor\":\"white\",\"linecolor\":\"white\",\"ticks\":\"\"}},\"coloraxis\":{\"colorbar\":{\"outlinewidth\":0,\"ticks\":\"\"}},\"colorscale\":{\"sequential\":[[0.0,\"#0d0887\"],[0.1111111111111111,\"#46039f\"],[0.2222222222222222,\"#7201a8\"],[0.3333333333333333,\"#9c179e\"],[0.4444444444444444,\"#bd3786\"],[0.5555555555555556,\"#d8576b\"],[0.6666666666666666,\"#ed7953\"],[0.7777777777777778,\"#fb9f3a\"],[0.8888888888888888,\"#fdca26\"],[1.0,\"#f0f921\"]],\"sequentialminus\":[[0.0,\"#0d0887\"],[0.1111111111111111,\"#46039f\"],[0.2222222222222222,\"#7201a8\"],[0.3333333333333333,\"#9c179e\"],[0.4444444444444444,\"#bd3786\"],[0.5555555555555556,\"#d8576b\"],[0.6666666666666666,\"#ed7953\"],[0.7777777777777778,\"#fb9f3a\"],[0.8888888888888888,\"#fdca26\"],[1.0,\"#f0f921\"]],\"diverging\":[[0,\"#8e0152\"],[0.1,\"#c51b7d\"],[0.2,\"#de77ae\"],[0.3,\"#f1b6da\"],[0.4,\"#fde0ef\"],[0.5,\"#f7f7f7\"],[0.6,\"#e6f5d0\"],[0.7,\"#b8e186\"],[0.8,\"#7fbc41\"],[0.9,\"#4d9221\"],[1,\"#276419\"]]},\"xaxis\":{\"gridcolor\":\"white\",\"linecolor\":\"white\",\"ticks\":\"\",\"title\":{\"standoff\":15},\"zerolinecolor\":\"white\",\"automargin\":true,\"zerolinewidth\":2},\"yaxis\":{\"gridcolor\":\"white\",\"linecolor\":\"white\",\"ticks\":\"\",\"title\":{\"standoff\":15},\"zerolinecolor\":\"white\",\"automargin\":true,\"zerolinewidth\":2},\"scene\":{\"xaxis\":{\"backgroundcolor\":\"#E5ECF6\",\"gridcolor\":\"white\",\"linecolor\":\"white\",\"showbackground\":true,\"ticks\":\"\",\"zerolinecolor\":\"white\",\"gridwidth\":2},\"yaxis\":{\"backgroundcolor\":\"#E5ECF6\",\"gridcolor\":\"white\",\"linecolor\":\"white\",\"showbackground\":true,\"ticks\":\"\",\"zerolinecolor\":\"white\",\"gridwidth\":2},\"zaxis\":{\"backgroundcolor\":\"#E5ECF6\",\"gridcolor\":\"white\",\"linecolor\":\"white\",\"showbackground\":true,\"ticks\":\"\",\"zerolinecolor\":\"white\",\"gridwidth\":2}},\"shapedefaults\":{\"line\":{\"color\":\"#2a3f5f\"}},\"annotationdefaults\":{\"arrowcolor\":\"#2a3f5f\",\"arrowhead\":0,\"arrowwidth\":1},\"geo\":{\"bgcolor\":\"white\",\"landcolor\":\"#E5ECF6\",\"subunitcolor\":\"white\",\"showland\":true,\"showlakes\":true,\"lakecolor\":\"white\"},\"title\":{\"x\":0.05},\"mapbox\":{\"style\":\"light\"}}},\"xaxis\":{\"anchor\":\"y\",\"domain\":[0.0,0.49],\"title\":{\"text\":\"Job Satisfaction\"},\"categoryorder\":\"array\",\"categoryarray\":[\"Poor\",\"Neutral\",\"Good\",\"Excellent\"]},\"yaxis\":{\"anchor\":\"x\",\"domain\":[0.0,1.0],\"title\":{\"text\":\"Percent\"},\"ticksuffix\":\"%\"},\"xaxis2\":{\"anchor\":\"y2\",\"domain\":[0.51,1.0],\"matches\":\"x\",\"title\":{\"text\":\"JobSatisfaction\"},\"categoryorder\":\"array\",\"categoryarray\":[\"Poor\",\"Neutral\",\"Good\",\"Excellent\"]},\"yaxis2\":{\"anchor\":\"x2\",\"domain\":[0.0,1.0],\"matches\":\"y\",\"showticklabels\":false},\"annotations\":[{\"font\":{},\"showarrow\":false,\"text\":\"Attrition=Yes\",\"x\":0.245,\"xanchor\":\"center\",\"xref\":\"paper\",\"y\":1.0,\"yanchor\":\"bottom\",\"yref\":\"paper\"},{\"font\":{},\"showarrow\":false,\"text\":\"Attrition=No\",\"x\":0.755,\"xanchor\":\"center\",\"xref\":\"paper\",\"y\":1.0,\"yanchor\":\"bottom\",\"yref\":\"paper\"}],\"legend\":{\"title\":{\"text\":\"JobSatisfaction\"},\"tracegroupgap\":0},\"margin\":{\"t\":60},\"barmode\":\"relative\",\"title\":{\"text\":\"Attrition Rates by Job Satisfaction\"},\"height\":600},                        {\"responsive\": true}                    ).then(function(){\n",
       "                            \n",
       "var gd = document.getElementById('58dca595-c8bd-446e-98d5-07cd0c694ac6');\n",
       "var x = new MutationObserver(function (mutations, observer) {{\n",
       "        var display = window.getComputedStyle(gd).display;\n",
       "        if (!display || display === 'none') {{\n",
       "            console.log([gd, 'removed!']);\n",
       "            Plotly.purge(gd);\n",
       "            observer.disconnect();\n",
       "        }}\n",
       "}});\n",
       "\n",
       "// Listen for the removal of the full notebook cells\n",
       "var notebookContainer = gd.closest('#notebook-container');\n",
       "if (notebookContainer) {{\n",
       "    x.observe(notebookContainer, {childList: true});\n",
       "}}\n",
       "\n",
       "// Listen for the clearing of the current output cell\n",
       "var outputEl = gd.closest('.output');\n",
       "if (outputEl) {{\n",
       "    x.observe(outputEl, {childList: true});\n",
       "}}\n",
       "\n",
       "                        })                };                });            </script>        </div>"
      ]
     },
     "metadata": {},
     "output_type": "display_data"
    }
   ],
   "source": [
    "import plotly.express as px\n",
    "import pandas as pd\n",
    "\n",
    "# Grouping and percentage calculation\n",
    "plot_df = (\n",
    "    data.groupby(['Attrition'])['JobSatisfaction']\n",
    "    .value_counts(normalize=True)\n",
    "    .mul(100)\n",
    "    .rename('Percent')\n",
    "    .reset_index()\n",
    "    .sort_values('JobSatisfaction')\n",
    ")\n",
    "\n",
    "# Rename Job Satisfaction categories\n",
    "plot_df['JobSatisfaction'] = plot_df['JobSatisfaction'].map({\n",
    "    1: 'Poor', 2: 'Neutral', 3: 'Good', 4: 'Excellent'\n",
    "})\n",
    "\n",
    "# Custom colors for satisfaction levels\n",
    "color_map = {\n",
    "    'Poor': '#E74C3C',       # Red\n",
    "    'Neutral': '#F1C40F',    # Yellow\n",
    "    'Good': '#2ECC71',       # Green\n",
    "    'Excellent': '#3498DB'   # Blue\n",
    "}\n",
    "\n",
    "# Bar plot with colors\n",
    "fig = px.bar(plot_df,\n",
    "             x=\"JobSatisfaction\", y=\"Percent\",\n",
    "             text=\"Percent\",\n",
    "             color=\"JobSatisfaction\",\n",
    "             facet_col=\"Attrition\",\n",
    "             category_orders={\"Attrition\": [\"Yes\", \"No\"]},\n",
    "             color_discrete_map=color_map)\n",
    "\n",
    "# Add percentage labels\n",
    "fig.update_traces(texttemplate='%{text:.1f}%', textposition='outside')\n",
    "\n",
    "# Layout\n",
    "fig.update_layout(title=\"Attrition Rates by Job Satisfaction\",\n",
    "                  yaxis_ticksuffix=\"%\",\n",
    "                  xaxis_title=\"Job Satisfaction\",\n",
    "                  height=600)\n",
    "\n",
    "fig.show()\n"
   ]
  },
  {
   "cell_type": "markdown",
   "metadata": {},
   "source": [
    "Among employees who left, the majority were satisfied in their job with 53% rating their job satisfaction as Good or Excellent, while 28% were the least satisfied in their job."
   ]
  },
  {
   "cell_type": "code",
   "execution_count": 90,
   "metadata": {
    "_kg_hide-input": true
   },
   "outputs": [
    {
     "data": {
      "application/vnd.plotly.v1+json": {
       "config": {
        "plotlyServerURL": "https://plot.ly"
       },
       "data": [
        {
         "alignmentgroup": "True",
         "hovertemplate": "Gender=Female<br>Department=%{x}<br>Salary=%{text}<extra></extra>",
         "legendgroup": "Female",
         "marker": {
          "color": "#214D5C",
          "opacity": 0.75,
          "pattern": {
           "shape": ""
          }
         },
         "name": "Female",
         "offsetgroup": "Female",
         "orientation": "v",
         "showlegend": true,
         "text": [
          87168,
          83665.52380952382,
          78164.29551451188
         ],
         "textposition": "outside",
         "texttemplate": "$%{text:,.0f}",
         "type": "bar",
         "x": [
          "Human Resources",
          "Sales",
          "Research & Development"
         ],
         "xaxis": "x",
         "y": [
          87168,
          83665.52380952382,
          78164.29551451188
         ],
         "yaxis": "y"
        },
        {
         "alignmentgroup": "True",
         "hovertemplate": "Gender=Male<br>Department=%{x}<br>Salary=%{text}<extra></extra>",
         "legendgroup": "Male",
         "marker": {
          "color": "#ACBCC2",
          "opacity": 0.75,
          "pattern": {
           "shape": ""
          }
         },
         "name": "Male",
         "offsetgroup": "Male",
         "orientation": "v",
         "showlegend": true,
         "text": [
          83395.75097276265,
          76452.27906976744,
          73558.65979381444
         ],
         "textposition": "outside",
         "texttemplate": "$%{text:,.0f}",
         "type": "bar",
         "x": [
          "Sales",
          "Human Resources",
          "Research & Development"
         ],
         "xaxis": "x",
         "y": [
          83395.75097276265,
          76452.27906976744,
          73558.65979381444
         ],
         "yaxis": "y"
        }
       ],
       "layout": {
        "autosize": true,
        "barmode": "group",
        "font": {
         "color": "#28221D"
        },
        "legend": {
         "title": {
          "text": "Gender"
         },
         "tracegroupgap": 0
        },
        "margin": {
         "t": 60
        },
        "paper_bgcolor": "#F4F2F0",
        "plot_bgcolor": "#F4F2F0",
        "template": {
         "data": {
          "bar": [
           {
            "error_x": {
             "color": "#2a3f5f"
            },
            "error_y": {
             "color": "#2a3f5f"
            },
            "marker": {
             "line": {
              "color": "#E5ECF6",
              "width": 0.5
             },
             "pattern": {
              "fillmode": "overlay",
              "size": 10,
              "solidity": 0.2
             }
            },
            "type": "bar"
           }
          ],
          "barpolar": [
           {
            "marker": {
             "line": {
              "color": "#E5ECF6",
              "width": 0.5
             },
             "pattern": {
              "fillmode": "overlay",
              "size": 10,
              "solidity": 0.2
             }
            },
            "type": "barpolar"
           }
          ],
          "carpet": [
           {
            "aaxis": {
             "endlinecolor": "#2a3f5f",
             "gridcolor": "white",
             "linecolor": "white",
             "minorgridcolor": "white",
             "startlinecolor": "#2a3f5f"
            },
            "baxis": {
             "endlinecolor": "#2a3f5f",
             "gridcolor": "white",
             "linecolor": "white",
             "minorgridcolor": "white",
             "startlinecolor": "#2a3f5f"
            },
            "type": "carpet"
           }
          ],
          "choropleth": [
           {
            "colorbar": {
             "outlinewidth": 0,
             "ticks": ""
            },
            "type": "choropleth"
           }
          ],
          "contour": [
           {
            "colorbar": {
             "outlinewidth": 0,
             "ticks": ""
            },
            "colorscale": [
             [
              0,
              "#0d0887"
             ],
             [
              0.1111111111111111,
              "#46039f"
             ],
             [
              0.2222222222222222,
              "#7201a8"
             ],
             [
              0.3333333333333333,
              "#9c179e"
             ],
             [
              0.4444444444444444,
              "#bd3786"
             ],
             [
              0.5555555555555556,
              "#d8576b"
             ],
             [
              0.6666666666666666,
              "#ed7953"
             ],
             [
              0.7777777777777778,
              "#fb9f3a"
             ],
             [
              0.8888888888888888,
              "#fdca26"
             ],
             [
              1,
              "#f0f921"
             ]
            ],
            "type": "contour"
           }
          ],
          "contourcarpet": [
           {
            "colorbar": {
             "outlinewidth": 0,
             "ticks": ""
            },
            "type": "contourcarpet"
           }
          ],
          "heatmap": [
           {
            "colorbar": {
             "outlinewidth": 0,
             "ticks": ""
            },
            "colorscale": [
             [
              0,
              "#0d0887"
             ],
             [
              0.1111111111111111,
              "#46039f"
             ],
             [
              0.2222222222222222,
              "#7201a8"
             ],
             [
              0.3333333333333333,
              "#9c179e"
             ],
             [
              0.4444444444444444,
              "#bd3786"
             ],
             [
              0.5555555555555556,
              "#d8576b"
             ],
             [
              0.6666666666666666,
              "#ed7953"
             ],
             [
              0.7777777777777778,
              "#fb9f3a"
             ],
             [
              0.8888888888888888,
              "#fdca26"
             ],
             [
              1,
              "#f0f921"
             ]
            ],
            "type": "heatmap"
           }
          ],
          "heatmapgl": [
           {
            "colorbar": {
             "outlinewidth": 0,
             "ticks": ""
            },
            "colorscale": [
             [
              0,
              "#0d0887"
             ],
             [
              0.1111111111111111,
              "#46039f"
             ],
             [
              0.2222222222222222,
              "#7201a8"
             ],
             [
              0.3333333333333333,
              "#9c179e"
             ],
             [
              0.4444444444444444,
              "#bd3786"
             ],
             [
              0.5555555555555556,
              "#d8576b"
             ],
             [
              0.6666666666666666,
              "#ed7953"
             ],
             [
              0.7777777777777778,
              "#fb9f3a"
             ],
             [
              0.8888888888888888,
              "#fdca26"
             ],
             [
              1,
              "#f0f921"
             ]
            ],
            "type": "heatmapgl"
           }
          ],
          "histogram": [
           {
            "marker": {
             "pattern": {
              "fillmode": "overlay",
              "size": 10,
              "solidity": 0.2
             }
            },
            "type": "histogram"
           }
          ],
          "histogram2d": [
           {
            "colorbar": {
             "outlinewidth": 0,
             "ticks": ""
            },
            "colorscale": [
             [
              0,
              "#0d0887"
             ],
             [
              0.1111111111111111,
              "#46039f"
             ],
             [
              0.2222222222222222,
              "#7201a8"
             ],
             [
              0.3333333333333333,
              "#9c179e"
             ],
             [
              0.4444444444444444,
              "#bd3786"
             ],
             [
              0.5555555555555556,
              "#d8576b"
             ],
             [
              0.6666666666666666,
              "#ed7953"
             ],
             [
              0.7777777777777778,
              "#fb9f3a"
             ],
             [
              0.8888888888888888,
              "#fdca26"
             ],
             [
              1,
              "#f0f921"
             ]
            ],
            "type": "histogram2d"
           }
          ],
          "histogram2dcontour": [
           {
            "colorbar": {
             "outlinewidth": 0,
             "ticks": ""
            },
            "colorscale": [
             [
              0,
              "#0d0887"
             ],
             [
              0.1111111111111111,
              "#46039f"
             ],
             [
              0.2222222222222222,
              "#7201a8"
             ],
             [
              0.3333333333333333,
              "#9c179e"
             ],
             [
              0.4444444444444444,
              "#bd3786"
             ],
             [
              0.5555555555555556,
              "#d8576b"
             ],
             [
              0.6666666666666666,
              "#ed7953"
             ],
             [
              0.7777777777777778,
              "#fb9f3a"
             ],
             [
              0.8888888888888888,
              "#fdca26"
             ],
             [
              1,
              "#f0f921"
             ]
            ],
            "type": "histogram2dcontour"
           }
          ],
          "mesh3d": [
           {
            "colorbar": {
             "outlinewidth": 0,
             "ticks": ""
            },
            "type": "mesh3d"
           }
          ],
          "parcoords": [
           {
            "line": {
             "colorbar": {
              "outlinewidth": 0,
              "ticks": ""
             }
            },
            "type": "parcoords"
           }
          ],
          "pie": [
           {
            "automargin": true,
            "type": "pie"
           }
          ],
          "scatter": [
           {
            "fillpattern": {
             "fillmode": "overlay",
             "size": 10,
             "solidity": 0.2
            },
            "type": "scatter"
           }
          ],
          "scatter3d": [
           {
            "line": {
             "colorbar": {
              "outlinewidth": 0,
              "ticks": ""
             }
            },
            "marker": {
             "colorbar": {
              "outlinewidth": 0,
              "ticks": ""
             }
            },
            "type": "scatter3d"
           }
          ],
          "scattercarpet": [
           {
            "marker": {
             "colorbar": {
              "outlinewidth": 0,
              "ticks": ""
             }
            },
            "type": "scattercarpet"
           }
          ],
          "scattergeo": [
           {
            "marker": {
             "colorbar": {
              "outlinewidth": 0,
              "ticks": ""
             }
            },
            "type": "scattergeo"
           }
          ],
          "scattergl": [
           {
            "marker": {
             "colorbar": {
              "outlinewidth": 0,
              "ticks": ""
             }
            },
            "type": "scattergl"
           }
          ],
          "scattermapbox": [
           {
            "marker": {
             "colorbar": {
              "outlinewidth": 0,
              "ticks": ""
             }
            },
            "type": "scattermapbox"
           }
          ],
          "scatterpolar": [
           {
            "marker": {
             "colorbar": {
              "outlinewidth": 0,
              "ticks": ""
             }
            },
            "type": "scatterpolar"
           }
          ],
          "scatterpolargl": [
           {
            "marker": {
             "colorbar": {
              "outlinewidth": 0,
              "ticks": ""
             }
            },
            "type": "scatterpolargl"
           }
          ],
          "scatterternary": [
           {
            "marker": {
             "colorbar": {
              "outlinewidth": 0,
              "ticks": ""
             }
            },
            "type": "scatterternary"
           }
          ],
          "surface": [
           {
            "colorbar": {
             "outlinewidth": 0,
             "ticks": ""
            },
            "colorscale": [
             [
              0,
              "#0d0887"
             ],
             [
              0.1111111111111111,
              "#46039f"
             ],
             [
              0.2222222222222222,
              "#7201a8"
             ],
             [
              0.3333333333333333,
              "#9c179e"
             ],
             [
              0.4444444444444444,
              "#bd3786"
             ],
             [
              0.5555555555555556,
              "#d8576b"
             ],
             [
              0.6666666666666666,
              "#ed7953"
             ],
             [
              0.7777777777777778,
              "#fb9f3a"
             ],
             [
              0.8888888888888888,
              "#fdca26"
             ],
             [
              1,
              "#f0f921"
             ]
            ],
            "type": "surface"
           }
          ],
          "table": [
           {
            "cells": {
             "fill": {
              "color": "#EBF0F8"
             },
             "line": {
              "color": "white"
             }
            },
            "header": {
             "fill": {
              "color": "#C8D4E3"
             },
             "line": {
              "color": "white"
             }
            },
            "type": "table"
           }
          ]
         },
         "layout": {
          "annotationdefaults": {
           "arrowcolor": "#2a3f5f",
           "arrowhead": 0,
           "arrowwidth": 1
          },
          "autotypenumbers": "strict",
          "coloraxis": {
           "colorbar": {
            "outlinewidth": 0,
            "ticks": ""
           }
          },
          "colorscale": {
           "diverging": [
            [
             0,
             "#8e0152"
            ],
            [
             0.1,
             "#c51b7d"
            ],
            [
             0.2,
             "#de77ae"
            ],
            [
             0.3,
             "#f1b6da"
            ],
            [
             0.4,
             "#fde0ef"
            ],
            [
             0.5,
             "#f7f7f7"
            ],
            [
             0.6,
             "#e6f5d0"
            ],
            [
             0.7,
             "#b8e186"
            ],
            [
             0.8,
             "#7fbc41"
            ],
            [
             0.9,
             "#4d9221"
            ],
            [
             1,
             "#276419"
            ]
           ],
           "sequential": [
            [
             0,
             "#0d0887"
            ],
            [
             0.1111111111111111,
             "#46039f"
            ],
            [
             0.2222222222222222,
             "#7201a8"
            ],
            [
             0.3333333333333333,
             "#9c179e"
            ],
            [
             0.4444444444444444,
             "#bd3786"
            ],
            [
             0.5555555555555556,
             "#d8576b"
            ],
            [
             0.6666666666666666,
             "#ed7953"
            ],
            [
             0.7777777777777778,
             "#fb9f3a"
            ],
            [
             0.8888888888888888,
             "#fdca26"
            ],
            [
             1,
             "#f0f921"
            ]
           ],
           "sequentialminus": [
            [
             0,
             "#0d0887"
            ],
            [
             0.1111111111111111,
             "#46039f"
            ],
            [
             0.2222222222222222,
             "#7201a8"
            ],
            [
             0.3333333333333333,
             "#9c179e"
            ],
            [
             0.4444444444444444,
             "#bd3786"
            ],
            [
             0.5555555555555556,
             "#d8576b"
            ],
            [
             0.6666666666666666,
             "#ed7953"
            ],
            [
             0.7777777777777778,
             "#fb9f3a"
            ],
            [
             0.8888888888888888,
             "#fdca26"
            ],
            [
             1,
             "#f0f921"
            ]
           ]
          },
          "colorway": [
           "#636efa",
           "#EF553B",
           "#00cc96",
           "#ab63fa",
           "#FFA15A",
           "#19d3f3",
           "#FF6692",
           "#B6E880",
           "#FF97FF",
           "#FECB52"
          ],
          "font": {
           "color": "#2a3f5f"
          },
          "geo": {
           "bgcolor": "white",
           "lakecolor": "white",
           "landcolor": "#E5ECF6",
           "showlakes": true,
           "showland": true,
           "subunitcolor": "white"
          },
          "hoverlabel": {
           "align": "left"
          },
          "hovermode": "closest",
          "mapbox": {
           "style": "light"
          },
          "paper_bgcolor": "white",
          "plot_bgcolor": "#E5ECF6",
          "polar": {
           "angularaxis": {
            "gridcolor": "white",
            "linecolor": "white",
            "ticks": ""
           },
           "bgcolor": "#E5ECF6",
           "radialaxis": {
            "gridcolor": "white",
            "linecolor": "white",
            "ticks": ""
           }
          },
          "scene": {
           "xaxis": {
            "backgroundcolor": "#E5ECF6",
            "gridcolor": "white",
            "gridwidth": 2,
            "linecolor": "white",
            "showbackground": true,
            "ticks": "",
            "zerolinecolor": "white"
           },
           "yaxis": {
            "backgroundcolor": "#E5ECF6",
            "gridcolor": "white",
            "gridwidth": 2,
            "linecolor": "white",
            "showbackground": true,
            "ticks": "",
            "zerolinecolor": "white"
           },
           "zaxis": {
            "backgroundcolor": "#E5ECF6",
            "gridcolor": "white",
            "gridwidth": 2,
            "linecolor": "white",
            "showbackground": true,
            "ticks": "",
            "zerolinecolor": "white"
           }
          },
          "shapedefaults": {
           "line": {
            "color": "#2a3f5f"
           }
          },
          "ternary": {
           "aaxis": {
            "gridcolor": "white",
            "linecolor": "white",
            "ticks": ""
           },
           "baxis": {
            "gridcolor": "white",
            "linecolor": "white",
            "ticks": ""
           },
           "bgcolor": "#E5ECF6",
           "caxis": {
            "gridcolor": "white",
            "linecolor": "white",
            "ticks": ""
           }
          },
          "title": {
           "x": 0.05
          },
          "xaxis": {
           "automargin": true,
           "gridcolor": "white",
           "linecolor": "white",
           "ticks": "",
           "title": {
            "standoff": 15
           },
           "zerolinecolor": "white",
           "zerolinewidth": 2
          },
          "yaxis": {
           "automargin": true,
           "gridcolor": "white",
           "linecolor": "white",
           "ticks": "",
           "title": {
            "standoff": 15
           },
           "zerolinecolor": "white",
           "zerolinewidth": 2
          }
         }
        },
        "title": {
         "text": "Average Salaries by Department & Gender"
        },
        "xaxis": {
         "anchor": "y",
         "autorange": true,
         "domain": [
          0,
          1
         ],
         "range": [
          -0.5,
          2.5
         ],
         "title": {
          "text": "Department"
         },
         "type": "category"
        },
        "yaxis": {
         "anchor": "x",
         "autorange": true,
         "domain": [
          0,
          1
         ],
         "range": [
          0,
          91755.78947368421
         ],
         "tickprefix": "$",
         "title": {
          "text": "Salary"
         },
         "type": "linear",
         "zeroline": true,
         "zerolinecolor": "#28221D",
         "zerolinewidth": 1
        }
       }
      },
      "text/html": [
       "<div>                            <div id=\"18f1aa79-458a-4e24-a60c-a0567fb0395f\" class=\"plotly-graph-div\" style=\"height:525px; width:100%;\"></div>            <script type=\"text/javascript\">                require([\"plotly\"], function(Plotly) {                    window.PLOTLYENV=window.PLOTLYENV || {};                                    if (document.getElementById(\"18f1aa79-458a-4e24-a60c-a0567fb0395f\")) {                    Plotly.newPlot(                        \"18f1aa79-458a-4e24-a60c-a0567fb0395f\",                        [{\"alignmentgroup\":\"True\",\"hovertemplate\":\"Gender=Female\\u003cbr\\u003eDepartment=%{x}\\u003cbr\\u003eSalary=%{text}\\u003cextra\\u003e\\u003c\\u002fextra\\u003e\",\"legendgroup\":\"Female\",\"marker\":{\"color\":\"#214D5C\",\"opacity\":0.75,\"pattern\":{\"shape\":\"\"}},\"name\":\"Female\",\"offsetgroup\":\"Female\",\"orientation\":\"v\",\"showlegend\":true,\"text\":[87168.0,83665.52380952382,78164.29551451188],\"textposition\":\"outside\",\"x\":[\"Human Resources\",\"Sales\",\"Research & Development\"],\"xaxis\":\"x\",\"y\":[87168.0,83665.52380952382,78164.29551451188],\"yaxis\":\"y\",\"type\":\"bar\",\"texttemplate\":\"$%{text:,.0f}\"},{\"alignmentgroup\":\"True\",\"hovertemplate\":\"Gender=Male\\u003cbr\\u003eDepartment=%{x}\\u003cbr\\u003eSalary=%{text}\\u003cextra\\u003e\\u003c\\u002fextra\\u003e\",\"legendgroup\":\"Male\",\"marker\":{\"color\":\"#ACBCC2\",\"opacity\":0.75,\"pattern\":{\"shape\":\"\"}},\"name\":\"Male\",\"offsetgroup\":\"Male\",\"orientation\":\"v\",\"showlegend\":true,\"text\":[83395.75097276265,76452.27906976744,73558.65979381444],\"textposition\":\"outside\",\"x\":[\"Sales\",\"Human Resources\",\"Research & Development\"],\"xaxis\":\"x\",\"y\":[83395.75097276265,76452.27906976744,73558.65979381444],\"yaxis\":\"y\",\"type\":\"bar\",\"texttemplate\":\"$%{text:,.0f}\"}],                        {\"template\":{\"data\":{\"histogram2dcontour\":[{\"type\":\"histogram2dcontour\",\"colorbar\":{\"outlinewidth\":0,\"ticks\":\"\"},\"colorscale\":[[0.0,\"#0d0887\"],[0.1111111111111111,\"#46039f\"],[0.2222222222222222,\"#7201a8\"],[0.3333333333333333,\"#9c179e\"],[0.4444444444444444,\"#bd3786\"],[0.5555555555555556,\"#d8576b\"],[0.6666666666666666,\"#ed7953\"],[0.7777777777777778,\"#fb9f3a\"],[0.8888888888888888,\"#fdca26\"],[1.0,\"#f0f921\"]]}],\"choropleth\":[{\"type\":\"choropleth\",\"colorbar\":{\"outlinewidth\":0,\"ticks\":\"\"}}],\"histogram2d\":[{\"type\":\"histogram2d\",\"colorbar\":{\"outlinewidth\":0,\"ticks\":\"\"},\"colorscale\":[[0.0,\"#0d0887\"],[0.1111111111111111,\"#46039f\"],[0.2222222222222222,\"#7201a8\"],[0.3333333333333333,\"#9c179e\"],[0.4444444444444444,\"#bd3786\"],[0.5555555555555556,\"#d8576b\"],[0.6666666666666666,\"#ed7953\"],[0.7777777777777778,\"#fb9f3a\"],[0.8888888888888888,\"#fdca26\"],[1.0,\"#f0f921\"]]}],\"heatmap\":[{\"type\":\"heatmap\",\"colorbar\":{\"outlinewidth\":0,\"ticks\":\"\"},\"colorscale\":[[0.0,\"#0d0887\"],[0.1111111111111111,\"#46039f\"],[0.2222222222222222,\"#7201a8\"],[0.3333333333333333,\"#9c179e\"],[0.4444444444444444,\"#bd3786\"],[0.5555555555555556,\"#d8576b\"],[0.6666666666666666,\"#ed7953\"],[0.7777777777777778,\"#fb9f3a\"],[0.8888888888888888,\"#fdca26\"],[1.0,\"#f0f921\"]]}],\"heatmapgl\":[{\"type\":\"heatmapgl\",\"colorbar\":{\"outlinewidth\":0,\"ticks\":\"\"},\"colorscale\":[[0.0,\"#0d0887\"],[0.1111111111111111,\"#46039f\"],[0.2222222222222222,\"#7201a8\"],[0.3333333333333333,\"#9c179e\"],[0.4444444444444444,\"#bd3786\"],[0.5555555555555556,\"#d8576b\"],[0.6666666666666666,\"#ed7953\"],[0.7777777777777778,\"#fb9f3a\"],[0.8888888888888888,\"#fdca26\"],[1.0,\"#f0f921\"]]}],\"contourcarpet\":[{\"type\":\"contourcarpet\",\"colorbar\":{\"outlinewidth\":0,\"ticks\":\"\"}}],\"contour\":[{\"type\":\"contour\",\"colorbar\":{\"outlinewidth\":0,\"ticks\":\"\"},\"colorscale\":[[0.0,\"#0d0887\"],[0.1111111111111111,\"#46039f\"],[0.2222222222222222,\"#7201a8\"],[0.3333333333333333,\"#9c179e\"],[0.4444444444444444,\"#bd3786\"],[0.5555555555555556,\"#d8576b\"],[0.6666666666666666,\"#ed7953\"],[0.7777777777777778,\"#fb9f3a\"],[0.8888888888888888,\"#fdca26\"],[1.0,\"#f0f921\"]]}],\"surface\":[{\"type\":\"surface\",\"colorbar\":{\"outlinewidth\":0,\"ticks\":\"\"},\"colorscale\":[[0.0,\"#0d0887\"],[0.1111111111111111,\"#46039f\"],[0.2222222222222222,\"#7201a8\"],[0.3333333333333333,\"#9c179e\"],[0.4444444444444444,\"#bd3786\"],[0.5555555555555556,\"#d8576b\"],[0.6666666666666666,\"#ed7953\"],[0.7777777777777778,\"#fb9f3a\"],[0.8888888888888888,\"#fdca26\"],[1.0,\"#f0f921\"]]}],\"mesh3d\":[{\"type\":\"mesh3d\",\"colorbar\":{\"outlinewidth\":0,\"ticks\":\"\"}}],\"scatter\":[{\"fillpattern\":{\"fillmode\":\"overlay\",\"size\":10,\"solidity\":0.2},\"type\":\"scatter\"}],\"parcoords\":[{\"type\":\"parcoords\",\"line\":{\"colorbar\":{\"outlinewidth\":0,\"ticks\":\"\"}}}],\"scatterpolargl\":[{\"type\":\"scatterpolargl\",\"marker\":{\"colorbar\":{\"outlinewidth\":0,\"ticks\":\"\"}}}],\"bar\":[{\"error_x\":{\"color\":\"#2a3f5f\"},\"error_y\":{\"color\":\"#2a3f5f\"},\"marker\":{\"line\":{\"color\":\"#E5ECF6\",\"width\":0.5},\"pattern\":{\"fillmode\":\"overlay\",\"size\":10,\"solidity\":0.2}},\"type\":\"bar\"}],\"scattergeo\":[{\"type\":\"scattergeo\",\"marker\":{\"colorbar\":{\"outlinewidth\":0,\"ticks\":\"\"}}}],\"scatterpolar\":[{\"type\":\"scatterpolar\",\"marker\":{\"colorbar\":{\"outlinewidth\":0,\"ticks\":\"\"}}}],\"histogram\":[{\"marker\":{\"pattern\":{\"fillmode\":\"overlay\",\"size\":10,\"solidity\":0.2}},\"type\":\"histogram\"}],\"scattergl\":[{\"type\":\"scattergl\",\"marker\":{\"colorbar\":{\"outlinewidth\":0,\"ticks\":\"\"}}}],\"scatter3d\":[{\"type\":\"scatter3d\",\"line\":{\"colorbar\":{\"outlinewidth\":0,\"ticks\":\"\"}},\"marker\":{\"colorbar\":{\"outlinewidth\":0,\"ticks\":\"\"}}}],\"scattermapbox\":[{\"type\":\"scattermapbox\",\"marker\":{\"colorbar\":{\"outlinewidth\":0,\"ticks\":\"\"}}}],\"scatterternary\":[{\"type\":\"scatterternary\",\"marker\":{\"colorbar\":{\"outlinewidth\":0,\"ticks\":\"\"}}}],\"scattercarpet\":[{\"type\":\"scattercarpet\",\"marker\":{\"colorbar\":{\"outlinewidth\":0,\"ticks\":\"\"}}}],\"carpet\":[{\"aaxis\":{\"endlinecolor\":\"#2a3f5f\",\"gridcolor\":\"white\",\"linecolor\":\"white\",\"minorgridcolor\":\"white\",\"startlinecolor\":\"#2a3f5f\"},\"baxis\":{\"endlinecolor\":\"#2a3f5f\",\"gridcolor\":\"white\",\"linecolor\":\"white\",\"minorgridcolor\":\"white\",\"startlinecolor\":\"#2a3f5f\"},\"type\":\"carpet\"}],\"table\":[{\"cells\":{\"fill\":{\"color\":\"#EBF0F8\"},\"line\":{\"color\":\"white\"}},\"header\":{\"fill\":{\"color\":\"#C8D4E3\"},\"line\":{\"color\":\"white\"}},\"type\":\"table\"}],\"barpolar\":[{\"marker\":{\"line\":{\"color\":\"#E5ECF6\",\"width\":0.5},\"pattern\":{\"fillmode\":\"overlay\",\"size\":10,\"solidity\":0.2}},\"type\":\"barpolar\"}],\"pie\":[{\"automargin\":true,\"type\":\"pie\"}]},\"layout\":{\"autotypenumbers\":\"strict\",\"colorway\":[\"#636efa\",\"#EF553B\",\"#00cc96\",\"#ab63fa\",\"#FFA15A\",\"#19d3f3\",\"#FF6692\",\"#B6E880\",\"#FF97FF\",\"#FECB52\"],\"font\":{\"color\":\"#2a3f5f\"},\"hovermode\":\"closest\",\"hoverlabel\":{\"align\":\"left\"},\"paper_bgcolor\":\"white\",\"plot_bgcolor\":\"#E5ECF6\",\"polar\":{\"bgcolor\":\"#E5ECF6\",\"angularaxis\":{\"gridcolor\":\"white\",\"linecolor\":\"white\",\"ticks\":\"\"},\"radialaxis\":{\"gridcolor\":\"white\",\"linecolor\":\"white\",\"ticks\":\"\"}},\"ternary\":{\"bgcolor\":\"#E5ECF6\",\"aaxis\":{\"gridcolor\":\"white\",\"linecolor\":\"white\",\"ticks\":\"\"},\"baxis\":{\"gridcolor\":\"white\",\"linecolor\":\"white\",\"ticks\":\"\"},\"caxis\":{\"gridcolor\":\"white\",\"linecolor\":\"white\",\"ticks\":\"\"}},\"coloraxis\":{\"colorbar\":{\"outlinewidth\":0,\"ticks\":\"\"}},\"colorscale\":{\"sequential\":[[0.0,\"#0d0887\"],[0.1111111111111111,\"#46039f\"],[0.2222222222222222,\"#7201a8\"],[0.3333333333333333,\"#9c179e\"],[0.4444444444444444,\"#bd3786\"],[0.5555555555555556,\"#d8576b\"],[0.6666666666666666,\"#ed7953\"],[0.7777777777777778,\"#fb9f3a\"],[0.8888888888888888,\"#fdca26\"],[1.0,\"#f0f921\"]],\"sequentialminus\":[[0.0,\"#0d0887\"],[0.1111111111111111,\"#46039f\"],[0.2222222222222222,\"#7201a8\"],[0.3333333333333333,\"#9c179e\"],[0.4444444444444444,\"#bd3786\"],[0.5555555555555556,\"#d8576b\"],[0.6666666666666666,\"#ed7953\"],[0.7777777777777778,\"#fb9f3a\"],[0.8888888888888888,\"#fdca26\"],[1.0,\"#f0f921\"]],\"diverging\":[[0,\"#8e0152\"],[0.1,\"#c51b7d\"],[0.2,\"#de77ae\"],[0.3,\"#f1b6da\"],[0.4,\"#fde0ef\"],[0.5,\"#f7f7f7\"],[0.6,\"#e6f5d0\"],[0.7,\"#b8e186\"],[0.8,\"#7fbc41\"],[0.9,\"#4d9221\"],[1,\"#276419\"]]},\"xaxis\":{\"gridcolor\":\"white\",\"linecolor\":\"white\",\"ticks\":\"\",\"title\":{\"standoff\":15},\"zerolinecolor\":\"white\",\"automargin\":true,\"zerolinewidth\":2},\"yaxis\":{\"gridcolor\":\"white\",\"linecolor\":\"white\",\"ticks\":\"\",\"title\":{\"standoff\":15},\"zerolinecolor\":\"white\",\"automargin\":true,\"zerolinewidth\":2},\"scene\":{\"xaxis\":{\"backgroundcolor\":\"#E5ECF6\",\"gridcolor\":\"white\",\"linecolor\":\"white\",\"showbackground\":true,\"ticks\":\"\",\"zerolinecolor\":\"white\",\"gridwidth\":2},\"yaxis\":{\"backgroundcolor\":\"#E5ECF6\",\"gridcolor\":\"white\",\"linecolor\":\"white\",\"showbackground\":true,\"ticks\":\"\",\"zerolinecolor\":\"white\",\"gridwidth\":2},\"zaxis\":{\"backgroundcolor\":\"#E5ECF6\",\"gridcolor\":\"white\",\"linecolor\":\"white\",\"showbackground\":true,\"ticks\":\"\",\"zerolinecolor\":\"white\",\"gridwidth\":2}},\"shapedefaults\":{\"line\":{\"color\":\"#2a3f5f\"}},\"annotationdefaults\":{\"arrowcolor\":\"#2a3f5f\",\"arrowhead\":0,\"arrowwidth\":1},\"geo\":{\"bgcolor\":\"white\",\"landcolor\":\"#E5ECF6\",\"subunitcolor\":\"white\",\"showland\":true,\"showlakes\":true,\"lakecolor\":\"white\"},\"title\":{\"x\":0.05},\"mapbox\":{\"style\":\"light\"}}},\"xaxis\":{\"anchor\":\"y\",\"domain\":[0.0,1.0],\"title\":{\"text\":\"Department\"}},\"yaxis\":{\"anchor\":\"x\",\"domain\":[0.0,1.0],\"title\":{\"text\":\"Salary\"},\"tickprefix\":\"$\",\"zeroline\":true,\"zerolinewidth\":1,\"zerolinecolor\":\"#28221D\"},\"legend\":{\"title\":{\"text\":\"Gender\"},\"tracegroupgap\":0},\"margin\":{\"t\":60},\"barmode\":\"group\",\"font\":{\"color\":\"#28221D\"},\"title\":{\"text\":\"Average Salaries by Department & Gender\"},\"paper_bgcolor\":\"#F4F2F0\",\"plot_bgcolor\":\"#F4F2F0\"},                        {\"responsive\": true}                    ).then(function(){\n",
       "                            \n",
       "var gd = document.getElementById('18f1aa79-458a-4e24-a60c-a0567fb0395f');\n",
       "var x = new MutationObserver(function (mutations, observer) {{\n",
       "        var display = window.getComputedStyle(gd).display;\n",
       "        if (!display || display === 'none') {{\n",
       "            console.log([gd, 'removed!']);\n",
       "            Plotly.purge(gd);\n",
       "            observer.disconnect();\n",
       "        }}\n",
       "}});\n",
       "\n",
       "// Listen for the removal of the full notebook cells\n",
       "var notebookContainer = gd.closest('#notebook-container');\n",
       "if (notebookContainer) {{\n",
       "    x.observe(notebookContainer, {childList: true});\n",
       "}}\n",
       "\n",
       "// Listen for the clearing of the current output cell\n",
       "var outputEl = gd.closest('.output');\n",
       "if (outputEl) {{\n",
       "    x.observe(outputEl, {childList: true});\n",
       "}}\n",
       "\n",
       "                        })                };                });            </script>        </div>"
      ]
     },
     "metadata": {},
     "output_type": "display_data"
    }
   ],
   "source": [
    "import plotly.express as px\n",
    "\n",
    "# Group by Department & Gender → average MonthlyIncome → annual salary\n",
    "plot_df = (\n",
    "    data.groupby(['Department', 'Gender'])['MonthlyIncome']\n",
    "    .mean()\n",
    "    .mul(12)  # convert monthly to annual\n",
    "    .rename('Salary')\n",
    "    .reset_index()\n",
    "    .sort_values('Salary', ascending=False)\n",
    ")\n",
    "\n",
    "# Color map for Gender\n",
    "color_map = {'Female': '#214D5C', 'Male': '#ACBCC2'}\n",
    "\n",
    "# Bar plot\n",
    "fig = px.bar(plot_df,\n",
    "             x='Department', y='Salary',\n",
    "             color='Gender', text='Salary',\n",
    "             barmode='group', opacity=0.75,\n",
    "             color_discrete_map=color_map)\n",
    "\n",
    "# Dollar formatting for text\n",
    "fig.update_traces(texttemplate='$%{text:,.0f}', textposition='outside')\n",
    "\n",
    "# Layout adjustments\n",
    "fig.update_layout(\n",
    "    title=\"Average Salaries by Department & Gender\",\n",
    "    yaxis=dict(title='Salary', tickprefix='$', zeroline=True, zerolinewidth=1, zerolinecolor='#28221D'),\n",
    "    paper_bgcolor='#F4F2F0', plot_bgcolor='#F4F2F0', font_color='#28221D'\n",
    ")\n",
    "\n",
    "fig.show()\n"
   ]
  },
  {
   "cell_type": "markdown",
   "metadata": {},
   "source": [
    "Across each department, women on average have higher salaries than men. "
   ]
  },
  {
   "cell_type": "code",
   "execution_count": 92,
   "metadata": {
    "_kg_hide-input": true
   },
   "outputs": [
    {
     "data": {
      "application/vnd.plotly.v1+json": {
       "config": {
        "plotlyServerURL": "https://plot.ly"
       },
       "data": [
        {
         "alignmentgroup": "True",
         "hovertemplate": "Gender=Female<br>Attrition=Yes<br>Department=%{x}<br>Salary=%{text}<extra></extra>",
         "legendgroup": "Female",
         "marker": {
          "color": "#214D5C",
          "opacity": 0.75,
          "pattern": {
           "shape": ""
          }
         },
         "name": "Female",
         "offsetgroup": "Female",
         "orientation": "v",
         "showlegend": true,
         "text": [
          32898,
          32484,
          55056
         ],
         "textposition": "outside",
         "texttemplate": "$%{text:,.0f}",
         "type": "bar",
         "x": [
          "Human Resources",
          "Research & Development",
          "Sales"
         ],
         "xaxis": "x",
         "y": [
          32898,
          32484,
          55056
         ],
         "yaxis": "y"
        },
        {
         "alignmentgroup": "True",
         "hovertemplate": "Gender=Female<br>Attrition=No<br>Department=%{x}<br>Salary=%{text}<extra></extra>",
         "legendgroup": "Female",
         "marker": {
          "color": "#214D5C",
          "opacity": 0.75,
          "pattern": {
           "shape": ""
          }
         },
         "name": "Female",
         "offsetgroup": "Female",
         "orientation": "v",
         "showlegend": false,
         "text": [
          74244,
          58476,
          68832
         ],
         "textposition": "outside",
         "texttemplate": "$%{text:,.0f}",
         "type": "bar",
         "x": [
          "Human Resources",
          "Research & Development",
          "Sales"
         ],
         "xaxis": "x2",
         "y": [
          74244,
          58476,
          68832
         ],
         "yaxis": "y2"
        },
        {
         "alignmentgroup": "True",
         "hovertemplate": "Gender=Male<br>Attrition=Yes<br>Department=%{x}<br>Salary=%{text}<extra></extra>",
         "legendgroup": "Male",
         "marker": {
          "color": "#ACBCC2",
          "opacity": 0.75,
          "pattern": {
           "shape": ""
          }
         },
         "name": "Male",
         "offsetgroup": "Male",
         "orientation": "v",
         "showlegend": true,
         "text": [
          29394,
          33888,
          68166
         ],
         "textposition": "outside",
         "texttemplate": "$%{text:,.0f}",
         "type": "bar",
         "x": [
          "Human Resources",
          "Research & Development",
          "Sales"
         ],
         "xaxis": "x",
         "y": [
          29394,
          33888,
          68166
         ],
         "yaxis": "y"
        },
        {
         "alignmentgroup": "True",
         "hovertemplate": "Gender=Male<br>Attrition=No<br>Department=%{x}<br>Salary=%{text}<extra></extra>",
         "legendgroup": "Male",
         "marker": {
          "color": "#ACBCC2",
          "opacity": 0.75,
          "pattern": {
           "shape": ""
          }
         },
         "name": "Male",
         "offsetgroup": "Male",
         "orientation": "v",
         "showlegend": false,
         "text": [
          51876,
          54114,
          74508
         ],
         "textposition": "outside",
         "texttemplate": "$%{text:,.0f}",
         "type": "bar",
         "x": [
          "Human Resources",
          "Research & Development",
          "Sales"
         ],
         "xaxis": "x2",
         "y": [
          51876,
          54114,
          74508
         ],
         "yaxis": "y2"
        }
       ],
       "layout": {
        "annotations": [
         {
          "font": {},
          "showarrow": false,
          "text": "Attrition=Yes",
          "x": 0.245,
          "xanchor": "center",
          "xref": "paper",
          "y": 1,
          "yanchor": "bottom",
          "yref": "paper"
         },
         {
          "font": {},
          "showarrow": false,
          "text": "Attrition=No",
          "x": 0.755,
          "xanchor": "center",
          "xref": "paper",
          "y": 1,
          "yanchor": "bottom",
          "yref": "paper"
         }
        ],
        "barmode": "group",
        "font": {
         "color": "#28221D"
        },
        "height": 500,
        "legend": {
         "title": {
          "text": "Gender"
         },
         "tracegroupgap": 0
        },
        "margin": {
         "t": 60
        },
        "paper_bgcolor": "#F4F2F0",
        "plot_bgcolor": "#F4F2F0",
        "template": {
         "data": {
          "bar": [
           {
            "error_x": {
             "color": "#2a3f5f"
            },
            "error_y": {
             "color": "#2a3f5f"
            },
            "marker": {
             "line": {
              "color": "#E5ECF6",
              "width": 0.5
             },
             "pattern": {
              "fillmode": "overlay",
              "size": 10,
              "solidity": 0.2
             }
            },
            "type": "bar"
           }
          ],
          "barpolar": [
           {
            "marker": {
             "line": {
              "color": "#E5ECF6",
              "width": 0.5
             },
             "pattern": {
              "fillmode": "overlay",
              "size": 10,
              "solidity": 0.2
             }
            },
            "type": "barpolar"
           }
          ],
          "carpet": [
           {
            "aaxis": {
             "endlinecolor": "#2a3f5f",
             "gridcolor": "white",
             "linecolor": "white",
             "minorgridcolor": "white",
             "startlinecolor": "#2a3f5f"
            },
            "baxis": {
             "endlinecolor": "#2a3f5f",
             "gridcolor": "white",
             "linecolor": "white",
             "minorgridcolor": "white",
             "startlinecolor": "#2a3f5f"
            },
            "type": "carpet"
           }
          ],
          "choropleth": [
           {
            "colorbar": {
             "outlinewidth": 0,
             "ticks": ""
            },
            "type": "choropleth"
           }
          ],
          "contour": [
           {
            "colorbar": {
             "outlinewidth": 0,
             "ticks": ""
            },
            "colorscale": [
             [
              0,
              "#0d0887"
             ],
             [
              0.1111111111111111,
              "#46039f"
             ],
             [
              0.2222222222222222,
              "#7201a8"
             ],
             [
              0.3333333333333333,
              "#9c179e"
             ],
             [
              0.4444444444444444,
              "#bd3786"
             ],
             [
              0.5555555555555556,
              "#d8576b"
             ],
             [
              0.6666666666666666,
              "#ed7953"
             ],
             [
              0.7777777777777778,
              "#fb9f3a"
             ],
             [
              0.8888888888888888,
              "#fdca26"
             ],
             [
              1,
              "#f0f921"
             ]
            ],
            "type": "contour"
           }
          ],
          "contourcarpet": [
           {
            "colorbar": {
             "outlinewidth": 0,
             "ticks": ""
            },
            "type": "contourcarpet"
           }
          ],
          "heatmap": [
           {
            "colorbar": {
             "outlinewidth": 0,
             "ticks": ""
            },
            "colorscale": [
             [
              0,
              "#0d0887"
             ],
             [
              0.1111111111111111,
              "#46039f"
             ],
             [
              0.2222222222222222,
              "#7201a8"
             ],
             [
              0.3333333333333333,
              "#9c179e"
             ],
             [
              0.4444444444444444,
              "#bd3786"
             ],
             [
              0.5555555555555556,
              "#d8576b"
             ],
             [
              0.6666666666666666,
              "#ed7953"
             ],
             [
              0.7777777777777778,
              "#fb9f3a"
             ],
             [
              0.8888888888888888,
              "#fdca26"
             ],
             [
              1,
              "#f0f921"
             ]
            ],
            "type": "heatmap"
           }
          ],
          "heatmapgl": [
           {
            "colorbar": {
             "outlinewidth": 0,
             "ticks": ""
            },
            "colorscale": [
             [
              0,
              "#0d0887"
             ],
             [
              0.1111111111111111,
              "#46039f"
             ],
             [
              0.2222222222222222,
              "#7201a8"
             ],
             [
              0.3333333333333333,
              "#9c179e"
             ],
             [
              0.4444444444444444,
              "#bd3786"
             ],
             [
              0.5555555555555556,
              "#d8576b"
             ],
             [
              0.6666666666666666,
              "#ed7953"
             ],
             [
              0.7777777777777778,
              "#fb9f3a"
             ],
             [
              0.8888888888888888,
              "#fdca26"
             ],
             [
              1,
              "#f0f921"
             ]
            ],
            "type": "heatmapgl"
           }
          ],
          "histogram": [
           {
            "marker": {
             "pattern": {
              "fillmode": "overlay",
              "size": 10,
              "solidity": 0.2
             }
            },
            "type": "histogram"
           }
          ],
          "histogram2d": [
           {
            "colorbar": {
             "outlinewidth": 0,
             "ticks": ""
            },
            "colorscale": [
             [
              0,
              "#0d0887"
             ],
             [
              0.1111111111111111,
              "#46039f"
             ],
             [
              0.2222222222222222,
              "#7201a8"
             ],
             [
              0.3333333333333333,
              "#9c179e"
             ],
             [
              0.4444444444444444,
              "#bd3786"
             ],
             [
              0.5555555555555556,
              "#d8576b"
             ],
             [
              0.6666666666666666,
              "#ed7953"
             ],
             [
              0.7777777777777778,
              "#fb9f3a"
             ],
             [
              0.8888888888888888,
              "#fdca26"
             ],
             [
              1,
              "#f0f921"
             ]
            ],
            "type": "histogram2d"
           }
          ],
          "histogram2dcontour": [
           {
            "colorbar": {
             "outlinewidth": 0,
             "ticks": ""
            },
            "colorscale": [
             [
              0,
              "#0d0887"
             ],
             [
              0.1111111111111111,
              "#46039f"
             ],
             [
              0.2222222222222222,
              "#7201a8"
             ],
             [
              0.3333333333333333,
              "#9c179e"
             ],
             [
              0.4444444444444444,
              "#bd3786"
             ],
             [
              0.5555555555555556,
              "#d8576b"
             ],
             [
              0.6666666666666666,
              "#ed7953"
             ],
             [
              0.7777777777777778,
              "#fb9f3a"
             ],
             [
              0.8888888888888888,
              "#fdca26"
             ],
             [
              1,
              "#f0f921"
             ]
            ],
            "type": "histogram2dcontour"
           }
          ],
          "mesh3d": [
           {
            "colorbar": {
             "outlinewidth": 0,
             "ticks": ""
            },
            "type": "mesh3d"
           }
          ],
          "parcoords": [
           {
            "line": {
             "colorbar": {
              "outlinewidth": 0,
              "ticks": ""
             }
            },
            "type": "parcoords"
           }
          ],
          "pie": [
           {
            "automargin": true,
            "type": "pie"
           }
          ],
          "scatter": [
           {
            "fillpattern": {
             "fillmode": "overlay",
             "size": 10,
             "solidity": 0.2
            },
            "type": "scatter"
           }
          ],
          "scatter3d": [
           {
            "line": {
             "colorbar": {
              "outlinewidth": 0,
              "ticks": ""
             }
            },
            "marker": {
             "colorbar": {
              "outlinewidth": 0,
              "ticks": ""
             }
            },
            "type": "scatter3d"
           }
          ],
          "scattercarpet": [
           {
            "marker": {
             "colorbar": {
              "outlinewidth": 0,
              "ticks": ""
             }
            },
            "type": "scattercarpet"
           }
          ],
          "scattergeo": [
           {
            "marker": {
             "colorbar": {
              "outlinewidth": 0,
              "ticks": ""
             }
            },
            "type": "scattergeo"
           }
          ],
          "scattergl": [
           {
            "marker": {
             "colorbar": {
              "outlinewidth": 0,
              "ticks": ""
             }
            },
            "type": "scattergl"
           }
          ],
          "scattermapbox": [
           {
            "marker": {
             "colorbar": {
              "outlinewidth": 0,
              "ticks": ""
             }
            },
            "type": "scattermapbox"
           }
          ],
          "scatterpolar": [
           {
            "marker": {
             "colorbar": {
              "outlinewidth": 0,
              "ticks": ""
             }
            },
            "type": "scatterpolar"
           }
          ],
          "scatterpolargl": [
           {
            "marker": {
             "colorbar": {
              "outlinewidth": 0,
              "ticks": ""
             }
            },
            "type": "scatterpolargl"
           }
          ],
          "scatterternary": [
           {
            "marker": {
             "colorbar": {
              "outlinewidth": 0,
              "ticks": ""
             }
            },
            "type": "scatterternary"
           }
          ],
          "surface": [
           {
            "colorbar": {
             "outlinewidth": 0,
             "ticks": ""
            },
            "colorscale": [
             [
              0,
              "#0d0887"
             ],
             [
              0.1111111111111111,
              "#46039f"
             ],
             [
              0.2222222222222222,
              "#7201a8"
             ],
             [
              0.3333333333333333,
              "#9c179e"
             ],
             [
              0.4444444444444444,
              "#bd3786"
             ],
             [
              0.5555555555555556,
              "#d8576b"
             ],
             [
              0.6666666666666666,
              "#ed7953"
             ],
             [
              0.7777777777777778,
              "#fb9f3a"
             ],
             [
              0.8888888888888888,
              "#fdca26"
             ],
             [
              1,
              "#f0f921"
             ]
            ],
            "type": "surface"
           }
          ],
          "table": [
           {
            "cells": {
             "fill": {
              "color": "#EBF0F8"
             },
             "line": {
              "color": "white"
             }
            },
            "header": {
             "fill": {
              "color": "#C8D4E3"
             },
             "line": {
              "color": "white"
             }
            },
            "type": "table"
           }
          ]
         },
         "layout": {
          "annotationdefaults": {
           "arrowcolor": "#2a3f5f",
           "arrowhead": 0,
           "arrowwidth": 1
          },
          "autotypenumbers": "strict",
          "coloraxis": {
           "colorbar": {
            "outlinewidth": 0,
            "ticks": ""
           }
          },
          "colorscale": {
           "diverging": [
            [
             0,
             "#8e0152"
            ],
            [
             0.1,
             "#c51b7d"
            ],
            [
             0.2,
             "#de77ae"
            ],
            [
             0.3,
             "#f1b6da"
            ],
            [
             0.4,
             "#fde0ef"
            ],
            [
             0.5,
             "#f7f7f7"
            ],
            [
             0.6,
             "#e6f5d0"
            ],
            [
             0.7,
             "#b8e186"
            ],
            [
             0.8,
             "#7fbc41"
            ],
            [
             0.9,
             "#4d9221"
            ],
            [
             1,
             "#276419"
            ]
           ],
           "sequential": [
            [
             0,
             "#0d0887"
            ],
            [
             0.1111111111111111,
             "#46039f"
            ],
            [
             0.2222222222222222,
             "#7201a8"
            ],
            [
             0.3333333333333333,
             "#9c179e"
            ],
            [
             0.4444444444444444,
             "#bd3786"
            ],
            [
             0.5555555555555556,
             "#d8576b"
            ],
            [
             0.6666666666666666,
             "#ed7953"
            ],
            [
             0.7777777777777778,
             "#fb9f3a"
            ],
            [
             0.8888888888888888,
             "#fdca26"
            ],
            [
             1,
             "#f0f921"
            ]
           ],
           "sequentialminus": [
            [
             0,
             "#0d0887"
            ],
            [
             0.1111111111111111,
             "#46039f"
            ],
            [
             0.2222222222222222,
             "#7201a8"
            ],
            [
             0.3333333333333333,
             "#9c179e"
            ],
            [
             0.4444444444444444,
             "#bd3786"
            ],
            [
             0.5555555555555556,
             "#d8576b"
            ],
            [
             0.6666666666666666,
             "#ed7953"
            ],
            [
             0.7777777777777778,
             "#fb9f3a"
            ],
            [
             0.8888888888888888,
             "#fdca26"
            ],
            [
             1,
             "#f0f921"
            ]
           ]
          },
          "colorway": [
           "#636efa",
           "#EF553B",
           "#00cc96",
           "#ab63fa",
           "#FFA15A",
           "#19d3f3",
           "#FF6692",
           "#B6E880",
           "#FF97FF",
           "#FECB52"
          ],
          "font": {
           "color": "#2a3f5f"
          },
          "geo": {
           "bgcolor": "white",
           "lakecolor": "white",
           "landcolor": "#E5ECF6",
           "showlakes": true,
           "showland": true,
           "subunitcolor": "white"
          },
          "hoverlabel": {
           "align": "left"
          },
          "hovermode": "closest",
          "mapbox": {
           "style": "light"
          },
          "paper_bgcolor": "white",
          "plot_bgcolor": "#E5ECF6",
          "polar": {
           "angularaxis": {
            "gridcolor": "white",
            "linecolor": "white",
            "ticks": ""
           },
           "bgcolor": "#E5ECF6",
           "radialaxis": {
            "gridcolor": "white",
            "linecolor": "white",
            "ticks": ""
           }
          },
          "scene": {
           "xaxis": {
            "backgroundcolor": "#E5ECF6",
            "gridcolor": "white",
            "gridwidth": 2,
            "linecolor": "white",
            "showbackground": true,
            "ticks": "",
            "zerolinecolor": "white"
           },
           "yaxis": {
            "backgroundcolor": "#E5ECF6",
            "gridcolor": "white",
            "gridwidth": 2,
            "linecolor": "white",
            "showbackground": true,
            "ticks": "",
            "zerolinecolor": "white"
           },
           "zaxis": {
            "backgroundcolor": "#E5ECF6",
            "gridcolor": "white",
            "gridwidth": 2,
            "linecolor": "white",
            "showbackground": true,
            "ticks": "",
            "zerolinecolor": "white"
           }
          },
          "shapedefaults": {
           "line": {
            "color": "#2a3f5f"
           }
          },
          "ternary": {
           "aaxis": {
            "gridcolor": "white",
            "linecolor": "white",
            "ticks": ""
           },
           "baxis": {
            "gridcolor": "white",
            "linecolor": "white",
            "ticks": ""
           },
           "bgcolor": "#E5ECF6",
           "caxis": {
            "gridcolor": "white",
            "linecolor": "white",
            "ticks": ""
           }
          },
          "title": {
           "x": 0.05
          },
          "xaxis": {
           "automargin": true,
           "gridcolor": "white",
           "linecolor": "white",
           "ticks": "",
           "title": {
            "standoff": 15
           },
           "zerolinecolor": "white",
           "zerolinewidth": 2
          },
          "yaxis": {
           "automargin": true,
           "gridcolor": "white",
           "linecolor": "white",
           "ticks": "",
           "title": {
            "standoff": 15
           },
           "zerolinecolor": "white",
           "zerolinewidth": 2
          }
         }
        },
        "title": {
         "text": "Median Salaries by Department and Attrition Status"
        },
        "width": 950,
        "xaxis": {
         "anchor": "y",
         "autorange": true,
         "domain": [
          0,
          0.49
         ],
         "range": [
          -0.5,
          2.5
         ],
         "title": {
          "text": "Department"
         },
         "type": "category"
        },
        "xaxis2": {
         "anchor": "y2",
         "autorange": true,
         "domain": [
          0.51,
          1
         ],
         "matches": "x",
         "range": [
          -0.5,
          2.5
         ],
         "title": {
          "text": "Department"
         },
         "type": "category"
        },
        "yaxis": {
         "anchor": "x",
         "domain": [
          0,
          1
         ],
         "range": [
          0,
          80000
         ],
         "tickprefix": "$",
         "title": {
          "text": "Salary"
         },
         "type": "linear",
         "zeroline": true,
         "zerolinecolor": "#28221D",
         "zerolinewidth": 1
        },
        "yaxis2": {
         "anchor": "x2",
         "domain": [
          0,
          1
         ],
         "matches": "y",
         "showticklabels": false,
         "type": "linear"
        }
       }
      },
      "text/html": [
       "<div>                            <div id=\"a57e8d1c-1f23-40db-8f07-5dc3ce5db763\" class=\"plotly-graph-div\" style=\"height:500px; width:950px;\"></div>            <script type=\"text/javascript\">                require([\"plotly\"], function(Plotly) {                    window.PLOTLYENV=window.PLOTLYENV || {};                                    if (document.getElementById(\"a57e8d1c-1f23-40db-8f07-5dc3ce5db763\")) {                    Plotly.newPlot(                        \"a57e8d1c-1f23-40db-8f07-5dc3ce5db763\",                        [{\"alignmentgroup\":\"True\",\"hovertemplate\":\"Gender=Female\\u003cbr\\u003eAttrition=Yes\\u003cbr\\u003eDepartment=%{x}\\u003cbr\\u003eSalary=%{text}\\u003cextra\\u003e\\u003c\\u002fextra\\u003e\",\"legendgroup\":\"Female\",\"marker\":{\"color\":\"#214D5C\",\"opacity\":0.75,\"pattern\":{\"shape\":\"\"}},\"name\":\"Female\",\"offsetgroup\":\"Female\",\"orientation\":\"v\",\"showlegend\":true,\"text\":[32898.0,32484.0,55056.0],\"textposition\":\"outside\",\"x\":[\"Human Resources\",\"Research & Development\",\"Sales\"],\"xaxis\":\"x\",\"y\":[32898.0,32484.0,55056.0],\"yaxis\":\"y\",\"type\":\"bar\",\"texttemplate\":\"$%{text:,.0f}\"},{\"alignmentgroup\":\"True\",\"hovertemplate\":\"Gender=Female\\u003cbr\\u003eAttrition=No\\u003cbr\\u003eDepartment=%{x}\\u003cbr\\u003eSalary=%{text}\\u003cextra\\u003e\\u003c\\u002fextra\\u003e\",\"legendgroup\":\"Female\",\"marker\":{\"color\":\"#214D5C\",\"opacity\":0.75,\"pattern\":{\"shape\":\"\"}},\"name\":\"Female\",\"offsetgroup\":\"Female\",\"orientation\":\"v\",\"showlegend\":false,\"text\":[74244.0,58476.0,68832.0],\"textposition\":\"outside\",\"x\":[\"Human Resources\",\"Research & Development\",\"Sales\"],\"xaxis\":\"x2\",\"y\":[74244.0,58476.0,68832.0],\"yaxis\":\"y2\",\"type\":\"bar\",\"texttemplate\":\"$%{text:,.0f}\"},{\"alignmentgroup\":\"True\",\"hovertemplate\":\"Gender=Male\\u003cbr\\u003eAttrition=Yes\\u003cbr\\u003eDepartment=%{x}\\u003cbr\\u003eSalary=%{text}\\u003cextra\\u003e\\u003c\\u002fextra\\u003e\",\"legendgroup\":\"Male\",\"marker\":{\"color\":\"#ACBCC2\",\"opacity\":0.75,\"pattern\":{\"shape\":\"\"}},\"name\":\"Male\",\"offsetgroup\":\"Male\",\"orientation\":\"v\",\"showlegend\":true,\"text\":[29394.0,33888.0,68166.0],\"textposition\":\"outside\",\"x\":[\"Human Resources\",\"Research & Development\",\"Sales\"],\"xaxis\":\"x\",\"y\":[29394.0,33888.0,68166.0],\"yaxis\":\"y\",\"type\":\"bar\",\"texttemplate\":\"$%{text:,.0f}\"},{\"alignmentgroup\":\"True\",\"hovertemplate\":\"Gender=Male\\u003cbr\\u003eAttrition=No\\u003cbr\\u003eDepartment=%{x}\\u003cbr\\u003eSalary=%{text}\\u003cextra\\u003e\\u003c\\u002fextra\\u003e\",\"legendgroup\":\"Male\",\"marker\":{\"color\":\"#ACBCC2\",\"opacity\":0.75,\"pattern\":{\"shape\":\"\"}},\"name\":\"Male\",\"offsetgroup\":\"Male\",\"orientation\":\"v\",\"showlegend\":false,\"text\":[51876.0,54114.0,74508.0],\"textposition\":\"outside\",\"x\":[\"Human Resources\",\"Research & Development\",\"Sales\"],\"xaxis\":\"x2\",\"y\":[51876.0,54114.0,74508.0],\"yaxis\":\"y2\",\"type\":\"bar\",\"texttemplate\":\"$%{text:,.0f}\"}],                        {\"template\":{\"data\":{\"histogram2dcontour\":[{\"type\":\"histogram2dcontour\",\"colorbar\":{\"outlinewidth\":0,\"ticks\":\"\"},\"colorscale\":[[0.0,\"#0d0887\"],[0.1111111111111111,\"#46039f\"],[0.2222222222222222,\"#7201a8\"],[0.3333333333333333,\"#9c179e\"],[0.4444444444444444,\"#bd3786\"],[0.5555555555555556,\"#d8576b\"],[0.6666666666666666,\"#ed7953\"],[0.7777777777777778,\"#fb9f3a\"],[0.8888888888888888,\"#fdca26\"],[1.0,\"#f0f921\"]]}],\"choropleth\":[{\"type\":\"choropleth\",\"colorbar\":{\"outlinewidth\":0,\"ticks\":\"\"}}],\"histogram2d\":[{\"type\":\"histogram2d\",\"colorbar\":{\"outlinewidth\":0,\"ticks\":\"\"},\"colorscale\":[[0.0,\"#0d0887\"],[0.1111111111111111,\"#46039f\"],[0.2222222222222222,\"#7201a8\"],[0.3333333333333333,\"#9c179e\"],[0.4444444444444444,\"#bd3786\"],[0.5555555555555556,\"#d8576b\"],[0.6666666666666666,\"#ed7953\"],[0.7777777777777778,\"#fb9f3a\"],[0.8888888888888888,\"#fdca26\"],[1.0,\"#f0f921\"]]}],\"heatmap\":[{\"type\":\"heatmap\",\"colorbar\":{\"outlinewidth\":0,\"ticks\":\"\"},\"colorscale\":[[0.0,\"#0d0887\"],[0.1111111111111111,\"#46039f\"],[0.2222222222222222,\"#7201a8\"],[0.3333333333333333,\"#9c179e\"],[0.4444444444444444,\"#bd3786\"],[0.5555555555555556,\"#d8576b\"],[0.6666666666666666,\"#ed7953\"],[0.7777777777777778,\"#fb9f3a\"],[0.8888888888888888,\"#fdca26\"],[1.0,\"#f0f921\"]]}],\"heatmapgl\":[{\"type\":\"heatmapgl\",\"colorbar\":{\"outlinewidth\":0,\"ticks\":\"\"},\"colorscale\":[[0.0,\"#0d0887\"],[0.1111111111111111,\"#46039f\"],[0.2222222222222222,\"#7201a8\"],[0.3333333333333333,\"#9c179e\"],[0.4444444444444444,\"#bd3786\"],[0.5555555555555556,\"#d8576b\"],[0.6666666666666666,\"#ed7953\"],[0.7777777777777778,\"#fb9f3a\"],[0.8888888888888888,\"#fdca26\"],[1.0,\"#f0f921\"]]}],\"contourcarpet\":[{\"type\":\"contourcarpet\",\"colorbar\":{\"outlinewidth\":0,\"ticks\":\"\"}}],\"contour\":[{\"type\":\"contour\",\"colorbar\":{\"outlinewidth\":0,\"ticks\":\"\"},\"colorscale\":[[0.0,\"#0d0887\"],[0.1111111111111111,\"#46039f\"],[0.2222222222222222,\"#7201a8\"],[0.3333333333333333,\"#9c179e\"],[0.4444444444444444,\"#bd3786\"],[0.5555555555555556,\"#d8576b\"],[0.6666666666666666,\"#ed7953\"],[0.7777777777777778,\"#fb9f3a\"],[0.8888888888888888,\"#fdca26\"],[1.0,\"#f0f921\"]]}],\"surface\":[{\"type\":\"surface\",\"colorbar\":{\"outlinewidth\":0,\"ticks\":\"\"},\"colorscale\":[[0.0,\"#0d0887\"],[0.1111111111111111,\"#46039f\"],[0.2222222222222222,\"#7201a8\"],[0.3333333333333333,\"#9c179e\"],[0.4444444444444444,\"#bd3786\"],[0.5555555555555556,\"#d8576b\"],[0.6666666666666666,\"#ed7953\"],[0.7777777777777778,\"#fb9f3a\"],[0.8888888888888888,\"#fdca26\"],[1.0,\"#f0f921\"]]}],\"mesh3d\":[{\"type\":\"mesh3d\",\"colorbar\":{\"outlinewidth\":0,\"ticks\":\"\"}}],\"scatter\":[{\"fillpattern\":{\"fillmode\":\"overlay\",\"size\":10,\"solidity\":0.2},\"type\":\"scatter\"}],\"parcoords\":[{\"type\":\"parcoords\",\"line\":{\"colorbar\":{\"outlinewidth\":0,\"ticks\":\"\"}}}],\"scatterpolargl\":[{\"type\":\"scatterpolargl\",\"marker\":{\"colorbar\":{\"outlinewidth\":0,\"ticks\":\"\"}}}],\"bar\":[{\"error_x\":{\"color\":\"#2a3f5f\"},\"error_y\":{\"color\":\"#2a3f5f\"},\"marker\":{\"line\":{\"color\":\"#E5ECF6\",\"width\":0.5},\"pattern\":{\"fillmode\":\"overlay\",\"size\":10,\"solidity\":0.2}},\"type\":\"bar\"}],\"scattergeo\":[{\"type\":\"scattergeo\",\"marker\":{\"colorbar\":{\"outlinewidth\":0,\"ticks\":\"\"}}}],\"scatterpolar\":[{\"type\":\"scatterpolar\",\"marker\":{\"colorbar\":{\"outlinewidth\":0,\"ticks\":\"\"}}}],\"histogram\":[{\"marker\":{\"pattern\":{\"fillmode\":\"overlay\",\"size\":10,\"solidity\":0.2}},\"type\":\"histogram\"}],\"scattergl\":[{\"type\":\"scattergl\",\"marker\":{\"colorbar\":{\"outlinewidth\":0,\"ticks\":\"\"}}}],\"scatter3d\":[{\"type\":\"scatter3d\",\"line\":{\"colorbar\":{\"outlinewidth\":0,\"ticks\":\"\"}},\"marker\":{\"colorbar\":{\"outlinewidth\":0,\"ticks\":\"\"}}}],\"scattermapbox\":[{\"type\":\"scattermapbox\",\"marker\":{\"colorbar\":{\"outlinewidth\":0,\"ticks\":\"\"}}}],\"scatterternary\":[{\"type\":\"scatterternary\",\"marker\":{\"colorbar\":{\"outlinewidth\":0,\"ticks\":\"\"}}}],\"scattercarpet\":[{\"type\":\"scattercarpet\",\"marker\":{\"colorbar\":{\"outlinewidth\":0,\"ticks\":\"\"}}}],\"carpet\":[{\"aaxis\":{\"endlinecolor\":\"#2a3f5f\",\"gridcolor\":\"white\",\"linecolor\":\"white\",\"minorgridcolor\":\"white\",\"startlinecolor\":\"#2a3f5f\"},\"baxis\":{\"endlinecolor\":\"#2a3f5f\",\"gridcolor\":\"white\",\"linecolor\":\"white\",\"minorgridcolor\":\"white\",\"startlinecolor\":\"#2a3f5f\"},\"type\":\"carpet\"}],\"table\":[{\"cells\":{\"fill\":{\"color\":\"#EBF0F8\"},\"line\":{\"color\":\"white\"}},\"header\":{\"fill\":{\"color\":\"#C8D4E3\"},\"line\":{\"color\":\"white\"}},\"type\":\"table\"}],\"barpolar\":[{\"marker\":{\"line\":{\"color\":\"#E5ECF6\",\"width\":0.5},\"pattern\":{\"fillmode\":\"overlay\",\"size\":10,\"solidity\":0.2}},\"type\":\"barpolar\"}],\"pie\":[{\"automargin\":true,\"type\":\"pie\"}]},\"layout\":{\"autotypenumbers\":\"strict\",\"colorway\":[\"#636efa\",\"#EF553B\",\"#00cc96\",\"#ab63fa\",\"#FFA15A\",\"#19d3f3\",\"#FF6692\",\"#B6E880\",\"#FF97FF\",\"#FECB52\"],\"font\":{\"color\":\"#2a3f5f\"},\"hovermode\":\"closest\",\"hoverlabel\":{\"align\":\"left\"},\"paper_bgcolor\":\"white\",\"plot_bgcolor\":\"#E5ECF6\",\"polar\":{\"bgcolor\":\"#E5ECF6\",\"angularaxis\":{\"gridcolor\":\"white\",\"linecolor\":\"white\",\"ticks\":\"\"},\"radialaxis\":{\"gridcolor\":\"white\",\"linecolor\":\"white\",\"ticks\":\"\"}},\"ternary\":{\"bgcolor\":\"#E5ECF6\",\"aaxis\":{\"gridcolor\":\"white\",\"linecolor\":\"white\",\"ticks\":\"\"},\"baxis\":{\"gridcolor\":\"white\",\"linecolor\":\"white\",\"ticks\":\"\"},\"caxis\":{\"gridcolor\":\"white\",\"linecolor\":\"white\",\"ticks\":\"\"}},\"coloraxis\":{\"colorbar\":{\"outlinewidth\":0,\"ticks\":\"\"}},\"colorscale\":{\"sequential\":[[0.0,\"#0d0887\"],[0.1111111111111111,\"#46039f\"],[0.2222222222222222,\"#7201a8\"],[0.3333333333333333,\"#9c179e\"],[0.4444444444444444,\"#bd3786\"],[0.5555555555555556,\"#d8576b\"],[0.6666666666666666,\"#ed7953\"],[0.7777777777777778,\"#fb9f3a\"],[0.8888888888888888,\"#fdca26\"],[1.0,\"#f0f921\"]],\"sequentialminus\":[[0.0,\"#0d0887\"],[0.1111111111111111,\"#46039f\"],[0.2222222222222222,\"#7201a8\"],[0.3333333333333333,\"#9c179e\"],[0.4444444444444444,\"#bd3786\"],[0.5555555555555556,\"#d8576b\"],[0.6666666666666666,\"#ed7953\"],[0.7777777777777778,\"#fb9f3a\"],[0.8888888888888888,\"#fdca26\"],[1.0,\"#f0f921\"]],\"diverging\":[[0,\"#8e0152\"],[0.1,\"#c51b7d\"],[0.2,\"#de77ae\"],[0.3,\"#f1b6da\"],[0.4,\"#fde0ef\"],[0.5,\"#f7f7f7\"],[0.6,\"#e6f5d0\"],[0.7,\"#b8e186\"],[0.8,\"#7fbc41\"],[0.9,\"#4d9221\"],[1,\"#276419\"]]},\"xaxis\":{\"gridcolor\":\"white\",\"linecolor\":\"white\",\"ticks\":\"\",\"title\":{\"standoff\":15},\"zerolinecolor\":\"white\",\"automargin\":true,\"zerolinewidth\":2},\"yaxis\":{\"gridcolor\":\"white\",\"linecolor\":\"white\",\"ticks\":\"\",\"title\":{\"standoff\":15},\"zerolinecolor\":\"white\",\"automargin\":true,\"zerolinewidth\":2},\"scene\":{\"xaxis\":{\"backgroundcolor\":\"#E5ECF6\",\"gridcolor\":\"white\",\"linecolor\":\"white\",\"showbackground\":true,\"ticks\":\"\",\"zerolinecolor\":\"white\",\"gridwidth\":2},\"yaxis\":{\"backgroundcolor\":\"#E5ECF6\",\"gridcolor\":\"white\",\"linecolor\":\"white\",\"showbackground\":true,\"ticks\":\"\",\"zerolinecolor\":\"white\",\"gridwidth\":2},\"zaxis\":{\"backgroundcolor\":\"#E5ECF6\",\"gridcolor\":\"white\",\"linecolor\":\"white\",\"showbackground\":true,\"ticks\":\"\",\"zerolinecolor\":\"white\",\"gridwidth\":2}},\"shapedefaults\":{\"line\":{\"color\":\"#2a3f5f\"}},\"annotationdefaults\":{\"arrowcolor\":\"#2a3f5f\",\"arrowhead\":0,\"arrowwidth\":1},\"geo\":{\"bgcolor\":\"white\",\"landcolor\":\"#E5ECF6\",\"subunitcolor\":\"white\",\"showland\":true,\"showlakes\":true,\"lakecolor\":\"white\"},\"title\":{\"x\":0.05},\"mapbox\":{\"style\":\"light\"}}},\"xaxis\":{\"anchor\":\"y\",\"domain\":[0.0,0.49],\"title\":{\"text\":\"Department\"}},\"yaxis\":{\"anchor\":\"x\",\"domain\":[0.0,1.0],\"title\":{\"text\":\"Salary\"},\"tickprefix\":\"$\",\"range\":[0,80000],\"zeroline\":true,\"zerolinewidth\":1,\"zerolinecolor\":\"#28221D\"},\"xaxis2\":{\"anchor\":\"y2\",\"domain\":[0.51,1.0],\"matches\":\"x\",\"title\":{\"text\":\"Department\"}},\"yaxis2\":{\"anchor\":\"x2\",\"domain\":[0.0,1.0],\"matches\":\"y\",\"showticklabels\":false},\"annotations\":[{\"font\":{},\"showarrow\":false,\"text\":\"Attrition=Yes\",\"x\":0.245,\"xanchor\":\"center\",\"xref\":\"paper\",\"y\":1.0,\"yanchor\":\"bottom\",\"yref\":\"paper\"},{\"font\":{},\"showarrow\":false,\"text\":\"Attrition=No\",\"x\":0.755,\"xanchor\":\"center\",\"xref\":\"paper\",\"y\":1.0,\"yanchor\":\"bottom\",\"yref\":\"paper\"}],\"legend\":{\"title\":{\"text\":\"Gender\"},\"tracegroupgap\":0},\"margin\":{\"t\":60},\"barmode\":\"group\",\"font\":{\"color\":\"#28221D\"},\"title\":{\"text\":\"Median Salaries by Department and Attrition Status\"},\"width\":950,\"height\":500,\"paper_bgcolor\":\"#F4F2F0\",\"plot_bgcolor\":\"#F4F2F0\"},                        {\"responsive\": true}                    ).then(function(){\n",
       "                            \n",
       "var gd = document.getElementById('a57e8d1c-1f23-40db-8f07-5dc3ce5db763');\n",
       "var x = new MutationObserver(function (mutations, observer) {{\n",
       "        var display = window.getComputedStyle(gd).display;\n",
       "        if (!display || display === 'none') {{\n",
       "            console.log([gd, 'removed!']);\n",
       "            Plotly.purge(gd);\n",
       "            observer.disconnect();\n",
       "        }}\n",
       "}});\n",
       "\n",
       "// Listen for the removal of the full notebook cells\n",
       "var notebookContainer = gd.closest('#notebook-container');\n",
       "if (notebookContainer) {{\n",
       "    x.observe(notebookContainer, {childList: true});\n",
       "}}\n",
       "\n",
       "// Listen for the clearing of the current output cell\n",
       "var outputEl = gd.closest('.output');\n",
       "if (outputEl) {{\n",
       "    x.observe(outputEl, {childList: true});\n",
       "}}\n",
       "\n",
       "                        })                };                });            </script>        </div>"
      ]
     },
     "metadata": {},
     "output_type": "display_data"
    }
   ],
   "source": [
    "import plotly.express as px\n",
    "\n",
    "# Group by Department, Attrition, Gender → median MonthlyIncome → annual salary\n",
    "plot_df = (\n",
    "    data.groupby(['Department', 'Attrition', 'Gender'])['MonthlyIncome']\n",
    "    .median()\n",
    "    .mul(12)  # convert to annual\n",
    "    .rename('Salary')\n",
    "    .reset_index()\n",
    ")\n",
    "\n",
    "# Sort by Gender (optional)\n",
    "plot_df = plot_df.sort_values('Gender')\n",
    "\n",
    "# Color map for Gender\n",
    "color_map = {'Female': '#214D5C', 'Male': '#ACBCC2'}\n",
    "\n",
    "# Bar plot with facet by Attrition\n",
    "fig = px.bar(plot_df,\n",
    "             x='Department', y='Salary',\n",
    "             color='Gender', text='Salary',\n",
    "             barmode='group', opacity=0.75,\n",
    "             facet_col='Attrition',\n",
    "             category_orders={'Attrition': ['Yes', 'No']},\n",
    "             color_discrete_map=color_map)\n",
    "\n",
    "# Dollar formatting for text\n",
    "fig.update_traces(texttemplate='$%{text:,.0f}', textposition='outside')\n",
    "\n",
    "# Layout adjustments\n",
    "fig.update_layout(\n",
    "    title=\"Median Salaries by Department and Attrition Status\",\n",
    "    yaxis=dict(title='Salary', tickprefix='$', range=(0, 80000), zeroline=True, zerolinewidth=1, zerolinecolor='#28221D'),\n",
    "    width=950, height=500,\n",
    "    paper_bgcolor='#F4F2F0', plot_bgcolor='#F4F2F0', font_color='#28221D'\n",
    ")\n",
    "\n",
    "fig.show()\n"
   ]
  },
  {
   "cell_type": "markdown",
   "metadata": {},
   "source": [
    "In comparison to current employees, former employees had lower median salaries across all three departments. In Human Resources, women tend to have higher median salaries than men."
   ]
  },
  {
   "cell_type": "code",
   "execution_count": 94,
   "metadata": {
    "_kg_hide-input": true
   },
   "outputs": [
    {
     "data": {
      "application/vnd.plotly.v1+json": {
       "config": {
        "plotlyServerURL": "https://plot.ly"
       },
       "data": [
        {
         "alignmentgroup": "True",
         "hovertemplate": "JobRole=%{x}<br>Salary=%{text}<extra></extra>",
         "legendgroup": "",
         "marker": {
          "color": "#3A5F53",
          "line": {
           "color": "#28221D",
           "width": 1
          },
          "opacity": 0.7,
          "pattern": {
           "shape": ""
          }
         },
         "name": "",
         "offsetgroup": "",
         "orientation": "v",
         "showlegend": false,
         "text": [
          206180.1176470588,
          192402.59999999998,
          90345.16030534351,
          87541.6551724138,
          83091.34969325154,
          50829,
          38879.67123287671,
          38846.03861003861,
          31512
         ],
         "textposition": "outside",
         "texttemplate": "$%{text:,.0f}",
         "type": "bar",
         "x": [
          "Manager",
          "Research Director",
          "Healthcare Representative",
          "Manufacturing Director",
          "Sales Executive",
          "Human Resources",
          "Research Scientist",
          "Laboratory Technician",
          "Sales Representative"
         ],
         "xaxis": "x",
         "y": [
          206180.1176470588,
          192402.59999999998,
          90345.16030534351,
          87541.6551724138,
          83091.34969325154,
          50829,
          38879.67123287671,
          38846.03861003861,
          31512
         ],
         "yaxis": "y"
        }
       ],
       "layout": {
        "autosize": true,
        "barmode": "relative",
        "font": {
         "color": "#28221D"
        },
        "legend": {
         "tracegroupgap": 0
        },
        "margin": {
         "t": 60
        },
        "paper_bgcolor": "#F4F2F0",
        "plot_bgcolor": "#F4F2F0",
        "template": {
         "data": {
          "bar": [
           {
            "error_x": {
             "color": "#2a3f5f"
            },
            "error_y": {
             "color": "#2a3f5f"
            },
            "marker": {
             "line": {
              "color": "#E5ECF6",
              "width": 0.5
             },
             "pattern": {
              "fillmode": "overlay",
              "size": 10,
              "solidity": 0.2
             }
            },
            "type": "bar"
           }
          ],
          "barpolar": [
           {
            "marker": {
             "line": {
              "color": "#E5ECF6",
              "width": 0.5
             },
             "pattern": {
              "fillmode": "overlay",
              "size": 10,
              "solidity": 0.2
             }
            },
            "type": "barpolar"
           }
          ],
          "carpet": [
           {
            "aaxis": {
             "endlinecolor": "#2a3f5f",
             "gridcolor": "white",
             "linecolor": "white",
             "minorgridcolor": "white",
             "startlinecolor": "#2a3f5f"
            },
            "baxis": {
             "endlinecolor": "#2a3f5f",
             "gridcolor": "white",
             "linecolor": "white",
             "minorgridcolor": "white",
             "startlinecolor": "#2a3f5f"
            },
            "type": "carpet"
           }
          ],
          "choropleth": [
           {
            "colorbar": {
             "outlinewidth": 0,
             "ticks": ""
            },
            "type": "choropleth"
           }
          ],
          "contour": [
           {
            "colorbar": {
             "outlinewidth": 0,
             "ticks": ""
            },
            "colorscale": [
             [
              0,
              "#0d0887"
             ],
             [
              0.1111111111111111,
              "#46039f"
             ],
             [
              0.2222222222222222,
              "#7201a8"
             ],
             [
              0.3333333333333333,
              "#9c179e"
             ],
             [
              0.4444444444444444,
              "#bd3786"
             ],
             [
              0.5555555555555556,
              "#d8576b"
             ],
             [
              0.6666666666666666,
              "#ed7953"
             ],
             [
              0.7777777777777778,
              "#fb9f3a"
             ],
             [
              0.8888888888888888,
              "#fdca26"
             ],
             [
              1,
              "#f0f921"
             ]
            ],
            "type": "contour"
           }
          ],
          "contourcarpet": [
           {
            "colorbar": {
             "outlinewidth": 0,
             "ticks": ""
            },
            "type": "contourcarpet"
           }
          ],
          "heatmap": [
           {
            "colorbar": {
             "outlinewidth": 0,
             "ticks": ""
            },
            "colorscale": [
             [
              0,
              "#0d0887"
             ],
             [
              0.1111111111111111,
              "#46039f"
             ],
             [
              0.2222222222222222,
              "#7201a8"
             ],
             [
              0.3333333333333333,
              "#9c179e"
             ],
             [
              0.4444444444444444,
              "#bd3786"
             ],
             [
              0.5555555555555556,
              "#d8576b"
             ],
             [
              0.6666666666666666,
              "#ed7953"
             ],
             [
              0.7777777777777778,
              "#fb9f3a"
             ],
             [
              0.8888888888888888,
              "#fdca26"
             ],
             [
              1,
              "#f0f921"
             ]
            ],
            "type": "heatmap"
           }
          ],
          "heatmapgl": [
           {
            "colorbar": {
             "outlinewidth": 0,
             "ticks": ""
            },
            "colorscale": [
             [
              0,
              "#0d0887"
             ],
             [
              0.1111111111111111,
              "#46039f"
             ],
             [
              0.2222222222222222,
              "#7201a8"
             ],
             [
              0.3333333333333333,
              "#9c179e"
             ],
             [
              0.4444444444444444,
              "#bd3786"
             ],
             [
              0.5555555555555556,
              "#d8576b"
             ],
             [
              0.6666666666666666,
              "#ed7953"
             ],
             [
              0.7777777777777778,
              "#fb9f3a"
             ],
             [
              0.8888888888888888,
              "#fdca26"
             ],
             [
              1,
              "#f0f921"
             ]
            ],
            "type": "heatmapgl"
           }
          ],
          "histogram": [
           {
            "marker": {
             "pattern": {
              "fillmode": "overlay",
              "size": 10,
              "solidity": 0.2
             }
            },
            "type": "histogram"
           }
          ],
          "histogram2d": [
           {
            "colorbar": {
             "outlinewidth": 0,
             "ticks": ""
            },
            "colorscale": [
             [
              0,
              "#0d0887"
             ],
             [
              0.1111111111111111,
              "#46039f"
             ],
             [
              0.2222222222222222,
              "#7201a8"
             ],
             [
              0.3333333333333333,
              "#9c179e"
             ],
             [
              0.4444444444444444,
              "#bd3786"
             ],
             [
              0.5555555555555556,
              "#d8576b"
             ],
             [
              0.6666666666666666,
              "#ed7953"
             ],
             [
              0.7777777777777778,
              "#fb9f3a"
             ],
             [
              0.8888888888888888,
              "#fdca26"
             ],
             [
              1,
              "#f0f921"
             ]
            ],
            "type": "histogram2d"
           }
          ],
          "histogram2dcontour": [
           {
            "colorbar": {
             "outlinewidth": 0,
             "ticks": ""
            },
            "colorscale": [
             [
              0,
              "#0d0887"
             ],
             [
              0.1111111111111111,
              "#46039f"
             ],
             [
              0.2222222222222222,
              "#7201a8"
             ],
             [
              0.3333333333333333,
              "#9c179e"
             ],
             [
              0.4444444444444444,
              "#bd3786"
             ],
             [
              0.5555555555555556,
              "#d8576b"
             ],
             [
              0.6666666666666666,
              "#ed7953"
             ],
             [
              0.7777777777777778,
              "#fb9f3a"
             ],
             [
              0.8888888888888888,
              "#fdca26"
             ],
             [
              1,
              "#f0f921"
             ]
            ],
            "type": "histogram2dcontour"
           }
          ],
          "mesh3d": [
           {
            "colorbar": {
             "outlinewidth": 0,
             "ticks": ""
            },
            "type": "mesh3d"
           }
          ],
          "parcoords": [
           {
            "line": {
             "colorbar": {
              "outlinewidth": 0,
              "ticks": ""
             }
            },
            "type": "parcoords"
           }
          ],
          "pie": [
           {
            "automargin": true,
            "type": "pie"
           }
          ],
          "scatter": [
           {
            "fillpattern": {
             "fillmode": "overlay",
             "size": 10,
             "solidity": 0.2
            },
            "type": "scatter"
           }
          ],
          "scatter3d": [
           {
            "line": {
             "colorbar": {
              "outlinewidth": 0,
              "ticks": ""
             }
            },
            "marker": {
             "colorbar": {
              "outlinewidth": 0,
              "ticks": ""
             }
            },
            "type": "scatter3d"
           }
          ],
          "scattercarpet": [
           {
            "marker": {
             "colorbar": {
              "outlinewidth": 0,
              "ticks": ""
             }
            },
            "type": "scattercarpet"
           }
          ],
          "scattergeo": [
           {
            "marker": {
             "colorbar": {
              "outlinewidth": 0,
              "ticks": ""
             }
            },
            "type": "scattergeo"
           }
          ],
          "scattergl": [
           {
            "marker": {
             "colorbar": {
              "outlinewidth": 0,
              "ticks": ""
             }
            },
            "type": "scattergl"
           }
          ],
          "scattermapbox": [
           {
            "marker": {
             "colorbar": {
              "outlinewidth": 0,
              "ticks": ""
             }
            },
            "type": "scattermapbox"
           }
          ],
          "scatterpolar": [
           {
            "marker": {
             "colorbar": {
              "outlinewidth": 0,
              "ticks": ""
             }
            },
            "type": "scatterpolar"
           }
          ],
          "scatterpolargl": [
           {
            "marker": {
             "colorbar": {
              "outlinewidth": 0,
              "ticks": ""
             }
            },
            "type": "scatterpolargl"
           }
          ],
          "scatterternary": [
           {
            "marker": {
             "colorbar": {
              "outlinewidth": 0,
              "ticks": ""
             }
            },
            "type": "scatterternary"
           }
          ],
          "surface": [
           {
            "colorbar": {
             "outlinewidth": 0,
             "ticks": ""
            },
            "colorscale": [
             [
              0,
              "#0d0887"
             ],
             [
              0.1111111111111111,
              "#46039f"
             ],
             [
              0.2222222222222222,
              "#7201a8"
             ],
             [
              0.3333333333333333,
              "#9c179e"
             ],
             [
              0.4444444444444444,
              "#bd3786"
             ],
             [
              0.5555555555555556,
              "#d8576b"
             ],
             [
              0.6666666666666666,
              "#ed7953"
             ],
             [
              0.7777777777777778,
              "#fb9f3a"
             ],
             [
              0.8888888888888888,
              "#fdca26"
             ],
             [
              1,
              "#f0f921"
             ]
            ],
            "type": "surface"
           }
          ],
          "table": [
           {
            "cells": {
             "fill": {
              "color": "#EBF0F8"
             },
             "line": {
              "color": "white"
             }
            },
            "header": {
             "fill": {
              "color": "#C8D4E3"
             },
             "line": {
              "color": "white"
             }
            },
            "type": "table"
           }
          ]
         },
         "layout": {
          "annotationdefaults": {
           "arrowcolor": "#2a3f5f",
           "arrowhead": 0,
           "arrowwidth": 1
          },
          "autotypenumbers": "strict",
          "coloraxis": {
           "colorbar": {
            "outlinewidth": 0,
            "ticks": ""
           }
          },
          "colorscale": {
           "diverging": [
            [
             0,
             "#8e0152"
            ],
            [
             0.1,
             "#c51b7d"
            ],
            [
             0.2,
             "#de77ae"
            ],
            [
             0.3,
             "#f1b6da"
            ],
            [
             0.4,
             "#fde0ef"
            ],
            [
             0.5,
             "#f7f7f7"
            ],
            [
             0.6,
             "#e6f5d0"
            ],
            [
             0.7,
             "#b8e186"
            ],
            [
             0.8,
             "#7fbc41"
            ],
            [
             0.9,
             "#4d9221"
            ],
            [
             1,
             "#276419"
            ]
           ],
           "sequential": [
            [
             0,
             "#0d0887"
            ],
            [
             0.1111111111111111,
             "#46039f"
            ],
            [
             0.2222222222222222,
             "#7201a8"
            ],
            [
             0.3333333333333333,
             "#9c179e"
            ],
            [
             0.4444444444444444,
             "#bd3786"
            ],
            [
             0.5555555555555556,
             "#d8576b"
            ],
            [
             0.6666666666666666,
             "#ed7953"
            ],
            [
             0.7777777777777778,
             "#fb9f3a"
            ],
            [
             0.8888888888888888,
             "#fdca26"
            ],
            [
             1,
             "#f0f921"
            ]
           ],
           "sequentialminus": [
            [
             0,
             "#0d0887"
            ],
            [
             0.1111111111111111,
             "#46039f"
            ],
            [
             0.2222222222222222,
             "#7201a8"
            ],
            [
             0.3333333333333333,
             "#9c179e"
            ],
            [
             0.4444444444444444,
             "#bd3786"
            ],
            [
             0.5555555555555556,
             "#d8576b"
            ],
            [
             0.6666666666666666,
             "#ed7953"
            ],
            [
             0.7777777777777778,
             "#fb9f3a"
            ],
            [
             0.8888888888888888,
             "#fdca26"
            ],
            [
             1,
             "#f0f921"
            ]
           ]
          },
          "colorway": [
           "#636efa",
           "#EF553B",
           "#00cc96",
           "#ab63fa",
           "#FFA15A",
           "#19d3f3",
           "#FF6692",
           "#B6E880",
           "#FF97FF",
           "#FECB52"
          ],
          "font": {
           "color": "#2a3f5f"
          },
          "geo": {
           "bgcolor": "white",
           "lakecolor": "white",
           "landcolor": "#E5ECF6",
           "showlakes": true,
           "showland": true,
           "subunitcolor": "white"
          },
          "hoverlabel": {
           "align": "left"
          },
          "hovermode": "closest",
          "mapbox": {
           "style": "light"
          },
          "paper_bgcolor": "white",
          "plot_bgcolor": "#E5ECF6",
          "polar": {
           "angularaxis": {
            "gridcolor": "white",
            "linecolor": "white",
            "ticks": ""
           },
           "bgcolor": "#E5ECF6",
           "radialaxis": {
            "gridcolor": "white",
            "linecolor": "white",
            "ticks": ""
           }
          },
          "scene": {
           "xaxis": {
            "backgroundcolor": "#E5ECF6",
            "gridcolor": "white",
            "gridwidth": 2,
            "linecolor": "white",
            "showbackground": true,
            "ticks": "",
            "zerolinecolor": "white"
           },
           "yaxis": {
            "backgroundcolor": "#E5ECF6",
            "gridcolor": "white",
            "gridwidth": 2,
            "linecolor": "white",
            "showbackground": true,
            "ticks": "",
            "zerolinecolor": "white"
           },
           "zaxis": {
            "backgroundcolor": "#E5ECF6",
            "gridcolor": "white",
            "gridwidth": 2,
            "linecolor": "white",
            "showbackground": true,
            "ticks": "",
            "zerolinecolor": "white"
           }
          },
          "shapedefaults": {
           "line": {
            "color": "#2a3f5f"
           }
          },
          "ternary": {
           "aaxis": {
            "gridcolor": "white",
            "linecolor": "white",
            "ticks": ""
           },
           "baxis": {
            "gridcolor": "white",
            "linecolor": "white",
            "ticks": ""
           },
           "bgcolor": "#E5ECF6",
           "caxis": {
            "gridcolor": "white",
            "linecolor": "white",
            "ticks": ""
           }
          },
          "title": {
           "x": 0.05
          },
          "xaxis": {
           "automargin": true,
           "gridcolor": "white",
           "linecolor": "white",
           "ticks": "",
           "title": {
            "standoff": 15
           },
           "zerolinecolor": "white",
           "zerolinewidth": 2
          },
          "yaxis": {
           "automargin": true,
           "gridcolor": "white",
           "linecolor": "white",
           "ticks": "",
           "title": {
            "standoff": 15
           },
           "zerolinecolor": "white",
           "zerolinewidth": 2
          }
         }
        },
        "title": {
         "text": "Average Salaries by Job Role"
        },
        "xaxis": {
         "anchor": "y",
         "autorange": true,
         "domain": [
          0,
          1
         ],
         "range": [
          -0.5,
          8.5
         ],
         "title": {
          "text": ""
         },
         "type": "category"
        },
        "yaxis": {
         "anchor": "x",
         "autorange": true,
         "domain": [
          0,
          1
         ],
         "range": [
          0,
          217031.7027863777
         ],
         "tickprefix": "$",
         "title": {
          "text": "Salary"
         },
         "type": "linear",
         "zeroline": true,
         "zerolinecolor": "#28221D",
         "zerolinewidth": 1
        }
       }
      },
      "text/html": [
       "<div>                            <div id=\"c9eb2fa4-6596-4a74-8c65-89bffaea604b\" class=\"plotly-graph-div\" style=\"height:500px; width:100%;\"></div>            <script type=\"text/javascript\">                require([\"plotly\"], function(Plotly) {                    window.PLOTLYENV=window.PLOTLYENV || {};                                    if (document.getElementById(\"c9eb2fa4-6596-4a74-8c65-89bffaea604b\")) {                    Plotly.newPlot(                        \"c9eb2fa4-6596-4a74-8c65-89bffaea604b\",                        [{\"alignmentgroup\":\"True\",\"hovertemplate\":\"JobRole=%{x}\\u003cbr\\u003eSalary=%{text}\\u003cextra\\u003e\\u003c\\u002fextra\\u003e\",\"legendgroup\":\"\",\"marker\":{\"color\":\"#3A5F53\",\"opacity\":0.7,\"pattern\":{\"shape\":\"\"},\"line\":{\"color\":\"#28221D\",\"width\":1}},\"name\":\"\",\"offsetgroup\":\"\",\"orientation\":\"v\",\"showlegend\":false,\"text\":[206180.1176470588,192402.59999999998,90345.16030534351,87541.6551724138,83091.34969325154,50829.0,38879.67123287671,38846.03861003861,31512.0],\"textposition\":\"outside\",\"x\":[\"Manager\",\"Research Director\",\"Healthcare Representative\",\"Manufacturing Director\",\"Sales Executive\",\"Human Resources\",\"Research Scientist\",\"Laboratory Technician\",\"Sales Representative\"],\"xaxis\":\"x\",\"y\":[206180.1176470588,192402.59999999998,90345.16030534351,87541.6551724138,83091.34969325154,50829.0,38879.67123287671,38846.03861003861,31512.0],\"yaxis\":\"y\",\"type\":\"bar\",\"texttemplate\":\"$%{text:,.0f}\"}],                        {\"template\":{\"data\":{\"histogram2dcontour\":[{\"type\":\"histogram2dcontour\",\"colorbar\":{\"outlinewidth\":0,\"ticks\":\"\"},\"colorscale\":[[0.0,\"#0d0887\"],[0.1111111111111111,\"#46039f\"],[0.2222222222222222,\"#7201a8\"],[0.3333333333333333,\"#9c179e\"],[0.4444444444444444,\"#bd3786\"],[0.5555555555555556,\"#d8576b\"],[0.6666666666666666,\"#ed7953\"],[0.7777777777777778,\"#fb9f3a\"],[0.8888888888888888,\"#fdca26\"],[1.0,\"#f0f921\"]]}],\"choropleth\":[{\"type\":\"choropleth\",\"colorbar\":{\"outlinewidth\":0,\"ticks\":\"\"}}],\"histogram2d\":[{\"type\":\"histogram2d\",\"colorbar\":{\"outlinewidth\":0,\"ticks\":\"\"},\"colorscale\":[[0.0,\"#0d0887\"],[0.1111111111111111,\"#46039f\"],[0.2222222222222222,\"#7201a8\"],[0.3333333333333333,\"#9c179e\"],[0.4444444444444444,\"#bd3786\"],[0.5555555555555556,\"#d8576b\"],[0.6666666666666666,\"#ed7953\"],[0.7777777777777778,\"#fb9f3a\"],[0.8888888888888888,\"#fdca26\"],[1.0,\"#f0f921\"]]}],\"heatmap\":[{\"type\":\"heatmap\",\"colorbar\":{\"outlinewidth\":0,\"ticks\":\"\"},\"colorscale\":[[0.0,\"#0d0887\"],[0.1111111111111111,\"#46039f\"],[0.2222222222222222,\"#7201a8\"],[0.3333333333333333,\"#9c179e\"],[0.4444444444444444,\"#bd3786\"],[0.5555555555555556,\"#d8576b\"],[0.6666666666666666,\"#ed7953\"],[0.7777777777777778,\"#fb9f3a\"],[0.8888888888888888,\"#fdca26\"],[1.0,\"#f0f921\"]]}],\"heatmapgl\":[{\"type\":\"heatmapgl\",\"colorbar\":{\"outlinewidth\":0,\"ticks\":\"\"},\"colorscale\":[[0.0,\"#0d0887\"],[0.1111111111111111,\"#46039f\"],[0.2222222222222222,\"#7201a8\"],[0.3333333333333333,\"#9c179e\"],[0.4444444444444444,\"#bd3786\"],[0.5555555555555556,\"#d8576b\"],[0.6666666666666666,\"#ed7953\"],[0.7777777777777778,\"#fb9f3a\"],[0.8888888888888888,\"#fdca26\"],[1.0,\"#f0f921\"]]}],\"contourcarpet\":[{\"type\":\"contourcarpet\",\"colorbar\":{\"outlinewidth\":0,\"ticks\":\"\"}}],\"contour\":[{\"type\":\"contour\",\"colorbar\":{\"outlinewidth\":0,\"ticks\":\"\"},\"colorscale\":[[0.0,\"#0d0887\"],[0.1111111111111111,\"#46039f\"],[0.2222222222222222,\"#7201a8\"],[0.3333333333333333,\"#9c179e\"],[0.4444444444444444,\"#bd3786\"],[0.5555555555555556,\"#d8576b\"],[0.6666666666666666,\"#ed7953\"],[0.7777777777777778,\"#fb9f3a\"],[0.8888888888888888,\"#fdca26\"],[1.0,\"#f0f921\"]]}],\"surface\":[{\"type\":\"surface\",\"colorbar\":{\"outlinewidth\":0,\"ticks\":\"\"},\"colorscale\":[[0.0,\"#0d0887\"],[0.1111111111111111,\"#46039f\"],[0.2222222222222222,\"#7201a8\"],[0.3333333333333333,\"#9c179e\"],[0.4444444444444444,\"#bd3786\"],[0.5555555555555556,\"#d8576b\"],[0.6666666666666666,\"#ed7953\"],[0.7777777777777778,\"#fb9f3a\"],[0.8888888888888888,\"#fdca26\"],[1.0,\"#f0f921\"]]}],\"mesh3d\":[{\"type\":\"mesh3d\",\"colorbar\":{\"outlinewidth\":0,\"ticks\":\"\"}}],\"scatter\":[{\"fillpattern\":{\"fillmode\":\"overlay\",\"size\":10,\"solidity\":0.2},\"type\":\"scatter\"}],\"parcoords\":[{\"type\":\"parcoords\",\"line\":{\"colorbar\":{\"outlinewidth\":0,\"ticks\":\"\"}}}],\"scatterpolargl\":[{\"type\":\"scatterpolargl\",\"marker\":{\"colorbar\":{\"outlinewidth\":0,\"ticks\":\"\"}}}],\"bar\":[{\"error_x\":{\"color\":\"#2a3f5f\"},\"error_y\":{\"color\":\"#2a3f5f\"},\"marker\":{\"line\":{\"color\":\"#E5ECF6\",\"width\":0.5},\"pattern\":{\"fillmode\":\"overlay\",\"size\":10,\"solidity\":0.2}},\"type\":\"bar\"}],\"scattergeo\":[{\"type\":\"scattergeo\",\"marker\":{\"colorbar\":{\"outlinewidth\":0,\"ticks\":\"\"}}}],\"scatterpolar\":[{\"type\":\"scatterpolar\",\"marker\":{\"colorbar\":{\"outlinewidth\":0,\"ticks\":\"\"}}}],\"histogram\":[{\"marker\":{\"pattern\":{\"fillmode\":\"overlay\",\"size\":10,\"solidity\":0.2}},\"type\":\"histogram\"}],\"scattergl\":[{\"type\":\"scattergl\",\"marker\":{\"colorbar\":{\"outlinewidth\":0,\"ticks\":\"\"}}}],\"scatter3d\":[{\"type\":\"scatter3d\",\"line\":{\"colorbar\":{\"outlinewidth\":0,\"ticks\":\"\"}},\"marker\":{\"colorbar\":{\"outlinewidth\":0,\"ticks\":\"\"}}}],\"scattermapbox\":[{\"type\":\"scattermapbox\",\"marker\":{\"colorbar\":{\"outlinewidth\":0,\"ticks\":\"\"}}}],\"scatterternary\":[{\"type\":\"scatterternary\",\"marker\":{\"colorbar\":{\"outlinewidth\":0,\"ticks\":\"\"}}}],\"scattercarpet\":[{\"type\":\"scattercarpet\",\"marker\":{\"colorbar\":{\"outlinewidth\":0,\"ticks\":\"\"}}}],\"carpet\":[{\"aaxis\":{\"endlinecolor\":\"#2a3f5f\",\"gridcolor\":\"white\",\"linecolor\":\"white\",\"minorgridcolor\":\"white\",\"startlinecolor\":\"#2a3f5f\"},\"baxis\":{\"endlinecolor\":\"#2a3f5f\",\"gridcolor\":\"white\",\"linecolor\":\"white\",\"minorgridcolor\":\"white\",\"startlinecolor\":\"#2a3f5f\"},\"type\":\"carpet\"}],\"table\":[{\"cells\":{\"fill\":{\"color\":\"#EBF0F8\"},\"line\":{\"color\":\"white\"}},\"header\":{\"fill\":{\"color\":\"#C8D4E3\"},\"line\":{\"color\":\"white\"}},\"type\":\"table\"}],\"barpolar\":[{\"marker\":{\"line\":{\"color\":\"#E5ECF6\",\"width\":0.5},\"pattern\":{\"fillmode\":\"overlay\",\"size\":10,\"solidity\":0.2}},\"type\":\"barpolar\"}],\"pie\":[{\"automargin\":true,\"type\":\"pie\"}]},\"layout\":{\"autotypenumbers\":\"strict\",\"colorway\":[\"#636efa\",\"#EF553B\",\"#00cc96\",\"#ab63fa\",\"#FFA15A\",\"#19d3f3\",\"#FF6692\",\"#B6E880\",\"#FF97FF\",\"#FECB52\"],\"font\":{\"color\":\"#2a3f5f\"},\"hovermode\":\"closest\",\"hoverlabel\":{\"align\":\"left\"},\"paper_bgcolor\":\"white\",\"plot_bgcolor\":\"#E5ECF6\",\"polar\":{\"bgcolor\":\"#E5ECF6\",\"angularaxis\":{\"gridcolor\":\"white\",\"linecolor\":\"white\",\"ticks\":\"\"},\"radialaxis\":{\"gridcolor\":\"white\",\"linecolor\":\"white\",\"ticks\":\"\"}},\"ternary\":{\"bgcolor\":\"#E5ECF6\",\"aaxis\":{\"gridcolor\":\"white\",\"linecolor\":\"white\",\"ticks\":\"\"},\"baxis\":{\"gridcolor\":\"white\",\"linecolor\":\"white\",\"ticks\":\"\"},\"caxis\":{\"gridcolor\":\"white\",\"linecolor\":\"white\",\"ticks\":\"\"}},\"coloraxis\":{\"colorbar\":{\"outlinewidth\":0,\"ticks\":\"\"}},\"colorscale\":{\"sequential\":[[0.0,\"#0d0887\"],[0.1111111111111111,\"#46039f\"],[0.2222222222222222,\"#7201a8\"],[0.3333333333333333,\"#9c179e\"],[0.4444444444444444,\"#bd3786\"],[0.5555555555555556,\"#d8576b\"],[0.6666666666666666,\"#ed7953\"],[0.7777777777777778,\"#fb9f3a\"],[0.8888888888888888,\"#fdca26\"],[1.0,\"#f0f921\"]],\"sequentialminus\":[[0.0,\"#0d0887\"],[0.1111111111111111,\"#46039f\"],[0.2222222222222222,\"#7201a8\"],[0.3333333333333333,\"#9c179e\"],[0.4444444444444444,\"#bd3786\"],[0.5555555555555556,\"#d8576b\"],[0.6666666666666666,\"#ed7953\"],[0.7777777777777778,\"#fb9f3a\"],[0.8888888888888888,\"#fdca26\"],[1.0,\"#f0f921\"]],\"diverging\":[[0,\"#8e0152\"],[0.1,\"#c51b7d\"],[0.2,\"#de77ae\"],[0.3,\"#f1b6da\"],[0.4,\"#fde0ef\"],[0.5,\"#f7f7f7\"],[0.6,\"#e6f5d0\"],[0.7,\"#b8e186\"],[0.8,\"#7fbc41\"],[0.9,\"#4d9221\"],[1,\"#276419\"]]},\"xaxis\":{\"gridcolor\":\"white\",\"linecolor\":\"white\",\"ticks\":\"\",\"title\":{\"standoff\":15},\"zerolinecolor\":\"white\",\"automargin\":true,\"zerolinewidth\":2},\"yaxis\":{\"gridcolor\":\"white\",\"linecolor\":\"white\",\"ticks\":\"\",\"title\":{\"standoff\":15},\"zerolinecolor\":\"white\",\"automargin\":true,\"zerolinewidth\":2},\"scene\":{\"xaxis\":{\"backgroundcolor\":\"#E5ECF6\",\"gridcolor\":\"white\",\"linecolor\":\"white\",\"showbackground\":true,\"ticks\":\"\",\"zerolinecolor\":\"white\",\"gridwidth\":2},\"yaxis\":{\"backgroundcolor\":\"#E5ECF6\",\"gridcolor\":\"white\",\"linecolor\":\"white\",\"showbackground\":true,\"ticks\":\"\",\"zerolinecolor\":\"white\",\"gridwidth\":2},\"zaxis\":{\"backgroundcolor\":\"#E5ECF6\",\"gridcolor\":\"white\",\"linecolor\":\"white\",\"showbackground\":true,\"ticks\":\"\",\"zerolinecolor\":\"white\",\"gridwidth\":2}},\"shapedefaults\":{\"line\":{\"color\":\"#2a3f5f\"}},\"annotationdefaults\":{\"arrowcolor\":\"#2a3f5f\",\"arrowhead\":0,\"arrowwidth\":1},\"geo\":{\"bgcolor\":\"white\",\"landcolor\":\"#E5ECF6\",\"subunitcolor\":\"white\",\"showland\":true,\"showlakes\":true,\"lakecolor\":\"white\"},\"title\":{\"x\":0.05},\"mapbox\":{\"style\":\"light\"}}},\"xaxis\":{\"anchor\":\"y\",\"domain\":[0.0,1.0],\"title\":{\"text\":\"\"}},\"yaxis\":{\"anchor\":\"x\",\"domain\":[0.0,1.0],\"title\":{\"text\":\"Salary\"},\"tickprefix\":\"$\",\"zeroline\":true,\"zerolinewidth\":1,\"zerolinecolor\":\"#28221D\"},\"legend\":{\"tracegroupgap\":0},\"margin\":{\"t\":60},\"barmode\":\"relative\",\"font\":{\"color\":\"#28221D\"},\"title\":{\"text\":\"Average Salaries by Job Role\"},\"height\":500,\"paper_bgcolor\":\"#F4F2F0\",\"plot_bgcolor\":\"#F4F2F0\"},                        {\"responsive\": true}                    ).then(function(){\n",
       "                            \n",
       "var gd = document.getElementById('c9eb2fa4-6596-4a74-8c65-89bffaea604b');\n",
       "var x = new MutationObserver(function (mutations, observer) {{\n",
       "        var display = window.getComputedStyle(gd).display;\n",
       "        if (!display || display === 'none') {{\n",
       "            console.log([gd, 'removed!']);\n",
       "            Plotly.purge(gd);\n",
       "            observer.disconnect();\n",
       "        }}\n",
       "}});\n",
       "\n",
       "// Listen for the removal of the full notebook cells\n",
       "var notebookContainer = gd.closest('#notebook-container');\n",
       "if (notebookContainer) {{\n",
       "    x.observe(notebookContainer, {childList: true});\n",
       "}}\n",
       "\n",
       "// Listen for the clearing of the current output cell\n",
       "var outputEl = gd.closest('.output');\n",
       "if (outputEl) {{\n",
       "    x.observe(outputEl, {childList: true});\n",
       "}}\n",
       "\n",
       "                        })                };                });            </script>        </div>"
      ]
     },
     "metadata": {},
     "output_type": "display_data"
    }
   ],
   "source": [
    "import plotly.express as px\n",
    "\n",
    "# Group by JobRole → average MonthlyIncome → annual salary\n",
    "plot_df = (\n",
    "    data.groupby('JobRole')['MonthlyIncome']\n",
    "    .mean()\n",
    "    .mul(12)  # convert monthly to annual\n",
    "    .rename('Salary')\n",
    "    .reset_index()\n",
    "    .sort_values('Salary', ascending=False)\n",
    ")\n",
    "\n",
    "# Bar plot\n",
    "fig = px.bar(plot_df,\n",
    "             x='JobRole', y='Salary',\n",
    "             text='Salary', opacity=0.7,\n",
    "             color_discrete_sequence=['#3A5F53'])  # single color\n",
    "\n",
    "# Dollar formatting for labels\n",
    "fig.update_traces(texttemplate='$%{text:,.0f}', textposition='outside',\n",
    "                  marker_line=dict(width=1, color='#28221D'))\n",
    "\n",
    "# Layout adjustments\n",
    "fig.update_layout(\n",
    "    title=\"Average Salaries by Job Role\",\n",
    "    yaxis=dict(title='Salary', tickprefix='$', zeroline=True, zerolinewidth=1, zerolinecolor='#28221D'),\n",
    "    xaxis_title='',\n",
    "    height=500,\n",
    "    paper_bgcolor='#F4F2F0', plot_bgcolor='#F4F2F0',\n",
    "    font_color='#28221D'\n",
    ")\n",
    "\n",
    "fig.show()\n"
   ]
  },
  {
   "cell_type": "markdown",
   "metadata": {},
   "source": [
    "Managers and Research Directors have the highest average salaries, while Laboratory Technicians and Sales Representatives have the lowest."
   ]
  },
  {
   "cell_type": "code",
   "execution_count": 96,
   "metadata": {
    "_kg_hide-input": true
   },
   "outputs": [
    {
     "data": {
      "application/vnd.plotly.v1+json": {
       "config": {
        "plotlyServerURL": "https://plot.ly"
       },
       "data": [
        {
         "alignmentgroup": "True",
         "bingroup": "x",
         "histnorm": "density",
         "hovertemplate": "Attrition=No<br>MonthlyIncome=%{x}<br>density=%{y}<extra></extra>",
         "legendgroup": "No",
         "marker": {
          "color": "#CDBBA7",
          "opacity": 0.8,
          "pattern": {
           "shape": ""
          }
         },
         "name": "No",
         "offsetgroup": "No",
         "orientation": "v",
         "showlegend": true,
         "type": "histogram",
         "x": [
          2451,
          4534,
          11916,
          16880,
          6674,
          3423,
          7094,
          4627,
          9852,
          2372,
          18061,
          6209,
          2096,
          2080,
          4695,
          2838,
          3867,
          17123,
          6151,
          17861,
          19187,
          5363,
          1611,
          13142,
          2534,
          7898,
          4639,
          2387,
          3669,
          6125,
          6893,
          14026,
          4249,
          4103,
          4661,
          8500,
          3544,
          19717,
          5410,
          10231,
          2372,
          3506,
          18711,
          19740,
          5171,
          6812,
          6833,
          17779,
          3760,
          2011,
          10502,
          2235,
          10377,
          13191,
          3579,
          4950,
          6852,
          2781,
          10252,
          3692,
          5071,
          2559,
          6623,
          4490,
          19190,
          2154,
          4444,
          10512,
          19847,
          4538,
          18789,
          13577,
          2875,
          1223,
          2994,
          8380,
          18213,
          2585,
          16124,
          18265,
          2517,
          13402,
          2029,
          6377,
          4768,
          3673,
          5301,
          4759,
          4373,
          3420,
          2345,
          6651,
          16598,
          3162,
          8463,
          13757,
          5486,
          9380,
          2109,
          10851,
          10793,
          1274,
          3975,
          4900,
          17007,
          16328,
          16032,
          11244,
          6388,
          6549,
          3180,
          4789,
          4898,
          1563,
          4591,
          3838,
          4035,
          2064,
          8620,
          10209,
          2033,
          2404,
          10466,
          4998,
          2127,
          9204,
          16799,
          3904,
          5769,
          4081,
          13247,
          6232,
          10920,
          4078,
          9998,
          2996,
          5467,
          10596,
          6120,
          4724,
          6687,
          2610,
          5429,
          2950,
          3294,
          3629,
          3229,
          4162,
          17169,
          2066,
          3500,
          3420,
          5647,
          5810,
          2099,
          2996,
          16422,
          4779,
          9278,
          14732,
          19701,
          17328,
          7988,
          3578,
          9362,
          8376,
          2743,
          6272,
          2380,
          18303,
          3917,
          4227,
          12742,
          5003,
          10999,
          13726,
          4240,
          5472,
          11416,
          10388,
          10739,
          1051,
          4148,
          4377,
          5390,
          6385,
          19973,
          6861,
          2007,
          8396,
          4107,
          19237,
          2821,
          1052,
          2220,
          7525,
          2177,
          11904,
          9725,
          4025,
          17650,
          2342,
          10880,
          6347,
          13320,
          10845,
          2684,
          13973,
          4163,
          3617,
          5855,
          2519,
          4721,
          4294,
          9705,
          2332,
          13582,
          4678,
          6932,
          2259,
          7403,
          4014,
          2329,
          10552,
          2799,
          6244,
          6725,
          19627,
          6949,
          2157,
          3633,
          2811,
          19419,
          5488,
          17399,
          2270,
          3452,
          17444,
          5079,
          5067,
          7880,
          7823,
          5666,
          7264,
          14852,
          17099,
          4601,
          4447,
          10686,
          2942,
          8858,
          3131,
          19943,
          2827,
          2376,
          5343,
          10274,
          4422,
          6578,
          4420,
          3597,
          2258,
          5155,
          13499,
          4323,
          5714,
          2539,
          5731,
          2552,
          4766,
          4477,
          3033,
          7379,
          2678,
          4541,
          3491,
          2741,
          4539,
          8966,
          19081,
          3196,
          17856,
          4327,
          4115,
          3600,
          2290,
          17048,
          2168,
          18606,
          6474,
          5220,
          2703,
          5056,
          4302,
          17665,
          6694,
          7756,
          2207,
          7119,
          3660,
          10976,
          4621,
          10322,
          8823,
          3376,
          9957,
          3955,
          4615,
          10798,
          16756,
          2979,
          2844,
          16885,
          10445,
          4272,
          3291,
          4033,
          13120,
          4968,
          3201,
          2791,
          7779,
          6782,
          2070,
          19626,
          10820,
          7351,
          17465,
          7655,
          2514,
          8740,
          5593,
          16606,
          8606,
          2272,
          16823,
          3886,
          5906,
          4788,
          4284,
          2062,
          9713,
          2933,
          4197,
          2856,
          2662,
          3902,
          4774,
          19665,
          19392,
          2804,
          5673,
          6500,
          17174,
          5033,
          2133,
          5151,
          5380,
          5467,
          5747,
          2226,
          5736,
          6834,
          5487,
          5399,
          2544,
          3978,
          8103,
          6583,
          13348,
          4393,
          5507,
          3540,
          13225,
          3968,
          6384,
          6799,
          6513,
          9667,
          10447,
          6870,
          2438,
          4127,
          2592,
          5762,
          5538,
          3377,
          7991,
          13464,
          2044,
          3143,
          4071,
          8321,
          16291,
          17875,
          2705,
          4448,
          2706,
          8578,
          2105,
          2936,
          4648,
          3812,
          2379,
          5675,
          6962,
          5154,
          1514,
          15787,
          4684,
          5405,
          3591,
          9637,
          6854,
          10333,
          4771,
          19161,
          5087,
          18880,
          6306,
          5131,
          7644,
          19431,
          2380,
          2436,
          3482,
          4907,
          13744,
          10422,
          13206,
          4108,
          2269,
          2406,
          2837,
          4878,
          13570,
          5098,
          6712,
          8938,
          6142,
          9991,
          2571,
          2966,
          9936,
          12031,
          3785,
          4025,
          2977,
          2001,
          5689,
          2809,
          4850,
          6652,
          5343,
          8837,
          2439,
          5406,
          19328,
          3375,
          11957,
          7510,
          5968,
          2897,
          9679,
          4105,
          5204,
          2858,
          5003,
          6667,
          5373,
          2867,
          8628,
          9888,
          2810,
          3065,
          2144,
          5561,
          2991,
          2660,
          19636,
          13341,
          2782,
          5410,
          5321,
          3067,
          4440,
          2008,
          8633,
          3977,
          3748,
          2187,
          5677,
          6323,
          2647,
          4617,
          4440,
          11031,
          4332,
          1129,
          4189,
          13116,
          5468,
          5377,
          3211,
          4724,
          4663,
          5332,
          4385,
          5769,
          2141,
          19049,
          3312,
          11245,
          2814,
          17567,
          2690,
          4876,
          4639,
          5063,
          4066,
          3407,
          5208,
          3117,
          8008,
          5869,
          2580,
          3517,
          3760,
          15202,
          5743,
          7945,
          3936,
          7756,
          5770,
          5042,
          5768,
          4148,
          10435,
          3069,
          19658,
          4877,
          5206,
          19613,
          2073,
          5878,
          2430,
          7441,
          4069,
          2296,
          16437,
          5207,
          5473,
          10124,
          2132,
          4320,
          9715,
          4285,
          4841,
          2308,
          14411,
          7083,
          2644,
          5562,
          6439,
          6392,
          19331,
          8853,
          8237,
          6142,
          4723,
          6815,
          4198,
          9924,
          2061,
          5484,
          19586,
          2972,
          2367,
          4087,
          9250,
          2450,
          6077,
          2451,
          2008,
          5295,
          13269,
          2145,
          4968,
          9756,
          19833,
          9610,
          6472,
          5238,
          3295,
          10368,
          4978,
          2862,
          6883,
          5562,
          3907,
          6516,
          6430,
          3477,
          8346,
          3433,
          3445,
          7140,
          3702,
          6029,
          3539,
          12965,
          4001,
          2289,
          3055,
          19038,
          2766,
          5811,
          2718,
          5294,
          2109,
          2468,
          4507,
          5147,
          2932,
          6294,
          16413,
          16704,
          10748,
          15379,
          15972,
          2440,
          2587,
          5476,
          5470,
          5505,
          4187,
          4735,
          17603,
          17426,
          6842,
          4374,
          13966,
          2013,
          5433,
          2783,
          7082,
          2305,
          2728,
          5347,
          4502,
          2974,
          9241,
          4401,
          7847,
          4930,
          7879,
          2929,
          9525,
          2028,
          10883,
          3986,
          3537,
          2570,
          7005,
          3306,
          3195,
          5368,
          2318,
          4404,
          8095,
          2976,
          6032,
          2904,
          2377,
          8268,
          7143,
          15992,
          11510,
          6214,
          6118,
          3983,
          7428,
          7457,
          3697,
          6347,
          9985,
          4649,
          2370,
          2610,
          2213,
          6755,
          9699,
          6653,
          7484,
          2696,
          6781,
          4736,
          5974,
          17328,
          2774,
          12504,
          4505,
          5296,
          4869,
          11631,
          6349,
          16959,
          6410,
          4821,
          5660,
          2613,
          6146,
          5210,
          12061,
          5674,
          9613,
          6929,
          5661,
          1200,
          16015,
          5484,
          2695,
          11878,
          17068,
          9738,
          5257,
          18300,
          4682,
          2835,
          19272,
          8943,
          5775,
          5055,
          7547,
          4478,
          5228,
          2478,
          13964,
          2455,
          2871,
          3452,
          5258,
          2889,
          19566,
          6091,
          4556,
          16555,
          2654,
          7969,
          5209,
          10673,
          8392,
          6577,
          13212,
          5010,
          19197,
          2218,
          4558,
          4810,
          4523,
          5441,
          10266,
          2322,
          2564,
          17046,
          14118,
          8412,
          2075,
          4152,
          11935,
          2097,
          2323,
          2886,
          18041,
          1702,
          13503,
          4449,
          5482,
          4487,
          2258,
          16659,
          2543,
          4936,
          10965,
          5253,
          3816,
          4260,
          4809,
          2201,
          5163,
          18844,
          2657,
          18172,
          10496,
          6540,
          2476,
          2956,
          2244,
          4306,
          6538,
          13549,
          4999,
          19406,
          3448,
          14336,
          4197,
          4221,
          2576,
          5715,
          3034,
          13872,
          2042,
          7596,
          4522,
          5070,
          3688,
          19537,
          2328,
          2238,
          2741,
          3815,
          6804,
          4298,
          2153,
          6261,
          5265,
          1483,
          4425,
          3564,
          16792,
          2089,
          6553,
          5605,
          4876,
          2720,
          2622,
          5914,
          5940,
          8865,
          3452,
          4317,
          17181,
          2632,
          4668,
          12490,
          9981,
          8474,
          3204,
          9396,
          13591,
          2279,
          19999,
          13734,
          2088,
          6132,
          3058,
          3038,
          3346,
          8686,
          3072,
          10855,
          2451,
          19926,
          2566,
          9439,
          2231,
          2713,
          9419,
          5006,
          4257,
          2500,
          7295,
          9547,
          18722,
          2306,
          19033,
          2756,
          4450,
          3690,
          2348,
          2311,
          3929,
          2288,
          10453,
          8998,
          4319,
          12185,
          10609,
          6347,
          4345,
          3230,
          6502,
          2070,
          19045,
          3210,
          2523,
          13603,
          13496,
          5582,
          6644,
          6567,
          16872,
          2176,
          5249,
          4000,
          11996,
          5605,
          6397,
          13525,
          2326,
          2789,
          4485,
          18665,
          3310,
          5745,
          2368,
          2115,
          4741,
          5415,
          4554,
          4907,
          17584,
          19144,
          4739,
          8020,
          2794,
          2723,
          4941,
          3931,
          19068,
          16064,
          19517,
          2267,
          2232,
          19232,
          5902,
          8789,
          7918,
          2793,
          8639,
          2177,
          3212,
          4465,
          3072,
          3319,
          19436,
          2593,
          4898,
          6931,
          8189,
          6545,
          2340,
          10938,
          2942,
          6434,
          3920,
          5957,
          2911,
          13675,
          19202,
          9208,
          17861,
          2024,
          3780,
          2496,
          18430,
          6500,
          4244,
          3833,
          6465,
          2694,
          2206,
          4381,
          5980,
          2782,
          4342,
          5485,
          3280,
          2572,
          2645,
          3149,
          18947,
          2274,
          6877,
          5094,
          6162,
          2143,
          19094,
          17639,
          6062,
          2700,
          6825,
          5228,
          16752,
          10248,
          11691,
          2506,
          4335,
          4364,
          2014,
          3022,
          2297,
          4230,
          2342,
          11103,
          6389,
          2450,
          2500,
          6804,
          5772,
          2642,
          5304,
          13770,
          3708,
          6142,
          5093,
          5309,
          3057,
          3419,
          4258,
          7587,
          5376,
          1951,
          2341,
          6274,
          8726,
          4011,
          3505,
          6632,
          6180,
          4568,
          16856,
          5121,
          1232,
          7861,
          4434,
          2553,
          5562,
          14275,
          2973,
          5237,
          10903,
          2426,
          9526,
          11836,
          2356,
          5231,
          2911,
          2899,
          6524,
          3162,
          4193,
          3580,
          2693,
          7642,
          5130,
          3294,
          6586,
          2909,
          3468,
          4765,
          4537,
          3068,
          2559,
          2532,
          2670,
          2277,
          5204,
          17924,
          4908,
          4256,
          2661,
          2314,
          4037,
          3424,
          15427,
          3944,
          5933,
          16307,
          2559,
          1706,
          3737,
          4779,
          10221,
          12808,
          17159,
          11994,
          4011,
          6201,
          4403,
          2935,
          10685,
          9980,
          4194,
          2342,
          2515,
          2818,
          4775,
          4936,
          6334,
          13826,
          3298,
          5175,
          10761,
          10934,
          3761,
          6288,
          2269,
          6811,
          11713,
          5337,
          2501,
          7491,
          10527,
          16595,
          8834,
          5577,
          2703,
          5473,
          2400,
          9824,
          6447,
          19502,
          2725,
          6272,
          2127,
          18200,
          5985,
          15402,
          5679,
          2619,
          16627,
          2836,
          4859,
          9602,
          5460,
          3681,
          3622,
          9724,
          2194,
          2096,
          2187,
          4306,
          6811,
          10932,
          5021,
          5126,
          9980,
          2093,
          2859,
          10239,
          4051,
          5329,
          2983,
          4325,
          7260,
          10648,
          9071,
          2768,
          7632,
          2579,
          16835,
          4717,
          6220,
          3038,
          11557,
          16184,
          4262,
          4424,
          6230,
          4312,
          7406,
          6582,
          3755,
          13237,
          13245,
          13664,
          4805,
          6499,
          4089,
          19513,
          5915,
          8621,
          3221,
          4680,
          4647,
          8120,
          5993,
          2720,
          4028,
          3447,
          4851,
          2819,
          1281,
          2406,
          18740,
          4553,
          7637,
          4014,
          9069,
          5454,
          3875,
          19189,
          8793,
          9884,
          5405,
          4157,
          19141,
          14814,
          10475,
          13458,
          4960,
          11159,
          7412,
          7625,
          5396,
          2045,
          6162,
          9434,
          5561,
          6646,
          10096,
          8381,
          6322,
          7104,
          14756,
          2083,
          2773,
          2659,
          8847,
          2691,
          10725,
          7725
         ],
         "xaxis": "x",
         "yaxis": "y"
        },
        {
         "alignmentgroup": "True",
         "hovertemplate": "Attrition=No<br>MonthlyIncome=%{x}<extra></extra>",
         "legendgroup": "No",
         "marker": {
          "color": "#CDBBA7"
         },
         "name": "No",
         "notched": true,
         "offsetgroup": "No",
         "showlegend": false,
         "type": "box",
         "x": [
          2451,
          4534,
          11916,
          16880,
          6674,
          3423,
          7094,
          4627,
          9852,
          2372,
          18061,
          6209,
          2096,
          2080,
          4695,
          2838,
          3867,
          17123,
          6151,
          17861,
          19187,
          5363,
          1611,
          13142,
          2534,
          7898,
          4639,
          2387,
          3669,
          6125,
          6893,
          14026,
          4249,
          4103,
          4661,
          8500,
          3544,
          19717,
          5410,
          10231,
          2372,
          3506,
          18711,
          19740,
          5171,
          6812,
          6833,
          17779,
          3760,
          2011,
          10502,
          2235,
          10377,
          13191,
          3579,
          4950,
          6852,
          2781,
          10252,
          3692,
          5071,
          2559,
          6623,
          4490,
          19190,
          2154,
          4444,
          10512,
          19847,
          4538,
          18789,
          13577,
          2875,
          1223,
          2994,
          8380,
          18213,
          2585,
          16124,
          18265,
          2517,
          13402,
          2029,
          6377,
          4768,
          3673,
          5301,
          4759,
          4373,
          3420,
          2345,
          6651,
          16598,
          3162,
          8463,
          13757,
          5486,
          9380,
          2109,
          10851,
          10793,
          1274,
          3975,
          4900,
          17007,
          16328,
          16032,
          11244,
          6388,
          6549,
          3180,
          4789,
          4898,
          1563,
          4591,
          3838,
          4035,
          2064,
          8620,
          10209,
          2033,
          2404,
          10466,
          4998,
          2127,
          9204,
          16799,
          3904,
          5769,
          4081,
          13247,
          6232,
          10920,
          4078,
          9998,
          2996,
          5467,
          10596,
          6120,
          4724,
          6687,
          2610,
          5429,
          2950,
          3294,
          3629,
          3229,
          4162,
          17169,
          2066,
          3500,
          3420,
          5647,
          5810,
          2099,
          2996,
          16422,
          4779,
          9278,
          14732,
          19701,
          17328,
          7988,
          3578,
          9362,
          8376,
          2743,
          6272,
          2380,
          18303,
          3917,
          4227,
          12742,
          5003,
          10999,
          13726,
          4240,
          5472,
          11416,
          10388,
          10739,
          1051,
          4148,
          4377,
          5390,
          6385,
          19973,
          6861,
          2007,
          8396,
          4107,
          19237,
          2821,
          1052,
          2220,
          7525,
          2177,
          11904,
          9725,
          4025,
          17650,
          2342,
          10880,
          6347,
          13320,
          10845,
          2684,
          13973,
          4163,
          3617,
          5855,
          2519,
          4721,
          4294,
          9705,
          2332,
          13582,
          4678,
          6932,
          2259,
          7403,
          4014,
          2329,
          10552,
          2799,
          6244,
          6725,
          19627,
          6949,
          2157,
          3633,
          2811,
          19419,
          5488,
          17399,
          2270,
          3452,
          17444,
          5079,
          5067,
          7880,
          7823,
          5666,
          7264,
          14852,
          17099,
          4601,
          4447,
          10686,
          2942,
          8858,
          3131,
          19943,
          2827,
          2376,
          5343,
          10274,
          4422,
          6578,
          4420,
          3597,
          2258,
          5155,
          13499,
          4323,
          5714,
          2539,
          5731,
          2552,
          4766,
          4477,
          3033,
          7379,
          2678,
          4541,
          3491,
          2741,
          4539,
          8966,
          19081,
          3196,
          17856,
          4327,
          4115,
          3600,
          2290,
          17048,
          2168,
          18606,
          6474,
          5220,
          2703,
          5056,
          4302,
          17665,
          6694,
          7756,
          2207,
          7119,
          3660,
          10976,
          4621,
          10322,
          8823,
          3376,
          9957,
          3955,
          4615,
          10798,
          16756,
          2979,
          2844,
          16885,
          10445,
          4272,
          3291,
          4033,
          13120,
          4968,
          3201,
          2791,
          7779,
          6782,
          2070,
          19626,
          10820,
          7351,
          17465,
          7655,
          2514,
          8740,
          5593,
          16606,
          8606,
          2272,
          16823,
          3886,
          5906,
          4788,
          4284,
          2062,
          9713,
          2933,
          4197,
          2856,
          2662,
          3902,
          4774,
          19665,
          19392,
          2804,
          5673,
          6500,
          17174,
          5033,
          2133,
          5151,
          5380,
          5467,
          5747,
          2226,
          5736,
          6834,
          5487,
          5399,
          2544,
          3978,
          8103,
          6583,
          13348,
          4393,
          5507,
          3540,
          13225,
          3968,
          6384,
          6799,
          6513,
          9667,
          10447,
          6870,
          2438,
          4127,
          2592,
          5762,
          5538,
          3377,
          7991,
          13464,
          2044,
          3143,
          4071,
          8321,
          16291,
          17875,
          2705,
          4448,
          2706,
          8578,
          2105,
          2936,
          4648,
          3812,
          2379,
          5675,
          6962,
          5154,
          1514,
          15787,
          4684,
          5405,
          3591,
          9637,
          6854,
          10333,
          4771,
          19161,
          5087,
          18880,
          6306,
          5131,
          7644,
          19431,
          2380,
          2436,
          3482,
          4907,
          13744,
          10422,
          13206,
          4108,
          2269,
          2406,
          2837,
          4878,
          13570,
          5098,
          6712,
          8938,
          6142,
          9991,
          2571,
          2966,
          9936,
          12031,
          3785,
          4025,
          2977,
          2001,
          5689,
          2809,
          4850,
          6652,
          5343,
          8837,
          2439,
          5406,
          19328,
          3375,
          11957,
          7510,
          5968,
          2897,
          9679,
          4105,
          5204,
          2858,
          5003,
          6667,
          5373,
          2867,
          8628,
          9888,
          2810,
          3065,
          2144,
          5561,
          2991,
          2660,
          19636,
          13341,
          2782,
          5410,
          5321,
          3067,
          4440,
          2008,
          8633,
          3977,
          3748,
          2187,
          5677,
          6323,
          2647,
          4617,
          4440,
          11031,
          4332,
          1129,
          4189,
          13116,
          5468,
          5377,
          3211,
          4724,
          4663,
          5332,
          4385,
          5769,
          2141,
          19049,
          3312,
          11245,
          2814,
          17567,
          2690,
          4876,
          4639,
          5063,
          4066,
          3407,
          5208,
          3117,
          8008,
          5869,
          2580,
          3517,
          3760,
          15202,
          5743,
          7945,
          3936,
          7756,
          5770,
          5042,
          5768,
          4148,
          10435,
          3069,
          19658,
          4877,
          5206,
          19613,
          2073,
          5878,
          2430,
          7441,
          4069,
          2296,
          16437,
          5207,
          5473,
          10124,
          2132,
          4320,
          9715,
          4285,
          4841,
          2308,
          14411,
          7083,
          2644,
          5562,
          6439,
          6392,
          19331,
          8853,
          8237,
          6142,
          4723,
          6815,
          4198,
          9924,
          2061,
          5484,
          19586,
          2972,
          2367,
          4087,
          9250,
          2450,
          6077,
          2451,
          2008,
          5295,
          13269,
          2145,
          4968,
          9756,
          19833,
          9610,
          6472,
          5238,
          3295,
          10368,
          4978,
          2862,
          6883,
          5562,
          3907,
          6516,
          6430,
          3477,
          8346,
          3433,
          3445,
          7140,
          3702,
          6029,
          3539,
          12965,
          4001,
          2289,
          3055,
          19038,
          2766,
          5811,
          2718,
          5294,
          2109,
          2468,
          4507,
          5147,
          2932,
          6294,
          16413,
          16704,
          10748,
          15379,
          15972,
          2440,
          2587,
          5476,
          5470,
          5505,
          4187,
          4735,
          17603,
          17426,
          6842,
          4374,
          13966,
          2013,
          5433,
          2783,
          7082,
          2305,
          2728,
          5347,
          4502,
          2974,
          9241,
          4401,
          7847,
          4930,
          7879,
          2929,
          9525,
          2028,
          10883,
          3986,
          3537,
          2570,
          7005,
          3306,
          3195,
          5368,
          2318,
          4404,
          8095,
          2976,
          6032,
          2904,
          2377,
          8268,
          7143,
          15992,
          11510,
          6214,
          6118,
          3983,
          7428,
          7457,
          3697,
          6347,
          9985,
          4649,
          2370,
          2610,
          2213,
          6755,
          9699,
          6653,
          7484,
          2696,
          6781,
          4736,
          5974,
          17328,
          2774,
          12504,
          4505,
          5296,
          4869,
          11631,
          6349,
          16959,
          6410,
          4821,
          5660,
          2613,
          6146,
          5210,
          12061,
          5674,
          9613,
          6929,
          5661,
          1200,
          16015,
          5484,
          2695,
          11878,
          17068,
          9738,
          5257,
          18300,
          4682,
          2835,
          19272,
          8943,
          5775,
          5055,
          7547,
          4478,
          5228,
          2478,
          13964,
          2455,
          2871,
          3452,
          5258,
          2889,
          19566,
          6091,
          4556,
          16555,
          2654,
          7969,
          5209,
          10673,
          8392,
          6577,
          13212,
          5010,
          19197,
          2218,
          4558,
          4810,
          4523,
          5441,
          10266,
          2322,
          2564,
          17046,
          14118,
          8412,
          2075,
          4152,
          11935,
          2097,
          2323,
          2886,
          18041,
          1702,
          13503,
          4449,
          5482,
          4487,
          2258,
          16659,
          2543,
          4936,
          10965,
          5253,
          3816,
          4260,
          4809,
          2201,
          5163,
          18844,
          2657,
          18172,
          10496,
          6540,
          2476,
          2956,
          2244,
          4306,
          6538,
          13549,
          4999,
          19406,
          3448,
          14336,
          4197,
          4221,
          2576,
          5715,
          3034,
          13872,
          2042,
          7596,
          4522,
          5070,
          3688,
          19537,
          2328,
          2238,
          2741,
          3815,
          6804,
          4298,
          2153,
          6261,
          5265,
          1483,
          4425,
          3564,
          16792,
          2089,
          6553,
          5605,
          4876,
          2720,
          2622,
          5914,
          5940,
          8865,
          3452,
          4317,
          17181,
          2632,
          4668,
          12490,
          9981,
          8474,
          3204,
          9396,
          13591,
          2279,
          19999,
          13734,
          2088,
          6132,
          3058,
          3038,
          3346,
          8686,
          3072,
          10855,
          2451,
          19926,
          2566,
          9439,
          2231,
          2713,
          9419,
          5006,
          4257,
          2500,
          7295,
          9547,
          18722,
          2306,
          19033,
          2756,
          4450,
          3690,
          2348,
          2311,
          3929,
          2288,
          10453,
          8998,
          4319,
          12185,
          10609,
          6347,
          4345,
          3230,
          6502,
          2070,
          19045,
          3210,
          2523,
          13603,
          13496,
          5582,
          6644,
          6567,
          16872,
          2176,
          5249,
          4000,
          11996,
          5605,
          6397,
          13525,
          2326,
          2789,
          4485,
          18665,
          3310,
          5745,
          2368,
          2115,
          4741,
          5415,
          4554,
          4907,
          17584,
          19144,
          4739,
          8020,
          2794,
          2723,
          4941,
          3931,
          19068,
          16064,
          19517,
          2267,
          2232,
          19232,
          5902,
          8789,
          7918,
          2793,
          8639,
          2177,
          3212,
          4465,
          3072,
          3319,
          19436,
          2593,
          4898,
          6931,
          8189,
          6545,
          2340,
          10938,
          2942,
          6434,
          3920,
          5957,
          2911,
          13675,
          19202,
          9208,
          17861,
          2024,
          3780,
          2496,
          18430,
          6500,
          4244,
          3833,
          6465,
          2694,
          2206,
          4381,
          5980,
          2782,
          4342,
          5485,
          3280,
          2572,
          2645,
          3149,
          18947,
          2274,
          6877,
          5094,
          6162,
          2143,
          19094,
          17639,
          6062,
          2700,
          6825,
          5228,
          16752,
          10248,
          11691,
          2506,
          4335,
          4364,
          2014,
          3022,
          2297,
          4230,
          2342,
          11103,
          6389,
          2450,
          2500,
          6804,
          5772,
          2642,
          5304,
          13770,
          3708,
          6142,
          5093,
          5309,
          3057,
          3419,
          4258,
          7587,
          5376,
          1951,
          2341,
          6274,
          8726,
          4011,
          3505,
          6632,
          6180,
          4568,
          16856,
          5121,
          1232,
          7861,
          4434,
          2553,
          5562,
          14275,
          2973,
          5237,
          10903,
          2426,
          9526,
          11836,
          2356,
          5231,
          2911,
          2899,
          6524,
          3162,
          4193,
          3580,
          2693,
          7642,
          5130,
          3294,
          6586,
          2909,
          3468,
          4765,
          4537,
          3068,
          2559,
          2532,
          2670,
          2277,
          5204,
          17924,
          4908,
          4256,
          2661,
          2314,
          4037,
          3424,
          15427,
          3944,
          5933,
          16307,
          2559,
          1706,
          3737,
          4779,
          10221,
          12808,
          17159,
          11994,
          4011,
          6201,
          4403,
          2935,
          10685,
          9980,
          4194,
          2342,
          2515,
          2818,
          4775,
          4936,
          6334,
          13826,
          3298,
          5175,
          10761,
          10934,
          3761,
          6288,
          2269,
          6811,
          11713,
          5337,
          2501,
          7491,
          10527,
          16595,
          8834,
          5577,
          2703,
          5473,
          2400,
          9824,
          6447,
          19502,
          2725,
          6272,
          2127,
          18200,
          5985,
          15402,
          5679,
          2619,
          16627,
          2836,
          4859,
          9602,
          5460,
          3681,
          3622,
          9724,
          2194,
          2096,
          2187,
          4306,
          6811,
          10932,
          5021,
          5126,
          9980,
          2093,
          2859,
          10239,
          4051,
          5329,
          2983,
          4325,
          7260,
          10648,
          9071,
          2768,
          7632,
          2579,
          16835,
          4717,
          6220,
          3038,
          11557,
          16184,
          4262,
          4424,
          6230,
          4312,
          7406,
          6582,
          3755,
          13237,
          13245,
          13664,
          4805,
          6499,
          4089,
          19513,
          5915,
          8621,
          3221,
          4680,
          4647,
          8120,
          5993,
          2720,
          4028,
          3447,
          4851,
          2819,
          1281,
          2406,
          18740,
          4553,
          7637,
          4014,
          9069,
          5454,
          3875,
          19189,
          8793,
          9884,
          5405,
          4157,
          19141,
          14814,
          10475,
          13458,
          4960,
          11159,
          7412,
          7625,
          5396,
          2045,
          6162,
          9434,
          5561,
          6646,
          10096,
          8381,
          6322,
          7104,
          14756,
          2083,
          2773,
          2659,
          8847,
          2691,
          10725,
          7725
         ],
         "xaxis": "x2",
         "yaxis": "y2"
        },
        {
         "alignmentgroup": "True",
         "bingroup": "x",
         "histnorm": "density",
         "hovertemplate": "Attrition=Yes<br>MonthlyIncome=%{x}<br>density=%{y}<extra></extra>",
         "legendgroup": "Yes",
         "marker": {
          "color": "#C02B34",
          "opacity": 0.8,
          "pattern": {
           "shape": ""
          }
         },
         "name": "Yes",
         "offsetgroup": "Yes",
         "orientation": "v",
         "showlegend": true,
         "type": "histogram",
         "x": [
          1091,
          2073,
          2960,
          7314,
          5346,
          9907,
          10650,
          9619,
          2335,
          2863,
          5744,
          10854,
          2439,
          2432,
          1790,
          4963,
          3919,
          2090,
          3441,
          2956,
          4213,
          6172,
          5381,
          2293,
          3388,
          2472,
          2086,
          2367,
          2683,
          2587,
          8926,
          1675,
          5617,
          4559,
          1081,
          2148,
          4200,
          2293,
          6728,
          2028,
          2307,
          3407,
          2339,
          19545,
          2926,
          10312,
          6074,
          4787,
          10448,
          9854,
          2404,
          2342,
          2107,
          2853,
          2936,
          4577,
          5346,
          6796,
          2515,
          13758,
          7336,
          2216,
          2610,
          8224,
          1904,
          2759,
          12169,
          2686,
          6397,
          4728,
          2596,
          3348,
          2313,
          1009,
          4286,
          8446,
          9094,
          3894,
          3904,
          4883,
          2741,
          3339,
          7978,
          1878,
          2340,
          2625,
          4707,
          18824,
          1118,
          2886,
          2033,
          4233,
          1859,
          3041,
          2210,
          2377,
          3691,
          19859,
          3743,
          2132,
          2404,
          2321,
          2022,
          13194,
          2479,
          2800,
          10609,
          10325,
          2973,
          2121,
          2413,
          2795,
          2380,
          2044,
          2693,
          4171,
          2778,
          2600,
          2422,
          2366,
          5160,
          4508,
          9582,
          10482,
          5326,
          8722,
          2461,
          1416,
          2323,
          1601,
          9950,
          2319,
          2042,
          4834,
          19246,
          4382,
          2743,
          19845,
          4969,
          4777,
          7654,
          5324,
          9824,
          2302,
          2362,
          3989,
          2389,
          2436,
          2707,
          3730,
          4581,
          10048,
          2166,
          5440,
          3479,
          10306,
          3485,
          1569,
          11849,
          2408,
          3161,
          2373,
          5828,
          1420,
          2655,
          1393,
          2058,
          2275,
          2398,
          2679,
          2325,
          2437,
          1102,
          8161,
          8564,
          3140,
          2760,
          4855,
          2180,
          6735,
          6134,
          6673,
          7639,
          12936,
          1555,
          10400,
          2657,
          6696,
          5916,
          5813,
          10169,
          9714,
          3102,
          2285,
          1261,
          1359,
          7553,
          4284,
          2394,
          4031,
          6179,
          3202,
          4614,
          2785,
          2351,
          13695,
          2546,
          2564,
          10008,
          13610,
          3408,
          4400,
          5304,
          10096,
          3646,
          4941,
          3464,
          5238,
          4084,
          2018,
          2119,
          2362,
          2561,
          3172,
          2074,
          4599,
          2909,
          2174,
          2851,
          9355,
          6380,
          2742,
          2716,
          3722,
          7446,
          5765,
          5993
         ],
         "xaxis": "x",
         "yaxis": "y"
        },
        {
         "alignmentgroup": "True",
         "hovertemplate": "Attrition=Yes<br>MonthlyIncome=%{x}<extra></extra>",
         "legendgroup": "Yes",
         "marker": {
          "color": "#C02B34"
         },
         "name": "Yes",
         "notched": true,
         "offsetgroup": "Yes",
         "showlegend": false,
         "type": "box",
         "x": [
          1091,
          2073,
          2960,
          7314,
          5346,
          9907,
          10650,
          9619,
          2335,
          2863,
          5744,
          10854,
          2439,
          2432,
          1790,
          4963,
          3919,
          2090,
          3441,
          2956,
          4213,
          6172,
          5381,
          2293,
          3388,
          2472,
          2086,
          2367,
          2683,
          2587,
          8926,
          1675,
          5617,
          4559,
          1081,
          2148,
          4200,
          2293,
          6728,
          2028,
          2307,
          3407,
          2339,
          19545,
          2926,
          10312,
          6074,
          4787,
          10448,
          9854,
          2404,
          2342,
          2107,
          2853,
          2936,
          4577,
          5346,
          6796,
          2515,
          13758,
          7336,
          2216,
          2610,
          8224,
          1904,
          2759,
          12169,
          2686,
          6397,
          4728,
          2596,
          3348,
          2313,
          1009,
          4286,
          8446,
          9094,
          3894,
          3904,
          4883,
          2741,
          3339,
          7978,
          1878,
          2340,
          2625,
          4707,
          18824,
          1118,
          2886,
          2033,
          4233,
          1859,
          3041,
          2210,
          2377,
          3691,
          19859,
          3743,
          2132,
          2404,
          2321,
          2022,
          13194,
          2479,
          2800,
          10609,
          10325,
          2973,
          2121,
          2413,
          2795,
          2380,
          2044,
          2693,
          4171,
          2778,
          2600,
          2422,
          2366,
          5160,
          4508,
          9582,
          10482,
          5326,
          8722,
          2461,
          1416,
          2323,
          1601,
          9950,
          2319,
          2042,
          4834,
          19246,
          4382,
          2743,
          19845,
          4969,
          4777,
          7654,
          5324,
          9824,
          2302,
          2362,
          3989,
          2389,
          2436,
          2707,
          3730,
          4581,
          10048,
          2166,
          5440,
          3479,
          10306,
          3485,
          1569,
          11849,
          2408,
          3161,
          2373,
          5828,
          1420,
          2655,
          1393,
          2058,
          2275,
          2398,
          2679,
          2325,
          2437,
          1102,
          8161,
          8564,
          3140,
          2760,
          4855,
          2180,
          6735,
          6134,
          6673,
          7639,
          12936,
          1555,
          10400,
          2657,
          6696,
          5916,
          5813,
          10169,
          9714,
          3102,
          2285,
          1261,
          1359,
          7553,
          4284,
          2394,
          4031,
          6179,
          3202,
          4614,
          2785,
          2351,
          13695,
          2546,
          2564,
          10008,
          13610,
          3408,
          4400,
          5304,
          10096,
          3646,
          4941,
          3464,
          5238,
          4084,
          2018,
          2119,
          2362,
          2561,
          3172,
          2074,
          4599,
          2909,
          2174,
          2851,
          9355,
          6380,
          2742,
          2716,
          3722,
          7446,
          5765,
          5993
         ],
         "xaxis": "x2",
         "yaxis": "y2"
        }
       ],
       "layout": {
        "autosize": true,
        "barmode": "overlay",
        "font": {
         "color": "#28221D"
        },
        "legend": {
         "title": {
          "text": "Attrition"
         },
         "tracegroupgap": 0,
         "traceorder": "reversed"
        },
        "margin": {
         "t": 60
        },
        "paper_bgcolor": "#F4F2F0",
        "plot_bgcolor": "#F4F2F0",
        "template": {
         "data": {
          "bar": [
           {
            "error_x": {
             "color": "#2a3f5f"
            },
            "error_y": {
             "color": "#2a3f5f"
            },
            "marker": {
             "line": {
              "color": "#E5ECF6",
              "width": 0.5
             },
             "pattern": {
              "fillmode": "overlay",
              "size": 10,
              "solidity": 0.2
             }
            },
            "type": "bar"
           }
          ],
          "barpolar": [
           {
            "marker": {
             "line": {
              "color": "#E5ECF6",
              "width": 0.5
             },
             "pattern": {
              "fillmode": "overlay",
              "size": 10,
              "solidity": 0.2
             }
            },
            "type": "barpolar"
           }
          ],
          "carpet": [
           {
            "aaxis": {
             "endlinecolor": "#2a3f5f",
             "gridcolor": "white",
             "linecolor": "white",
             "minorgridcolor": "white",
             "startlinecolor": "#2a3f5f"
            },
            "baxis": {
             "endlinecolor": "#2a3f5f",
             "gridcolor": "white",
             "linecolor": "white",
             "minorgridcolor": "white",
             "startlinecolor": "#2a3f5f"
            },
            "type": "carpet"
           }
          ],
          "choropleth": [
           {
            "colorbar": {
             "outlinewidth": 0,
             "ticks": ""
            },
            "type": "choropleth"
           }
          ],
          "contour": [
           {
            "colorbar": {
             "outlinewidth": 0,
             "ticks": ""
            },
            "colorscale": [
             [
              0,
              "#0d0887"
             ],
             [
              0.1111111111111111,
              "#46039f"
             ],
             [
              0.2222222222222222,
              "#7201a8"
             ],
             [
              0.3333333333333333,
              "#9c179e"
             ],
             [
              0.4444444444444444,
              "#bd3786"
             ],
             [
              0.5555555555555556,
              "#d8576b"
             ],
             [
              0.6666666666666666,
              "#ed7953"
             ],
             [
              0.7777777777777778,
              "#fb9f3a"
             ],
             [
              0.8888888888888888,
              "#fdca26"
             ],
             [
              1,
              "#f0f921"
             ]
            ],
            "type": "contour"
           }
          ],
          "contourcarpet": [
           {
            "colorbar": {
             "outlinewidth": 0,
             "ticks": ""
            },
            "type": "contourcarpet"
           }
          ],
          "heatmap": [
           {
            "colorbar": {
             "outlinewidth": 0,
             "ticks": ""
            },
            "colorscale": [
             [
              0,
              "#0d0887"
             ],
             [
              0.1111111111111111,
              "#46039f"
             ],
             [
              0.2222222222222222,
              "#7201a8"
             ],
             [
              0.3333333333333333,
              "#9c179e"
             ],
             [
              0.4444444444444444,
              "#bd3786"
             ],
             [
              0.5555555555555556,
              "#d8576b"
             ],
             [
              0.6666666666666666,
              "#ed7953"
             ],
             [
              0.7777777777777778,
              "#fb9f3a"
             ],
             [
              0.8888888888888888,
              "#fdca26"
             ],
             [
              1,
              "#f0f921"
             ]
            ],
            "type": "heatmap"
           }
          ],
          "heatmapgl": [
           {
            "colorbar": {
             "outlinewidth": 0,
             "ticks": ""
            },
            "colorscale": [
             [
              0,
              "#0d0887"
             ],
             [
              0.1111111111111111,
              "#46039f"
             ],
             [
              0.2222222222222222,
              "#7201a8"
             ],
             [
              0.3333333333333333,
              "#9c179e"
             ],
             [
              0.4444444444444444,
              "#bd3786"
             ],
             [
              0.5555555555555556,
              "#d8576b"
             ],
             [
              0.6666666666666666,
              "#ed7953"
             ],
             [
              0.7777777777777778,
              "#fb9f3a"
             ],
             [
              0.8888888888888888,
              "#fdca26"
             ],
             [
              1,
              "#f0f921"
             ]
            ],
            "type": "heatmapgl"
           }
          ],
          "histogram": [
           {
            "marker": {
             "pattern": {
              "fillmode": "overlay",
              "size": 10,
              "solidity": 0.2
             }
            },
            "type": "histogram"
           }
          ],
          "histogram2d": [
           {
            "colorbar": {
             "outlinewidth": 0,
             "ticks": ""
            },
            "colorscale": [
             [
              0,
              "#0d0887"
             ],
             [
              0.1111111111111111,
              "#46039f"
             ],
             [
              0.2222222222222222,
              "#7201a8"
             ],
             [
              0.3333333333333333,
              "#9c179e"
             ],
             [
              0.4444444444444444,
              "#bd3786"
             ],
             [
              0.5555555555555556,
              "#d8576b"
             ],
             [
              0.6666666666666666,
              "#ed7953"
             ],
             [
              0.7777777777777778,
              "#fb9f3a"
             ],
             [
              0.8888888888888888,
              "#fdca26"
             ],
             [
              1,
              "#f0f921"
             ]
            ],
            "type": "histogram2d"
           }
          ],
          "histogram2dcontour": [
           {
            "colorbar": {
             "outlinewidth": 0,
             "ticks": ""
            },
            "colorscale": [
             [
              0,
              "#0d0887"
             ],
             [
              0.1111111111111111,
              "#46039f"
             ],
             [
              0.2222222222222222,
              "#7201a8"
             ],
             [
              0.3333333333333333,
              "#9c179e"
             ],
             [
              0.4444444444444444,
              "#bd3786"
             ],
             [
              0.5555555555555556,
              "#d8576b"
             ],
             [
              0.6666666666666666,
              "#ed7953"
             ],
             [
              0.7777777777777778,
              "#fb9f3a"
             ],
             [
              0.8888888888888888,
              "#fdca26"
             ],
             [
              1,
              "#f0f921"
             ]
            ],
            "type": "histogram2dcontour"
           }
          ],
          "mesh3d": [
           {
            "colorbar": {
             "outlinewidth": 0,
             "ticks": ""
            },
            "type": "mesh3d"
           }
          ],
          "parcoords": [
           {
            "line": {
             "colorbar": {
              "outlinewidth": 0,
              "ticks": ""
             }
            },
            "type": "parcoords"
           }
          ],
          "pie": [
           {
            "automargin": true,
            "type": "pie"
           }
          ],
          "scatter": [
           {
            "fillpattern": {
             "fillmode": "overlay",
             "size": 10,
             "solidity": 0.2
            },
            "type": "scatter"
           }
          ],
          "scatter3d": [
           {
            "line": {
             "colorbar": {
              "outlinewidth": 0,
              "ticks": ""
             }
            },
            "marker": {
             "colorbar": {
              "outlinewidth": 0,
              "ticks": ""
             }
            },
            "type": "scatter3d"
           }
          ],
          "scattercarpet": [
           {
            "marker": {
             "colorbar": {
              "outlinewidth": 0,
              "ticks": ""
             }
            },
            "type": "scattercarpet"
           }
          ],
          "scattergeo": [
           {
            "marker": {
             "colorbar": {
              "outlinewidth": 0,
              "ticks": ""
             }
            },
            "type": "scattergeo"
           }
          ],
          "scattergl": [
           {
            "marker": {
             "colorbar": {
              "outlinewidth": 0,
              "ticks": ""
             }
            },
            "type": "scattergl"
           }
          ],
          "scattermapbox": [
           {
            "marker": {
             "colorbar": {
              "outlinewidth": 0,
              "ticks": ""
             }
            },
            "type": "scattermapbox"
           }
          ],
          "scatterpolar": [
           {
            "marker": {
             "colorbar": {
              "outlinewidth": 0,
              "ticks": ""
             }
            },
            "type": "scatterpolar"
           }
          ],
          "scatterpolargl": [
           {
            "marker": {
             "colorbar": {
              "outlinewidth": 0,
              "ticks": ""
             }
            },
            "type": "scatterpolargl"
           }
          ],
          "scatterternary": [
           {
            "marker": {
             "colorbar": {
              "outlinewidth": 0,
              "ticks": ""
             }
            },
            "type": "scatterternary"
           }
          ],
          "surface": [
           {
            "colorbar": {
             "outlinewidth": 0,
             "ticks": ""
            },
            "colorscale": [
             [
              0,
              "#0d0887"
             ],
             [
              0.1111111111111111,
              "#46039f"
             ],
             [
              0.2222222222222222,
              "#7201a8"
             ],
             [
              0.3333333333333333,
              "#9c179e"
             ],
             [
              0.4444444444444444,
              "#bd3786"
             ],
             [
              0.5555555555555556,
              "#d8576b"
             ],
             [
              0.6666666666666666,
              "#ed7953"
             ],
             [
              0.7777777777777778,
              "#fb9f3a"
             ],
             [
              0.8888888888888888,
              "#fdca26"
             ],
             [
              1,
              "#f0f921"
             ]
            ],
            "type": "surface"
           }
          ],
          "table": [
           {
            "cells": {
             "fill": {
              "color": "#EBF0F8"
             },
             "line": {
              "color": "white"
             }
            },
            "header": {
             "fill": {
              "color": "#C8D4E3"
             },
             "line": {
              "color": "white"
             }
            },
            "type": "table"
           }
          ]
         },
         "layout": {
          "annotationdefaults": {
           "arrowcolor": "#2a3f5f",
           "arrowhead": 0,
           "arrowwidth": 1
          },
          "autotypenumbers": "strict",
          "coloraxis": {
           "colorbar": {
            "outlinewidth": 0,
            "ticks": ""
           }
          },
          "colorscale": {
           "diverging": [
            [
             0,
             "#8e0152"
            ],
            [
             0.1,
             "#c51b7d"
            ],
            [
             0.2,
             "#de77ae"
            ],
            [
             0.3,
             "#f1b6da"
            ],
            [
             0.4,
             "#fde0ef"
            ],
            [
             0.5,
             "#f7f7f7"
            ],
            [
             0.6,
             "#e6f5d0"
            ],
            [
             0.7,
             "#b8e186"
            ],
            [
             0.8,
             "#7fbc41"
            ],
            [
             0.9,
             "#4d9221"
            ],
            [
             1,
             "#276419"
            ]
           ],
           "sequential": [
            [
             0,
             "#0d0887"
            ],
            [
             0.1111111111111111,
             "#46039f"
            ],
            [
             0.2222222222222222,
             "#7201a8"
            ],
            [
             0.3333333333333333,
             "#9c179e"
            ],
            [
             0.4444444444444444,
             "#bd3786"
            ],
            [
             0.5555555555555556,
             "#d8576b"
            ],
            [
             0.6666666666666666,
             "#ed7953"
            ],
            [
             0.7777777777777778,
             "#fb9f3a"
            ],
            [
             0.8888888888888888,
             "#fdca26"
            ],
            [
             1,
             "#f0f921"
            ]
           ],
           "sequentialminus": [
            [
             0,
             "#0d0887"
            ],
            [
             0.1111111111111111,
             "#46039f"
            ],
            [
             0.2222222222222222,
             "#7201a8"
            ],
            [
             0.3333333333333333,
             "#9c179e"
            ],
            [
             0.4444444444444444,
             "#bd3786"
            ],
            [
             0.5555555555555556,
             "#d8576b"
            ],
            [
             0.6666666666666666,
             "#ed7953"
            ],
            [
             0.7777777777777778,
             "#fb9f3a"
            ],
            [
             0.8888888888888888,
             "#fdca26"
            ],
            [
             1,
             "#f0f921"
            ]
           ]
          },
          "colorway": [
           "#636efa",
           "#EF553B",
           "#00cc96",
           "#ab63fa",
           "#FFA15A",
           "#19d3f3",
           "#FF6692",
           "#B6E880",
           "#FF97FF",
           "#FECB52"
          ],
          "font": {
           "color": "#2a3f5f"
          },
          "geo": {
           "bgcolor": "white",
           "lakecolor": "white",
           "landcolor": "#E5ECF6",
           "showlakes": true,
           "showland": true,
           "subunitcolor": "white"
          },
          "hoverlabel": {
           "align": "left"
          },
          "hovermode": "closest",
          "mapbox": {
           "style": "light"
          },
          "paper_bgcolor": "white",
          "plot_bgcolor": "#E5ECF6",
          "polar": {
           "angularaxis": {
            "gridcolor": "white",
            "linecolor": "white",
            "ticks": ""
           },
           "bgcolor": "#E5ECF6",
           "radialaxis": {
            "gridcolor": "white",
            "linecolor": "white",
            "ticks": ""
           }
          },
          "scene": {
           "xaxis": {
            "backgroundcolor": "#E5ECF6",
            "gridcolor": "white",
            "gridwidth": 2,
            "linecolor": "white",
            "showbackground": true,
            "ticks": "",
            "zerolinecolor": "white"
           },
           "yaxis": {
            "backgroundcolor": "#E5ECF6",
            "gridcolor": "white",
            "gridwidth": 2,
            "linecolor": "white",
            "showbackground": true,
            "ticks": "",
            "zerolinecolor": "white"
           },
           "zaxis": {
            "backgroundcolor": "#E5ECF6",
            "gridcolor": "white",
            "gridwidth": 2,
            "linecolor": "white",
            "showbackground": true,
            "ticks": "",
            "zerolinecolor": "white"
           }
          },
          "shapedefaults": {
           "line": {
            "color": "#2a3f5f"
           }
          },
          "ternary": {
           "aaxis": {
            "gridcolor": "white",
            "linecolor": "white",
            "ticks": ""
           },
           "baxis": {
            "gridcolor": "white",
            "linecolor": "white",
            "ticks": ""
           },
           "bgcolor": "#E5ECF6",
           "caxis": {
            "gridcolor": "white",
            "linecolor": "white",
            "ticks": ""
           }
          },
          "title": {
           "x": 0.05
          },
          "xaxis": {
           "automargin": true,
           "gridcolor": "white",
           "linecolor": "white",
           "ticks": "",
           "title": {
            "standoff": 15
           },
           "zerolinecolor": "white",
           "zerolinewidth": 2
          },
          "yaxis": {
           "automargin": true,
           "gridcolor": "white",
           "linecolor": "white",
           "ticks": "",
           "title": {
            "standoff": 15
           },
           "zerolinecolor": "white",
           "zerolinewidth": 2
          }
         }
        },
        "title": {
         "text": "Distribution of Monthly Income by Attrition Status"
        },
        "xaxis": {
         "anchor": "y",
         "autorange": true,
         "domain": [
          0,
          1
         ],
         "range": [
          -46,
          21054
         ],
         "title": {
          "text": "Monthly Income ($)"
         },
         "type": "linear"
        },
        "xaxis2": {
         "anchor": "y2",
         "autorange": true,
         "domain": [
          0,
          1
         ],
         "matches": "x",
         "range": [
          -46,
          21054
         ],
         "showgrid": true,
         "showticklabels": false,
         "type": "linear"
        },
        "yaxis": {
         "anchor": "x",
         "autorange": true,
         "domain": [
          0,
          0.7326
         ],
         "range": [
          0,
          0.2810526315789474
         ],
         "title": {
          "text": "Density"
         }
        },
        "yaxis2": {
         "anchor": "x2",
         "autorange": true,
         "domain": [
          0.7426,
          1
         ],
         "matches": "y2",
         "range": [
          -0.5,
          1.5
         ],
         "showgrid": false,
         "showline": false,
         "showticklabels": false,
         "ticks": "",
         "type": "category"
        }
       }
      },
      "image/png": "[encoded data removed]",
      "text/html": [
       "<div>                            <div id=\"5d5fc49c-8a8a-49b5-8ae5-1a398d136c41\" class=\"plotly-graph-div\" style=\"height:525px; width:100%;\"></div>            <script type=\"text/javascript\">                require([\"plotly\"], function(Plotly) {                    window.PLOTLYENV=window.PLOTLYENV || {};                                    if (document.getElementById(\"5d5fc49c-8a8a-49b5-8ae5-1a398d136c41\")) {                    Plotly.newPlot(                        \"5d5fc49c-8a8a-49b5-8ae5-1a398d136c41\",                        [{\"alignmentgroup\":\"True\",\"bingroup\":\"x\",\"histnorm\":\"density\",\"hovertemplate\":\"Attrition=No\\u003cbr\\u003eMonthlyIncome=%{x}\\u003cbr\\u003edensity=%{y}\\u003cextra\\u003e\\u003c\\u002fextra\\u003e\",\"legendgroup\":\"No\",\"marker\":{\"color\":\"#CDBBA7\",\"opacity\":0.8,\"pattern\":{\"shape\":\"\"}},\"name\":\"No\",\"offsetgroup\":\"No\",\"orientation\":\"v\",\"showlegend\":true,\"x\":[2451,4534,11916,16880,6674,3423,7094,4627,9852,2372,18061,6209,2096,2080,4695,2838,3867,17123,6151,17861,19187,5363,1611,13142,2534,7898,4639,2387,3669,6125,6893,14026,4249,4103,4661,8500,3544,19717,5410,10231,2372,3506,18711,19740,5171,6812,6833,17779,3760,2011,10502,2235,10377,13191,3579,4950,6852,2781,10252,3692,5071,2559,6623,4490,19190,2154,4444,10512,19847,4538,18789,13577,2875,1223,2994,8380,18213,2585,16124,18265,2517,13402,2029,6377,4768,3673,5301,4759,4373,3420,2345,6651,16598,3162,8463,13757,5486,9380,2109,10851,10793,1274,3975,4900,17007,16328,16032,11244,6388,6549,3180,4789,4898,1563,4591,3838,4035,2064,8620,10209,2033,2404,10466,4998,2127,9204,16799,3904,5769,4081,13247,6232,10920,4078,9998,2996,5467,10596,6120,4724,6687,2610,5429,2950,3294,3629,3229,4162,17169,2066,3500,3420,5647,5810,2099,2996,16422,4779,9278,14732,19701,17328,7988,3578,9362,8376,2743,6272,2380,18303,3917,4227,12742,5003,10999,13726,4240,5472,11416,10388,10739,1051,4148,4377,5390,6385,19973,6861,2007,8396,4107,19237,2821,1052,2220,7525,2177,11904,9725,4025,17650,2342,10880,6347,13320,10845,2684,13973,4163,3617,5855,2519,4721,4294,9705,2332,13582,4678,6932,2259,7403,4014,2329,10552,2799,6244,6725,19627,6949,2157,3633,2811,19419,5488,17399,2270,3452,17444,5079,5067,7880,7823,5666,7264,14852,17099,4601,4447,10686,2942,8858,3131,19943,2827,2376,5343,10274,4422,6578,4420,3597,2258,5155,13499,4323,5714,2539,5731,2552,4766,4477,3033,7379,2678,4541,3491,2741,4539,8966,19081,3196,17856,4327,4115,3600,2290,17048,2168,18606,6474,5220,2703,5056,4302,17665,6694,7756,2207,7119,3660,10976,4621,10322,8823,3376,9957,3955,4615,10798,16756,2979,2844,16885,10445,4272,3291,4033,13120,4968,3201,2791,7779,6782,2070,19626,10820,7351,17465,7655,2514,8740,5593,16606,8606,2272,16823,3886,5906,4788,4284,2062,9713,2933,4197,2856,2662,3902,4774,19665,19392,2804,5673,6500,17174,5033,2133,5151,5380,5467,5747,2226,5736,6834,5487,5399,2544,3978,8103,6583,13348,4393,5507,3540,13225,3968,6384,6799,6513,9667,10447,6870,2438,4127,2592,5762,5538,3377,7991,13464,2044,3143,4071,8321,16291,17875,2705,4448,2706,8578,2105,2936,4648,3812,2379,5675,6962,5154,1514,15787,4684,5405,3591,9637,6854,10333,4771,19161,5087,18880,6306,5131,7644,19431,2380,2436,3482,4907,13744,10422,13206,4108,2269,2406,2837,4878,13570,5098,6712,8938,6142,9991,2571,2966,9936,12031,3785,4025,2977,2001,5689,2809,4850,6652,5343,8837,2439,5406,19328,3375,11957,7510,5968,2897,9679,4105,5204,2858,5003,6667,5373,2867,8628,9888,2810,3065,2144,5561,2991,2660,19636,13341,2782,5410,5321,3067,4440,2008,8633,3977,3748,2187,5677,6323,2647,4617,4440,11031,4332,1129,4189,13116,5468,5377,3211,4724,4663,5332,4385,5769,2141,19049,3312,11245,2814,17567,2690,4876,4639,5063,4066,3407,5208,3117,8008,5869,2580,3517,3760,15202,5743,7945,3936,7756,5770,5042,5768,4148,10435,3069,19658,4877,5206,19613,2073,5878,2430,7441,4069,2296,16437,5207,5473,10124,2132,4320,9715,4285,4841,2308,14411,7083,2644,5562,6439,6392,19331,8853,8237,6142,4723,6815,4198,9924,2061,5484,19586,2972,2367,4087,9250,2450,6077,2451,2008,5295,13269,2145,4968,9756,19833,9610,6472,5238,3295,10368,4978,2862,6883,5562,3907,6516,6430,3477,8346,3433,3445,7140,3702,6029,3539,12965,4001,2289,3055,19038,2766,5811,2718,5294,2109,2468,4507,5147,2932,6294,16413,16704,10748,15379,15972,2440,2587,5476,5470,5505,4187,4735,17603,17426,6842,4374,13966,2013,5433,2783,7082,2305,2728,5347,4502,2974,9241,4401,7847,4930,7879,2929,9525,2028,10883,3986,3537,2570,7005,3306,3195,5368,2318,4404,8095,2976,6032,2904,2377,8268,7143,15992,11510,6214,6118,3983,7428,7457,3697,6347,9985,4649,2370,2610,2213,6755,9699,6653,7484,2696,6781,4736,5974,17328,2774,12504,4505,5296,4869,11631,6349,16959,6410,4821,5660,2613,6146,5210,12061,5674,9613,6929,5661,1200,16015,5484,2695,11878,17068,9738,5257,18300,4682,2835,19272,8943,5775,5055,7547,4478,5228,2478,13964,2455,2871,3452,5258,2889,19566,6091,4556,16555,2654,7969,5209,10673,8392,6577,13212,5010,19197,2218,4558,4810,4523,5441,10266,2322,2564,17046,14118,8412,2075,4152,11935,2097,2323,2886,18041,1702,13503,4449,5482,4487,2258,16659,2543,4936,10965,5253,3816,4260,4809,2201,5163,18844,2657,18172,10496,6540,2476,2956,2244,4306,6538,13549,4999,19406,3448,14336,4197,4221,2576,5715,3034,13872,2042,7596,4522,5070,3688,19537,2328,2238,2741,3815,6804,4298,2153,6261,5265,1483,4425,3564,16792,2089,6553,5605,4876,2720,2622,5914,5940,8865,3452,4317,17181,2632,4668,12490,9981,8474,3204,9396,13591,2279,19999,13734,2088,6132,3058,3038,3346,8686,3072,10855,2451,19926,2566,9439,2231,2713,9419,5006,4257,2500,7295,9547,18722,2306,19033,2756,4450,3690,2348,2311,3929,2288,10453,8998,4319,12185,10609,6347,4345,3230,6502,2070,19045,3210,2523,13603,13496,5582,6644,6567,16872,2176,5249,4000,11996,5605,6397,13525,2326,2789,4485,18665,3310,5745,2368,2115,4741,5415,4554,4907,17584,19144,4739,8020,2794,2723,4941,3931,19068,16064,19517,2267,2232,19232,5902,8789,7918,2793,8639,2177,3212,4465,3072,3319,19436,2593,4898,6931,8189,6545,2340,10938,2942,6434,3920,5957,2911,13675,19202,9208,17861,2024,3780,2496,18430,6500,4244,3833,6465,2694,2206,4381,5980,2782,4342,5485,3280,2572,2645,3149,18947,2274,6877,5094,6162,2143,19094,17639,6062,2700,6825,5228,16752,10248,11691,2506,4335,4364,2014,3022,2297,4230,2342,11103,6389,2450,2500,6804,5772,2642,5304,13770,3708,6142,5093,5309,3057,3419,4258,7587,5376,1951,2341,6274,8726,4011,3505,6632,6180,4568,16856,5121,1232,7861,4434,2553,5562,14275,2973,5237,10903,2426,9526,11836,2356,5231,2911,2899,6524,3162,4193,3580,2693,7642,5130,3294,6586,2909,3468,4765,4537,3068,2559,2532,2670,2277,5204,17924,4908,4256,2661,2314,4037,3424,15427,3944,5933,16307,2559,1706,3737,4779,10221,12808,17159,11994,4011,6201,4403,2935,10685,9980,4194,2342,2515,2818,4775,4936,6334,13826,3298,5175,10761,10934,3761,6288,2269,6811,11713,5337,2501,7491,10527,16595,8834,5577,2703,5473,2400,9824,6447,19502,2725,6272,2127,18200,5985,15402,5679,2619,16627,2836,4859,9602,5460,3681,3622,9724,2194,2096,2187,4306,6811,10932,5021,5126,9980,2093,2859,10239,4051,5329,2983,4325,7260,10648,9071,2768,7632,2579,16835,4717,6220,3038,11557,16184,4262,4424,6230,4312,7406,6582,3755,13237,13245,13664,4805,6499,4089,19513,5915,8621,3221,4680,4647,8120,5993,2720,4028,3447,4851,2819,1281,2406,18740,4553,7637,4014,9069,5454,3875,19189,8793,9884,5405,4157,19141,14814,10475,13458,4960,11159,7412,7625,5396,2045,6162,9434,5561,6646,10096,8381,6322,7104,14756,2083,2773,2659,8847,2691,10725,7725],\"xaxis\":\"x\",\"yaxis\":\"y\",\"type\":\"histogram\"},{\"alignmentgroup\":\"True\",\"hovertemplate\":\"Attrition=No\\u003cbr\\u003eMonthlyIncome=%{x}\\u003cextra\\u003e\\u003c\\u002fextra\\u003e\",\"legendgroup\":\"No\",\"marker\":{\"color\":\"#CDBBA7\"},\"name\":\"No\",\"notched\":true,\"offsetgroup\":\"No\",\"showlegend\":false,\"x\":[2451,4534,11916,16880,6674,3423,7094,4627,9852,2372,18061,6209,2096,2080,4695,2838,3867,17123,6151,17861,19187,5363,1611,13142,2534,7898,4639,2387,3669,6125,6893,14026,4249,4103,4661,8500,3544,19717,5410,10231,2372,3506,18711,19740,5171,6812,6833,17779,3760,2011,10502,2235,10377,13191,3579,4950,6852,2781,10252,3692,5071,2559,6623,4490,19190,2154,4444,10512,19847,4538,18789,13577,2875,1223,2994,8380,18213,2585,16124,18265,2517,13402,2029,6377,4768,3673,5301,4759,4373,3420,2345,6651,16598,3162,8463,13757,5486,9380,2109,10851,10793,1274,3975,4900,17007,16328,16032,11244,6388,6549,3180,4789,4898,1563,4591,3838,4035,2064,8620,10209,2033,2404,10466,4998,2127,9204,16799,3904,5769,4081,13247,6232,10920,4078,9998,2996,5467,10596,6120,4724,6687,2610,5429,2950,3294,3629,3229,4162,17169,2066,3500,3420,5647,5810,2099,2996,16422,4779,9278,14732,19701,17328,7988,3578,9362,8376,2743,6272,2380,18303,3917,4227,12742,5003,10999,13726,4240,5472,11416,10388,10739,1051,4148,4377,5390,6385,19973,6861,2007,8396,4107,19237,2821,1052,2220,7525,2177,11904,9725,4025,17650,2342,10880,6347,13320,10845,2684,13973,4163,3617,5855,2519,4721,4294,9705,2332,13582,4678,6932,2259,7403,4014,2329,10552,2799,6244,6725,19627,6949,2157,3633,2811,19419,5488,17399,2270,3452,17444,5079,5067,7880,7823,5666,7264,14852,17099,4601,4447,10686,2942,8858,3131,19943,2827,2376,5343,10274,4422,6578,4420,3597,2258,5155,13499,4323,5714,2539,5731,2552,4766,4477,3033,7379,2678,4541,3491,2741,4539,8966,19081,3196,17856,4327,4115,3600,2290,17048,2168,18606,6474,5220,2703,5056,4302,17665,6694,7756,2207,7119,3660,10976,4621,10322,8823,3376,9957,3955,4615,10798,16756,2979,2844,16885,10445,4272,3291,4033,13120,4968,3201,2791,7779,6782,2070,19626,10820,7351,17465,7655,2514,8740,5593,16606,8606,2272,16823,3886,5906,4788,4284,2062,9713,2933,4197,2856,2662,3902,4774,19665,19392,2804,5673,6500,17174,5033,2133,5151,5380,5467,5747,2226,5736,6834,5487,5399,2544,3978,8103,6583,13348,4393,5507,3540,13225,3968,6384,6799,6513,9667,10447,6870,2438,4127,2592,5762,5538,3377,7991,13464,2044,3143,4071,8321,16291,17875,2705,4448,2706,8578,2105,2936,4648,3812,2379,5675,6962,5154,1514,15787,4684,5405,3591,9637,6854,10333,4771,19161,5087,18880,6306,5131,7644,19431,2380,2436,3482,4907,13744,10422,13206,4108,2269,2406,2837,4878,13570,5098,6712,8938,6142,9991,2571,2966,9936,12031,3785,4025,2977,2001,5689,2809,4850,6652,5343,8837,2439,5406,19328,3375,11957,7510,5968,2897,9679,4105,5204,2858,5003,6667,5373,2867,8628,9888,2810,3065,2144,5561,2991,2660,19636,13341,2782,5410,5321,3067,4440,2008,8633,3977,3748,2187,5677,6323,2647,4617,4440,11031,4332,1129,4189,13116,5468,5377,3211,4724,4663,5332,4385,5769,2141,19049,3312,11245,2814,17567,2690,4876,4639,5063,4066,3407,5208,3117,8008,5869,2580,3517,3760,15202,5743,7945,3936,7756,5770,5042,5768,4148,10435,3069,19658,4877,5206,19613,2073,5878,2430,7441,4069,2296,16437,5207,5473,10124,2132,4320,9715,4285,4841,2308,14411,7083,2644,5562,6439,6392,19331,8853,8237,6142,4723,6815,4198,9924,2061,5484,19586,2972,2367,4087,9250,2450,6077,2451,2008,5295,13269,2145,4968,9756,19833,9610,6472,5238,3295,10368,4978,2862,6883,5562,3907,6516,6430,3477,8346,3433,3445,7140,3702,6029,3539,12965,4001,2289,3055,19038,2766,5811,2718,5294,2109,2468,4507,5147,2932,6294,16413,16704,10748,15379,15972,2440,2587,5476,5470,5505,4187,4735,17603,17426,6842,4374,13966,2013,5433,2783,7082,2305,2728,5347,4502,2974,9241,4401,7847,4930,7879,2929,9525,2028,10883,3986,3537,2570,7005,3306,3195,5368,2318,4404,8095,2976,6032,2904,2377,8268,7143,15992,11510,6214,6118,3983,7428,7457,3697,6347,9985,4649,2370,2610,2213,6755,9699,6653,7484,2696,6781,4736,5974,17328,2774,12504,4505,5296,4869,11631,6349,16959,6410,4821,5660,2613,6146,5210,12061,5674,9613,6929,5661,1200,16015,5484,2695,11878,17068,9738,5257,18300,4682,2835,19272,8943,5775,5055,7547,4478,5228,2478,13964,2455,2871,3452,5258,2889,19566,6091,4556,16555,2654,7969,5209,10673,8392,6577,13212,5010,19197,2218,4558,4810,4523,5441,10266,2322,2564,17046,14118,8412,2075,4152,11935,2097,2323,2886,18041,1702,13503,4449,5482,4487,2258,16659,2543,4936,10965,5253,3816,4260,4809,2201,5163,18844,2657,18172,10496,6540,2476,2956,2244,4306,6538,13549,4999,19406,3448,14336,4197,4221,2576,5715,3034,13872,2042,7596,4522,5070,3688,19537,2328,2238,2741,3815,6804,4298,2153,6261,5265,1483,4425,3564,16792,2089,6553,5605,4876,2720,2622,5914,5940,8865,3452,4317,17181,2632,4668,12490,9981,8474,3204,9396,13591,2279,19999,13734,2088,6132,3058,3038,3346,8686,3072,10855,2451,19926,2566,9439,2231,2713,9419,5006,4257,2500,7295,9547,18722,2306,19033,2756,4450,3690,2348,2311,3929,2288,10453,8998,4319,12185,10609,6347,4345,3230,6502,2070,19045,3210,2523,13603,13496,5582,6644,6567,16872,2176,5249,4000,11996,5605,6397,13525,2326,2789,4485,18665,3310,5745,2368,2115,4741,5415,4554,4907,17584,19144,4739,8020,2794,2723,4941,3931,19068,16064,19517,2267,2232,19232,5902,8789,7918,2793,8639,2177,3212,4465,3072,3319,19436,2593,4898,6931,8189,6545,2340,10938,2942,6434,3920,5957,2911,13675,19202,9208,17861,2024,3780,2496,18430,6500,4244,3833,6465,2694,2206,4381,5980,2782,4342,5485,3280,2572,2645,3149,18947,2274,6877,5094,6162,2143,19094,17639,6062,2700,6825,5228,16752,10248,11691,2506,4335,4364,2014,3022,2297,4230,2342,11103,6389,2450,2500,6804,5772,2642,5304,13770,3708,6142,5093,5309,3057,3419,4258,7587,5376,1951,2341,6274,8726,4011,3505,6632,6180,4568,16856,5121,1232,7861,4434,2553,5562,14275,2973,5237,10903,2426,9526,11836,2356,5231,2911,2899,6524,3162,4193,3580,2693,7642,5130,3294,6586,2909,3468,4765,4537,3068,2559,2532,2670,2277,5204,17924,4908,4256,2661,2314,4037,3424,15427,3944,5933,16307,2559,1706,3737,4779,10221,12808,17159,11994,4011,6201,4403,2935,10685,9980,4194,2342,2515,2818,4775,4936,6334,13826,3298,5175,10761,10934,3761,6288,2269,6811,11713,5337,2501,7491,10527,16595,8834,5577,2703,5473,2400,9824,6447,19502,2725,6272,2127,18200,5985,15402,5679,2619,16627,2836,4859,9602,5460,3681,3622,9724,2194,2096,2187,4306,6811,10932,5021,5126,9980,2093,2859,10239,4051,5329,2983,4325,7260,10648,9071,2768,7632,2579,16835,4717,6220,3038,11557,16184,4262,4424,6230,4312,7406,6582,3755,13237,13245,13664,4805,6499,4089,19513,5915,8621,3221,4680,4647,8120,5993,2720,4028,3447,4851,2819,1281,2406,18740,4553,7637,4014,9069,5454,3875,19189,8793,9884,5405,4157,19141,14814,10475,13458,4960,11159,7412,7625,5396,2045,6162,9434,5561,6646,10096,8381,6322,7104,14756,2083,2773,2659,8847,2691,10725,7725],\"xaxis\":\"x2\",\"yaxis\":\"y2\",\"type\":\"box\"},{\"alignmentgroup\":\"True\",\"bingroup\":\"x\",\"histnorm\":\"density\",\"hovertemplate\":\"Attrition=Yes\\u003cbr\\u003eMonthlyIncome=%{x}\\u003cbr\\u003edensity=%{y}\\u003cextra\\u003e\\u003c\\u002fextra\\u003e\",\"legendgroup\":\"Yes\",\"marker\":{\"color\":\"#C02B34\",\"opacity\":0.8,\"pattern\":{\"shape\":\"\"}},\"name\":\"Yes\",\"offsetgroup\":\"Yes\",\"orientation\":\"v\",\"showlegend\":true,\"x\":[1091,2073,2960,7314,5346,9907,10650,9619,2335,2863,5744,10854,2439,2432,1790,4963,3919,2090,3441,2956,4213,6172,5381,2293,3388,2472,2086,2367,2683,2587,8926,1675,5617,4559,1081,2148,4200,2293,6728,2028,2307,3407,2339,19545,2926,10312,6074,4787,10448,9854,2404,2342,2107,2853,2936,4577,5346,6796,2515,13758,7336,2216,2610,8224,1904,2759,12169,2686,6397,4728,2596,3348,2313,1009,4286,8446,9094,3894,3904,4883,2741,3339,7978,1878,2340,2625,4707,18824,1118,2886,2033,4233,1859,3041,2210,2377,3691,19859,3743,2132,2404,2321,2022,13194,2479,2800,10609,10325,2973,2121,2413,2795,2380,2044,2693,4171,2778,2600,2422,2366,5160,4508,9582,10482,5326,8722,2461,1416,2323,1601,9950,2319,2042,4834,19246,4382,2743,19845,4969,4777,7654,5324,9824,2302,2362,3989,2389,2436,2707,3730,4581,10048,2166,5440,3479,10306,3485,1569,11849,2408,3161,2373,5828,1420,2655,1393,2058,2275,2398,2679,2325,2437,1102,8161,8564,3140,2760,4855,2180,6735,6134,6673,7639,12936,1555,10400,2657,6696,5916,5813,10169,9714,3102,2285,1261,1359,7553,4284,2394,4031,6179,3202,4614,2785,2351,13695,2546,2564,10008,13610,3408,4400,5304,10096,3646,4941,3464,5238,4084,2018,2119,2362,2561,3172,2074,4599,2909,2174,2851,9355,6380,2742,2716,3722,7446,5765,5993],\"xaxis\":\"x\",\"yaxis\":\"y\",\"type\":\"histogram\"},{\"alignmentgroup\":\"True\",\"hovertemplate\":\"Attrition=Yes\\u003cbr\\u003eMonthlyIncome=%{x}\\u003cextra\\u003e\\u003c\\u002fextra\\u003e\",\"legendgroup\":\"Yes\",\"marker\":{\"color\":\"#C02B34\"},\"name\":\"Yes\",\"notched\":true,\"offsetgroup\":\"Yes\",\"showlegend\":false,\"x\":[1091,2073,2960,7314,5346,9907,10650,9619,2335,2863,5744,10854,2439,2432,1790,4963,3919,2090,3441,2956,4213,6172,5381,2293,3388,2472,2086,2367,2683,2587,8926,1675,5617,4559,1081,2148,4200,2293,6728,2028,2307,3407,2339,19545,2926,10312,6074,4787,10448,9854,2404,2342,2107,2853,2936,4577,5346,6796,2515,13758,7336,2216,2610,8224,1904,2759,12169,2686,6397,4728,2596,3348,2313,1009,4286,8446,9094,3894,3904,4883,2741,3339,7978,1878,2340,2625,4707,18824,1118,2886,2033,4233,1859,3041,2210,2377,3691,19859,3743,2132,2404,2321,2022,13194,2479,2800,10609,10325,2973,2121,2413,2795,2380,2044,2693,4171,2778,2600,2422,2366,5160,4508,9582,10482,5326,8722,2461,1416,2323,1601,9950,2319,2042,4834,19246,4382,2743,19845,4969,4777,7654,5324,9824,2302,2362,3989,2389,2436,2707,3730,4581,10048,2166,5440,3479,10306,3485,1569,11849,2408,3161,2373,5828,1420,2655,1393,2058,2275,2398,2679,2325,2437,1102,8161,8564,3140,2760,4855,2180,6735,6134,6673,7639,12936,1555,10400,2657,6696,5916,5813,10169,9714,3102,2285,1261,1359,7553,4284,2394,4031,6179,3202,4614,2785,2351,13695,2546,2564,10008,13610,3408,4400,5304,10096,3646,4941,3464,5238,4084,2018,2119,2362,2561,3172,2074,4599,2909,2174,2851,9355,6380,2742,2716,3722,7446,5765,5993],\"xaxis\":\"x2\",\"yaxis\":\"y2\",\"type\":\"box\"}],                        {\"template\":{\"data\":{\"histogram2dcontour\":[{\"type\":\"histogram2dcontour\",\"colorbar\":{\"outlinewidth\":0,\"ticks\":\"\"},\"colorscale\":[[0.0,\"#0d0887\"],[0.1111111111111111,\"#46039f\"],[0.2222222222222222,\"#7201a8\"],[0.3333333333333333,\"#9c179e\"],[0.4444444444444444,\"#bd3786\"],[0.5555555555555556,\"#d8576b\"],[0.6666666666666666,\"#ed7953\"],[0.7777777777777778,\"#fb9f3a\"],[0.8888888888888888,\"#fdca26\"],[1.0,\"#f0f921\"]]}],\"choropleth\":[{\"type\":\"choropleth\",\"colorbar\":{\"outlinewidth\":0,\"ticks\":\"\"}}],\"histogram2d\":[{\"type\":\"histogram2d\",\"colorbar\":{\"outlinewidth\":0,\"ticks\":\"\"},\"colorscale\":[[0.0,\"#0d0887\"],[0.1111111111111111,\"#46039f\"],[0.2222222222222222,\"#7201a8\"],[0.3333333333333333,\"#9c179e\"],[0.4444444444444444,\"#bd3786\"],[0.5555555555555556,\"#d8576b\"],[0.6666666666666666,\"#ed7953\"],[0.7777777777777778,\"#fb9f3a\"],[0.8888888888888888,\"#fdca26\"],[1.0,\"#f0f921\"]]}],\"heatmap\":[{\"type\":\"heatmap\",\"colorbar\":{\"outlinewidth\":0,\"ticks\":\"\"},\"colorscale\":[[0.0,\"#0d0887\"],[0.1111111111111111,\"#46039f\"],[0.2222222222222222,\"#7201a8\"],[0.3333333333333333,\"#9c179e\"],[0.4444444444444444,\"#bd3786\"],[0.5555555555555556,\"#d8576b\"],[0.6666666666666666,\"#ed7953\"],[0.7777777777777778,\"#fb9f3a\"],[0.8888888888888888,\"#fdca26\"],[1.0,\"#f0f921\"]]}],\"heatmapgl\":[{\"type\":\"heatmapgl\",\"colorbar\":{\"outlinewidth\":0,\"ticks\":\"\"},\"colorscale\":[[0.0,\"#0d0887\"],[0.1111111111111111,\"#46039f\"],[0.2222222222222222,\"#7201a8\"],[0.3333333333333333,\"#9c179e\"],[0.4444444444444444,\"#bd3786\"],[0.5555555555555556,\"#d8576b\"],[0.6666666666666666,\"#ed7953\"],[0.7777777777777778,\"#fb9f3a\"],[0.8888888888888888,\"#fdca26\"],[1.0,\"#f0f921\"]]}],\"contourcarpet\":[{\"type\":\"contourcarpet\",\"colorbar\":{\"outlinewidth\":0,\"ticks\":\"\"}}],\"contour\":[{\"type\":\"contour\",\"colorbar\":{\"outlinewidth\":0,\"ticks\":\"\"},\"colorscale\":[[0.0,\"#0d0887\"],[0.1111111111111111,\"#46039f\"],[0.2222222222222222,\"#7201a8\"],[0.3333333333333333,\"#9c179e\"],[0.4444444444444444,\"#bd3786\"],[0.5555555555555556,\"#d8576b\"],[0.6666666666666666,\"#ed7953\"],[0.7777777777777778,\"#fb9f3a\"],[0.8888888888888888,\"#fdca26\"],[1.0,\"#f0f921\"]]}],\"surface\":[{\"type\":\"surface\",\"colorbar\":{\"outlinewidth\":0,\"ticks\":\"\"},\"colorscale\":[[0.0,\"#0d0887\"],[0.1111111111111111,\"#46039f\"],[0.2222222222222222,\"#7201a8\"],[0.3333333333333333,\"#9c179e\"],[0.4444444444444444,\"#bd3786\"],[0.5555555555555556,\"#d8576b\"],[0.6666666666666666,\"#ed7953\"],[0.7777777777777778,\"#fb9f3a\"],[0.8888888888888888,\"#fdca26\"],[1.0,\"#f0f921\"]]}],\"mesh3d\":[{\"type\":\"mesh3d\",\"colorbar\":{\"outlinewidth\":0,\"ticks\":\"\"}}],\"scatter\":[{\"fillpattern\":{\"fillmode\":\"overlay\",\"size\":10,\"solidity\":0.2},\"type\":\"scatter\"}],\"parcoords\":[{\"type\":\"parcoords\",\"line\":{\"colorbar\":{\"outlinewidth\":0,\"ticks\":\"\"}}}],\"scatterpolargl\":[{\"type\":\"scatterpolargl\",\"marker\":{\"colorbar\":{\"outlinewidth\":0,\"ticks\":\"\"}}}],\"bar\":[{\"error_x\":{\"color\":\"#2a3f5f\"},\"error_y\":{\"color\":\"#2a3f5f\"},\"marker\":{\"line\":{\"color\":\"#E5ECF6\",\"width\":0.5},\"pattern\":{\"fillmode\":\"overlay\",\"size\":10,\"solidity\":0.2}},\"type\":\"bar\"}],\"scattergeo\":[{\"type\":\"scattergeo\",\"marker\":{\"colorbar\":{\"outlinewidth\":0,\"ticks\":\"\"}}}],\"scatterpolar\":[{\"type\":\"scatterpolar\",\"marker\":{\"colorbar\":{\"outlinewidth\":0,\"ticks\":\"\"}}}],\"histogram\":[{\"marker\":{\"pattern\":{\"fillmode\":\"overlay\",\"size\":10,\"solidity\":0.2}},\"type\":\"histogram\"}],\"scattergl\":[{\"type\":\"scattergl\",\"marker\":{\"colorbar\":{\"outlinewidth\":0,\"ticks\":\"\"}}}],\"scatter3d\":[{\"type\":\"scatter3d\",\"line\":{\"colorbar\":{\"outlinewidth\":0,\"ticks\":\"\"}},\"marker\":{\"colorbar\":{\"outlinewidth\":0,\"ticks\":\"\"}}}],\"scattermapbox\":[{\"type\":\"scattermapbox\",\"marker\":{\"colorbar\":{\"outlinewidth\":0,\"ticks\":\"\"}}}],\"scatterternary\":[{\"type\":\"scatterternary\",\"marker\":{\"colorbar\":{\"outlinewidth\":0,\"ticks\":\"\"}}}],\"scattercarpet\":[{\"type\":\"scattercarpet\",\"marker\":{\"colorbar\":{\"outlinewidth\":0,\"ticks\":\"\"}}}],\"carpet\":[{\"aaxis\":{\"endlinecolor\":\"#2a3f5f\",\"gridcolor\":\"white\",\"linecolor\":\"white\",\"minorgridcolor\":\"white\",\"startlinecolor\":\"#2a3f5f\"},\"baxis\":{\"endlinecolor\":\"#2a3f5f\",\"gridcolor\":\"white\",\"linecolor\":\"white\",\"minorgridcolor\":\"white\",\"startlinecolor\":\"#2a3f5f\"},\"type\":\"carpet\"}],\"table\":[{\"cells\":{\"fill\":{\"color\":\"#EBF0F8\"},\"line\":{\"color\":\"white\"}},\"header\":{\"fill\":{\"color\":\"#C8D4E3\"},\"line\":{\"color\":\"white\"}},\"type\":\"table\"}],\"barpolar\":[{\"marker\":{\"line\":{\"color\":\"#E5ECF6\",\"width\":0.5},\"pattern\":{\"fillmode\":\"overlay\",\"size\":10,\"solidity\":0.2}},\"type\":\"barpolar\"}],\"pie\":[{\"automargin\":true,\"type\":\"pie\"}]},\"layout\":{\"autotypenumbers\":\"strict\",\"colorway\":[\"#636efa\",\"#EF553B\",\"#00cc96\",\"#ab63fa\",\"#FFA15A\",\"#19d3f3\",\"#FF6692\",\"#B6E880\",\"#FF97FF\",\"#FECB52\"],\"font\":{\"color\":\"#2a3f5f\"},\"hovermode\":\"closest\",\"hoverlabel\":{\"align\":\"left\"},\"paper_bgcolor\":\"white\",\"plot_bgcolor\":\"#E5ECF6\",\"polar\":{\"bgcolor\":\"#E5ECF6\",\"angularaxis\":{\"gridcolor\":\"white\",\"linecolor\":\"white\",\"ticks\":\"\"},\"radialaxis\":{\"gridcolor\":\"white\",\"linecolor\":\"white\",\"ticks\":\"\"}},\"ternary\":{\"bgcolor\":\"#E5ECF6\",\"aaxis\":{\"gridcolor\":\"white\",\"linecolor\":\"white\",\"ticks\":\"\"},\"baxis\":{\"gridcolor\":\"white\",\"linecolor\":\"white\",\"ticks\":\"\"},\"caxis\":{\"gridcolor\":\"white\",\"linecolor\":\"white\",\"ticks\":\"\"}},\"coloraxis\":{\"colorbar\":{\"outlinewidth\":0,\"ticks\":\"\"}},\"colorscale\":{\"sequential\":[[0.0,\"#0d0887\"],[0.1111111111111111,\"#46039f\"],[0.2222222222222222,\"#7201a8\"],[0.3333333333333333,\"#9c179e\"],[0.4444444444444444,\"#bd3786\"],[0.5555555555555556,\"#d8576b\"],[0.6666666666666666,\"#ed7953\"],[0.7777777777777778,\"#fb9f3a\"],[0.8888888888888888,\"#fdca26\"],[1.0,\"#f0f921\"]],\"sequentialminus\":[[0.0,\"#0d0887\"],[0.1111111111111111,\"#46039f\"],[0.2222222222222222,\"#7201a8\"],[0.3333333333333333,\"#9c179e\"],[0.4444444444444444,\"#bd3786\"],[0.5555555555555556,\"#d8576b\"],[0.6666666666666666,\"#ed7953\"],[0.7777777777777778,\"#fb9f3a\"],[0.8888888888888888,\"#fdca26\"],[1.0,\"#f0f921\"]],\"diverging\":[[0,\"#8e0152\"],[0.1,\"#c51b7d\"],[0.2,\"#de77ae\"],[0.3,\"#f1b6da\"],[0.4,\"#fde0ef\"],[0.5,\"#f7f7f7\"],[0.6,\"#e6f5d0\"],[0.7,\"#b8e186\"],[0.8,\"#7fbc41\"],[0.9,\"#4d9221\"],[1,\"#276419\"]]},\"xaxis\":{\"gridcolor\":\"white\",\"linecolor\":\"white\",\"ticks\":\"\",\"title\":{\"standoff\":15},\"zerolinecolor\":\"white\",\"automargin\":true,\"zerolinewidth\":2},\"yaxis\":{\"gridcolor\":\"white\",\"linecolor\":\"white\",\"ticks\":\"\",\"title\":{\"standoff\":15},\"zerolinecolor\":\"white\",\"automargin\":true,\"zerolinewidth\":2},\"scene\":{\"xaxis\":{\"backgroundcolor\":\"#E5ECF6\",\"gridcolor\":\"white\",\"linecolor\":\"white\",\"showbackground\":true,\"ticks\":\"\",\"zerolinecolor\":\"white\",\"gridwidth\":2},\"yaxis\":{\"backgroundcolor\":\"#E5ECF6\",\"gridcolor\":\"white\",\"linecolor\":\"white\",\"showbackground\":true,\"ticks\":\"\",\"zerolinecolor\":\"white\",\"gridwidth\":2},\"zaxis\":{\"backgroundcolor\":\"#E5ECF6\",\"gridcolor\":\"white\",\"linecolor\":\"white\",\"showbackground\":true,\"ticks\":\"\",\"zerolinecolor\":\"white\",\"gridwidth\":2}},\"shapedefaults\":{\"line\":{\"color\":\"#2a3f5f\"}},\"annotationdefaults\":{\"arrowcolor\":\"#2a3f5f\",\"arrowhead\":0,\"arrowwidth\":1},\"geo\":{\"bgcolor\":\"white\",\"landcolor\":\"#E5ECF6\",\"subunitcolor\":\"white\",\"showland\":true,\"showlakes\":true,\"lakecolor\":\"white\"},\"title\":{\"x\":0.05},\"mapbox\":{\"style\":\"light\"}}},\"xaxis\":{\"anchor\":\"y\",\"domain\":[0.0,1.0],\"title\":{\"text\":\"Monthly Income ($)\"}},\"yaxis\":{\"anchor\":\"x\",\"domain\":[0.0,0.7326],\"title\":{\"text\":\"Density\"}},\"xaxis2\":{\"anchor\":\"y2\",\"domain\":[0.0,1.0],\"matches\":\"x\",\"showticklabels\":false,\"showgrid\":true},\"yaxis2\":{\"anchor\":\"x2\",\"domain\":[0.7426,1.0],\"matches\":\"y2\",\"showticklabels\":false,\"showline\":false,\"ticks\":\"\",\"showgrid\":false},\"legend\":{\"title\":{\"text\":\"Attrition\"},\"tracegroupgap\":0,\"traceorder\":\"reversed\"},\"margin\":{\"t\":60},\"barmode\":\"overlay\",\"font\":{\"color\":\"#28221D\"},\"title\":{\"text\":\"Distribution of Monthly Income by Attrition Status\"},\"paper_bgcolor\":\"#F4F2F0\",\"plot_bgcolor\":\"#F4F2F0\"},                        {\"responsive\": true}                    ).then(function(){\n",
       "                            \n",
       "var gd = document.getElementById('5d5fc49c-8a8a-49b5-8ae5-1a398d136c41');\n",
       "var x = new MutationObserver(function (mutations, observer) {{\n",
       "        var display = window.getComputedStyle(gd).display;\n",
       "        if (!display || display === 'none') {{\n",
       "            console.log([gd, 'removed!']);\n",
       "            Plotly.purge(gd);\n",
       "            observer.disconnect();\n",
       "        }}\n",
       "}});\n",
       "\n",
       "// Listen for the removal of the full notebook cells\n",
       "var notebookContainer = gd.closest('#notebook-container');\n",
       "if (notebookContainer) {{\n",
       "    x.observe(notebookContainer, {childList: true});\n",
       "}}\n",
       "\n",
       "// Listen for the clearing of the current output cell\n",
       "var outputEl = gd.closest('.output');\n",
       "if (outputEl) {{\n",
       "    x.observe(outputEl, {childList: true});\n",
       "}}\n",
       "\n",
       "                        })                };                });            </script>        </div>"
      ]
     },
     "metadata": {},
     "output_type": "display_data"
    }
   ],
   "source": [
    "import plotly.express as px\n",
    "\n",
    "# Sort by Attrition (optional)\n",
    "plot_df = data.sort_values(by=\"Attrition\")\n",
    "\n",
    "# Histogram with overlay and marginal boxplot\n",
    "fig = px.histogram(plot_df,\n",
    "                   x='MonthlyIncome',\n",
    "                   color='Attrition',\n",
    "                   histnorm='density',\n",
    "                   barmode='overlay',\n",
    "                   marginal='box',\n",
    "                   opacity=0.8,\n",
    "                   color_discrete_map={'Yes': '#C02B34','No': '#CDBBA7'})\n",
    "\n",
    "# Layout adjustments\n",
    "fig.update_layout(\n",
    "    title=\"Distribution of Monthly Income by Attrition Status\",\n",
    "    xaxis_title=\"Monthly Income ($)\",\n",
    "    yaxis_title=\"Density\",\n",
    "    font_color='#28221D',\n",
    "    paper_bgcolor='#F4F2F0',\n",
    "    plot_bgcolor='#F4F2F0',\n",
    "    legend_traceorder='reversed'\n",
    ")\n",
    "\n",
    "fig.show()\n"
   ]
  },
  {
   "cell_type": "markdown",
   "metadata": {},
   "source": [
    "The distribution of monthly income for both current and former employees is positively skewed and lower overall among staff who left. Former employees had a median monthly income more than $2,000 less than current employees."
   ]
  },
  {
   "cell_type": "code",
   "execution_count": 98,
   "metadata": {
    "_kg_hide-input": true
   },
   "outputs": [
    {
     "data": {
      "application/vnd.plotly.v1+json": {
       "config": {
        "plotlyServerURL": "https://plot.ly"
       },
       "data": [
        {
         "line": {
          "color": "#214D5C"
         },
         "name": "Female",
         "notched": true,
         "type": "box",
         "x": [
          1,
          3,
          2,
          3,
          3,
          3,
          2,
          3,
          2,
          3,
          3,
          2,
          2,
          3,
          4,
          3,
          3,
          3,
          3,
          2,
          2,
          3,
          3,
          3,
          2,
          2,
          3,
          3,
          2,
          3,
          3,
          3,
          2,
          1,
          2,
          3,
          3,
          3,
          2,
          3,
          2,
          3,
          3,
          3,
          3,
          3,
          3,
          2,
          2,
          2,
          3,
          3,
          3,
          3,
          4,
          4,
          3,
          2,
          3,
          3,
          3,
          3,
          2,
          3,
          3,
          3,
          4,
          4,
          4,
          3,
          3,
          3,
          3,
          3,
          2,
          3,
          3,
          3,
          3,
          2,
          3,
          3,
          2,
          3,
          3,
          3,
          3,
          2,
          3,
          3,
          3,
          3,
          4,
          2,
          2,
          3,
          4,
          3,
          3,
          2,
          2,
          3,
          3,
          3,
          3,
          2,
          3,
          2,
          3,
          1,
          3,
          3,
          3,
          2,
          4,
          3,
          3,
          3,
          3,
          3,
          3,
          2,
          3,
          2,
          3,
          3,
          2,
          4,
          2,
          2,
          3,
          3,
          2,
          3,
          3,
          3,
          1,
          4,
          3,
          3,
          3,
          3,
          3,
          4,
          3,
          2,
          3,
          3,
          4,
          3,
          2,
          3,
          3,
          3,
          3,
          1,
          3,
          3,
          3,
          2,
          3,
          1,
          3,
          3,
          1,
          2,
          4,
          3,
          2,
          3,
          1,
          4,
          3,
          2,
          4,
          3,
          3,
          3,
          3,
          3,
          3,
          3,
          3,
          2,
          3,
          3,
          3,
          4,
          2,
          3,
          3,
          2,
          3,
          2,
          4,
          3,
          2,
          1,
          4,
          3,
          2,
          3,
          4,
          3,
          3,
          2,
          3,
          3,
          4,
          3,
          3,
          2,
          3,
          3,
          3,
          3,
          4,
          2,
          3,
          1,
          2,
          1,
          4,
          3,
          2,
          3,
          3,
          2,
          3,
          3,
          2,
          3,
          3,
          2,
          3,
          3,
          3,
          3,
          3,
          2,
          3,
          3,
          3,
          3,
          2,
          3,
          3,
          4,
          3,
          3,
          2,
          2,
          3,
          2,
          3,
          3,
          2,
          3,
          2,
          3,
          3,
          3,
          2,
          3,
          3,
          3,
          4,
          2,
          2,
          2,
          4,
          2,
          3,
          3,
          3,
          3,
          1,
          2,
          2,
          3,
          3,
          1,
          4,
          3,
          3,
          3,
          3,
          2,
          3,
          3,
          3,
          3,
          3,
          3,
          3,
          3,
          3,
          3,
          2,
          2,
          3,
          3,
          3,
          3,
          3,
          3,
          1,
          3,
          3,
          3,
          3,
          3,
          3,
          2,
          4,
          3,
          3,
          3,
          2,
          3,
          3,
          3,
          2,
          3,
          2,
          3,
          3,
          2,
          4,
          3,
          3,
          3,
          3,
          3,
          2,
          3,
          4,
          2,
          3,
          3,
          2,
          1,
          2,
          2,
          1,
          2,
          3,
          3,
          3,
          2,
          2,
          3,
          2,
          3,
          3,
          1,
          2,
          3,
          3,
          3,
          4,
          3,
          2,
          1,
          3,
          4,
          3,
          3,
          3,
          2,
          2,
          3,
          3,
          1,
          3,
          3,
          4,
          3,
          4,
          3,
          3,
          2,
          3,
          3,
          2,
          3,
          3,
          3,
          3,
          4,
          3,
          3,
          3,
          2,
          4,
          3,
          3,
          3,
          4,
          2,
          2,
          3,
          2,
          4,
          3,
          3,
          3,
          4,
          2,
          4,
          2,
          2,
          1,
          3,
          3,
          3,
          1,
          3,
          3,
          2,
          3,
          3,
          3,
          3,
          4,
          4,
          2,
          4,
          4,
          3,
          2,
          4,
          3,
          3,
          3,
          3,
          2,
          1,
          4,
          3,
          3,
          2,
          3,
          3,
          3,
          3,
          4,
          1,
          1,
          3,
          3,
          3,
          3,
          3,
          3,
          2,
          3,
          4,
          3,
          3,
          3,
          2,
          3,
          2,
          3,
          3,
          2,
          2,
          4,
          3,
          3,
          3,
          1,
          3,
          4,
          1,
          2,
          3,
          3,
          3,
          3,
          3,
          3,
          3,
          3,
          3,
          3,
          3,
          2,
          3,
          3,
          3,
          3,
          2,
          3,
          3,
          3,
          3,
          2,
          3,
          3,
          1,
          2,
          4,
          3,
          2,
          2,
          3,
          2,
          4,
          2,
          2,
          3,
          2,
          3,
          3,
          3,
          3,
          3,
          2,
          4,
          3,
          3,
          4,
          3,
          3,
          3,
          2,
          3,
          3,
          2,
          1,
          4,
          3,
          2,
          3,
          3,
          3,
          3,
          3,
          2,
          3,
          3,
          3,
          2,
          2,
          2,
          3,
          3,
          3,
          2,
          2,
          3,
          3,
          3,
          3,
          2,
          3,
          3,
          3,
          3,
          2,
          3,
          4,
          3,
          4,
          3,
          3,
          1,
          3,
          3,
          3,
          3,
          3,
          2,
          3,
          3,
          3,
          3,
          3,
          3,
          2,
          3,
          3,
          3,
          1,
          2,
          3
         ],
         "y": [
          5993,
          2909,
          2670,
          4193,
          9980,
          15427,
          4011,
          11994,
          19094,
          3919,
          10248,
          18947,
          2645,
          2014,
          3419,
          5376,
          2341,
          4011,
          19545,
          5454,
          4157,
          13458,
          4014,
          2406,
          18740,
          7637,
          10096,
          14756,
          5473,
          3038,
          4424,
          5329,
          5209,
          13549,
          4999,
          2926,
          4809,
          18844,
          18172,
          2871,
          7484,
          17328,
          4505,
          11631,
          9738,
          2835,
          4963,
          2368,
          10312,
          6567,
          4739,
          9208,
          4559,
          2942,
          5902,
          4200,
          4317,
          2632,
          3204,
          1483,
          5605,
          8998,
          3346,
          2231,
          19926,
          9419,
          8686,
          2325,
          5006,
          4257,
          10453,
          2288,
          3929,
          2311,
          3140,
          4450,
          2756,
          19033,
          13734,
          2279,
          4425,
          5265,
          7639,
          2153,
          9981,
          2657,
          13591,
          6696,
          8865,
          5940,
          2622,
          7918,
          8789,
          3212,
          19517,
          16064,
          2707,
          3931,
          2232,
          2911,
          3920,
          10938,
          6545,
          4898,
          2593,
          16872,
          13603,
          11996,
          5605,
          6397,
          2115,
          3310,
          18665,
          2789,
          13525,
          1200,
          5674,
          12061,
          11878,
          2455,
          13964,
          2478,
          5228,
          5055,
          5775,
          8943,
          5238,
          5257,
          4869,
          9985,
          6118,
          6214,
          7143,
          8268,
          15992,
          2370,
          12504,
          4736,
          2174,
          6653,
          2213,
          2851,
          3452,
          5258,
          2716,
          4936,
          2543,
          16659,
          4260,
          2244,
          3034,
          5715,
          2576,
          3448,
          6538,
          4306,
          4522,
          4487,
          4449,
          13212,
          6577,
          16555,
          4556,
          6091,
          19566,
          4810,
          4523,
          3202,
          2351,
          18041,
          2886,
          2546,
          8412,
          2564,
          10266,
          5070,
          3780,
          9071,
          9950,
          4051,
          16835,
          13237,
          3755,
          2741,
          16184,
          6811,
          4859,
          7491,
          10527,
          16595,
          9824,
          6447,
          2886,
          2187,
          2836,
          4089,
          2619,
          15402,
          5985,
          2579,
          6322,
          2083,
          8381,
          4286,
          2659,
          5561,
          4028,
          4647,
          8621,
          4577,
          4553,
          7625,
          7412,
          11159,
          2216,
          11713,
          7861,
          13770,
          6142,
          6389,
          2342,
          6811,
          5093,
          5121,
          6180,
          6397,
          4364,
          4335,
          3280,
          5485,
          2782,
          5980,
          4381,
          2572,
          4244,
          6500,
          3149,
          2319,
          5324,
          16752,
          5228,
          2506,
          6062,
          6162,
          6877,
          2274,
          2553,
          7654,
          4779,
          2366,
          16307,
          2559,
          10934,
          5175,
          13826,
          10685,
          2022,
          3580,
          5231,
          2800,
          2973,
          14275,
          5562,
          4537,
          5204,
          2532,
          4765,
          2044,
          2693,
          3294,
          4171,
          2778,
          2377,
          2318,
          6244,
          10552,
          4014,
          7403,
          6932,
          13582,
          2332,
          5855,
          6725,
          6949,
          2157,
          4601,
          5666,
          13194,
          2404,
          3452,
          2270,
          5488,
          2811,
          4163,
          2132,
          4377,
          4148,
          10739,
          10388,
          11416,
          2600,
          2422,
          5003,
          12742,
          4227,
          13726,
          4777,
          19973,
          19845,
          13320,
          6347,
          2743,
          10880,
          2342,
          17650,
          4025,
          7525,
          2220,
          4107,
          2007,
          10686,
          2942,
          8858,
          2323,
          1416,
          4615,
          3376,
          8823,
          3660,
          4508,
          6694,
          4302,
          5593,
          2514,
          7655,
          10820,
          2070,
          3291,
          8224,
          5731,
          5714,
          7336,
          13499,
          2515,
          4422,
          5346,
          2827,
          19943,
          3131,
          4477,
          6474,
          18606,
          2168,
          17048,
          17856,
          2210,
          4539,
          2743,
          4998,
          10252,
          6852,
          13191,
          10377,
          10502,
          2011,
          1859,
          3760,
          6812,
          5171,
          16124,
          2585,
          2994,
          18824,
          2625,
          18789,
          4538,
          4444,
          2372,
          10231,
          5410,
          7978,
          2838,
          4695,
          3339,
          2096,
          18061,
          17123,
          4627,
          7094,
          3423,
          6674,
          16880,
          11916,
          9852,
          2302,
          19187,
          4103,
          6893,
          6125,
          10008,
          4639,
          2534,
          13142,
          1611,
          5363,
          2029,
          6377,
          2785,
          4614,
          6687,
          5467,
          13247,
          4081,
          5769,
          2394,
          16799,
          2950,
          3629,
          7553,
          17328,
          19701,
          9278,
          1359,
          4779,
          16422,
          1261,
          5647,
          2066,
          17169,
          4162,
          3294,
          3646,
          7446,
          2109,
          2742,
          3673,
          4768,
          5765,
          4599,
          2033,
          3838,
          4591,
          4789,
          3180,
          16032,
          8376,
          16606,
          8606,
          4084,
          9715,
          2430,
          5878,
          6439,
          2074,
          10169,
          2367,
          2061,
          4198,
          6815,
          6142,
          4639,
          2814,
          3312,
          19049,
          5769,
          4663,
          3211,
          4877,
          1569,
          19658,
          10435,
          4148,
          5042,
          5770,
          7756,
          3936,
          7945,
          3760,
          3517,
          8008,
          16413,
          13269,
          2783,
          5433,
          13966,
          4374,
          17426,
          5476,
          2587,
          2440,
          15972,
          5368,
          3195,
          3306,
          2655,
          2929,
          7879,
          2974,
          4502,
          16704,
          6516,
          3295,
          5238,
          9756,
          4968,
          2180,
          3445,
          2760,
          5147,
          4507,
          8564,
          2468,
          2109,
          12965,
          6029,
          3702,
          2398,
          5468,
          13116,
          3377,
          10447,
          9667,
          2148,
          8926,
          6513,
          10333,
          4448,
          6854,
          9637,
          3591,
          5405,
          1514,
          5154,
          6962,
          2379,
          2105,
          13225,
          3540,
          19392,
          7314,
          4774,
          2856,
          5673,
          4788,
          5906,
          2933,
          6500,
          17174,
          4393,
          6583,
          8103,
          3978,
          5736,
          9854,
          5380,
          2133,
          17875,
          2432,
          2863,
          6667,
          5204,
          2897,
          1129,
          11031,
          4440,
          6323,
          5677,
          2187,
          11957,
          4878,
          2837,
          13206,
          10422,
          13744,
          4907,
          7644,
          5131,
          13570,
          6712,
          8837,
          5343,
          6652,
          4850,
          2001,
          2977,
          3785,
          12031,
          2966
         ]
        },
        {
         "line": {
          "color": "#91ABB4"
         },
         "name": "Male",
         "notched": true,
         "type": "box",
         "x": [
          3,
          3,
          3,
          2,
          3,
          3,
          2,
          3,
          2,
          3,
          3,
          2,
          2,
          3,
          3,
          3,
          3,
          3,
          3,
          4,
          3,
          4,
          2,
          3,
          3,
          2,
          3,
          3,
          3,
          3,
          3,
          3,
          2,
          3,
          2,
          2,
          4,
          3,
          3,
          3,
          2,
          2,
          3,
          3,
          3,
          3,
          4,
          4,
          3,
          2,
          3,
          3,
          3,
          2,
          3,
          3,
          3,
          3,
          2,
          1,
          2,
          3,
          4,
          2,
          4,
          3,
          3,
          4,
          3,
          3,
          3,
          3,
          3,
          4,
          2,
          4,
          3,
          2,
          2,
          3,
          3,
          3,
          3,
          3,
          1,
          2,
          4,
          3,
          2,
          3,
          3,
          1,
          1,
          3,
          3,
          2,
          3,
          1,
          1,
          1,
          2,
          3,
          3,
          2,
          2,
          3,
          4,
          2,
          2,
          3,
          2,
          3,
          3,
          4,
          3,
          2,
          3,
          1,
          3,
          3,
          4,
          4,
          3,
          2,
          1,
          3,
          2,
          3,
          1,
          2,
          4,
          3,
          2,
          3,
          3,
          3,
          2,
          3,
          2,
          1,
          4,
          1,
          3,
          2,
          3,
          3,
          3,
          3,
          3,
          3,
          3,
          3,
          3,
          2,
          4,
          1,
          3,
          3,
          1,
          3,
          3,
          3,
          3,
          3,
          3,
          2,
          2,
          4,
          4,
          2,
          2,
          3,
          2,
          3,
          3,
          1,
          3,
          3,
          3,
          3,
          2,
          3,
          2,
          3,
          3,
          3,
          3,
          2,
          2,
          2,
          3,
          3,
          3,
          3,
          1,
          3,
          2,
          3,
          3,
          2,
          3,
          2,
          3,
          3,
          3,
          2,
          2,
          3,
          2,
          3,
          3,
          2,
          3,
          3,
          2,
          3,
          3,
          3,
          3,
          3,
          3,
          2,
          3,
          3,
          3,
          3,
          3,
          3,
          3,
          3,
          3,
          2,
          3,
          3,
          3,
          3,
          2,
          3,
          2,
          3,
          3,
          3,
          3,
          3,
          3,
          3,
          2,
          3,
          1,
          3,
          4,
          2,
          3,
          1,
          3,
          3,
          4,
          4,
          3,
          3,
          3,
          3,
          3,
          2,
          3,
          3,
          3,
          4,
          2,
          4,
          4,
          2,
          3,
          3,
          3,
          3,
          1,
          3,
          3,
          3,
          3,
          3,
          3,
          4,
          3,
          3,
          3,
          4,
          3,
          1,
          3,
          4,
          2,
          2,
          3,
          3,
          3,
          4,
          3,
          3,
          2,
          3,
          3,
          1,
          4,
          3,
          3,
          3,
          3,
          3,
          4,
          3,
          3,
          3,
          3,
          3,
          2,
          3,
          3,
          3,
          3,
          2,
          3,
          2,
          3,
          3,
          3,
          2,
          3,
          3,
          3,
          4,
          2,
          3,
          3,
          3,
          1,
          4,
          2,
          3,
          3,
          3,
          3,
          3,
          3,
          2,
          3,
          3,
          2,
          3,
          3,
          3,
          4,
          3,
          3,
          2,
          3,
          3,
          2,
          2,
          2,
          3,
          3,
          4,
          1,
          2,
          2,
          2,
          3,
          2,
          2,
          2,
          3,
          3,
          3,
          1,
          2,
          3,
          3,
          3,
          3,
          4,
          2,
          3,
          3,
          3,
          3,
          3,
          3,
          3,
          4,
          1,
          3,
          3,
          2,
          2,
          1,
          3,
          3,
          4,
          2,
          3,
          3,
          2,
          3,
          3,
          3,
          4,
          3,
          3,
          3,
          1,
          2,
          2,
          3,
          4,
          4,
          3,
          3,
          4,
          3,
          3,
          3,
          2,
          4,
          3,
          3,
          2,
          3,
          1,
          3,
          3,
          2,
          3,
          3,
          2,
          4,
          3,
          3,
          3,
          3,
          2,
          1,
          3,
          2,
          3,
          3,
          3,
          2,
          2,
          3,
          4,
          3,
          4,
          2,
          3,
          2,
          3,
          3,
          3,
          3,
          3,
          3,
          2,
          2,
          4,
          2,
          3,
          3,
          3,
          3,
          3,
          2,
          3,
          3,
          3,
          3,
          3,
          4,
          2,
          3,
          3,
          1,
          3,
          3,
          2,
          3,
          2,
          4,
          3,
          3,
          3,
          2,
          3,
          1,
          2,
          4,
          3,
          3,
          3,
          3,
          4,
          3,
          4,
          3,
          2,
          3,
          3,
          3,
          3,
          1,
          3,
          3,
          3,
          3,
          3,
          3,
          2,
          3,
          3,
          2,
          4,
          3,
          3,
          3,
          3,
          2,
          3,
          2,
          3,
          4,
          2,
          2,
          3,
          3,
          4,
          3,
          3,
          3,
          3,
          2,
          3,
          2,
          2,
          2,
          2,
          4,
          3,
          3,
          2,
          4,
          3,
          3,
          3,
          3,
          2,
          3,
          3,
          4,
          2,
          3,
          3,
          2,
          3,
          3,
          3,
          2,
          3,
          3,
          3,
          2,
          3,
          3,
          3,
          3,
          2,
          4,
          3,
          3,
          4,
          2,
          3,
          2,
          3,
          3,
          2,
          3,
          2,
          3,
          4,
          3,
          4,
          2,
          2,
          3,
          1,
          2,
          2,
          4,
          3,
          4,
          3,
          1,
          4,
          3,
          3,
          3,
          3,
          2,
          2,
          4,
          2,
          3,
          3,
          2,
          2,
          2,
          3,
          2,
          4,
          3,
          2,
          2,
          3,
          4,
          3,
          2,
          1,
          3,
          2,
          3,
          4,
          1,
          4,
          3,
          1,
          3,
          3,
          3,
          3,
          3,
          3,
          3,
          1,
          4,
          3,
          3,
          3,
          3,
          3,
          2,
          2,
          1,
          3,
          3,
          3,
          3,
          3,
          2,
          1,
          3,
          2,
          3,
          3,
          3,
          4,
          3,
          3,
          3,
          3,
          2,
          2,
          3,
          2,
          1,
          3,
          3,
          2,
          3,
          3,
          3,
          3,
          3,
          3,
          3,
          3,
          2,
          3,
          3,
          3,
          2,
          2,
          1,
          3,
          3,
          3,
          3,
          3,
          3,
          4,
          4,
          2,
          3,
          2,
          3,
          3,
          3,
          2,
          3,
          3,
          3,
          3,
          3,
          4,
          4,
          3,
          2,
          3,
          4,
          3,
          3,
          3,
          2,
          3,
          1,
          4,
          2,
          4,
          3,
          4,
          3,
          3,
          2,
          1,
          2,
          3,
          3,
          3,
          1,
          2,
          3,
          3,
          4,
          3,
          3,
          3,
          3,
          3,
          3,
          3,
          2,
          3,
          2,
          3,
          3,
          3,
          3,
          3,
          3,
          3,
          2,
          2,
          3,
          3,
          4,
          3,
          3,
          2,
          3,
          3,
          2,
          1,
          3,
          2,
          1,
          3,
          2,
          4,
          3,
          3,
          3,
          3,
          3,
          4,
          4,
          2,
          2,
          3,
          3,
          3,
          2,
          3,
          3,
          2,
          3,
          4,
          2,
          3,
          3,
          3,
          3,
          3,
          2,
          3,
          3,
          3,
          3,
          1,
          4,
          3,
          3,
          2,
          3,
          3,
          2,
          3,
          4,
          3,
          4,
          3,
          3,
          1,
          2,
          4,
          3,
          2,
          2,
          2,
          2,
          3,
          2,
          2,
          3,
          3,
          3,
          2,
          3,
          3,
          3,
          3,
          3,
          3,
          2,
          4,
          2,
          2,
          3,
          2,
          3,
          3,
          3,
          2,
          3,
          3,
          4,
          3,
          2,
          3,
          3,
          2,
          3,
          3,
          2,
          2,
          2,
          4,
          2,
          1,
          2,
          3,
          3,
          3,
          3,
          4,
          3,
          3,
          3,
          3,
          3,
          3,
          2,
          4
         ],
         "y": [
          5130,
          2090,
          3468,
          3068,
          2693,
          9526,
          5237,
          2426,
          2911,
          2661,
          2028,
          3298,
          2935,
          3944,
          3407,
          1232,
          2960,
          6825,
          2496,
          6465,
          2206,
          2086,
          2293,
          2683,
          1951,
          2293,
          8726,
          4568,
          3022,
          5772,
          2269,
          5381,
          3441,
          9884,
          9069,
          5915,
          5993,
          6162,
          6499,
          9724,
          2194,
          3388,
          2703,
          2501,
          6220,
          4312,
          13245,
          13664,
          5021,
          5126,
          2859,
          10239,
          4325,
          7260,
          2322,
          2075,
          4152,
          9619,
          13503,
          5441,
          10673,
          5010,
          4221,
          13872,
          2042,
          2073,
          2956,
          5163,
          5744,
          2889,
          6074,
          2774,
          7428,
          16959,
          2613,
          6146,
          19537,
          6172,
          1675,
          2523,
          8189,
          4941,
          10650,
          8639,
          6347,
          3452,
          4668,
          2720,
          17181,
          2238,
          7295,
          2306,
          2348,
          4319,
          6132,
          10855,
          2323,
          2024,
          2713,
          9439,
          2566,
          2451,
          3038,
          3058,
          2088,
          3072,
          2500,
          1102,
          3690,
          18722,
          9547,
          19999,
          5916,
          2089,
          16792,
          3564,
          6553,
          6261,
          4298,
          6804,
          3815,
          2741,
          6673,
          2328,
          4876,
          9396,
          10400,
          8474,
          12490,
          2058,
          5914,
          12185,
          10609,
          4345,
          2177,
          2793,
          2389,
          19232,
          2267,
          2436,
          19068,
          3730,
          4465,
          3072,
          3319,
          19202,
          13675,
          5957,
          6434,
          10048,
          2340,
          6931,
          19436,
          2723,
          3479,
          2794,
          5249,
          2176,
          3485,
          6644,
          5582,
          4000,
          13496,
          3210,
          19045,
          11849,
          2070,
          6502,
          3230,
          19144,
          17584,
          4907,
          4554,
          5415,
          4741,
          3161,
          5745,
          2373,
          4485,
          5828,
          2326,
          1420,
          8020,
          3688,
          5482,
          16015,
          5661,
          6929,
          9613,
          5484,
          5660,
          4821,
          6410,
          5210,
          2695,
          17068,
          4941,
          4478,
          7547,
          3464,
          19272,
          4682,
          18300,
          6349,
          3697,
          7457,
          2119,
          3983,
          6347,
          11510,
          8095,
          2904,
          6032,
          2976,
          4649,
          2696,
          5974,
          5296,
          6781,
          9699,
          6755,
          2610,
          9355,
          10496,
          6380,
          2657,
          2201,
          6540,
          3816,
          5253,
          10965,
          5304,
          2476,
          3102,
          7596,
          2285,
          4197,
          14336,
          19406,
          2258,
          2218,
          19197,
          8392,
          4558,
          4031,
          7969,
          2654,
          1702,
          2097,
          11935,
          2564,
          14118,
          17046,
          17861,
          4230,
          2768,
          10648,
          13610,
          3408,
          2983,
          7632,
          9824,
          2093,
          9980,
          3894,
          6230,
          4717,
          6582,
          7406,
          4805,
          4262,
          11557,
          1878,
          10932,
          4306,
          5337,
          2340,
          8834,
          5577,
          4707,
          2400,
          19502,
          2725,
          6272,
          2127,
          18200,
          2096,
          2033,
          3622,
          4233,
          3681,
          5460,
          9602,
          16627,
          5679,
          3041,
          3447,
          19513,
          2773,
          7104,
          2691,
          9434,
          6646,
          7725,
          10725,
          8847,
          2045,
          1009,
          3348,
          1281,
          2819,
          4851,
          2720,
          8120,
          4680,
          3221,
          5396,
          6796,
          4960,
          10475,
          14814,
          19141,
          5405,
          8793,
          19189,
          3875,
          3708,
          5304,
          2642,
          2759,
          6804,
          2500,
          11103,
          2297,
          2450,
          5309,
          3057,
          16856,
          2686,
          6632,
          3505,
          6274,
          19859,
          7587,
          4258,
          5326,
          4342,
          3833,
          18430,
          1601,
          2694,
          17639,
          11691,
          2700,
          19246,
          4382,
          2143,
          5094,
          4434,
          6288,
          5160,
          17159,
          12808,
          10221,
          3737,
          1706,
          5933,
          3424,
          4037,
          6201,
          4403,
          3761,
          10761,
          6334,
          4936,
          4775,
          2818,
          2515,
          2342,
          4194,
          2314,
          4256,
          3162,
          6524,
          2899,
          2356,
          11836,
          10903,
          7642,
          17924,
          2277,
          2795,
          2559,
          4908,
          2380,
          6586,
          2404,
          2008,
          2799,
          2329,
          2259,
          4678,
          2413,
          9705,
          4294,
          4721,
          2519,
          2121,
          2973,
          3617,
          10325,
          10609,
          4447,
          17099,
          2479,
          14852,
          7264,
          7823,
          7880,
          5067,
          5079,
          2321,
          17444,
          17399,
          19419,
          3633,
          13973,
          2684,
          10845,
          3743,
          1051,
          5472,
          2451,
          4240,
          10999,
          3917,
          18303,
          2380,
          6385,
          6861,
          4969,
          9725,
          11904,
          2177,
          4834,
          2042,
          1052,
          2821,
          19237,
          8396,
          19627,
          16756,
          10798,
          2461,
          8722,
          3955,
          9957,
          10322,
          4621,
          10976,
          10482,
          7119,
          9582,
          2207,
          7756,
          3691,
          2377,
          2313,
          17665,
          2596,
          4728,
          2979,
          16885,
          10445,
          8740,
          17465,
          7351,
          12169,
          19626,
          6782,
          7779,
          2791,
          3201,
          4968,
          13120,
          4033,
          4272,
          5056,
          2844,
          2703,
          1904,
          4766,
          2610,
          2539,
          4323,
          13758,
          5155,
          2258,
          3597,
          4420,
          6578,
          10274,
          5343,
          2376,
          2552,
          3033,
          2936,
          2853,
          2290,
          3600,
          2107,
          4115,
          4327,
          3196,
          19081,
          8966,
          2741,
          3491,
          4541,
          2678,
          7379,
          6272,
          5220,
          2781,
          4950,
          3579,
          2235,
          17779,
          6833,
          19740,
          18711,
          3692,
          2559,
          2517,
          6623,
          18265,
          18213,
          8380,
          1223,
          1118,
          2875,
          13577,
          19847,
          10512,
          2154,
          19190,
          4490,
          3506,
          3867,
          2080,
          6209,
          2372,
          4883,
          3904,
          9094,
          8446,
          4534,
          6151,
          2362,
          17861,
          19717,
          3544,
          8500,
          4661,
          4249,
          14026,
          3669,
          2387,
          7898,
          5071,
          13695,
          13402,
          5429,
          2610,
          4724,
          6179,
          6120,
          10596,
          2996,
          9998,
          4078,
          10920,
          6232,
          3904,
          9362,
          3229,
          3578,
          7988,
          4284,
          14732,
          2996,
          2099,
          5810,
          3420,
          4400,
          3500,
          9204,
          2127,
          3975,
          10793,
          10096,
          10851,
          3722,
          9380,
          5486,
          13757,
          8463,
          3162,
          16598,
          6651,
          2345,
          3420,
          4373,
          4759,
          5301,
          1274,
          4900,
          10466,
          17007,
          2909,
          2404,
          3172,
          10209,
          8620,
          2064,
          4035,
          2561,
          1563,
          4898,
          6549,
          6388,
          11244,
          2362,
          16328,
          2272,
          2018,
          7083,
          14411,
          2308,
          4841,
          4285,
          4320,
          2132,
          10124,
          5473,
          5207,
          16437,
          2296,
          4069,
          7441,
          2644,
          2451,
          6392,
          9714,
          6077,
          2450,
          9250,
          4855,
          4087,
          2972,
          19586,
          5484,
          9924,
          4723,
          8237,
          8853,
          19331,
          2073,
          5562,
          19613,
          3407,
          5063,
          4876,
          2690,
          17567,
          2408,
          11245,
          2141,
          4385,
          5332,
          4724,
          5377,
          4066,
          5208,
          3117,
          3069,
          5768,
          10306,
          5743,
          15202,
          5440,
          2580,
          2166,
          5869,
          5206,
          5295,
          2013,
          6842,
          17603,
          4581,
          4735,
          4187,
          5505,
          5470,
          15379,
          7082,
          2728,
          5347,
          3989,
          7005,
          1393,
          2570,
          3537,
          3986,
          10883,
          2028,
          9525,
          2275,
          4930,
          7847,
          4401,
          9241,
          10748,
          1555,
          12936,
          2305,
          3433,
          3477,
          6430,
          3907,
          5562,
          6883,
          2862,
          4978,
          10368,
          6134,
          6735,
          6472,
          9610,
          19833,
          2145,
          8346,
          6294,
          7140,
          2932,
          8161,
          5294,
          2718,
          5811,
          2437,
          2766,
          19038,
          3055,
          2289,
          4001,
          3539,
          2679,
          4189,
          19328,
          8321,
          2342,
          4071,
          5813,
          3143,
          2044,
          13464,
          7991,
          5538,
          5762,
          2592,
          5346,
          4213,
          4127,
          2438,
          6870,
          6799,
          16291,
          2705,
          4684,
          15787,
          2956,
          2335,
          5675,
          3812,
          4648,
          2936,
          8578,
          2706,
          6384,
          3968,
          9907,
          2804,
          19665,
          2439,
          3902,
          2662,
          1081,
          2472,
          4197,
          9713,
          2062,
          4284,
          3886,
          16823,
          5033,
          2307,
          2587,
          5507,
          13348,
          2544,
          5399,
          5487,
          6834,
          1091,
          2226,
          5747,
          5467,
          5151,
          4771,
          19161,
          5087,
          5561,
          2144,
          3065,
          2810,
          9888,
          8628,
          2867,
          5373,
          5003,
          2367,
          2858,
          4105,
          9679,
          5617,
          10448,
          5968,
          7510,
          2991,
          19636,
          13341,
          4332,
          4617,
          2647,
          3748,
          3977,
          8633,
          2008,
          4440,
          3067,
          5321,
          5410,
          2782,
          2660,
          3375,
          5098,
          2406,
          2269,
          4108,
          3482,
          2436,
          2380,
          19431,
          1790,
          6306,
          4787,
          18880,
          2339,
          5406,
          8938,
          2439,
          6728,
          2809,
          5689,
          4025,
          10854,
          9936,
          2571,
          9991,
          6142,
          5390,
          4404
         ]
        }
       ],
       "layout": {
        "autosize": true,
        "boxmode": "group",
        "font": {
         "color": "#28221D"
        },
        "paper_bgcolor": "#F4F2F0",
        "plot_bgcolor": "#F4F2F0",
        "template": {
         "data": {
          "bar": [
           {
            "error_x": {
             "color": "#2a3f5f"
            },
            "error_y": {
             "color": "#2a3f5f"
            },
            "marker": {
             "line": {
              "color": "#E5ECF6",
              "width": 0.5
             },
             "pattern": {
              "fillmode": "overlay",
              "size": 10,
              "solidity": 0.2
             }
            },
            "type": "bar"
           }
          ],
          "barpolar": [
           {
            "marker": {
             "line": {
              "color": "#E5ECF6",
              "width": 0.5
             },
             "pattern": {
              "fillmode": "overlay",
              "size": 10,
              "solidity": 0.2
             }
            },
            "type": "barpolar"
           }
          ],
          "carpet": [
           {
            "aaxis": {
             "endlinecolor": "#2a3f5f",
             "gridcolor": "white",
             "linecolor": "white",
             "minorgridcolor": "white",
             "startlinecolor": "#2a3f5f"
            },
            "baxis": {
             "endlinecolor": "#2a3f5f",
             "gridcolor": "white",
             "linecolor": "white",
             "minorgridcolor": "white",
             "startlinecolor": "#2a3f5f"
            },
            "type": "carpet"
           }
          ],
          "choropleth": [
           {
            "colorbar": {
             "outlinewidth": 0,
             "ticks": ""
            },
            "type": "choropleth"
           }
          ],
          "contour": [
           {
            "colorbar": {
             "outlinewidth": 0,
             "ticks": ""
            },
            "colorscale": [
             [
              0,
              "#0d0887"
             ],
             [
              0.1111111111111111,
              "#46039f"
             ],
             [
              0.2222222222222222,
              "#7201a8"
             ],
             [
              0.3333333333333333,
              "#9c179e"
             ],
             [
              0.4444444444444444,
              "#bd3786"
             ],
             [
              0.5555555555555556,
              "#d8576b"
             ],
             [
              0.6666666666666666,
              "#ed7953"
             ],
             [
              0.7777777777777778,
              "#fb9f3a"
             ],
             [
              0.8888888888888888,
              "#fdca26"
             ],
             [
              1,
              "#f0f921"
             ]
            ],
            "type": "contour"
           }
          ],
          "contourcarpet": [
           {
            "colorbar": {
             "outlinewidth": 0,
             "ticks": ""
            },
            "type": "contourcarpet"
           }
          ],
          "heatmap": [
           {
            "colorbar": {
             "outlinewidth": 0,
             "ticks": ""
            },
            "colorscale": [
             [
              0,
              "#0d0887"
             ],
             [
              0.1111111111111111,
              "#46039f"
             ],
             [
              0.2222222222222222,
              "#7201a8"
             ],
             [
              0.3333333333333333,
              "#9c179e"
             ],
             [
              0.4444444444444444,
              "#bd3786"
             ],
             [
              0.5555555555555556,
              "#d8576b"
             ],
             [
              0.6666666666666666,
              "#ed7953"
             ],
             [
              0.7777777777777778,
              "#fb9f3a"
             ],
             [
              0.8888888888888888,
              "#fdca26"
             ],
             [
              1,
              "#f0f921"
             ]
            ],
            "type": "heatmap"
           }
          ],
          "heatmapgl": [
           {
            "colorbar": {
             "outlinewidth": 0,
             "ticks": ""
            },
            "colorscale": [
             [
              0,
              "#0d0887"
             ],
             [
              0.1111111111111111,
              "#46039f"
             ],
             [
              0.2222222222222222,
              "#7201a8"
             ],
             [
              0.3333333333333333,
              "#9c179e"
             ],
             [
              0.4444444444444444,
              "#bd3786"
             ],
             [
              0.5555555555555556,
              "#d8576b"
             ],
             [
              0.6666666666666666,
              "#ed7953"
             ],
             [
              0.7777777777777778,
              "#fb9f3a"
             ],
             [
              0.8888888888888888,
              "#fdca26"
             ],
             [
              1,
              "#f0f921"
             ]
            ],
            "type": "heatmapgl"
           }
          ],
          "histogram": [
           {
            "marker": {
             "pattern": {
              "fillmode": "overlay",
              "size": 10,
              "solidity": 0.2
             }
            },
            "type": "histogram"
           }
          ],
          "histogram2d": [
           {
            "colorbar": {
             "outlinewidth": 0,
             "ticks": ""
            },
            "colorscale": [
             [
              0,
              "#0d0887"
             ],
             [
              0.1111111111111111,
              "#46039f"
             ],
             [
              0.2222222222222222,
              "#7201a8"
             ],
             [
              0.3333333333333333,
              "#9c179e"
             ],
             [
              0.4444444444444444,
              "#bd3786"
             ],
             [
              0.5555555555555556,
              "#d8576b"
             ],
             [
              0.6666666666666666,
              "#ed7953"
             ],
             [
              0.7777777777777778,
              "#fb9f3a"
             ],
             [
              0.8888888888888888,
              "#fdca26"
             ],
             [
              1,
              "#f0f921"
             ]
            ],
            "type": "histogram2d"
           }
          ],
          "histogram2dcontour": [
           {
            "colorbar": {
             "outlinewidth": 0,
             "ticks": ""
            },
            "colorscale": [
             [
              0,
              "#0d0887"
             ],
             [
              0.1111111111111111,
              "#46039f"
             ],
             [
              0.2222222222222222,
              "#7201a8"
             ],
             [
              0.3333333333333333,
              "#9c179e"
             ],
             [
              0.4444444444444444,
              "#bd3786"
             ],
             [
              0.5555555555555556,
              "#d8576b"
             ],
             [
              0.6666666666666666,
              "#ed7953"
             ],
             [
              0.7777777777777778,
              "#fb9f3a"
             ],
             [
              0.8888888888888888,
              "#fdca26"
             ],
             [
              1,
              "#f0f921"
             ]
            ],
            "type": "histogram2dcontour"
           }
          ],
          "mesh3d": [
           {
            "colorbar": {
             "outlinewidth": 0,
             "ticks": ""
            },
            "type": "mesh3d"
           }
          ],
          "parcoords": [
           {
            "line": {
             "colorbar": {
              "outlinewidth": 0,
              "ticks": ""
             }
            },
            "type": "parcoords"
           }
          ],
          "pie": [
           {
            "automargin": true,
            "type": "pie"
           }
          ],
          "scatter": [
           {
            "fillpattern": {
             "fillmode": "overlay",
             "size": 10,
             "solidity": 0.2
            },
            "type": "scatter"
           }
          ],
          "scatter3d": [
           {
            "line": {
             "colorbar": {
              "outlinewidth": 0,
              "ticks": ""
             }
            },
            "marker": {
             "colorbar": {
              "outlinewidth": 0,
              "ticks": ""
             }
            },
            "type": "scatter3d"
           }
          ],
          "scattercarpet": [
           {
            "marker": {
             "colorbar": {
              "outlinewidth": 0,
              "ticks": ""
             }
            },
            "type": "scattercarpet"
           }
          ],
          "scattergeo": [
           {
            "marker": {
             "colorbar": {
              "outlinewidth": 0,
              "ticks": ""
             }
            },
            "type": "scattergeo"
           }
          ],
          "scattergl": [
           {
            "marker": {
             "colorbar": {
              "outlinewidth": 0,
              "ticks": ""
             }
            },
            "type": "scattergl"
           }
          ],
          "scattermapbox": [
           {
            "marker": {
             "colorbar": {
              "outlinewidth": 0,
              "ticks": ""
             }
            },
            "type": "scattermapbox"
           }
          ],
          "scatterpolar": [
           {
            "marker": {
             "colorbar": {
              "outlinewidth": 0,
              "ticks": ""
             }
            },
            "type": "scatterpolar"
           }
          ],
          "scatterpolargl": [
           {
            "marker": {
             "colorbar": {
              "outlinewidth": 0,
              "ticks": ""
             }
            },
            "type": "scatterpolargl"
           }
          ],
          "scatterternary": [
           {
            "marker": {
             "colorbar": {
              "outlinewidth": 0,
              "ticks": ""
             }
            },
            "type": "scatterternary"
           }
          ],
          "surface": [
           {
            "colorbar": {
             "outlinewidth": 0,
             "ticks": ""
            },
            "colorscale": [
             [
              0,
              "#0d0887"
             ],
             [
              0.1111111111111111,
              "#46039f"
             ],
             [
              0.2222222222222222,
              "#7201a8"
             ],
             [
              0.3333333333333333,
              "#9c179e"
             ],
             [
              0.4444444444444444,
              "#bd3786"
             ],
             [
              0.5555555555555556,
              "#d8576b"
             ],
             [
              0.6666666666666666,
              "#ed7953"
             ],
             [
              0.7777777777777778,
              "#fb9f3a"
             ],
             [
              0.8888888888888888,
              "#fdca26"
             ],
             [
              1,
              "#f0f921"
             ]
            ],
            "type": "surface"
           }
          ],
          "table": [
           {
            "cells": {
             "fill": {
              "color": "#EBF0F8"
             },
             "line": {
              "color": "white"
             }
            },
            "header": {
             "fill": {
              "color": "#C8D4E3"
             },
             "line": {
              "color": "white"
             }
            },
            "type": "table"
           }
          ]
         },
         "layout": {
          "annotationdefaults": {
           "arrowcolor": "#2a3f5f",
           "arrowhead": 0,
           "arrowwidth": 1
          },
          "autotypenumbers": "strict",
          "coloraxis": {
           "colorbar": {
            "outlinewidth": 0,
            "ticks": ""
           }
          },
          "colorscale": {
           "diverging": [
            [
             0,
             "#8e0152"
            ],
            [
             0.1,
             "#c51b7d"
            ],
            [
             0.2,
             "#de77ae"
            ],
            [
             0.3,
             "#f1b6da"
            ],
            [
             0.4,
             "#fde0ef"
            ],
            [
             0.5,
             "#f7f7f7"
            ],
            [
             0.6,
             "#e6f5d0"
            ],
            [
             0.7,
             "#b8e186"
            ],
            [
             0.8,
             "#7fbc41"
            ],
            [
             0.9,
             "#4d9221"
            ],
            [
             1,
             "#276419"
            ]
           ],
           "sequential": [
            [
             0,
             "#0d0887"
            ],
            [
             0.1111111111111111,
             "#46039f"
            ],
            [
             0.2222222222222222,
             "#7201a8"
            ],
            [
             0.3333333333333333,
             "#9c179e"
            ],
            [
             0.4444444444444444,
             "#bd3786"
            ],
            [
             0.5555555555555556,
             "#d8576b"
            ],
            [
             0.6666666666666666,
             "#ed7953"
            ],
            [
             0.7777777777777778,
             "#fb9f3a"
            ],
            [
             0.8888888888888888,
             "#fdca26"
            ],
            [
             1,
             "#f0f921"
            ]
           ],
           "sequentialminus": [
            [
             0,
             "#0d0887"
            ],
            [
             0.1111111111111111,
             "#46039f"
            ],
            [
             0.2222222222222222,
             "#7201a8"
            ],
            [
             0.3333333333333333,
             "#9c179e"
            ],
            [
             0.4444444444444444,
             "#bd3786"
            ],
            [
             0.5555555555555556,
             "#d8576b"
            ],
            [
             0.6666666666666666,
             "#ed7953"
            ],
            [
             0.7777777777777778,
             "#fb9f3a"
            ],
            [
             0.8888888888888888,
             "#fdca26"
            ],
            [
             1,
             "#f0f921"
            ]
           ]
          },
          "colorway": [
           "#636efa",
           "#EF553B",
           "#00cc96",
           "#ab63fa",
           "#FFA15A",
           "#19d3f3",
           "#FF6692",
           "#B6E880",
           "#FF97FF",
           "#FECB52"
          ],
          "font": {
           "color": "#2a3f5f"
          },
          "geo": {
           "bgcolor": "white",
           "lakecolor": "white",
           "landcolor": "#E5ECF6",
           "showlakes": true,
           "showland": true,
           "subunitcolor": "white"
          },
          "hoverlabel": {
           "align": "left"
          },
          "hovermode": "closest",
          "mapbox": {
           "style": "light"
          },
          "paper_bgcolor": "white",
          "plot_bgcolor": "#E5ECF6",
          "polar": {
           "angularaxis": {
            "gridcolor": "white",
            "linecolor": "white",
            "ticks": ""
           },
           "bgcolor": "#E5ECF6",
           "radialaxis": {
            "gridcolor": "white",
            "linecolor": "white",
            "ticks": ""
           }
          },
          "scene": {
           "xaxis": {
            "backgroundcolor": "#E5ECF6",
            "gridcolor": "white",
            "gridwidth": 2,
            "linecolor": "white",
            "showbackground": true,
            "ticks": "",
            "zerolinecolor": "white"
           },
           "yaxis": {
            "backgroundcolor": "#E5ECF6",
            "gridcolor": "white",
            "gridwidth": 2,
            "linecolor": "white",
            "showbackground": true,
            "ticks": "",
            "zerolinecolor": "white"
           },
           "zaxis": {
            "backgroundcolor": "#E5ECF6",
            "gridcolor": "white",
            "gridwidth": 2,
            "linecolor": "white",
            "showbackground": true,
            "ticks": "",
            "zerolinecolor": "white"
           }
          },
          "shapedefaults": {
           "line": {
            "color": "#2a3f5f"
           }
          },
          "ternary": {
           "aaxis": {
            "gridcolor": "white",
            "linecolor": "white",
            "ticks": ""
           },
           "baxis": {
            "gridcolor": "white",
            "linecolor": "white",
            "ticks": ""
           },
           "bgcolor": "#E5ECF6",
           "caxis": {
            "gridcolor": "white",
            "linecolor": "white",
            "ticks": ""
           }
          },
          "title": {
           "x": 0.05
          },
          "xaxis": {
           "automargin": true,
           "gridcolor": "white",
           "linecolor": "white",
           "ticks": "",
           "title": {
            "standoff": 15
           },
           "zerolinecolor": "white",
           "zerolinewidth": 2
          },
          "yaxis": {
           "automargin": true,
           "gridcolor": "white",
           "linecolor": "white",
           "ticks": "",
           "title": {
            "standoff": 15
           },
           "zerolinecolor": "white",
           "zerolinewidth": 2
          }
         }
        },
        "title": {
         "text": "Distribution of Monthly Income by Work Life Balance"
        },
        "xaxis": {
         "autorange": true,
         "range": [
          0.47614314115308154,
          4.523856858846918
         ],
         "tickmode": "array",
         "ticktext": [
          "Poor",
          "Fair",
          "Good",
          "Excellent"
         ],
         "tickvals": [
          1,
          2,
          3,
          4
         ],
         "title": {
          "text": "Work Life Balance"
         },
         "type": "linear"
        },
        "yaxis": {
         "autorange": true,
         "range": [
          -46,
          21054
         ],
         "type": "linear"
        }
       }
      },
      "text/html": [
       "<div>                            <div id=\"f1d7a85d-58e8-4345-9749-c1a8fc036d6d\" class=\"plotly-graph-div\" style=\"height:525px; width:100%;\"></div>            <script type=\"text/javascript\">                require([\"plotly\"], function(Plotly) {                    window.PLOTLYENV=window.PLOTLYENV || {};                                    if (document.getElementById(\"f1d7a85d-58e8-4345-9749-c1a8fc036d6d\")) {                    Plotly.newPlot(                        \"f1d7a85d-58e8-4345-9749-c1a8fc036d6d\",                        [{\"line\":{\"color\":\"#214D5C\"},\"name\":\"Female\",\"notched\":true,\"x\":[1,3,2,3,3,3,2,3,2,3,3,2,2,3,4,3,3,3,3,2,2,3,3,3,2,2,3,3,2,3,3,3,2,1,2,3,3,3,2,3,2,3,3,3,3,3,3,2,2,2,3,3,3,3,4,4,3,2,3,3,3,3,2,3,3,3,4,4,4,3,3,3,3,3,2,3,3,3,3,2,3,3,2,3,3,3,3,2,3,3,3,3,4,2,2,3,4,3,3,2,2,3,3,3,3,2,3,2,3,1,3,3,3,2,4,3,3,3,3,3,3,2,3,2,3,3,2,4,2,2,3,3,2,3,3,3,1,4,3,3,3,3,3,4,3,2,3,3,4,3,2,3,3,3,3,1,3,3,3,2,3,1,3,3,1,2,4,3,2,3,1,4,3,2,4,3,3,3,3,3,3,3,3,2,3,3,3,4,2,3,3,2,3,2,4,3,2,1,4,3,2,3,4,3,3,2,3,3,4,3,3,2,3,3,3,3,4,2,3,1,2,1,4,3,2,3,3,2,3,3,2,3,3,2,3,3,3,3,3,2,3,3,3,3,2,3,3,4,3,3,2,2,3,2,3,3,2,3,2,3,3,3,2,3,3,3,4,2,2,2,4,2,3,3,3,3,1,2,2,3,3,1,4,3,3,3,3,2,3,3,3,3,3,3,3,3,3,3,2,2,3,3,3,3,3,3,1,3,3,3,3,3,3,2,4,3,3,3,2,3,3,3,2,3,2,3,3,2,4,3,3,3,3,3,2,3,4,2,3,3,2,1,2,2,1,2,3,3,3,2,2,3,2,3,3,1,2,3,3,3,4,3,2,1,3,4,3,3,3,2,2,3,3,1,3,3,4,3,4,3,3,2,3,3,2,3,3,3,3,4,3,3,3,2,4,3,3,3,4,2,2,3,2,4,3,3,3,4,2,4,2,2,1,3,3,3,1,3,3,2,3,3,3,3,4,4,2,4,4,3,2,4,3,3,3,3,2,1,4,3,3,2,3,3,3,3,4,1,1,3,3,3,3,3,3,2,3,4,3,3,3,2,3,2,3,3,2,2,4,3,3,3,1,3,4,1,2,3,3,3,3,3,3,3,3,3,3,3,2,3,3,3,3,2,3,3,3,3,2,3,3,1,2,4,3,2,2,3,2,4,2,2,3,2,3,3,3,3,3,2,4,3,3,4,3,3,3,2,3,3,2,1,4,3,2,3,3,3,3,3,2,3,3,3,2,2,2,3,3,3,2,2,3,3,3,3,2,3,3,3,3,2,3,4,3,4,3,3,1,3,3,3,3,3,2,3,3,3,3,3,3,2,3,3,3,1,2,3],\"y\":[5993,2909,2670,4193,9980,15427,4011,11994,19094,3919,10248,18947,2645,2014,3419,5376,2341,4011,19545,5454,4157,13458,4014,2406,18740,7637,10096,14756,5473,3038,4424,5329,5209,13549,4999,2926,4809,18844,18172,2871,7484,17328,4505,11631,9738,2835,4963,2368,10312,6567,4739,9208,4559,2942,5902,4200,4317,2632,3204,1483,5605,8998,3346,2231,19926,9419,8686,2325,5006,4257,10453,2288,3929,2311,3140,4450,2756,19033,13734,2279,4425,5265,7639,2153,9981,2657,13591,6696,8865,5940,2622,7918,8789,3212,19517,16064,2707,3931,2232,2911,3920,10938,6545,4898,2593,16872,13603,11996,5605,6397,2115,3310,18665,2789,13525,1200,5674,12061,11878,2455,13964,2478,5228,5055,5775,8943,5238,5257,4869,9985,6118,6214,7143,8268,15992,2370,12504,4736,2174,6653,2213,2851,3452,5258,2716,4936,2543,16659,4260,2244,3034,5715,2576,3448,6538,4306,4522,4487,4449,13212,6577,16555,4556,6091,19566,4810,4523,3202,2351,18041,2886,2546,8412,2564,10266,5070,3780,9071,9950,4051,16835,13237,3755,2741,16184,6811,4859,7491,10527,16595,9824,6447,2886,2187,2836,4089,2619,15402,5985,2579,6322,2083,8381,4286,2659,5561,4028,4647,8621,4577,4553,7625,7412,11159,2216,11713,7861,13770,6142,6389,2342,6811,5093,5121,6180,6397,4364,4335,3280,5485,2782,5980,4381,2572,4244,6500,3149,2319,5324,16752,5228,2506,6062,6162,6877,2274,2553,7654,4779,2366,16307,2559,10934,5175,13826,10685,2022,3580,5231,2800,2973,14275,5562,4537,5204,2532,4765,2044,2693,3294,4171,2778,2377,2318,6244,10552,4014,7403,6932,13582,2332,5855,6725,6949,2157,4601,5666,13194,2404,3452,2270,5488,2811,4163,2132,4377,4148,10739,10388,11416,2600,2422,5003,12742,4227,13726,4777,19973,19845,13320,6347,2743,10880,2342,17650,4025,7525,2220,4107,2007,10686,2942,8858,2323,1416,4615,3376,8823,3660,4508,6694,4302,5593,2514,7655,10820,2070,3291,8224,5731,5714,7336,13499,2515,4422,5346,2827,19943,3131,4477,6474,18606,2168,17048,17856,2210,4539,2743,4998,10252,6852,13191,10377,10502,2011,1859,3760,6812,5171,16124,2585,2994,18824,2625,18789,4538,4444,2372,10231,5410,7978,2838,4695,3339,2096,18061,17123,4627,7094,3423,6674,16880,11916,9852,2302,19187,4103,6893,6125,10008,4639,2534,13142,1611,5363,2029,6377,2785,4614,6687,5467,13247,4081,5769,2394,16799,2950,3629,7553,17328,19701,9278,1359,4779,16422,1261,5647,2066,17169,4162,3294,3646,7446,2109,2742,3673,4768,5765,4599,2033,3838,4591,4789,3180,16032,8376,16606,8606,4084,9715,2430,5878,6439,2074,10169,2367,2061,4198,6815,6142,4639,2814,3312,19049,5769,4663,3211,4877,1569,19658,10435,4148,5042,5770,7756,3936,7945,3760,3517,8008,16413,13269,2783,5433,13966,4374,17426,5476,2587,2440,15972,5368,3195,3306,2655,2929,7879,2974,4502,16704,6516,3295,5238,9756,4968,2180,3445,2760,5147,4507,8564,2468,2109,12965,6029,3702,2398,5468,13116,3377,10447,9667,2148,8926,6513,10333,4448,6854,9637,3591,5405,1514,5154,6962,2379,2105,13225,3540,19392,7314,4774,2856,5673,4788,5906,2933,6500,17174,4393,6583,8103,3978,5736,9854,5380,2133,17875,2432,2863,6667,5204,2897,1129,11031,4440,6323,5677,2187,11957,4878,2837,13206,10422,13744,4907,7644,5131,13570,6712,8837,5343,6652,4850,2001,2977,3785,12031,2966],\"type\":\"box\"},{\"line\":{\"color\":\"#91ABB4\"},\"name\":\"Male\",\"notched\":true,\"x\":[3,3,3,2,3,3,2,3,2,3,3,2,2,3,3,3,3,3,3,4,3,4,2,3,3,2,3,3,3,3,3,3,2,3,2,2,4,3,3,3,2,2,3,3,3,3,4,4,3,2,3,3,3,2,3,3,3,3,2,1,2,3,4,2,4,3,3,4,3,3,3,3,3,4,2,4,3,2,2,3,3,3,3,3,1,2,4,3,2,3,3,1,1,3,3,2,3,1,1,1,2,3,3,2,2,3,4,2,2,3,2,3,3,4,3,2,3,1,3,3,4,4,3,2,1,3,2,3,1,2,4,3,2,3,3,3,2,3,2,1,4,1,3,2,3,3,3,3,3,3,3,3,3,2,4,1,3,3,1,3,3,3,3,3,3,2,2,4,4,2,2,3,2,3,3,1,3,3,3,3,2,3,2,3,3,3,3,2,2,2,3,3,3,3,1,3,2,3,3,2,3,2,3,3,3,2,2,3,2,3,3,2,3,3,2,3,3,3,3,3,3,2,3,3,3,3,3,3,3,3,3,2,3,3,3,3,2,3,2,3,3,3,3,3,3,3,2,3,1,3,4,2,3,1,3,3,4,4,3,3,3,3,3,2,3,3,3,4,2,4,4,2,3,3,3,3,1,3,3,3,3,3,3,4,3,3,3,4,3,1,3,4,2,2,3,3,3,4,3,3,2,3,3,1,4,3,3,3,3,3,4,3,3,3,3,3,2,3,3,3,3,2,3,2,3,3,3,2,3,3,3,4,2,3,3,3,1,4,2,3,3,3,3,3,3,2,3,3,2,3,3,3,4,3,3,2,3,3,2,2,2,3,3,4,1,2,2,2,3,2,2,2,3,3,3,1,2,3,3,3,3,4,2,3,3,3,3,3,3,3,4,1,3,3,2,2,1,3,3,4,2,3,3,2,3,3,3,4,3,3,3,1,2,2,3,4,4,3,3,4,3,3,3,2,4,3,3,2,3,1,3,3,2,3,3,2,4,3,3,3,3,2,1,3,2,3,3,3,2,2,3,4,3,4,2,3,2,3,3,3,3,3,3,2,2,4,2,3,3,3,3,3,2,3,3,3,3,3,4,2,3,3,1,3,3,2,3,2,4,3,3,3,2,3,1,2,4,3,3,3,3,4,3,4,3,2,3,3,3,3,1,3,3,3,3,3,3,2,3,3,2,4,3,3,3,3,2,3,2,3,4,2,2,3,3,4,3,3,3,3,2,3,2,2,2,2,4,3,3,2,4,3,3,3,3,2,3,3,4,2,3,3,2,3,3,3,2,3,3,3,2,3,3,3,3,2,4,3,3,4,2,3,2,3,3,2,3,2,3,4,3,4,2,2,3,1,2,2,4,3,4,3,1,4,3,3,3,3,2,2,4,2,3,3,2,2,2,3,2,4,3,2,2,3,4,3,2,1,3,2,3,4,1,4,3,1,3,3,3,3,3,3,3,1,4,3,3,3,3,3,2,2,1,3,3,3,3,3,2,1,3,2,3,3,3,4,3,3,3,3,2,2,3,2,1,3,3,2,3,3,3,3,3,3,3,3,2,3,3,3,2,2,1,3,3,3,3,3,3,4,4,2,3,2,3,3,3,2,3,3,3,3,3,4,4,3,2,3,4,3,3,3,2,3,1,4,2,4,3,4,3,3,2,1,2,3,3,3,1,2,3,3,4,3,3,3,3,3,3,3,2,3,2,3,3,3,3,3,3,3,2,2,3,3,4,3,3,2,3,3,2,1,3,2,1,3,2,4,3,3,3,3,3,4,4,2,2,3,3,3,2,3,3,2,3,4,2,3,3,3,3,3,2,3,3,3,3,1,4,3,3,2,3,3,2,3,4,3,4,3,3,1,2,4,3,2,2,2,2,3,2,2,3,3,3,2,3,3,3,3,3,3,2,4,2,2,3,2,3,3,3,2,3,3,4,3,2,3,3,2,3,3,2,2,2,4,2,1,2,3,3,3,3,4,3,3,3,3,3,3,2,4],\"y\":[5130,2090,3468,3068,2693,9526,5237,2426,2911,2661,2028,3298,2935,3944,3407,1232,2960,6825,2496,6465,2206,2086,2293,2683,1951,2293,8726,4568,3022,5772,2269,5381,3441,9884,9069,5915,5993,6162,6499,9724,2194,3388,2703,2501,6220,4312,13245,13664,5021,5126,2859,10239,4325,7260,2322,2075,4152,9619,13503,5441,10673,5010,4221,13872,2042,2073,2956,5163,5744,2889,6074,2774,7428,16959,2613,6146,19537,6172,1675,2523,8189,4941,10650,8639,6347,3452,4668,2720,17181,2238,7295,2306,2348,4319,6132,10855,2323,2024,2713,9439,2566,2451,3038,3058,2088,3072,2500,1102,3690,18722,9547,19999,5916,2089,16792,3564,6553,6261,4298,6804,3815,2741,6673,2328,4876,9396,10400,8474,12490,2058,5914,12185,10609,4345,2177,2793,2389,19232,2267,2436,19068,3730,4465,3072,3319,19202,13675,5957,6434,10048,2340,6931,19436,2723,3479,2794,5249,2176,3485,6644,5582,4000,13496,3210,19045,11849,2070,6502,3230,19144,17584,4907,4554,5415,4741,3161,5745,2373,4485,5828,2326,1420,8020,3688,5482,16015,5661,6929,9613,5484,5660,4821,6410,5210,2695,17068,4941,4478,7547,3464,19272,4682,18300,6349,3697,7457,2119,3983,6347,11510,8095,2904,6032,2976,4649,2696,5974,5296,6781,9699,6755,2610,9355,10496,6380,2657,2201,6540,3816,5253,10965,5304,2476,3102,7596,2285,4197,14336,19406,2258,2218,19197,8392,4558,4031,7969,2654,1702,2097,11935,2564,14118,17046,17861,4230,2768,10648,13610,3408,2983,7632,9824,2093,9980,3894,6230,4717,6582,7406,4805,4262,11557,1878,10932,4306,5337,2340,8834,5577,4707,2400,19502,2725,6272,2127,18200,2096,2033,3622,4233,3681,5460,9602,16627,5679,3041,3447,19513,2773,7104,2691,9434,6646,7725,10725,8847,2045,1009,3348,1281,2819,4851,2720,8120,4680,3221,5396,6796,4960,10475,14814,19141,5405,8793,19189,3875,3708,5304,2642,2759,6804,2500,11103,2297,2450,5309,3057,16856,2686,6632,3505,6274,19859,7587,4258,5326,4342,3833,18430,1601,2694,17639,11691,2700,19246,4382,2143,5094,4434,6288,5160,17159,12808,10221,3737,1706,5933,3424,4037,6201,4403,3761,10761,6334,4936,4775,2818,2515,2342,4194,2314,4256,3162,6524,2899,2356,11836,10903,7642,17924,2277,2795,2559,4908,2380,6586,2404,2008,2799,2329,2259,4678,2413,9705,4294,4721,2519,2121,2973,3617,10325,10609,4447,17099,2479,14852,7264,7823,7880,5067,5079,2321,17444,17399,19419,3633,13973,2684,10845,3743,1051,5472,2451,4240,10999,3917,18303,2380,6385,6861,4969,9725,11904,2177,4834,2042,1052,2821,19237,8396,19627,16756,10798,2461,8722,3955,9957,10322,4621,10976,10482,7119,9582,2207,7756,3691,2377,2313,17665,2596,4728,2979,16885,10445,8740,17465,7351,12169,19626,6782,7779,2791,3201,4968,13120,4033,4272,5056,2844,2703,1904,4766,2610,2539,4323,13758,5155,2258,3597,4420,6578,10274,5343,2376,2552,3033,2936,2853,2290,3600,2107,4115,4327,3196,19081,8966,2741,3491,4541,2678,7379,6272,5220,2781,4950,3579,2235,17779,6833,19740,18711,3692,2559,2517,6623,18265,18213,8380,1223,1118,2875,13577,19847,10512,2154,19190,4490,3506,3867,2080,6209,2372,4883,3904,9094,8446,4534,6151,2362,17861,19717,3544,8500,4661,4249,14026,3669,2387,7898,5071,13695,13402,5429,2610,4724,6179,6120,10596,2996,9998,4078,10920,6232,3904,9362,3229,3578,7988,4284,14732,2996,2099,5810,3420,4400,3500,9204,2127,3975,10793,10096,10851,3722,9380,5486,13757,8463,3162,16598,6651,2345,3420,4373,4759,5301,1274,4900,10466,17007,2909,2404,3172,10209,8620,2064,4035,2561,1563,4898,6549,6388,11244,2362,16328,2272,2018,7083,14411,2308,4841,4285,4320,2132,10124,5473,5207,16437,2296,4069,7441,2644,2451,6392,9714,6077,2450,9250,4855,4087,2972,19586,5484,9924,4723,8237,8853,19331,2073,5562,19613,3407,5063,4876,2690,17567,2408,11245,2141,4385,5332,4724,5377,4066,5208,3117,3069,5768,10306,5743,15202,5440,2580,2166,5869,5206,5295,2013,6842,17603,4581,4735,4187,5505,5470,15379,7082,2728,5347,3989,7005,1393,2570,3537,3986,10883,2028,9525,2275,4930,7847,4401,9241,10748,1555,12936,2305,3433,3477,6430,3907,5562,6883,2862,4978,10368,6134,6735,6472,9610,19833,2145,8346,6294,7140,2932,8161,5294,2718,5811,2437,2766,19038,3055,2289,4001,3539,2679,4189,19328,8321,2342,4071,5813,3143,2044,13464,7991,5538,5762,2592,5346,4213,4127,2438,6870,6799,16291,2705,4684,15787,2956,2335,5675,3812,4648,2936,8578,2706,6384,3968,9907,2804,19665,2439,3902,2662,1081,2472,4197,9713,2062,4284,3886,16823,5033,2307,2587,5507,13348,2544,5399,5487,6834,1091,2226,5747,5467,5151,4771,19161,5087,5561,2144,3065,2810,9888,8628,2867,5373,5003,2367,2858,4105,9679,5617,10448,5968,7510,2991,19636,13341,4332,4617,2647,3748,3977,8633,2008,4440,3067,5321,5410,2782,2660,3375,5098,2406,2269,4108,3482,2436,2380,19431,1790,6306,4787,18880,2339,5406,8938,2439,6728,2809,5689,4025,10854,9936,2571,9991,6142,5390,4404],\"type\":\"box\"}],                        {\"template\":{\"data\":{\"histogram2dcontour\":[{\"type\":\"histogram2dcontour\",\"colorbar\":{\"outlinewidth\":0,\"ticks\":\"\"},\"colorscale\":[[0.0,\"#0d0887\"],[0.1111111111111111,\"#46039f\"],[0.2222222222222222,\"#7201a8\"],[0.3333333333333333,\"#9c179e\"],[0.4444444444444444,\"#bd3786\"],[0.5555555555555556,\"#d8576b\"],[0.6666666666666666,\"#ed7953\"],[0.7777777777777778,\"#fb9f3a\"],[0.8888888888888888,\"#fdca26\"],[1.0,\"#f0f921\"]]}],\"choropleth\":[{\"type\":\"choropleth\",\"colorbar\":{\"outlinewidth\":0,\"ticks\":\"\"}}],\"histogram2d\":[{\"type\":\"histogram2d\",\"colorbar\":{\"outlinewidth\":0,\"ticks\":\"\"},\"colorscale\":[[0.0,\"#0d0887\"],[0.1111111111111111,\"#46039f\"],[0.2222222222222222,\"#7201a8\"],[0.3333333333333333,\"#9c179e\"],[0.4444444444444444,\"#bd3786\"],[0.5555555555555556,\"#d8576b\"],[0.6666666666666666,\"#ed7953\"],[0.7777777777777778,\"#fb9f3a\"],[0.8888888888888888,\"#fdca26\"],[1.0,\"#f0f921\"]]}],\"heatmap\":[{\"type\":\"heatmap\",\"colorbar\":{\"outlinewidth\":0,\"ticks\":\"\"},\"colorscale\":[[0.0,\"#0d0887\"],[0.1111111111111111,\"#46039f\"],[0.2222222222222222,\"#7201a8\"],[0.3333333333333333,\"#9c179e\"],[0.4444444444444444,\"#bd3786\"],[0.5555555555555556,\"#d8576b\"],[0.6666666666666666,\"#ed7953\"],[0.7777777777777778,\"#fb9f3a\"],[0.8888888888888888,\"#fdca26\"],[1.0,\"#f0f921\"]]}],\"heatmapgl\":[{\"type\":\"heatmapgl\",\"colorbar\":{\"outlinewidth\":0,\"ticks\":\"\"},\"colorscale\":[[0.0,\"#0d0887\"],[0.1111111111111111,\"#46039f\"],[0.2222222222222222,\"#7201a8\"],[0.3333333333333333,\"#9c179e\"],[0.4444444444444444,\"#bd3786\"],[0.5555555555555556,\"#d8576b\"],[0.6666666666666666,\"#ed7953\"],[0.7777777777777778,\"#fb9f3a\"],[0.8888888888888888,\"#fdca26\"],[1.0,\"#f0f921\"]]}],\"contourcarpet\":[{\"type\":\"contourcarpet\",\"colorbar\":{\"outlinewidth\":0,\"ticks\":\"\"}}],\"contour\":[{\"type\":\"contour\",\"colorbar\":{\"outlinewidth\":0,\"ticks\":\"\"},\"colorscale\":[[0.0,\"#0d0887\"],[0.1111111111111111,\"#46039f\"],[0.2222222222222222,\"#7201a8\"],[0.3333333333333333,\"#9c179e\"],[0.4444444444444444,\"#bd3786\"],[0.5555555555555556,\"#d8576b\"],[0.6666666666666666,\"#ed7953\"],[0.7777777777777778,\"#fb9f3a\"],[0.8888888888888888,\"#fdca26\"],[1.0,\"#f0f921\"]]}],\"surface\":[{\"type\":\"surface\",\"colorbar\":{\"outlinewidth\":0,\"ticks\":\"\"},\"colorscale\":[[0.0,\"#0d0887\"],[0.1111111111111111,\"#46039f\"],[0.2222222222222222,\"#7201a8\"],[0.3333333333333333,\"#9c179e\"],[0.4444444444444444,\"#bd3786\"],[0.5555555555555556,\"#d8576b\"],[0.6666666666666666,\"#ed7953\"],[0.7777777777777778,\"#fb9f3a\"],[0.8888888888888888,\"#fdca26\"],[1.0,\"#f0f921\"]]}],\"mesh3d\":[{\"type\":\"mesh3d\",\"colorbar\":{\"outlinewidth\":0,\"ticks\":\"\"}}],\"scatter\":[{\"fillpattern\":{\"fillmode\":\"overlay\",\"size\":10,\"solidity\":0.2},\"type\":\"scatter\"}],\"parcoords\":[{\"type\":\"parcoords\",\"line\":{\"colorbar\":{\"outlinewidth\":0,\"ticks\":\"\"}}}],\"scatterpolargl\":[{\"type\":\"scatterpolargl\",\"marker\":{\"colorbar\":{\"outlinewidth\":0,\"ticks\":\"\"}}}],\"bar\":[{\"error_x\":{\"color\":\"#2a3f5f\"},\"error_y\":{\"color\":\"#2a3f5f\"},\"marker\":{\"line\":{\"color\":\"#E5ECF6\",\"width\":0.5},\"pattern\":{\"fillmode\":\"overlay\",\"size\":10,\"solidity\":0.2}},\"type\":\"bar\"}],\"scattergeo\":[{\"type\":\"scattergeo\",\"marker\":{\"colorbar\":{\"outlinewidth\":0,\"ticks\":\"\"}}}],\"scatterpolar\":[{\"type\":\"scatterpolar\",\"marker\":{\"colorbar\":{\"outlinewidth\":0,\"ticks\":\"\"}}}],\"histogram\":[{\"marker\":{\"pattern\":{\"fillmode\":\"overlay\",\"size\":10,\"solidity\":0.2}},\"type\":\"histogram\"}],\"scattergl\":[{\"type\":\"scattergl\",\"marker\":{\"colorbar\":{\"outlinewidth\":0,\"ticks\":\"\"}}}],\"scatter3d\":[{\"type\":\"scatter3d\",\"line\":{\"colorbar\":{\"outlinewidth\":0,\"ticks\":\"\"}},\"marker\":{\"colorbar\":{\"outlinewidth\":0,\"ticks\":\"\"}}}],\"scattermapbox\":[{\"type\":\"scattermapbox\",\"marker\":{\"colorbar\":{\"outlinewidth\":0,\"ticks\":\"\"}}}],\"scatterternary\":[{\"type\":\"scatterternary\",\"marker\":{\"colorbar\":{\"outlinewidth\":0,\"ticks\":\"\"}}}],\"scattercarpet\":[{\"type\":\"scattercarpet\",\"marker\":{\"colorbar\":{\"outlinewidth\":0,\"ticks\":\"\"}}}],\"carpet\":[{\"aaxis\":{\"endlinecolor\":\"#2a3f5f\",\"gridcolor\":\"white\",\"linecolor\":\"white\",\"minorgridcolor\":\"white\",\"startlinecolor\":\"#2a3f5f\"},\"baxis\":{\"endlinecolor\":\"#2a3f5f\",\"gridcolor\":\"white\",\"linecolor\":\"white\",\"minorgridcolor\":\"white\",\"startlinecolor\":\"#2a3f5f\"},\"type\":\"carpet\"}],\"table\":[{\"cells\":{\"fill\":{\"color\":\"#EBF0F8\"},\"line\":{\"color\":\"white\"}},\"header\":{\"fill\":{\"color\":\"#C8D4E3\"},\"line\":{\"color\":\"white\"}},\"type\":\"table\"}],\"barpolar\":[{\"marker\":{\"line\":{\"color\":\"#E5ECF6\",\"width\":0.5},\"pattern\":{\"fillmode\":\"overlay\",\"size\":10,\"solidity\":0.2}},\"type\":\"barpolar\"}],\"pie\":[{\"automargin\":true,\"type\":\"pie\"}]},\"layout\":{\"autotypenumbers\":\"strict\",\"colorway\":[\"#636efa\",\"#EF553B\",\"#00cc96\",\"#ab63fa\",\"#FFA15A\",\"#19d3f3\",\"#FF6692\",\"#B6E880\",\"#FF97FF\",\"#FECB52\"],\"font\":{\"color\":\"#2a3f5f\"},\"hovermode\":\"closest\",\"hoverlabel\":{\"align\":\"left\"},\"paper_bgcolor\":\"white\",\"plot_bgcolor\":\"#E5ECF6\",\"polar\":{\"bgcolor\":\"#E5ECF6\",\"angularaxis\":{\"gridcolor\":\"white\",\"linecolor\":\"white\",\"ticks\":\"\"},\"radialaxis\":{\"gridcolor\":\"white\",\"linecolor\":\"white\",\"ticks\":\"\"}},\"ternary\":{\"bgcolor\":\"#E5ECF6\",\"aaxis\":{\"gridcolor\":\"white\",\"linecolor\":\"white\",\"ticks\":\"\"},\"baxis\":{\"gridcolor\":\"white\",\"linecolor\":\"white\",\"ticks\":\"\"},\"caxis\":{\"gridcolor\":\"white\",\"linecolor\":\"white\",\"ticks\":\"\"}},\"coloraxis\":{\"colorbar\":{\"outlinewidth\":0,\"ticks\":\"\"}},\"colorscale\":{\"sequential\":[[0.0,\"#0d0887\"],[0.1111111111111111,\"#46039f\"],[0.2222222222222222,\"#7201a8\"],[0.3333333333333333,\"#9c179e\"],[0.4444444444444444,\"#bd3786\"],[0.5555555555555556,\"#d8576b\"],[0.6666666666666666,\"#ed7953\"],[0.7777777777777778,\"#fb9f3a\"],[0.8888888888888888,\"#fdca26\"],[1.0,\"#f0f921\"]],\"sequentialminus\":[[0.0,\"#0d0887\"],[0.1111111111111111,\"#46039f\"],[0.2222222222222222,\"#7201a8\"],[0.3333333333333333,\"#9c179e\"],[0.4444444444444444,\"#bd3786\"],[0.5555555555555556,\"#d8576b\"],[0.6666666666666666,\"#ed7953\"],[0.7777777777777778,\"#fb9f3a\"],[0.8888888888888888,\"#fdca26\"],[1.0,\"#f0f921\"]],\"diverging\":[[0,\"#8e0152\"],[0.1,\"#c51b7d\"],[0.2,\"#de77ae\"],[0.3,\"#f1b6da\"],[0.4,\"#fde0ef\"],[0.5,\"#f7f7f7\"],[0.6,\"#e6f5d0\"],[0.7,\"#b8e186\"],[0.8,\"#7fbc41\"],[0.9,\"#4d9221\"],[1,\"#276419\"]]},\"xaxis\":{\"gridcolor\":\"white\",\"linecolor\":\"white\",\"ticks\":\"\",\"title\":{\"standoff\":15},\"zerolinecolor\":\"white\",\"automargin\":true,\"zerolinewidth\":2},\"yaxis\":{\"gridcolor\":\"white\",\"linecolor\":\"white\",\"ticks\":\"\",\"title\":{\"standoff\":15},\"zerolinecolor\":\"white\",\"automargin\":true,\"zerolinewidth\":2},\"scene\":{\"xaxis\":{\"backgroundcolor\":\"#E5ECF6\",\"gridcolor\":\"white\",\"linecolor\":\"white\",\"showbackground\":true,\"ticks\":\"\",\"zerolinecolor\":\"white\",\"gridwidth\":2},\"yaxis\":{\"backgroundcolor\":\"#E5ECF6\",\"gridcolor\":\"white\",\"linecolor\":\"white\",\"showbackground\":true,\"ticks\":\"\",\"zerolinecolor\":\"white\",\"gridwidth\":2},\"zaxis\":{\"backgroundcolor\":\"#E5ECF6\",\"gridcolor\":\"white\",\"linecolor\":\"white\",\"showbackground\":true,\"ticks\":\"\",\"zerolinecolor\":\"white\",\"gridwidth\":2}},\"shapedefaults\":{\"line\":{\"color\":\"#2a3f5f\"}},\"annotationdefaults\":{\"arrowcolor\":\"#2a3f5f\",\"arrowhead\":0,\"arrowwidth\":1},\"geo\":{\"bgcolor\":\"white\",\"landcolor\":\"#E5ECF6\",\"subunitcolor\":\"white\",\"showland\":true,\"showlakes\":true,\"lakecolor\":\"white\"},\"title\":{\"x\":0.05},\"mapbox\":{\"style\":\"light\"}}},\"font\":{\"color\":\"#28221D\"},\"xaxis\":{\"title\":{\"text\":\"Work Life Balance\"},\"tickmode\":\"array\",\"tickvals\":[1,2,3,4],\"ticktext\":[\"Poor\",\"Fair\",\"Good\",\"Excellent\"]},\"title\":{\"text\":\"Distribution of Monthly Income by Work Life Balance\"},\"boxmode\":\"group\",\"paper_bgcolor\":\"#F4F2F0\",\"plot_bgcolor\":\"#F4F2F0\"},                        {\"responsive\": true}                    ).then(function(){\n",
       "                            \n",
       "var gd = document.getElementById('f1d7a85d-58e8-4345-9749-c1a8fc036d6d');\n",
       "var x = new MutationObserver(function (mutations, observer) {{\n",
       "        var display = window.getComputedStyle(gd).display;\n",
       "        if (!display || display === 'none') {{\n",
       "            console.log([gd, 'removed!']);\n",
       "            Plotly.purge(gd);\n",
       "            observer.disconnect();\n",
       "        }}\n",
       "}});\n",
       "\n",
       "// Listen for the removal of the full notebook cells\n",
       "var notebookContainer = gd.closest('#notebook-container');\n",
       "if (notebookContainer) {{\n",
       "    x.observe(notebookContainer, {childList: true});\n",
       "}}\n",
       "\n",
       "// Listen for the clearing of the current output cell\n",
       "var outputEl = gd.closest('.output');\n",
       "if (outputEl) {{\n",
       "    x.observe(outputEl, {childList: true});\n",
       "}}\n",
       "\n",
       "                        })                };                });            </script>        </div>"
      ]
     },
     "metadata": {},
     "output_type": "display_data"
    }
   ],
   "source": [
    "import plotly.graph_objects as go\n",
    "\n",
    "# Colors for genders\n",
    "colors = ['#214D5C', '#91ABB4']\n",
    "\n",
    "# Create figure\n",
    "fig = go.Figure()\n",
    "\n",
    "# Add box plots for each Gender\n",
    "for i, gender in enumerate(data['Gender'].unique()):\n",
    "    df_plot = data[data['Gender'] == gender]\n",
    "    fig.add_trace(\n",
    "        go.Box(\n",
    "            x=df_plot['WorkLifeBalance'],\n",
    "            y=df_plot['MonthlyIncome'],\n",
    "            notched=True,\n",
    "            line=dict(color=colors[i]),\n",
    "            name=gender\n",
    "        )\n",
    "    )\n",
    "\n",
    "# Layout\n",
    "fig.update_layout(\n",
    "    title=\"Distribution of Monthly Income by Work Life Balance\",\n",
    "    xaxis_title=\"Work Life Balance\",\n",
    "    boxmode='group',\n",
    "    font_color='#28221D',\n",
    "    xaxis=dict(\n",
    "        tickmode='array',\n",
    "        tickvals=[1, 2, 3, 4],\n",
    "        ticktext=['Poor', 'Fair', 'Good', 'Excellent']\n",
    "    ),\n",
    "    paper_bgcolor='#F4F2F0',\n",
    "    plot_bgcolor='#F4F2F0'\n",
    ")\n",
    "\n",
    "fig.show()\n"
   ]
  },
  {
   "cell_type": "markdown",
   "metadata": {},
   "source": [
    "Women with the lowest-rated work life balance have the highest median salary out of all of the groups at $5,400/month."
   ]
  },
  {
   "cell_type": "code",
   "execution_count": 100,
   "metadata": {
    "_kg_hide-input": true
   },
   "outputs": [
    {
     "data": {
      "application/vnd.plotly.v1+json": {
       "config": {
        "plotlyServerURL": "https://plot.ly"
       },
       "data": [
        {
         "hovertemplate": "JobLevel=Entry level<br>TotalWorkingYears=%{x}<br>MonthlyIncome=%{marker.size}<extra></extra>",
         "legendgroup": "Entry level",
         "marker": {
          "color": "#73AF8E",
          "size": [
           2090,
           2909,
           3468,
           3068,
           2670,
           2693,
           2426,
           2911,
           2661,
           2028,
           3298,
           2935,
           3944,
           3407,
           1232,
           2960,
           3919,
           2496,
           2206,
           2293,
           2645,
           2683,
           2014,
           3419,
           1951,
           2341,
           2293,
           3022,
           2269,
           3441,
           4014,
           2194,
           3388,
           2703,
           2501,
           3038,
           2859,
           2322,
           2075,
           2073,
           2956,
           2926,
           2889,
           2871,
           2774,
           2835,
           2613,
           4963,
           2368,
           1675,
           2523,
           4739,
           2942,
           4200,
           3452,
           2632,
           3204,
           2720,
           2238,
           1483,
           3346,
           2231,
           2323,
           2024,
           2713,
           2566,
           2451,
           3038,
           3058,
           2325,
           2088,
           4257,
           2500,
           1102,
           2288,
           3929,
           2311,
           3140,
           3690,
           2756,
           2279,
           2089,
           3564,
           3815,
           2328,
           2153,
           2657,
           2058,
           2622,
           2177,
           2793,
           2389,
           3212,
           2267,
           2436,
           2707,
           3931,
           3730,
           2232,
           2911,
           3920,
           2340,
           2593,
           2723,
           3479,
           2794,
           3485,
           3210,
           2070,
           3230,
           2115,
           3161,
           2373,
           3310,
           2789,
           2326,
           1420,
           3688,
           1200,
           4821,
           2695,
           2455,
           2478,
           3464,
           2119,
           3983,
           2904,
           2696,
           2370,
           2174,
           2213,
           2610,
           2851,
           3452,
           2657,
           2716,
           2201,
           3816,
           2543,
           2476,
           3102,
           2244,
           2285,
           3034,
           2576,
           2258,
           2218,
           4031,
           2654,
           3202,
           2351,
           1702,
           2886,
           2097,
           2546,
           2564,
           2564,
           4230,
           2768,
           3408,
           2983,
           2093,
           3894,
           3755,
           2741,
           1878,
           2340,
           2400,
           2725,
           2127,
           2096,
           2886,
           2033,
           3622,
           2187,
           2836,
           2619,
           2579,
           3041,
           3447,
           2773,
           2083,
           2691,
           2659,
           2045,
           1009,
           3348,
           1281,
           2819,
           2720,
           4680,
           3221,
           3875,
           2216,
           3708,
           2642,
           2759,
           2500,
           2342,
           2297,
           3057,
           2686,
           3505,
           4258,
           4364,
           3280,
           2782,
           4381,
           2572,
           3833,
           1601,
           2694,
           2319,
           2700,
           2506,
           4382,
           2143,
           2274,
           2553,
           3737,
           2366,
           1706,
           3424,
           2559,
           3761,
           4936,
           2818,
           2515,
           2342,
           2022,
           2314,
           3580,
           3162,
           2899,
           2356,
           2800,
           2973,
           2277,
           2795,
           2532,
           2559,
           2380,
           2044,
           2693,
           3294,
           2778,
           2377,
           2404,
           2318,
           2008,
           2799,
           2329,
           2259,
           4678,
           2332,
           2413,
           4721,
           2519,
           2121,
           2973,
           3617,
           2157,
           2479,
           2321,
           2404,
           3452,
           2270,
           2811,
           2132,
           2684,
           3743,
           1051,
           2600,
           2422,
           2451,
           3917,
           2380,
           2743,
           2342,
           4025,
           2177,
           2042,
           2220,
           1052,
           2821,
           2007,
           2942,
           2323,
           1416,
           2461,
           3955,
           3376,
           4621,
           2207,
           3691,
           2377,
           2313,
           2596,
           2979,
           2514,
           2070,
           2791,
           3201,
           3291,
           2844,
           2703,
           1904,
           4766,
           2610,
           2539,
           4323,
           2258,
           3597,
           2515,
           4420,
           2376,
           2827,
           3131,
           2552,
           4477,
           3033,
           2936,
           2168,
           2853,
           2290,
           3600,
           2107,
           3196,
           2210,
           2741,
           2678,
           2743,
           2781,
           3579,
           2235,
           2011,
           1859,
           3760,
           3692,
           2559,
           2517,
           2585,
           2994,
           1223,
           1118,
           2875,
           2625,
           2154,
           3506,
           3867,
           2838,
           3339,
           2080,
           2096,
           2372,
           3904,
           3423,
           2302,
           2362,
           3544,
           3669,
           2387,
           2534,
           1611,
           2029,
           2785,
           2610,
           2996,
           2394,
           3904,
           2950,
           3629,
           3229,
           3578,
           1359,
           2996,
           1261,
           2099,
           3420,
           4400,
           3500,
           2066,
           3294,
           2127,
           3646,
           2109,
           3722,
           2742,
           3162,
           2345,
           3420,
           3673,
           1274,
           2909,
           2404,
           3172,
           2033,
           2064,
           3838,
           2561,
           1563,
           3180,
           2362,
           2018,
           4084,
           2308,
           4841,
           2132,
           2296,
           2430,
           2644,
           2451,
           2450,
           2074,
           2367,
           2972,
           2061,
           4723,
           2073,
           4876,
           2690,
           2408,
           2814,
           3312,
           2141,
           3211,
           4066,
           3117,
           1569,
           3936,
           3760,
           3517,
           2580,
           2166,
           2783,
           2013,
           2587,
           2440,
           2728,
           3195,
           3989,
           3306,
           2655,
           1393,
           2570,
           3537,
           2028,
           2929,
           2275,
           4930,
           4401,
           2974,
           1555,
           2305,
           3433,
           3477,
           3907,
           2862,
           3295,
           4968,
           2145,
           2180,
           3445,
           2760,
           2932,
           2468,
           2109,
           2718,
           2437,
           2766,
           2289,
           3539,
           2679,
           3702,
           2398,
           2342,
           3143,
           2044,
           3377,
           2592,
           2438,
           2148,
           2705,
           3591,
           1514,
           2956,
           2335,
           2379,
           3812,
           2936,
           2105,
           2706,
           3968,
           2804,
           2439,
           4774,
           2662,
           2856,
           1081,
           2472,
           2062,
           2933,
           2307,
           2587,
           3978,
           2544,
           1091,
           2226,
           2432,
           4771,
           2863,
           2144,
           3065,
           2810,
           2867,
           2367,
           2858,
           2991,
           1129,
           2647,
           2187,
           3748,
           3977,
           2008,
           3067,
           2782,
           2660,
           3375,
           2837,
           2406,
           2269,
           3482,
           2436,
           2380,
           1790,
           4787,
           2339,
           2439,
           2809,
           2001,
           2977,
           3785,
           2966
          ],
          "sizemode": "area",
          "sizeref": 49.9975,
          "symbol": "circle"
         },
         "mode": "markers",
         "name": "Entry level",
         "showlegend": true,
         "type": "scattergl",
         "x": [
          7,
          8,
          6,
          8,
          12,
          1,
          6,
          5,
          3,
          6,
          7,
          1,
          6,
          10,
          0,
          8,
          10,
          7,
          10,
          6,
          6,
          3,
          2,
          6,
          1,
          1,
          1,
          8,
          1,
          2,
          4,
          5,
          2,
          6,
          1,
          5,
          6,
          3,
          10,
          7,
          1,
          1,
          2,
          1,
          6,
          7,
          10,
          7,
          5,
          0,
          3,
          18,
          8,
          10,
          9,
          5,
          8,
          6,
          7,
          1,
          9,
          6,
          2,
          6,
          5,
          1,
          13,
          8,
          6,
          1,
          13,
          19,
          4,
          1,
          2,
          7,
          9,
          4,
          5,
          8,
          7,
          7,
          8,
          5,
          4,
          8,
          8,
          7,
          7,
          7,
          13,
          4,
          6,
          7,
          8,
          13,
          6,
          4,
          7,
          2,
          17,
          6,
          10,
          1,
          6,
          5,
          5,
          16,
          5,
          3,
          17,
          19,
          5,
          5,
          2,
          4,
          0,
          4,
          0,
          6,
          3,
          9,
          4,
          5,
          7,
          4,
          4,
          4,
          8,
          3,
          10,
          3,
          1,
          17,
          3,
          1,
          6,
          5,
          6,
          1,
          7,
          2,
          3,
          18,
          8,
          8,
          4,
          6,
          8,
          6,
          3,
          1,
          3,
          9,
          6,
          1,
          12,
          6,
          14,
          8,
          4,
          8,
          4,
          8,
          8,
          0,
          1,
          3,
          6,
          1,
          7,
          6,
          1,
          6,
          6,
          1,
          8,
          8,
          5,
          3,
          3,
          1,
          10,
          3,
          5,
          1,
          10,
          1,
          5,
          10,
          4,
          20,
          4,
          10,
          9,
          1,
          7,
          5,
          5,
          2,
          6,
          10,
          2,
          5,
          5,
          10,
          6,
          6,
          3,
          7,
          1,
          1,
          1,
          10,
          7,
          5,
          8,
          1,
          6,
          4,
          8,
          0,
          6,
          6,
          10,
          6,
          10,
          8,
          6,
          10,
          4,
          7,
          6,
          3,
          8,
          5,
          10,
          7,
          1,
          8,
          8,
          3,
          2,
          1,
          3,
          10,
          6,
          8,
          1,
          1,
          6,
          13,
          13,
          8,
          5,
          1,
          20,
          16,
          1,
          1,
          3,
          3,
          7,
          4,
          3,
          5,
          8,
          4,
          7,
          3,
          5,
          0,
          1,
          4,
          4,
          3,
          8,
          18,
          3,
          10,
          6,
          6,
          1,
          1,
          8,
          5,
          18,
          2,
          1,
          18,
          6,
          10,
          3,
          4,
          7,
          1,
          5,
          1,
          6,
          11,
          2,
          3,
          6,
          8,
          7,
          3,
          0,
          6,
          2,
          4,
          6,
          10,
          6,
          1,
          8,
          2,
          1,
          10,
          1,
          7,
          2,
          6,
          6,
          1,
          6,
          5,
          5,
          6,
          1,
          7,
          2,
          2,
          15,
          12,
          9,
          10,
          1,
          3,
          12,
          7,
          5,
          2,
          1,
          1,
          1,
          8,
          2,
          5,
          4,
          2,
          8,
          10,
          5,
          2,
          2,
          6,
          10,
          3,
          10,
          6,
          7,
          7,
          5,
          0,
          5,
          3,
          4,
          8,
          8,
          5,
          12,
          8,
          7,
          8,
          1,
          10,
          1,
          6,
          17,
          6,
          7,
          5,
          7,
          7,
          11,
          8,
          7,
          2,
          7,
          8,
          6,
          12,
          1,
          5,
          1,
          4,
          1,
          6,
          8,
          8,
          1,
          4,
          11,
          15,
          7,
          12,
          4,
          8,
          2,
          6,
          7,
          5,
          3,
          1,
          10,
          1,
          1,
          10,
          4,
          8,
          1,
          1,
          4,
          6,
          6,
          10,
          7,
          3,
          0,
          8,
          6,
          5,
          6,
          10,
          2,
          15,
          17,
          4,
          2,
          8,
          5,
          7,
          19,
          1,
          7,
          8,
          14,
          10,
          3,
          6,
          5,
          9,
          1,
          3,
          10,
          6,
          6,
          10,
          3,
          10,
          3,
          6,
          6,
          2,
          6,
          9,
          1,
          12,
          6,
          7,
          5,
          10,
          1,
          5,
          1,
          6,
          14,
          5,
          7,
          13,
          7,
          6,
          6,
          3,
          0,
          2,
          4,
          6,
          11,
          10,
          7,
          3,
          8,
          1,
          1,
          8,
          19,
          1,
          1,
          1,
          11,
          1,
          5,
          5,
          4,
          8,
          1,
          6,
          8,
          10,
          1,
          5,
          4,
          5,
          8,
          6,
          20,
          7,
          1,
          5,
          6,
          12,
          7,
          1,
          3,
          12,
          5,
          4,
          6,
          8,
          3,
          16,
          6,
          2,
          1,
          4,
          14,
          4,
          8,
          20,
          4,
          5,
          5
         ],
         "xaxis": "x",
         "y": [
          2090,
          2909,
          3468,
          3068,
          2670,
          2693,
          2426,
          2911,
          2661,
          2028,
          3298,
          2935,
          3944,
          3407,
          1232,
          2960,
          3919,
          2496,
          2206,
          2293,
          2645,
          2683,
          2014,
          3419,
          1951,
          2341,
          2293,
          3022,
          2269,
          3441,
          4014,
          2194,
          3388,
          2703,
          2501,
          3038,
          2859,
          2322,
          2075,
          2073,
          2956,
          2926,
          2889,
          2871,
          2774,
          2835,
          2613,
          4963,
          2368,
          1675,
          2523,
          4739,
          2942,
          4200,
          3452,
          2632,
          3204,
          2720,
          2238,
          1483,
          3346,
          2231,
          2323,
          2024,
          2713,
          2566,
          2451,
          3038,
          3058,
          2325,
          2088,
          4257,
          2500,
          1102,
          2288,
          3929,
          2311,
          3140,
          3690,
          2756,
          2279,
          2089,
          3564,
          3815,
          2328,
          2153,
          2657,
          2058,
          2622,
          2177,
          2793,
          2389,
          3212,
          2267,
          2436,
          2707,
          3931,
          3730,
          2232,
          2911,
          3920,
          2340,
          2593,
          2723,
          3479,
          2794,
          3485,
          3210,
          2070,
          3230,
          2115,
          3161,
          2373,
          3310,
          2789,
          2326,
          1420,
          3688,
          1200,
          4821,
          2695,
          2455,
          2478,
          3464,
          2119,
          3983,
          2904,
          2696,
          2370,
          2174,
          2213,
          2610,
          2851,
          3452,
          2657,
          2716,
          2201,
          3816,
          2543,
          2476,
          3102,
          2244,
          2285,
          3034,
          2576,
          2258,
          2218,
          4031,
          2654,
          3202,
          2351,
          1702,
          2886,
          2097,
          2546,
          2564,
          2564,
          4230,
          2768,
          3408,
          2983,
          2093,
          3894,
          3755,
          2741,
          1878,
          2340,
          2400,
          2725,
          2127,
          2096,
          2886,
          2033,
          3622,
          2187,
          2836,
          2619,
          2579,
          3041,
          3447,
          2773,
          2083,
          2691,
          2659,
          2045,
          1009,
          3348,
          1281,
          2819,
          2720,
          4680,
          3221,
          3875,
          2216,
          3708,
          2642,
          2759,
          2500,
          2342,
          2297,
          3057,
          2686,
          3505,
          4258,
          4364,
          3280,
          2782,
          4381,
          2572,
          3833,
          1601,
          2694,
          2319,
          2700,
          2506,
          4382,
          2143,
          2274,
          2553,
          3737,
          2366,
          1706,
          3424,
          2559,
          3761,
          4936,
          2818,
          2515,
          2342,
          2022,
          2314,
          3580,
          3162,
          2899,
          2356,
          2800,
          2973,
          2277,
          2795,
          2532,
          2559,
          2380,
          2044,
          2693,
          3294,
          2778,
          2377,
          2404,
          2318,
          2008,
          2799,
          2329,
          2259,
          4678,
          2332,
          2413,
          4721,
          2519,
          2121,
          2973,
          3617,
          2157,
          2479,
          2321,
          2404,
          3452,
          2270,
          2811,
          2132,
          2684,
          3743,
          1051,
          2600,
          2422,
          2451,
          3917,
          2380,
          2743,
          2342,
          4025,
          2177,
          2042,
          2220,
          1052,
          2821,
          2007,
          2942,
          2323,
          1416,
          2461,
          3955,
          3376,
          4621,
          2207,
          3691,
          2377,
          2313,
          2596,
          2979,
          2514,
          2070,
          2791,
          3201,
          3291,
          2844,
          2703,
          1904,
          4766,
          2610,
          2539,
          4323,
          2258,
          3597,
          2515,
          4420,
          2376,
          2827,
          3131,
          2552,
          4477,
          3033,
          2936,
          2168,
          2853,
          2290,
          3600,
          2107,
          3196,
          2210,
          2741,
          2678,
          2743,
          2781,
          3579,
          2235,
          2011,
          1859,
          3760,
          3692,
          2559,
          2517,
          2585,
          2994,
          1223,
          1118,
          2875,
          2625,
          2154,
          3506,
          3867,
          2838,
          3339,
          2080,
          2096,
          2372,
          3904,
          3423,
          2302,
          2362,
          3544,
          3669,
          2387,
          2534,
          1611,
          2029,
          2785,
          2610,
          2996,
          2394,
          3904,
          2950,
          3629,
          3229,
          3578,
          1359,
          2996,
          1261,
          2099,
          3420,
          4400,
          3500,
          2066,
          3294,
          2127,
          3646,
          2109,
          3722,
          2742,
          3162,
          2345,
          3420,
          3673,
          1274,
          2909,
          2404,
          3172,
          2033,
          2064,
          3838,
          2561,
          1563,
          3180,
          2362,
          2018,
          4084,
          2308,
          4841,
          2132,
          2296,
          2430,
          2644,
          2451,
          2450,
          2074,
          2367,
          2972,
          2061,
          4723,
          2073,
          4876,
          2690,
          2408,
          2814,
          3312,
          2141,
          3211,
          4066,
          3117,
          1569,
          3936,
          3760,
          3517,
          2580,
          2166,
          2783,
          2013,
          2587,
          2440,
          2728,
          3195,
          3989,
          3306,
          2655,
          1393,
          2570,
          3537,
          2028,
          2929,
          2275,
          4930,
          4401,
          2974,
          1555,
          2305,
          3433,
          3477,
          3907,
          2862,
          3295,
          4968,
          2145,
          2180,
          3445,
          2760,
          2932,
          2468,
          2109,
          2718,
          2437,
          2766,
          2289,
          3539,
          2679,
          3702,
          2398,
          2342,
          3143,
          2044,
          3377,
          2592,
          2438,
          2148,
          2705,
          3591,
          1514,
          2956,
          2335,
          2379,
          3812,
          2936,
          2105,
          2706,
          3968,
          2804,
          2439,
          4774,
          2662,
          2856,
          1081,
          2472,
          2062,
          2933,
          2307,
          2587,
          3978,
          2544,
          1091,
          2226,
          2432,
          4771,
          2863,
          2144,
          3065,
          2810,
          2867,
          2367,
          2858,
          2991,
          1129,
          2647,
          2187,
          3748,
          3977,
          2008,
          3067,
          2782,
          2660,
          3375,
          2837,
          2406,
          2269,
          3482,
          2436,
          2380,
          1790,
          4787,
          2339,
          2439,
          2809,
          2001,
          2977,
          3785,
          2966
         ],
         "yaxis": "y"
        },
        {
         "hovertemplate": "JobLevel=Mid level<br>TotalWorkingYears=%{x}<br>MonthlyIncome=%{marker.size}<extra></extra>",
         "legendgroup": "Mid level",
         "marker": {
          "color": "#4F909B",
          "size": [
           5993,
           5130,
           5237,
           4193,
           4011,
           6825,
           6465,
           2086,
           5376,
           4011,
           4568,
           5772,
           5454,
           4157,
           5915,
           5993,
           6162,
           2406,
           6499,
           5473,
           6220,
           4424,
           4312,
           5021,
           5126,
           5329,
           4325,
           4152,
           5441,
           5209,
           5010,
           4999,
           4221,
           2042,
           4809,
           5163,
           5744,
           6074,
           4505,
           6146,
           6172,
           6567,
           4559,
           4941,
           5902,
           8639,
           6347,
           4317,
           4668,
           5605,
           2306,
           2348,
           4319,
           6132,
           8686,
           3072,
           5006,
           4450,
           9547,
           5916,
           4425,
           5265,
           6553,
           6261,
           4298,
           6804,
           2741,
           6673,
           4876,
           9981,
           6696,
           5940,
           5914,
           4345,
           4465,
           3072,
           3319,
           5957,
           6434,
           6545,
           6931,
           4898,
           5249,
           2176,
           6644,
           5582,
           4000,
           6502,
           5605,
           6397,
           4907,
           4554,
           5415,
           4741,
           5745,
           4485,
           5828,
           5482,
           5661,
           6929,
           5674,
           5484,
           5660,
           6410,
           4941,
           5228,
           4478,
           7547,
           5055,
           5775,
           5238,
           4682,
           5257,
           6349,
           4869,
           3697,
           7457,
           6118,
           6214,
           6347,
           8268,
           6032,
           2976,
           4649,
           5974,
           4736,
           5296,
           6781,
           6653,
           6755,
           5258,
           9355,
           6380,
           6540,
           5253,
           4936,
           5304,
           4260,
           5715,
           4197,
           3448,
           6538,
           4306,
           4522,
           4487,
           4449,
           6577,
           4558,
           4556,
           6091,
           4810,
           4523,
           5070,
           3780,
           4051,
           6230,
           4717,
           6582,
           4805,
           4262,
           6811,
           4306,
           4859,
           5337,
           5577,
           4707,
           9824,
           6447,
           6272,
           4233,
           3681,
           5460,
           9602,
           4089,
           5679,
           5985,
           7104,
           6322,
           8381,
           4286,
           5561,
           6646,
           7725,
           8847,
           4851,
           4028,
           8120,
           4647,
           4577,
           4553,
           5396,
           6796,
           7625,
           4960,
           5405,
           5304,
           6804,
           6142,
           6389,
           6811,
           2450,
           5093,
           5309,
           5121,
           6180,
           6632,
           6397,
           6274,
           4335,
           5326,
           5485,
           4342,
           5980,
           4244,
           6500,
           3149,
           5324,
           5228,
           6062,
           6162,
           5094,
           6877,
           4434,
           6288,
           5160,
           4779,
           5933,
           4037,
           6201,
           4403,
           5175,
           6334,
           4775,
           4194,
           4256,
           6524,
           5231,
           5562,
           4537,
           5204,
           4908,
           4765,
           6586,
           4171,
           6244,
           4014,
           6932,
           4294,
           5855,
           6725,
           6949,
           4447,
           4601,
           5666,
           5067,
           5079,
           5488,
           3633,
           4163,
           4377,
           4148,
           5472,
           4240,
           5003,
           4227,
           4777,
           6385,
           6861,
           4969,
           6347,
           9725,
           4834,
           4107,
           8396,
           4615,
           9957,
           3660,
           4508,
           7756,
           6694,
           4728,
           4302,
           5593,
           6782,
           7779,
           4968,
           4033,
           4272,
           5056,
           8224,
           5731,
           5714,
           5155,
           6578,
           4422,
           5343,
           5346,
           6474,
           4115,
           4327,
           8966,
           4539,
           3491,
           4541,
           7379,
           6272,
           5220,
           4998,
           6852,
           4950,
           6833,
           6812,
           5171,
           6623,
           4538,
           4444,
           4490,
           2372,
           5410,
           4695,
           6209,
           4883,
           4627,
           6674,
           4534,
           6151,
           4661,
           4103,
           4249,
           6893,
           6125,
           4639,
           5363,
           5071,
           6377,
           5429,
           4614,
           6687,
           4724,
           6179,
           6120,
           5467,
           9998,
           4078,
           6232,
           4081,
           5769,
           4284,
           9278,
           4779,
           5810,
           5647,
           4162,
           9204,
           3975,
           5486,
           8463,
           6651,
           4373,
           4759,
           5301,
           4768,
           4900,
           5765,
           4599,
           8620,
           4035,
           4591,
           4898,
           4789,
           6549,
           6388,
           2272,
           4285,
           9715,
           4320,
           5473,
           5207,
           4069,
           5878,
           6439,
           6392,
           9714,
           6077,
           4855,
           4087,
           5484,
           9924,
           4198,
           6815,
           6142,
           8853,
           5562,
           3407,
           5063,
           4639,
           5769,
           4385,
           5332,
           4663,
           4724,
           5377,
           5208,
           4877,
           3069,
           4148,
           5768,
           5042,
           5770,
           5743,
           5440,
           5869,
           5206,
           5295,
           5433,
           4374,
           6842,
           4581,
           4735,
           4187,
           5505,
           5470,
           5476,
           5368,
           5347,
           3986,
           9525,
           7847,
           4502,
           6430,
           6516,
           5562,
           6883,
           4978,
           6134,
           6735,
           5238,
           6472,
           8346,
           6294,
           5147,
           4507,
           5294,
           5811,
           3055,
           4001,
           6029,
           5468,
           4189,
           4071,
           5813,
           7991,
           5538,
           5762,
           5346,
           4213,
           4127,
           6870,
           8926,
           6513,
           6799,
           4448,
           6854,
           5405,
           4684,
           5154,
           6962,
           5675,
           4648,
           6384,
           9907,
           3540,
           3902,
           5673,
           4197,
           4284,
           4788,
           5906,
           3886,
           6500,
           5033,
           5507,
           4393,
           6583,
           8103,
           5399,
           5487,
           6834,
           5736,
           5747,
           9854,
           5467,
           5380,
           5151,
           2133,
           5087,
           5561,
           5373,
           6667,
           5003,
           5204,
           4105,
           9679,
           5617,
           2897,
           5968,
           4332,
           4440,
           4617,
           6323,
           5677,
           4440,
           5321,
           5410,
           5098,
           4878,
           4108,
           4907,
           5131,
           6306,
           6712,
           5406,
           8938,
           5343,
           6728,
           6652,
           4850,
           5689,
           4025,
           9936,
           2571,
           6142,
           5390,
           4404
          ],
          "sizemode": "area",
          "sizeref": 49.9975,
          "symbol": "circle"
         },
         "mode": "markers",
         "name": "Mid level",
         "showlegend": true,
         "type": "scattergl",
         "x": [
          8,
          10,
          17,
          10,
          5,
          10,
          9,
          19,
          10,
          12,
          10,
          14,
          9,
          5,
          10,
          7,
          9,
          10,
          6,
          20,
          10,
          11,
          16,
          16,
          10,
          17,
          5,
          11,
          11,
          11,
          12,
          4,
          5,
          17,
          16,
          17,
          6,
          9,
          12,
          8,
          12,
          16,
          4,
          7,
          17,
          6,
          12,
          19,
          9,
          20,
          13,
          20,
          10,
          10,
          12,
          12,
          9,
          5,
          10,
          8,
          10,
          11,
          14,
          9,
          6,
          7,
          15,
          17,
          5,
          7,
          9,
          16,
          16,
          6,
          4,
          17,
          9,
          13,
          9,
          10,
          10,
          5,
          13,
          9,
          10,
          10,
          6,
          7,
          8,
          6,
          20,
          10,
          12,
          5,
          10,
          10,
          8,
          13,
          9,
          10,
          11,
          13,
          12,
          9,
          11,
          13,
          5,
          13,
          10,
          11,
          12,
          9,
          9,
          6,
          20,
          12,
          6,
          10,
          8,
          8,
          7,
          8,
          5,
          4,
          13,
          4,
          8,
          14,
          7,
          15,
          7,
          8,
          8,
          10,
          7,
          18,
          9,
          5,
          8,
          18,
          20,
          6,
          13,
          8,
          5,
          15,
          6,
          10,
          19,
          11,
          19,
          7,
          20,
          19,
          14,
          16,
          15,
          10,
          9,
          8,
          10,
          8,
          5,
          10,
          18,
          6,
          18,
          8,
          6,
          9,
          9,
          13,
          17,
          10,
          10,
          10,
          6,
          6,
          18,
          5,
          6,
          17,
          15,
          13,
          4,
          8,
          12,
          6,
          4,
          20,
          10,
          18,
          10,
          20,
          10,
          10,
          7,
          10,
          12,
          9,
          19,
          16,
          10,
          7,
          6,
          9,
          8,
          6,
          11,
          6,
          9,
          5,
          17,
          8,
          6,
          9,
          6,
          10,
          8,
          14,
          10,
          12,
          10,
          13,
          12,
          8,
          10,
          9,
          18,
          8,
          9,
          9,
          4,
          5,
          5,
          10,
          17,
          12,
          8,
          13,
          4,
          4,
          17,
          4,
          10,
          10,
          9,
          7,
          10,
          8,
          6,
          9,
          5,
          6,
          20,
          12,
          6,
          9,
          9,
          5,
          4,
          8,
          19,
          8,
          4,
          15,
          17,
          19,
          7,
          19,
          16,
          9,
          8,
          8,
          19,
          7,
          10,
          14,
          7,
          8,
          5,
          4,
          15,
          9,
          18,
          5,
          5,
          16,
          10,
          6,
          9,
          6,
          9,
          10,
          16,
          14,
          7,
          14,
          8,
          5,
          15,
          10,
          10,
          20,
          12,
          10,
          12,
          10,
          7,
          5,
          6,
          10,
          13,
          6,
          4,
          15,
          14,
          18,
          18,
          10,
          10,
          10,
          10,
          10,
          9,
          19,
          9,
          10,
          9,
          11,
          10,
          17,
          10,
          8,
          15,
          10,
          5,
          14,
          5,
          10,
          8,
          12,
          8,
          4,
          6,
          20,
          6,
          20,
          15,
          8,
          10,
          11,
          5,
          7,
          11,
          15,
          6,
          20,
          5,
          15,
          4,
          11,
          13,
          7,
          16,
          10,
          4,
          11,
          5,
          10,
          8,
          14,
          5,
          10,
          9,
          5,
          9,
          15,
          8,
          12,
          18,
          8,
          10,
          10,
          7,
          9,
          9,
          10,
          8,
          15,
          10,
          6,
          9,
          10,
          8,
          5,
          10,
          10,
          10,
          7,
          9,
          10,
          16,
          6,
          11,
          15,
          9,
          10,
          10,
          14,
          7,
          8,
          7,
          7,
          11,
          4,
          13,
          13,
          19,
          10,
          6,
          10,
          10,
          7,
          10,
          15,
          6,
          10,
          17,
          10,
          18,
          19,
          17,
          4,
          16,
          10,
          9,
          9,
          6,
          10,
          13,
          8,
          10,
          15,
          11,
          15,
          6,
          13,
          5,
          19,
          10,
          6,
          10,
          15,
          11,
          10,
          7,
          11,
          13,
          12,
          10,
          15,
          14,
          20,
          5,
          10,
          15,
          7,
          4,
          11,
          7,
          9,
          7,
          10,
          10,
          16,
          4,
          10,
          10,
          9,
          10,
          12,
          14,
          8,
          9,
          12,
          10,
          7,
          10,
          16,
          6,
          16,
          6,
          10,
          20,
          14,
          6,
          6,
          9,
          10,
          10,
          7,
          8,
          10,
          9,
          9,
          20,
          9,
          4,
          10,
          15,
          16,
          10,
          9,
          10,
          10,
          18,
          6,
          18,
          13,
          8,
          15,
          14,
          10,
          12,
          8,
          8,
          10,
          10,
          10,
          17,
          6,
          17,
          6
         ],
         "xaxis": "x",
         "y": [
          5993,
          5130,
          5237,
          4193,
          4011,
          6825,
          6465,
          2086,
          5376,
          4011,
          4568,
          5772,
          5454,
          4157,
          5915,
          5993,
          6162,
          2406,
          6499,
          5473,
          6220,
          4424,
          4312,
          5021,
          5126,
          5329,
          4325,
          4152,
          5441,
          5209,
          5010,
          4999,
          4221,
          2042,
          4809,
          5163,
          5744,
          6074,
          4505,
          6146,
          6172,
          6567,
          4559,
          4941,
          5902,
          8639,
          6347,
          4317,
          4668,
          5605,
          2306,
          2348,
          4319,
          6132,
          8686,
          3072,
          5006,
          4450,
          9547,
          5916,
          4425,
          5265,
          6553,
          6261,
          4298,
          6804,
          2741,
          6673,
          4876,
          9981,
          6696,
          5940,
          5914,
          4345,
          4465,
          3072,
          3319,
          5957,
          6434,
          6545,
          6931,
          4898,
          5249,
          2176,
          6644,
          5582,
          4000,
          6502,
          5605,
          6397,
          4907,
          4554,
          5415,
          4741,
          5745,
          4485,
          5828,
          5482,
          5661,
          6929,
          5674,
          5484,
          5660,
          6410,
          4941,
          5228,
          4478,
          7547,
          5055,
          5775,
          5238,
          4682,
          5257,
          6349,
          4869,
          3697,
          7457,
          6118,
          6214,
          6347,
          8268,
          6032,
          2976,
          4649,
          5974,
          4736,
          5296,
          6781,
          6653,
          6755,
          5258,
          9355,
          6380,
          6540,
          5253,
          4936,
          5304,
          4260,
          5715,
          4197,
          3448,
          6538,
          4306,
          4522,
          4487,
          4449,
          6577,
          4558,
          4556,
          6091,
          4810,
          4523,
          5070,
          3780,
          4051,
          6230,
          4717,
          6582,
          4805,
          4262,
          6811,
          4306,
          4859,
          5337,
          5577,
          4707,
          9824,
          6447,
          6272,
          4233,
          3681,
          5460,
          9602,
          4089,
          5679,
          5985,
          7104,
          6322,
          8381,
          4286,
          5561,
          6646,
          7725,
          8847,
          4851,
          4028,
          8120,
          4647,
          4577,
          4553,
          5396,
          6796,
          7625,
          4960,
          5405,
          5304,
          6804,
          6142,
          6389,
          6811,
          2450,
          5093,
          5309,
          5121,
          6180,
          6632,
          6397,
          6274,
          4335,
          5326,
          5485,
          4342,
          5980,
          4244,
          6500,
          3149,
          5324,
          5228,
          6062,
          6162,
          5094,
          6877,
          4434,
          6288,
          5160,
          4779,
          5933,
          4037,
          6201,
          4403,
          5175,
          6334,
          4775,
          4194,
          4256,
          6524,
          5231,
          5562,
          4537,
          5204,
          4908,
          4765,
          6586,
          4171,
          6244,
          4014,
          6932,
          4294,
          5855,
          6725,
          6949,
          4447,
          4601,
          5666,
          5067,
          5079,
          5488,
          3633,
          4163,
          4377,
          4148,
          5472,
          4240,
          5003,
          4227,
          4777,
          6385,
          6861,
          4969,
          6347,
          9725,
          4834,
          4107,
          8396,
          4615,
          9957,
          3660,
          4508,
          7756,
          6694,
          4728,
          4302,
          5593,
          6782,
          7779,
          4968,
          4033,
          4272,
          5056,
          8224,
          5731,
          5714,
          5155,
          6578,
          4422,
          5343,
          5346,
          6474,
          4115,
          4327,
          8966,
          4539,
          3491,
          4541,
          7379,
          6272,
          5220,
          4998,
          6852,
          4950,
          6833,
          6812,
          5171,
          6623,
          4538,
          4444,
          4490,
          2372,
          5410,
          4695,
          6209,
          4883,
          4627,
          6674,
          4534,
          6151,
          4661,
          4103,
          4249,
          6893,
          6125,
          4639,
          5363,
          5071,
          6377,
          5429,
          4614,
          6687,
          4724,
          6179,
          6120,
          5467,
          9998,
          4078,
          6232,
          4081,
          5769,
          4284,
          9278,
          4779,
          5810,
          5647,
          4162,
          9204,
          3975,
          5486,
          8463,
          6651,
          4373,
          4759,
          5301,
          4768,
          4900,
          5765,
          4599,
          8620,
          4035,
          4591,
          4898,
          4789,
          6549,
          6388,
          2272,
          4285,
          9715,
          4320,
          5473,
          5207,
          4069,
          5878,
          6439,
          6392,
          9714,
          6077,
          4855,
          4087,
          5484,
          9924,
          4198,
          6815,
          6142,
          8853,
          5562,
          3407,
          5063,
          4639,
          5769,
          4385,
          5332,
          4663,
          4724,
          5377,
          5208,
          4877,
          3069,
          4148,
          5768,
          5042,
          5770,
          5743,
          5440,
          5869,
          5206,
          5295,
          5433,
          4374,
          6842,
          4581,
          4735,
          4187,
          5505,
          5470,
          5476,
          5368,
          5347,
          3986,
          9525,
          7847,
          4502,
          6430,
          6516,
          5562,
          6883,
          4978,
          6134,
          6735,
          5238,
          6472,
          8346,
          6294,
          5147,
          4507,
          5294,
          5811,
          3055,
          4001,
          6029,
          5468,
          4189,
          4071,
          5813,
          7991,
          5538,
          5762,
          5346,
          4213,
          4127,
          6870,
          8926,
          6513,
          6799,
          4448,
          6854,
          5405,
          4684,
          5154,
          6962,
          5675,
          4648,
          6384,
          9907,
          3540,
          3902,
          5673,
          4197,
          4284,
          4788,
          5906,
          3886,
          6500,
          5033,
          5507,
          4393,
          6583,
          8103,
          5399,
          5487,
          6834,
          5736,
          5747,
          9854,
          5467,
          5380,
          5151,
          2133,
          5087,
          5561,
          5373,
          6667,
          5003,
          5204,
          4105,
          9679,
          5617,
          2897,
          5968,
          4332,
          4440,
          4617,
          6323,
          5677,
          4440,
          5321,
          5410,
          5098,
          4878,
          4108,
          4907,
          5131,
          6306,
          6712,
          5406,
          8938,
          5343,
          6728,
          6652,
          4850,
          5689,
          4025,
          9936,
          2571,
          6142,
          5390,
          4404
         ],
         "yaxis": "y"
        },
        {
         "hovertemplate": "JobLevel=Senior<br>TotalWorkingYears=%{x}<br>MonthlyIncome=%{marker.size}<extra></extra>",
         "legendgroup": "Senior",
         "marker": {
          "color": "#707BAD",
          "size": [
           9526,
           9980,
           11994,
           10248,
           8726,
           5381,
           9884,
           13458,
           9069,
           7637,
           10096,
           9724,
           13245,
           13664,
           10239,
           7260,
           9619,
           10673,
           13549,
           7484,
           7428,
           11631,
           9738,
           10312,
           9208,
           8189,
           10650,
           7295,
           8998,
           10855,
           9439,
           9419,
           10453,
           7639,
           9396,
           10400,
           8474,
           12490,
           13591,
           8865,
           12185,
           10609,
           7918,
           8789,
           13675,
           10048,
           10938,
           11849,
           13603,
           11996,
           8020,
           9613,
           12061,
           5210,
           11878,
           8943,
           9985,
           11510,
           7143,
           8095,
           12504,
           9699,
           10496,
           10965,
           7596,
           8392,
           7969,
           11935,
           8412,
           10266,
           9071,
           10648,
           13610,
           7632,
           9824,
           9950,
           9980,
           7406,
           11557,
           10932,
           7491,
           10527,
           8834,
           9434,
           10725,
           8621,
           7412,
           11159,
           10475,
           8793,
           11713,
           7861,
           7587,
           11691,
           7654,
           12808,
           10221,
           10934,
           10761,
           10685,
           10903,
           7642,
           10552,
           7403,
           13582,
           9705,
           10325,
           10609,
           7264,
           7823,
           7880,
           10845,
           10739,
           10388,
           11416,
           10999,
           10880,
           11904,
           7525,
           10686,
           8858,
           10798,
           8722,
           8823,
           10322,
           10976,
           10482,
           7119,
           9582,
           10445,
           8740,
           7655,
           7351,
           10820,
           7336,
           13499,
           10274,
           10252,
           13191,
           10377,
           10502,
           8380,
           10512,
           10231,
           7978,
           7094,
           9094,
           8446,
           11916,
           9852,
           8500,
           10008,
           7898,
           10596,
           10920,
           9362,
           7988,
           7553,
           10793,
           10096,
           7446,
           10851,
           9380,
           13757,
           10466,
           10209,
           11244,
           8376,
           8606,
           7083,
           10124,
           7441,
           9250,
           10169,
           8237,
           10435,
           7756,
           10306,
           7945,
           8008,
           13269,
           7082,
           7005,
           10883,
           7879,
           9241,
           10748,
           10368,
           9610,
           9756,
           7140,
           8564,
           8161,
           13116,
           8321,
           13464,
           10447,
           9667,
           10333,
           9637,
           8578,
           7314,
           9713,
           13348,
           9888,
           8628,
           10448,
           7510,
           11031,
           8633,
           11957,
           13206,
           10422,
           13744,
           7644,
           8837,
           10854,
           9991
          ],
          "sizemode": "area",
          "sizeref": 49.9975,
          "symbol": "circle"
         },
         "mode": "markers",
         "name": "Senior",
         "showlegend": true,
         "type": "scattergl",
         "x": [
          10,
          10,
          13,
          24,
          9,
          23,
          10,
          15,
          9,
          28,
          17,
          25,
          17,
          16,
          24,
          37,
          9,
          21,
          16,
          23,
          12,
          14,
          10,
          40,
          16,
          12,
          18,
          10,
          9,
          15,
          12,
          12,
          24,
          10,
          17,
          14,
          12,
          16,
          16,
          23,
          10,
          17,
          11,
          10,
          9,
          17,
          20,
          10,
          15,
          10,
          12,
          19,
          19,
          24,
          12,
          10,
          10,
          12,
          11,
          17,
          15,
          16,
          20,
          26,
          10,
          10,
          28,
          10,
          10,
          22,
          15,
          13,
          15,
          10,
          12,
          11,
          10,
          10,
          10,
          20,
          12,
          28,
          9,
          10,
          16,
          9,
          9,
          10,
          20,
          9,
          10,
          10,
          10,
          14,
          9,
          9,
          17,
          35,
          18,
          17,
          16,
          10,
          24,
          29,
          15,
          11,
          16,
          17,
          10,
          12,
          9,
          13,
          22,
          16,
          9,
          27,
          21,
          14,
          30,
          13,
          15,
          18,
          10,
          20,
          14,
          23,
          24,
          9,
          9,
          18,
          9,
          10,
          10,
          18,
          11,
          20,
          15,
          17,
          20,
          16,
          33,
          10,
          25,
          23,
          10,
          10,
          9,
          10,
          9,
          10,
          10,
          31,
          11,
          14,
          13,
          10,
          10,
          9,
          13,
          28,
          10,
          24,
          10,
          16,
          29,
          16,
          10,
          9,
          11,
          10,
          24,
          10,
          9,
          34,
          11,
          18,
          10,
          15,
          18,
          9,
          19,
          21,
          11,
          19,
          9,
          10,
          25,
          13,
          10,
          9,
          12,
          11,
          10,
          15,
          15,
          9,
          23,
          9,
          28,
          9,
          12,
          14,
          9,
          18,
          14,
          9,
          15,
          10,
          13,
          25,
          14,
          20,
          14,
          16,
          10,
          9,
          20,
          9
         ],
         "xaxis": "x",
         "y": [
          9526,
          9980,
          11994,
          10248,
          8726,
          5381,
          9884,
          13458,
          9069,
          7637,
          10096,
          9724,
          13245,
          13664,
          10239,
          7260,
          9619,
          10673,
          13549,
          7484,
          7428,
          11631,
          9738,
          10312,
          9208,
          8189,
          10650,
          7295,
          8998,
          10855,
          9439,
          9419,
          10453,
          7639,
          9396,
          10400,
          8474,
          12490,
          13591,
          8865,
          12185,
          10609,
          7918,
          8789,
          13675,
          10048,
          10938,
          11849,
          13603,
          11996,
          8020,
          9613,
          12061,
          5210,
          11878,
          8943,
          9985,
          11510,
          7143,
          8095,
          12504,
          9699,
          10496,
          10965,
          7596,
          8392,
          7969,
          11935,
          8412,
          10266,
          9071,
          10648,
          13610,
          7632,
          9824,
          9950,
          9980,
          7406,
          11557,
          10932,
          7491,
          10527,
          8834,
          9434,
          10725,
          8621,
          7412,
          11159,
          10475,
          8793,
          11713,
          7861,
          7587,
          11691,
          7654,
          12808,
          10221,
          10934,
          10761,
          10685,
          10903,
          7642,
          10552,
          7403,
          13582,
          9705,
          10325,
          10609,
          7264,
          7823,
          7880,
          10845,
          10739,
          10388,
          11416,
          10999,
          10880,
          11904,
          7525,
          10686,
          8858,
          10798,
          8722,
          8823,
          10322,
          10976,
          10482,
          7119,
          9582,
          10445,
          8740,
          7655,
          7351,
          10820,
          7336,
          13499,
          10274,
          10252,
          13191,
          10377,
          10502,
          8380,
          10512,
          10231,
          7978,
          7094,
          9094,
          8446,
          11916,
          9852,
          8500,
          10008,
          7898,
          10596,
          10920,
          9362,
          7988,
          7553,
          10793,
          10096,
          7446,
          10851,
          9380,
          13757,
          10466,
          10209,
          11244,
          8376,
          8606,
          7083,
          10124,
          7441,
          9250,
          10169,
          8237,
          10435,
          7756,
          10306,
          7945,
          8008,
          13269,
          7082,
          7005,
          10883,
          7879,
          9241,
          10748,
          10368,
          9610,
          9756,
          7140,
          8564,
          8161,
          13116,
          8321,
          13464,
          10447,
          9667,
          10333,
          9637,
          8578,
          7314,
          9713,
          13348,
          9888,
          8628,
          10448,
          7510,
          11031,
          8633,
          11957,
          13206,
          10422,
          13744,
          7644,
          8837,
          10854,
          9991
         ],
         "yaxis": "y"
        },
        {
         "hovertemplate": "JobLevel=Lead<br>TotalWorkingYears=%{x}<br>MonthlyIncome=%{marker.size}<extra></extra>",
         "legendgroup": "Lead",
         "marker": {
          "color": "#A89DB7",
          "size": [
           15427,
           14756,
           13503,
           13872,
           17328,
           16959,
           17181,
           13734,
           16792,
           16064,
           16872,
           13496,
           17584,
           13525,
           16015,
           17068,
           13964,
           15992,
           16659,
           14336,
           13212,
           16555,
           14118,
           17046,
           17861,
           16835,
           13237,
           16184,
           16595,
           16627,
           15402,
           14814,
           13770,
           11103,
           16856,
           17639,
           16752,
           17159,
           16307,
           13826,
           11836,
           14275,
           17924,
           17099,
           14852,
           13194,
           17444,
           17399,
           13973,
           12742,
           13726,
           13320,
           17650,
           16756,
           17665,
           16885,
           17465,
           12169,
           13120,
           13758,
           17048,
           17856,
           17779,
           16124,
           13577,
           17123,
           16880,
           17861,
           14026,
           13142,
           13695,
           13402,
           13247,
           16799,
           17328,
           14732,
           16422,
           17169,
           16598,
           17007,
           16032,
           16328,
           16606,
           14411,
           16437,
           17567,
           11245,
           15202,
           16413,
           13966,
           17426,
           17603,
           15972,
           15379,
           12936,
           16704,
           12965,
           16291,
           15787,
           13225,
           16823,
           17174,
           17875,
           13341,
           13570,
           12031
          ],
          "sizemode": "area",
          "sizeref": 49.9975,
          "symbol": "circle"
         },
         "mode": "markers",
         "name": "Lead",
         "showlegend": true,
         "type": "scattergl",
         "x": [
          31,
          21,
          22,
          38,
          23,
          25,
          21,
          21,
          22,
          22,
          28,
          21,
          21,
          23,
          22,
          21,
          25,
          16,
          30,
          25,
          36,
          31,
          32,
          28,
          26,
          37,
          22,
          10,
          22,
          21,
          21,
          32,
          28,
          30,
          34,
          30,
          26,
          22,
          29,
          31,
          28,
          33,
          31,
          26,
          22,
          22,
          10,
          32,
          22,
          21,
          30,
          23,
          26,
          31,
          23,
          27,
          23,
          21,
          22,
          22,
          28,
          32,
          36,
          9,
          34,
          21,
          25,
          21,
          33,
          29,
          24,
          33,
          24,
          21,
          29,
          31,
          9,
          26,
          35,
          16,
          26,
          24,
          23,
          32,
          21,
          27,
          32,
          23,
          27,
          30,
          36,
          14,
          29,
          23,
          25,
          21,
          27,
          37,
          23,
          25,
          22,
          24,
          29,
          21,
          21,
          21
         ],
         "xaxis": "x",
         "y": [
          15427,
          14756,
          13503,
          13872,
          17328,
          16959,
          17181,
          13734,
          16792,
          16064,
          16872,
          13496,
          17584,
          13525,
          16015,
          17068,
          13964,
          15992,
          16659,
          14336,
          13212,
          16555,
          14118,
          17046,
          17861,
          16835,
          13237,
          16184,
          16595,
          16627,
          15402,
          14814,
          13770,
          11103,
          16856,
          17639,
          16752,
          17159,
          16307,
          13826,
          11836,
          14275,
          17924,
          17099,
          14852,
          13194,
          17444,
          17399,
          13973,
          12742,
          13726,
          13320,
          17650,
          16756,
          17665,
          16885,
          17465,
          12169,
          13120,
          13758,
          17048,
          17856,
          17779,
          16124,
          13577,
          17123,
          16880,
          17861,
          14026,
          13142,
          13695,
          13402,
          13247,
          16799,
          17328,
          14732,
          16422,
          17169,
          16598,
          17007,
          16032,
          16328,
          16606,
          14411,
          16437,
          17567,
          11245,
          15202,
          16413,
          13966,
          17426,
          17603,
          15972,
          15379,
          12936,
          16704,
          12965,
          16291,
          15787,
          13225,
          16823,
          17174,
          17875,
          13341,
          13570,
          12031
         ],
         "yaxis": "y"
        },
        {
         "hovertemplate": "JobLevel=Executive<br>TotalWorkingYears=%{x}<br>MonthlyIncome=%{marker.size}<extra></extra>",
         "legendgroup": "Executive",
         "marker": {
          "color": "#C99193",
          "size": [
           19094,
           18947,
           19545,
           18740,
           18844,
           18172,
           19537,
           19926,
           19033,
           18722,
           19999,
           19232,
           19517,
           19068,
           19202,
           19436,
           19045,
           19144,
           18665,
           19272,
           18300,
           19406,
           19197,
           19566,
           18041,
           19502,
           18200,
           19513,
           19141,
           19189,
           19859,
           18430,
           19246,
           19419,
           18303,
           19973,
           19845,
           19237,
           19627,
           19626,
           19943,
           18606,
           19081,
           19740,
           18711,
           18265,
           18213,
           18824,
           18789,
           19847,
           19190,
           18061,
           19187,
           19717,
           19701,
           19586,
           19331,
           19613,
           19049,
           19658,
           19833,
           19038,
           19328,
           19392,
           19665,
           19161,
           19636,
           19431,
           18880
          ],
          "sizemode": "area",
          "sizeref": 49.9975,
          "symbol": "circle"
         },
         "mode": "markers",
         "name": "Executive",
         "showlegend": true,
         "type": "scattergl",
         "x": [
          26,
          22,
          23,
          29,
          30,
          28,
          23,
          21,
          21,
          36,
          34,
          22,
          32,
          33,
          25,
          22,
          37,
          28,
          22,
          21,
          21,
          24,
          21,
          33,
          21,
          31,
          32,
          26,
          23,
          22,
          24,
          24,
          40,
          21,
          21,
          21,
          33,
          29,
          23,
          21,
          28,
          26,
          25,
          25,
          23,
          25,
          26,
          26,
          26,
          31,
          26,
          22,
          23,
          36,
          32,
          36,
          27,
          24,
          23,
          27,
          21,
          34,
          24,
          21,
          29,
          28,
          35,
          21,
          24
         ],
         "xaxis": "x",
         "y": [
          19094,
          18947,
          19545,
          18740,
          18844,
          18172,
          19537,
          19926,
          19033,
          18722,
          19999,
          19232,
          19517,
          19068,
          19202,
          19436,
          19045,
          19144,
          18665,
          19272,
          18300,
          19406,
          19197,
          19566,
          18041,
          19502,
          18200,
          19513,
          19141,
          19189,
          19859,
          18430,
          19246,
          19419,
          18303,
          19973,
          19845,
          19237,
          19627,
          19626,
          19943,
          18606,
          19081,
          19740,
          18711,
          18265,
          18213,
          18824,
          18789,
          19847,
          19190,
          18061,
          19187,
          19717,
          19701,
          19586,
          19331,
          19613,
          19049,
          19658,
          19833,
          19038,
          19328,
          19392,
          19665,
          19161,
          19636,
          19431,
          18880
         ],
         "yaxis": "y"
        }
       ],
       "layout": {
        "autosize": true,
        "font": {
         "color": "#28221D"
        },
        "legend": {
         "itemsizing": "constant",
         "orientation": "h",
         "title": {
          "text": ""
         },
         "tracegroupgap": 0,
         "x": 1,
         "xanchor": "right",
         "y": 1.02,
         "yanchor": "bottom"
        },
        "margin": {
         "b": 80,
         "l": 40,
         "r": 30,
         "t": 120
        },
        "paper_bgcolor": "#F4F2F0",
        "plot_bgcolor": "#F4F2F0",
        "template": {
         "data": {
          "bar": [
           {
            "error_x": {
             "color": "#2a3f5f"
            },
            "error_y": {
             "color": "#2a3f5f"
            },
            "marker": {
             "line": {
              "color": "#E5ECF6",
              "width": 0.5
             },
             "pattern": {
              "fillmode": "overlay",
              "size": 10,
              "solidity": 0.2
             }
            },
            "type": "bar"
           }
          ],
          "barpolar": [
           {
            "marker": {
             "line": {
              "color": "#E5ECF6",
              "width": 0.5
             },
             "pattern": {
              "fillmode": "overlay",
              "size": 10,
              "solidity": 0.2
             }
            },
            "type": "barpolar"
           }
          ],
          "carpet": [
           {
            "aaxis": {
             "endlinecolor": "#2a3f5f",
             "gridcolor": "white",
             "linecolor": "white",
             "minorgridcolor": "white",
             "startlinecolor": "#2a3f5f"
            },
            "baxis": {
             "endlinecolor": "#2a3f5f",
             "gridcolor": "white",
             "linecolor": "white",
             "minorgridcolor": "white",
             "startlinecolor": "#2a3f5f"
            },
            "type": "carpet"
           }
          ],
          "choropleth": [
           {
            "colorbar": {
             "outlinewidth": 0,
             "ticks": ""
            },
            "type": "choropleth"
           }
          ],
          "contour": [
           {
            "colorbar": {
             "outlinewidth": 0,
             "ticks": ""
            },
            "colorscale": [
             [
              0,
              "#0d0887"
             ],
             [
              0.1111111111111111,
              "#46039f"
             ],
             [
              0.2222222222222222,
              "#7201a8"
             ],
             [
              0.3333333333333333,
              "#9c179e"
             ],
             [
              0.4444444444444444,
              "#bd3786"
             ],
             [
              0.5555555555555556,
              "#d8576b"
             ],
             [
              0.6666666666666666,
              "#ed7953"
             ],
             [
              0.7777777777777778,
              "#fb9f3a"
             ],
             [
              0.8888888888888888,
              "#fdca26"
             ],
             [
              1,
              "#f0f921"
             ]
            ],
            "type": "contour"
           }
          ],
          "contourcarpet": [
           {
            "colorbar": {
             "outlinewidth": 0,
             "ticks": ""
            },
            "type": "contourcarpet"
           }
          ],
          "heatmap": [
           {
            "colorbar": {
             "outlinewidth": 0,
             "ticks": ""
            },
            "colorscale": [
             [
              0,
              "#0d0887"
             ],
             [
              0.1111111111111111,
              "#46039f"
             ],
             [
              0.2222222222222222,
              "#7201a8"
             ],
             [
              0.3333333333333333,
              "#9c179e"
             ],
             [
              0.4444444444444444,
              "#bd3786"
             ],
             [
              0.5555555555555556,
              "#d8576b"
             ],
             [
              0.6666666666666666,
              "#ed7953"
             ],
             [
              0.7777777777777778,
              "#fb9f3a"
             ],
             [
              0.8888888888888888,
              "#fdca26"
             ],
             [
              1,
              "#f0f921"
             ]
            ],
            "type": "heatmap"
           }
          ],
          "heatmapgl": [
           {
            "colorbar": {
             "outlinewidth": 0,
             "ticks": ""
            },
            "colorscale": [
             [
              0,
              "#0d0887"
             ],
             [
              0.1111111111111111,
              "#46039f"
             ],
             [
              0.2222222222222222,
              "#7201a8"
             ],
             [
              0.3333333333333333,
              "#9c179e"
             ],
             [
              0.4444444444444444,
              "#bd3786"
             ],
             [
              0.5555555555555556,
              "#d8576b"
             ],
             [
              0.6666666666666666,
              "#ed7953"
             ],
             [
              0.7777777777777778,
              "#fb9f3a"
             ],
             [
              0.8888888888888888,
              "#fdca26"
             ],
             [
              1,
              "#f0f921"
             ]
            ],
            "type": "heatmapgl"
           }
          ],
          "histogram": [
           {
            "marker": {
             "pattern": {
              "fillmode": "overlay",
              "size": 10,
              "solidity": 0.2
             }
            },
            "type": "histogram"
           }
          ],
          "histogram2d": [
           {
            "colorbar": {
             "outlinewidth": 0,
             "ticks": ""
            },
            "colorscale": [
             [
              0,
              "#0d0887"
             ],
             [
              0.1111111111111111,
              "#46039f"
             ],
             [
              0.2222222222222222,
              "#7201a8"
             ],
             [
              0.3333333333333333,
              "#9c179e"
             ],
             [
              0.4444444444444444,
              "#bd3786"
             ],
             [
              0.5555555555555556,
              "#d8576b"
             ],
             [
              0.6666666666666666,
              "#ed7953"
             ],
             [
              0.7777777777777778,
              "#fb9f3a"
             ],
             [
              0.8888888888888888,
              "#fdca26"
             ],
             [
              1,
              "#f0f921"
             ]
            ],
            "type": "histogram2d"
           }
          ],
          "histogram2dcontour": [
           {
            "colorbar": {
             "outlinewidth": 0,
             "ticks": ""
            },
            "colorscale": [
             [
              0,
              "#0d0887"
             ],
             [
              0.1111111111111111,
              "#46039f"
             ],
             [
              0.2222222222222222,
              "#7201a8"
             ],
             [
              0.3333333333333333,
              "#9c179e"
             ],
             [
              0.4444444444444444,
              "#bd3786"
             ],
             [
              0.5555555555555556,
              "#d8576b"
             ],
             [
              0.6666666666666666,
              "#ed7953"
             ],
             [
              0.7777777777777778,
              "#fb9f3a"
             ],
             [
              0.8888888888888888,
              "#fdca26"
             ],
             [
              1,
              "#f0f921"
             ]
            ],
            "type": "histogram2dcontour"
           }
          ],
          "mesh3d": [
           {
            "colorbar": {
             "outlinewidth": 0,
             "ticks": ""
            },
            "type": "mesh3d"
           }
          ],
          "parcoords": [
           {
            "line": {
             "colorbar": {
              "outlinewidth": 0,
              "ticks": ""
             }
            },
            "type": "parcoords"
           }
          ],
          "pie": [
           {
            "automargin": true,
            "type": "pie"
           }
          ],
          "scatter": [
           {
            "fillpattern": {
             "fillmode": "overlay",
             "size": 10,
             "solidity": 0.2
            },
            "type": "scatter"
           }
          ],
          "scatter3d": [
           {
            "line": {
             "colorbar": {
              "outlinewidth": 0,
              "ticks": ""
             }
            },
            "marker": {
             "colorbar": {
              "outlinewidth": 0,
              "ticks": ""
             }
            },
            "type": "scatter3d"
           }
          ],
          "scattercarpet": [
           {
            "marker": {
             "colorbar": {
              "outlinewidth": 0,
              "ticks": ""
             }
            },
            "type": "scattercarpet"
           }
          ],
          "scattergeo": [
           {
            "marker": {
             "colorbar": {
              "outlinewidth": 0,
              "ticks": ""
             }
            },
            "type": "scattergeo"
           }
          ],
          "scattergl": [
           {
            "marker": {
             "colorbar": {
              "outlinewidth": 0,
              "ticks": ""
             }
            },
            "type": "scattergl"
           }
          ],
          "scattermapbox": [
           {
            "marker": {
             "colorbar": {
              "outlinewidth": 0,
              "ticks": ""
             }
            },
            "type": "scattermapbox"
           }
          ],
          "scatterpolar": [
           {
            "marker": {
             "colorbar": {
              "outlinewidth": 0,
              "ticks": ""
             }
            },
            "type": "scatterpolar"
           }
          ],
          "scatterpolargl": [
           {
            "marker": {
             "colorbar": {
              "outlinewidth": 0,
              "ticks": ""
             }
            },
            "type": "scatterpolargl"
           }
          ],
          "scatterternary": [
           {
            "marker": {
             "colorbar": {
              "outlinewidth": 0,
              "ticks": ""
             }
            },
            "type": "scatterternary"
           }
          ],
          "surface": [
           {
            "colorbar": {
             "outlinewidth": 0,
             "ticks": ""
            },
            "colorscale": [
             [
              0,
              "#0d0887"
             ],
             [
              0.1111111111111111,
              "#46039f"
             ],
             [
              0.2222222222222222,
              "#7201a8"
             ],
             [
              0.3333333333333333,
              "#9c179e"
             ],
             [
              0.4444444444444444,
              "#bd3786"
             ],
             [
              0.5555555555555556,
              "#d8576b"
             ],
             [
              0.6666666666666666,
              "#ed7953"
             ],
             [
              0.7777777777777778,
              "#fb9f3a"
             ],
             [
              0.8888888888888888,
              "#fdca26"
             ],
             [
              1,
              "#f0f921"
             ]
            ],
            "type": "surface"
           }
          ],
          "table": [
           {
            "cells": {
             "fill": {
              "color": "#EBF0F8"
             },
             "line": {
              "color": "white"
             }
            },
            "header": {
             "fill": {
              "color": "#C8D4E3"
             },
             "line": {
              "color": "white"
             }
            },
            "type": "table"
           }
          ]
         },
         "layout": {
          "annotationdefaults": {
           "arrowcolor": "#2a3f5f",
           "arrowhead": 0,
           "arrowwidth": 1
          },
          "autotypenumbers": "strict",
          "coloraxis": {
           "colorbar": {
            "outlinewidth": 0,
            "ticks": ""
           }
          },
          "colorscale": {
           "diverging": [
            [
             0,
             "#8e0152"
            ],
            [
             0.1,
             "#c51b7d"
            ],
            [
             0.2,
             "#de77ae"
            ],
            [
             0.3,
             "#f1b6da"
            ],
            [
             0.4,
             "#fde0ef"
            ],
            [
             0.5,
             "#f7f7f7"
            ],
            [
             0.6,
             "#e6f5d0"
            ],
            [
             0.7,
             "#b8e186"
            ],
            [
             0.8,
             "#7fbc41"
            ],
            [
             0.9,
             "#4d9221"
            ],
            [
             1,
             "#276419"
            ]
           ],
           "sequential": [
            [
             0,
             "#0d0887"
            ],
            [
             0.1111111111111111,
             "#46039f"
            ],
            [
             0.2222222222222222,
             "#7201a8"
            ],
            [
             0.3333333333333333,
             "#9c179e"
            ],
            [
             0.4444444444444444,
             "#bd3786"
            ],
            [
             0.5555555555555556,
             "#d8576b"
            ],
            [
             0.6666666666666666,
             "#ed7953"
            ],
            [
             0.7777777777777778,
             "#fb9f3a"
            ],
            [
             0.8888888888888888,
             "#fdca26"
            ],
            [
             1,
             "#f0f921"
            ]
           ],
           "sequentialminus": [
            [
             0,
             "#0d0887"
            ],
            [
             0.1111111111111111,
             "#46039f"
            ],
            [
             0.2222222222222222,
             "#7201a8"
            ],
            [
             0.3333333333333333,
             "#9c179e"
            ],
            [
             0.4444444444444444,
             "#bd3786"
            ],
            [
             0.5555555555555556,
             "#d8576b"
            ],
            [
             0.6666666666666666,
             "#ed7953"
            ],
            [
             0.7777777777777778,
             "#fb9f3a"
            ],
            [
             0.8888888888888888,
             "#fdca26"
            ],
            [
             1,
             "#f0f921"
            ]
           ]
          },
          "colorway": [
           "#636efa",
           "#EF553B",
           "#00cc96",
           "#ab63fa",
           "#FFA15A",
           "#19d3f3",
           "#FF6692",
           "#B6E880",
           "#FF97FF",
           "#FECB52"
          ],
          "font": {
           "color": "#2a3f5f"
          },
          "geo": {
           "bgcolor": "white",
           "lakecolor": "white",
           "landcolor": "#E5ECF6",
           "showlakes": true,
           "showland": true,
           "subunitcolor": "white"
          },
          "hoverlabel": {
           "align": "left"
          },
          "hovermode": "closest",
          "mapbox": {
           "style": "light"
          },
          "paper_bgcolor": "white",
          "plot_bgcolor": "#E5ECF6",
          "polar": {
           "angularaxis": {
            "gridcolor": "white",
            "linecolor": "white",
            "ticks": ""
           },
           "bgcolor": "#E5ECF6",
           "radialaxis": {
            "gridcolor": "white",
            "linecolor": "white",
            "ticks": ""
           }
          },
          "scene": {
           "xaxis": {
            "backgroundcolor": "#E5ECF6",
            "gridcolor": "white",
            "gridwidth": 2,
            "linecolor": "white",
            "showbackground": true,
            "ticks": "",
            "zerolinecolor": "white"
           },
           "yaxis": {
            "backgroundcolor": "#E5ECF6",
            "gridcolor": "white",
            "gridwidth": 2,
            "linecolor": "white",
            "showbackground": true,
            "ticks": "",
            "zerolinecolor": "white"
           },
           "zaxis": {
            "backgroundcolor": "#E5ECF6",
            "gridcolor": "white",
            "gridwidth": 2,
            "linecolor": "white",
            "showbackground": true,
            "ticks": "",
            "zerolinecolor": "white"
           }
          },
          "shapedefaults": {
           "line": {
            "color": "#2a3f5f"
           }
          },
          "ternary": {
           "aaxis": {
            "gridcolor": "white",
            "linecolor": "white",
            "ticks": ""
           },
           "baxis": {
            "gridcolor": "white",
            "linecolor": "white",
            "ticks": ""
           },
           "bgcolor": "#E5ECF6",
           "caxis": {
            "gridcolor": "white",
            "linecolor": "white",
            "ticks": ""
           }
          },
          "title": {
           "x": 0.05
          },
          "xaxis": {
           "automargin": true,
           "gridcolor": "white",
           "linecolor": "white",
           "ticks": "",
           "title": {
            "standoff": 15
           },
           "zerolinecolor": "white",
           "zerolinewidth": 2
          },
          "yaxis": {
           "automargin": true,
           "gridcolor": "white",
           "linecolor": "white",
           "ticks": "",
           "title": {
            "standoff": 15
           },
           "zerolinecolor": "white",
           "zerolinewidth": 2
          }
         }
        },
        "title": {
         "text": "Monthly Income vs Total Working Years by Job Level"
        },
        "xaxis": {
         "anchor": "y",
         "autorange": true,
         "domain": [
          0,
          1
         ],
         "range": [
          -2.6833864913258836,
          43.49903727427473
         ],
         "title": {
          "text": "Total Working Years"
         },
         "type": "linear"
        },
        "yaxis": {
         "anchor": "x",
         "autorange": true,
         "domain": [
          0,
          1
         ],
         "range": [
          -751.0128800192772,
          23626.958371622524
         ],
         "tickprefix": "$",
         "title": {
          "text": "Income"
         },
         "type": "linear"
        }
       }
      },
      "text/html": [
       "<div>                            <div id=\"53ac7c8c-708a-42be-aac5-294f0466374b\" class=\"plotly-graph-div\" style=\"height:525px; width:100%;\"></div>            <script type=\"text/javascript\">                require([\"plotly\"], function(Plotly) {                    window.PLOTLYENV=window.PLOTLYENV || {};                                    if (document.getElementById(\"53ac7c8c-708a-42be-aac5-294f0466374b\")) {                    Plotly.newPlot(                        \"53ac7c8c-708a-42be-aac5-294f0466374b\",                        [{\"hovertemplate\":\"JobLevel=Entry level\\u003cbr\\u003eTotalWorkingYears=%{x}\\u003cbr\\u003eMonthlyIncome=%{marker.size}\\u003cextra\\u003e\\u003c\\u002fextra\\u003e\",\"legendgroup\":\"Entry level\",\"marker\":{\"color\":\"#73AF8E\",\"size\":[2090,2909,3468,3068,2670,2693,2426,2911,2661,2028,3298,2935,3944,3407,1232,2960,3919,2496,2206,2293,2645,2683,2014,3419,1951,2341,2293,3022,2269,3441,4014,2194,3388,2703,2501,3038,2859,2322,2075,2073,2956,2926,2889,2871,2774,2835,2613,4963,2368,1675,2523,4739,2942,4200,3452,2632,3204,2720,2238,1483,3346,2231,2323,2024,2713,2566,2451,3038,3058,2325,2088,4257,2500,1102,2288,3929,2311,3140,3690,2756,2279,2089,3564,3815,2328,2153,2657,2058,2622,2177,2793,2389,3212,2267,2436,2707,3931,3730,2232,2911,3920,2340,2593,2723,3479,2794,3485,3210,2070,3230,2115,3161,2373,3310,2789,2326,1420,3688,1200,4821,2695,2455,2478,3464,2119,3983,2904,2696,2370,2174,2213,2610,2851,3452,2657,2716,2201,3816,2543,2476,3102,2244,2285,3034,2576,2258,2218,4031,2654,3202,2351,1702,2886,2097,2546,2564,2564,4230,2768,3408,2983,2093,3894,3755,2741,1878,2340,2400,2725,2127,2096,2886,2033,3622,2187,2836,2619,2579,3041,3447,2773,2083,2691,2659,2045,1009,3348,1281,2819,2720,4680,3221,3875,2216,3708,2642,2759,2500,2342,2297,3057,2686,3505,4258,4364,3280,2782,4381,2572,3833,1601,2694,2319,2700,2506,4382,2143,2274,2553,3737,2366,1706,3424,2559,3761,4936,2818,2515,2342,2022,2314,3580,3162,2899,2356,2800,2973,2277,2795,2532,2559,2380,2044,2693,3294,2778,2377,2404,2318,2008,2799,2329,2259,4678,2332,2413,4721,2519,2121,2973,3617,2157,2479,2321,2404,3452,2270,2811,2132,2684,3743,1051,2600,2422,2451,3917,2380,2743,2342,4025,2177,2042,2220,1052,2821,2007,2942,2323,1416,2461,3955,3376,4621,2207,3691,2377,2313,2596,2979,2514,2070,2791,3201,3291,2844,2703,1904,4766,2610,2539,4323,2258,3597,2515,4420,2376,2827,3131,2552,4477,3033,2936,2168,2853,2290,3600,2107,3196,2210,2741,2678,2743,2781,3579,2235,2011,1859,3760,3692,2559,2517,2585,2994,1223,1118,2875,2625,2154,3506,3867,2838,3339,2080,2096,2372,3904,3423,2302,2362,3544,3669,2387,2534,1611,2029,2785,2610,2996,2394,3904,2950,3629,3229,3578,1359,2996,1261,2099,3420,4400,3500,2066,3294,2127,3646,2109,3722,2742,3162,2345,3420,3673,1274,2909,2404,3172,2033,2064,3838,2561,1563,3180,2362,2018,4084,2308,4841,2132,2296,2430,2644,2451,2450,2074,2367,2972,2061,4723,2073,4876,2690,2408,2814,3312,2141,3211,4066,3117,1569,3936,3760,3517,2580,2166,2783,2013,2587,2440,2728,3195,3989,3306,2655,1393,2570,3537,2028,2929,2275,4930,4401,2974,1555,2305,3433,3477,3907,2862,3295,4968,2145,2180,3445,2760,2932,2468,2109,2718,2437,2766,2289,3539,2679,3702,2398,2342,3143,2044,3377,2592,2438,2148,2705,3591,1514,2956,2335,2379,3812,2936,2105,2706,3968,2804,2439,4774,2662,2856,1081,2472,2062,2933,2307,2587,3978,2544,1091,2226,2432,4771,2863,2144,3065,2810,2867,2367,2858,2991,1129,2647,2187,3748,3977,2008,3067,2782,2660,3375,2837,2406,2269,3482,2436,2380,1790,4787,2339,2439,2809,2001,2977,3785,2966],\"sizemode\":\"area\",\"sizeref\":49.9975,\"symbol\":\"circle\"},\"mode\":\"markers\",\"name\":\"Entry level\",\"showlegend\":true,\"x\":[7,8,6,8,12,1,6,5,3,6,7,1,6,10,0,8,10,7,10,6,6,3,2,6,1,1,1,8,1,2,4,5,2,6,1,5,6,3,10,7,1,1,2,1,6,7,10,7,5,0,3,18,8,10,9,5,8,6,7,1,9,6,2,6,5,1,13,8,6,1,13,19,4,1,2,7,9,4,5,8,7,7,8,5,4,8,8,7,7,7,13,4,6,7,8,13,6,4,7,2,17,6,10,1,6,5,5,16,5,3,17,19,5,5,2,4,0,4,0,6,3,9,4,5,7,4,4,4,8,3,10,3,1,17,3,1,6,5,6,1,7,2,3,18,8,8,4,6,8,6,3,1,3,9,6,1,12,6,14,8,4,8,4,8,8,0,1,3,6,1,7,6,1,6,6,1,8,8,5,3,3,1,10,3,5,1,10,1,5,10,4,20,4,10,9,1,7,5,5,2,6,10,2,5,5,10,6,6,3,7,1,1,1,10,7,5,8,1,6,4,8,0,6,6,10,6,10,8,6,10,4,7,6,3,8,5,10,7,1,8,8,3,2,1,3,10,6,8,1,1,6,13,13,8,5,1,20,16,1,1,3,3,7,4,3,5,8,4,7,3,5,0,1,4,4,3,8,18,3,10,6,6,1,1,8,5,18,2,1,18,6,10,3,4,7,1,5,1,6,11,2,3,6,8,7,3,0,6,2,4,6,10,6,1,8,2,1,10,1,7,2,6,6,1,6,5,5,6,1,7,2,2,15,12,9,10,1,3,12,7,5,2,1,1,1,8,2,5,4,2,8,10,5,2,2,6,10,3,10,6,7,7,5,0,5,3,4,8,8,5,12,8,7,8,1,10,1,6,17,6,7,5,7,7,11,8,7,2,7,8,6,12,1,5,1,4,1,6,8,8,1,4,11,15,7,12,4,8,2,6,7,5,3,1,10,1,1,10,4,8,1,1,4,6,6,10,7,3,0,8,6,5,6,10,2,15,17,4,2,8,5,7,19,1,7,8,14,10,3,6,5,9,1,3,10,6,6,10,3,10,3,6,6,2,6,9,1,12,6,7,5,10,1,5,1,6,14,5,7,13,7,6,6,3,0,2,4,6,11,10,7,3,8,1,1,8,19,1,1,1,11,1,5,5,4,8,1,6,8,10,1,5,4,5,8,6,20,7,1,5,6,12,7,1,3,12,5,4,6,8,3,16,6,2,1,4,14,4,8,20,4,5,5],\"xaxis\":\"x\",\"y\":[2090,2909,3468,3068,2670,2693,2426,2911,2661,2028,3298,2935,3944,3407,1232,2960,3919,2496,2206,2293,2645,2683,2014,3419,1951,2341,2293,3022,2269,3441,4014,2194,3388,2703,2501,3038,2859,2322,2075,2073,2956,2926,2889,2871,2774,2835,2613,4963,2368,1675,2523,4739,2942,4200,3452,2632,3204,2720,2238,1483,3346,2231,2323,2024,2713,2566,2451,3038,3058,2325,2088,4257,2500,1102,2288,3929,2311,3140,3690,2756,2279,2089,3564,3815,2328,2153,2657,2058,2622,2177,2793,2389,3212,2267,2436,2707,3931,3730,2232,2911,3920,2340,2593,2723,3479,2794,3485,3210,2070,3230,2115,3161,2373,3310,2789,2326,1420,3688,1200,4821,2695,2455,2478,3464,2119,3983,2904,2696,2370,2174,2213,2610,2851,3452,2657,2716,2201,3816,2543,2476,3102,2244,2285,3034,2576,2258,2218,4031,2654,3202,2351,1702,2886,2097,2546,2564,2564,4230,2768,3408,2983,2093,3894,3755,2741,1878,2340,2400,2725,2127,2096,2886,2033,3622,2187,2836,2619,2579,3041,3447,2773,2083,2691,2659,2045,1009,3348,1281,2819,2720,4680,3221,3875,2216,3708,2642,2759,2500,2342,2297,3057,2686,3505,4258,4364,3280,2782,4381,2572,3833,1601,2694,2319,2700,2506,4382,2143,2274,2553,3737,2366,1706,3424,2559,3761,4936,2818,2515,2342,2022,2314,3580,3162,2899,2356,2800,2973,2277,2795,2532,2559,2380,2044,2693,3294,2778,2377,2404,2318,2008,2799,2329,2259,4678,2332,2413,4721,2519,2121,2973,3617,2157,2479,2321,2404,3452,2270,2811,2132,2684,3743,1051,2600,2422,2451,3917,2380,2743,2342,4025,2177,2042,2220,1052,2821,2007,2942,2323,1416,2461,3955,3376,4621,2207,3691,2377,2313,2596,2979,2514,2070,2791,3201,3291,2844,2703,1904,4766,2610,2539,4323,2258,3597,2515,4420,2376,2827,3131,2552,4477,3033,2936,2168,2853,2290,3600,2107,3196,2210,2741,2678,2743,2781,3579,2235,2011,1859,3760,3692,2559,2517,2585,2994,1223,1118,2875,2625,2154,3506,3867,2838,3339,2080,2096,2372,3904,3423,2302,2362,3544,3669,2387,2534,1611,2029,2785,2610,2996,2394,3904,2950,3629,3229,3578,1359,2996,1261,2099,3420,4400,3500,2066,3294,2127,3646,2109,3722,2742,3162,2345,3420,3673,1274,2909,2404,3172,2033,2064,3838,2561,1563,3180,2362,2018,4084,2308,4841,2132,2296,2430,2644,2451,2450,2074,2367,2972,2061,4723,2073,4876,2690,2408,2814,3312,2141,3211,4066,3117,1569,3936,3760,3517,2580,2166,2783,2013,2587,2440,2728,3195,3989,3306,2655,1393,2570,3537,2028,2929,2275,4930,4401,2974,1555,2305,3433,3477,3907,2862,3295,4968,2145,2180,3445,2760,2932,2468,2109,2718,2437,2766,2289,3539,2679,3702,2398,2342,3143,2044,3377,2592,2438,2148,2705,3591,1514,2956,2335,2379,3812,2936,2105,2706,3968,2804,2439,4774,2662,2856,1081,2472,2062,2933,2307,2587,3978,2544,1091,2226,2432,4771,2863,2144,3065,2810,2867,2367,2858,2991,1129,2647,2187,3748,3977,2008,3067,2782,2660,3375,2837,2406,2269,3482,2436,2380,1790,4787,2339,2439,2809,2001,2977,3785,2966],\"yaxis\":\"y\",\"type\":\"scattergl\"},{\"hovertemplate\":\"JobLevel=Mid level\\u003cbr\\u003eTotalWorkingYears=%{x}\\u003cbr\\u003eMonthlyIncome=%{marker.size}\\u003cextra\\u003e\\u003c\\u002fextra\\u003e\",\"legendgroup\":\"Mid level\",\"marker\":{\"color\":\"#4F909B\",\"size\":[5993,5130,5237,4193,4011,6825,6465,2086,5376,4011,4568,5772,5454,4157,5915,5993,6162,2406,6499,5473,6220,4424,4312,5021,5126,5329,4325,4152,5441,5209,5010,4999,4221,2042,4809,5163,5744,6074,4505,6146,6172,6567,4559,4941,5902,8639,6347,4317,4668,5605,2306,2348,4319,6132,8686,3072,5006,4450,9547,5916,4425,5265,6553,6261,4298,6804,2741,6673,4876,9981,6696,5940,5914,4345,4465,3072,3319,5957,6434,6545,6931,4898,5249,2176,6644,5582,4000,6502,5605,6397,4907,4554,5415,4741,5745,4485,5828,5482,5661,6929,5674,5484,5660,6410,4941,5228,4478,7547,5055,5775,5238,4682,5257,6349,4869,3697,7457,6118,6214,6347,8268,6032,2976,4649,5974,4736,5296,6781,6653,6755,5258,9355,6380,6540,5253,4936,5304,4260,5715,4197,3448,6538,4306,4522,4487,4449,6577,4558,4556,6091,4810,4523,5070,3780,4051,6230,4717,6582,4805,4262,6811,4306,4859,5337,5577,4707,9824,6447,6272,4233,3681,5460,9602,4089,5679,5985,7104,6322,8381,4286,5561,6646,7725,8847,4851,4028,8120,4647,4577,4553,5396,6796,7625,4960,5405,5304,6804,6142,6389,6811,2450,5093,5309,5121,6180,6632,6397,6274,4335,5326,5485,4342,5980,4244,6500,3149,5324,5228,6062,6162,5094,6877,4434,6288,5160,4779,5933,4037,6201,4403,5175,6334,4775,4194,4256,6524,5231,5562,4537,5204,4908,4765,6586,4171,6244,4014,6932,4294,5855,6725,6949,4447,4601,5666,5067,5079,5488,3633,4163,4377,4148,5472,4240,5003,4227,4777,6385,6861,4969,6347,9725,4834,4107,8396,4615,9957,3660,4508,7756,6694,4728,4302,5593,6782,7779,4968,4033,4272,5056,8224,5731,5714,5155,6578,4422,5343,5346,6474,4115,4327,8966,4539,3491,4541,7379,6272,5220,4998,6852,4950,6833,6812,5171,6623,4538,4444,4490,2372,5410,4695,6209,4883,4627,6674,4534,6151,4661,4103,4249,6893,6125,4639,5363,5071,6377,5429,4614,6687,4724,6179,6120,5467,9998,4078,6232,4081,5769,4284,9278,4779,5810,5647,4162,9204,3975,5486,8463,6651,4373,4759,5301,4768,4900,5765,4599,8620,4035,4591,4898,4789,6549,6388,2272,4285,9715,4320,5473,5207,4069,5878,6439,6392,9714,6077,4855,4087,5484,9924,4198,6815,6142,8853,5562,3407,5063,4639,5769,4385,5332,4663,4724,5377,5208,4877,3069,4148,5768,5042,5770,5743,5440,5869,5206,5295,5433,4374,6842,4581,4735,4187,5505,5470,5476,5368,5347,3986,9525,7847,4502,6430,6516,5562,6883,4978,6134,6735,5238,6472,8346,6294,5147,4507,5294,5811,3055,4001,6029,5468,4189,4071,5813,7991,5538,5762,5346,4213,4127,6870,8926,6513,6799,4448,6854,5405,4684,5154,6962,5675,4648,6384,9907,3540,3902,5673,4197,4284,4788,5906,3886,6500,5033,5507,4393,6583,8103,5399,5487,6834,5736,5747,9854,5467,5380,5151,2133,5087,5561,5373,6667,5003,5204,4105,9679,5617,2897,5968,4332,4440,4617,6323,5677,4440,5321,5410,5098,4878,4108,4907,5131,6306,6712,5406,8938,5343,6728,6652,4850,5689,4025,9936,2571,6142,5390,4404],\"sizemode\":\"area\",\"sizeref\":49.9975,\"symbol\":\"circle\"},\"mode\":\"markers\",\"name\":\"Mid level\",\"showlegend\":true,\"x\":[8,10,17,10,5,10,9,19,10,12,10,14,9,5,10,7,9,10,6,20,10,11,16,16,10,17,5,11,11,11,12,4,5,17,16,17,6,9,12,8,12,16,4,7,17,6,12,19,9,20,13,20,10,10,12,12,9,5,10,8,10,11,14,9,6,7,15,17,5,7,9,16,16,6,4,17,9,13,9,10,10,5,13,9,10,10,6,7,8,6,20,10,12,5,10,10,8,13,9,10,11,13,12,9,11,13,5,13,10,11,12,9,9,6,20,12,6,10,8,8,7,8,5,4,13,4,8,14,7,15,7,8,8,10,7,18,9,5,8,18,20,6,13,8,5,15,6,10,19,11,19,7,20,19,14,16,15,10,9,8,10,8,5,10,18,6,18,8,6,9,9,13,17,10,10,10,6,6,18,5,6,17,15,13,4,8,12,6,4,20,10,18,10,20,10,10,7,10,12,9,19,16,10,7,6,9,8,6,11,6,9,5,17,8,6,9,6,10,8,14,10,12,10,13,12,8,10,9,18,8,9,9,4,5,5,10,17,12,8,13,4,4,17,4,10,10,9,7,10,8,6,9,5,6,20,12,6,9,9,5,4,8,19,8,4,15,17,19,7,19,16,9,8,8,19,7,10,14,7,8,5,4,15,9,18,5,5,16,10,6,9,6,9,10,16,14,7,14,8,5,15,10,10,20,12,10,12,10,7,5,6,10,13,6,4,15,14,18,18,10,10,10,10,10,9,19,9,10,9,11,10,17,10,8,15,10,5,14,5,10,8,12,8,4,6,20,6,20,15,8,10,11,5,7,11,15,6,20,5,15,4,11,13,7,16,10,4,11,5,10,8,14,5,10,9,5,9,15,8,12,18,8,10,10,7,9,9,10,8,15,10,6,9,10,8,5,10,10,10,7,9,10,16,6,11,15,9,10,10,14,7,8,7,7,11,4,13,13,19,10,6,10,10,7,10,15,6,10,17,10,18,19,17,4,16,10,9,9,6,10,13,8,10,15,11,15,6,13,5,19,10,6,10,15,11,10,7,11,13,12,10,15,14,20,5,10,15,7,4,11,7,9,7,10,10,16,4,10,10,9,10,12,14,8,9,12,10,7,10,16,6,16,6,10,20,14,6,6,9,10,10,7,8,10,9,9,20,9,4,10,15,16,10,9,10,10,18,6,18,13,8,15,14,10,12,8,8,10,10,10,17,6,17,6],\"xaxis\":\"x\",\"y\":[5993,5130,5237,4193,4011,6825,6465,2086,5376,4011,4568,5772,5454,4157,5915,5993,6162,2406,6499,5473,6220,4424,4312,5021,5126,5329,4325,4152,5441,5209,5010,4999,4221,2042,4809,5163,5744,6074,4505,6146,6172,6567,4559,4941,5902,8639,6347,4317,4668,5605,2306,2348,4319,6132,8686,3072,5006,4450,9547,5916,4425,5265,6553,6261,4298,6804,2741,6673,4876,9981,6696,5940,5914,4345,4465,3072,3319,5957,6434,6545,6931,4898,5249,2176,6644,5582,4000,6502,5605,6397,4907,4554,5415,4741,5745,4485,5828,5482,5661,6929,5674,5484,5660,6410,4941,5228,4478,7547,5055,5775,5238,4682,5257,6349,4869,3697,7457,6118,6214,6347,8268,6032,2976,4649,5974,4736,5296,6781,6653,6755,5258,9355,6380,6540,5253,4936,5304,4260,5715,4197,3448,6538,4306,4522,4487,4449,6577,4558,4556,6091,4810,4523,5070,3780,4051,6230,4717,6582,4805,4262,6811,4306,4859,5337,5577,4707,9824,6447,6272,4233,3681,5460,9602,4089,5679,5985,7104,6322,8381,4286,5561,6646,7725,8847,4851,4028,8120,4647,4577,4553,5396,6796,7625,4960,5405,5304,6804,6142,6389,6811,2450,5093,5309,5121,6180,6632,6397,6274,4335,5326,5485,4342,5980,4244,6500,3149,5324,5228,6062,6162,5094,6877,4434,6288,5160,4779,5933,4037,6201,4403,5175,6334,4775,4194,4256,6524,5231,5562,4537,5204,4908,4765,6586,4171,6244,4014,6932,4294,5855,6725,6949,4447,4601,5666,5067,5079,5488,3633,4163,4377,4148,5472,4240,5003,4227,4777,6385,6861,4969,6347,9725,4834,4107,8396,4615,9957,3660,4508,7756,6694,4728,4302,5593,6782,7779,4968,4033,4272,5056,8224,5731,5714,5155,6578,4422,5343,5346,6474,4115,4327,8966,4539,3491,4541,7379,6272,5220,4998,6852,4950,6833,6812,5171,6623,4538,4444,4490,2372,5410,4695,6209,4883,4627,6674,4534,6151,4661,4103,4249,6893,6125,4639,5363,5071,6377,5429,4614,6687,4724,6179,6120,5467,9998,4078,6232,4081,5769,4284,9278,4779,5810,5647,4162,9204,3975,5486,8463,6651,4373,4759,5301,4768,4900,5765,4599,8620,4035,4591,4898,4789,6549,6388,2272,4285,9715,4320,5473,5207,4069,5878,6439,6392,9714,6077,4855,4087,5484,9924,4198,6815,6142,8853,5562,3407,5063,4639,5769,4385,5332,4663,4724,5377,5208,4877,3069,4148,5768,5042,5770,5743,5440,5869,5206,5295,5433,4374,6842,4581,4735,4187,5505,5470,5476,5368,5347,3986,9525,7847,4502,6430,6516,5562,6883,4978,6134,6735,5238,6472,8346,6294,5147,4507,5294,5811,3055,4001,6029,5468,4189,4071,5813,7991,5538,5762,5346,4213,4127,6870,8926,6513,6799,4448,6854,5405,4684,5154,6962,5675,4648,6384,9907,3540,3902,5673,4197,4284,4788,5906,3886,6500,5033,5507,4393,6583,8103,5399,5487,6834,5736,5747,9854,5467,5380,5151,2133,5087,5561,5373,6667,5003,5204,4105,9679,5617,2897,5968,4332,4440,4617,6323,5677,4440,5321,5410,5098,4878,4108,4907,5131,6306,6712,5406,8938,5343,6728,6652,4850,5689,4025,9936,2571,6142,5390,4404],\"yaxis\":\"y\",\"type\":\"scattergl\"},{\"hovertemplate\":\"JobLevel=Senior\\u003cbr\\u003eTotalWorkingYears=%{x}\\u003cbr\\u003eMonthlyIncome=%{marker.size}\\u003cextra\\u003e\\u003c\\u002fextra\\u003e\",\"legendgroup\":\"Senior\",\"marker\":{\"color\":\"#707BAD\",\"size\":[9526,9980,11994,10248,8726,5381,9884,13458,9069,7637,10096,9724,13245,13664,10239,7260,9619,10673,13549,7484,7428,11631,9738,10312,9208,8189,10650,7295,8998,10855,9439,9419,10453,7639,9396,10400,8474,12490,13591,8865,12185,10609,7918,8789,13675,10048,10938,11849,13603,11996,8020,9613,12061,5210,11878,8943,9985,11510,7143,8095,12504,9699,10496,10965,7596,8392,7969,11935,8412,10266,9071,10648,13610,7632,9824,9950,9980,7406,11557,10932,7491,10527,8834,9434,10725,8621,7412,11159,10475,8793,11713,7861,7587,11691,7654,12808,10221,10934,10761,10685,10903,7642,10552,7403,13582,9705,10325,10609,7264,7823,7880,10845,10739,10388,11416,10999,10880,11904,7525,10686,8858,10798,8722,8823,10322,10976,10482,7119,9582,10445,8740,7655,7351,10820,7336,13499,10274,10252,13191,10377,10502,8380,10512,10231,7978,7094,9094,8446,11916,9852,8500,10008,7898,10596,10920,9362,7988,7553,10793,10096,7446,10851,9380,13757,10466,10209,11244,8376,8606,7083,10124,7441,9250,10169,8237,10435,7756,10306,7945,8008,13269,7082,7005,10883,7879,9241,10748,10368,9610,9756,7140,8564,8161,13116,8321,13464,10447,9667,10333,9637,8578,7314,9713,13348,9888,8628,10448,7510,11031,8633,11957,13206,10422,13744,7644,8837,10854,9991],\"sizemode\":\"area\",\"sizeref\":49.9975,\"symbol\":\"circle\"},\"mode\":\"markers\",\"name\":\"Senior\",\"showlegend\":true,\"x\":[10,10,13,24,9,23,10,15,9,28,17,25,17,16,24,37,9,21,16,23,12,14,10,40,16,12,18,10,9,15,12,12,24,10,17,14,12,16,16,23,10,17,11,10,9,17,20,10,15,10,12,19,19,24,12,10,10,12,11,17,15,16,20,26,10,10,28,10,10,22,15,13,15,10,12,11,10,10,10,20,12,28,9,10,16,9,9,10,20,9,10,10,10,14,9,9,17,35,18,17,16,10,24,29,15,11,16,17,10,12,9,13,22,16,9,27,21,14,30,13,15,18,10,20,14,23,24,9,9,18,9,10,10,18,11,20,15,17,20,16,33,10,25,23,10,10,9,10,9,10,10,31,11,14,13,10,10,9,13,28,10,24,10,16,29,16,10,9,11,10,24,10,9,34,11,18,10,15,18,9,19,21,11,19,9,10,25,13,10,9,12,11,10,15,15,9,23,9,28,9,12,14,9,18,14,9,15,10,13,25,14,20,14,16,10,9,20,9],\"xaxis\":\"x\",\"y\":[9526,9980,11994,10248,8726,5381,9884,13458,9069,7637,10096,9724,13245,13664,10239,7260,9619,10673,13549,7484,7428,11631,9738,10312,9208,8189,10650,7295,8998,10855,9439,9419,10453,7639,9396,10400,8474,12490,13591,8865,12185,10609,7918,8789,13675,10048,10938,11849,13603,11996,8020,9613,12061,5210,11878,8943,9985,11510,7143,8095,12504,9699,10496,10965,7596,8392,7969,11935,8412,10266,9071,10648,13610,7632,9824,9950,9980,7406,11557,10932,7491,10527,8834,9434,10725,8621,7412,11159,10475,8793,11713,7861,7587,11691,7654,12808,10221,10934,10761,10685,10903,7642,10552,7403,13582,9705,10325,10609,7264,7823,7880,10845,10739,10388,11416,10999,10880,11904,7525,10686,8858,10798,8722,8823,10322,10976,10482,7119,9582,10445,8740,7655,7351,10820,7336,13499,10274,10252,13191,10377,10502,8380,10512,10231,7978,7094,9094,8446,11916,9852,8500,10008,7898,10596,10920,9362,7988,7553,10793,10096,7446,10851,9380,13757,10466,10209,11244,8376,8606,7083,10124,7441,9250,10169,8237,10435,7756,10306,7945,8008,13269,7082,7005,10883,7879,9241,10748,10368,9610,9756,7140,8564,8161,13116,8321,13464,10447,9667,10333,9637,8578,7314,9713,13348,9888,8628,10448,7510,11031,8633,11957,13206,10422,13744,7644,8837,10854,9991],\"yaxis\":\"y\",\"type\":\"scattergl\"},{\"hovertemplate\":\"JobLevel=Lead\\u003cbr\\u003eTotalWorkingYears=%{x}\\u003cbr\\u003eMonthlyIncome=%{marker.size}\\u003cextra\\u003e\\u003c\\u002fextra\\u003e\",\"legendgroup\":\"Lead\",\"marker\":{\"color\":\"#A89DB7\",\"size\":[15427,14756,13503,13872,17328,16959,17181,13734,16792,16064,16872,13496,17584,13525,16015,17068,13964,15992,16659,14336,13212,16555,14118,17046,17861,16835,13237,16184,16595,16627,15402,14814,13770,11103,16856,17639,16752,17159,16307,13826,11836,14275,17924,17099,14852,13194,17444,17399,13973,12742,13726,13320,17650,16756,17665,16885,17465,12169,13120,13758,17048,17856,17779,16124,13577,17123,16880,17861,14026,13142,13695,13402,13247,16799,17328,14732,16422,17169,16598,17007,16032,16328,16606,14411,16437,17567,11245,15202,16413,13966,17426,17603,15972,15379,12936,16704,12965,16291,15787,13225,16823,17174,17875,13341,13570,12031],\"sizemode\":\"area\",\"sizeref\":49.9975,\"symbol\":\"circle\"},\"mode\":\"markers\",\"name\":\"Lead\",\"showlegend\":true,\"x\":[31,21,22,38,23,25,21,21,22,22,28,21,21,23,22,21,25,16,30,25,36,31,32,28,26,37,22,10,22,21,21,32,28,30,34,30,26,22,29,31,28,33,31,26,22,22,10,32,22,21,30,23,26,31,23,27,23,21,22,22,28,32,36,9,34,21,25,21,33,29,24,33,24,21,29,31,9,26,35,16,26,24,23,32,21,27,32,23,27,30,36,14,29,23,25,21,27,37,23,25,22,24,29,21,21,21],\"xaxis\":\"x\",\"y\":[15427,14756,13503,13872,17328,16959,17181,13734,16792,16064,16872,13496,17584,13525,16015,17068,13964,15992,16659,14336,13212,16555,14118,17046,17861,16835,13237,16184,16595,16627,15402,14814,13770,11103,16856,17639,16752,17159,16307,13826,11836,14275,17924,17099,14852,13194,17444,17399,13973,12742,13726,13320,17650,16756,17665,16885,17465,12169,13120,13758,17048,17856,17779,16124,13577,17123,16880,17861,14026,13142,13695,13402,13247,16799,17328,14732,16422,17169,16598,17007,16032,16328,16606,14411,16437,17567,11245,15202,16413,13966,17426,17603,15972,15379,12936,16704,12965,16291,15787,13225,16823,17174,17875,13341,13570,12031],\"yaxis\":\"y\",\"type\":\"scattergl\"},{\"hovertemplate\":\"JobLevel=Executive\\u003cbr\\u003eTotalWorkingYears=%{x}\\u003cbr\\u003eMonthlyIncome=%{marker.size}\\u003cextra\\u003e\\u003c\\u002fextra\\u003e\",\"legendgroup\":\"Executive\",\"marker\":{\"color\":\"#C99193\",\"size\":[19094,18947,19545,18740,18844,18172,19537,19926,19033,18722,19999,19232,19517,19068,19202,19436,19045,19144,18665,19272,18300,19406,19197,19566,18041,19502,18200,19513,19141,19189,19859,18430,19246,19419,18303,19973,19845,19237,19627,19626,19943,18606,19081,19740,18711,18265,18213,18824,18789,19847,19190,18061,19187,19717,19701,19586,19331,19613,19049,19658,19833,19038,19328,19392,19665,19161,19636,19431,18880],\"sizemode\":\"area\",\"sizeref\":49.9975,\"symbol\":\"circle\"},\"mode\":\"markers\",\"name\":\"Executive\",\"showlegend\":true,\"x\":[26,22,23,29,30,28,23,21,21,36,34,22,32,33,25,22,37,28,22,21,21,24,21,33,21,31,32,26,23,22,24,24,40,21,21,21,33,29,23,21,28,26,25,25,23,25,26,26,26,31,26,22,23,36,32,36,27,24,23,27,21,34,24,21,29,28,35,21,24],\"xaxis\":\"x\",\"y\":[19094,18947,19545,18740,18844,18172,19537,19926,19033,18722,19999,19232,19517,19068,19202,19436,19045,19144,18665,19272,18300,19406,19197,19566,18041,19502,18200,19513,19141,19189,19859,18430,19246,19419,18303,19973,19845,19237,19627,19626,19943,18606,19081,19740,18711,18265,18213,18824,18789,19847,19190,18061,19187,19717,19701,19586,19331,19613,19049,19658,19833,19038,19328,19392,19665,19161,19636,19431,18880],\"yaxis\":\"y\",\"type\":\"scattergl\"}],                        {\"template\":{\"data\":{\"histogram2dcontour\":[{\"type\":\"histogram2dcontour\",\"colorbar\":{\"outlinewidth\":0,\"ticks\":\"\"},\"colorscale\":[[0.0,\"#0d0887\"],[0.1111111111111111,\"#46039f\"],[0.2222222222222222,\"#7201a8\"],[0.3333333333333333,\"#9c179e\"],[0.4444444444444444,\"#bd3786\"],[0.5555555555555556,\"#d8576b\"],[0.6666666666666666,\"#ed7953\"],[0.7777777777777778,\"#fb9f3a\"],[0.8888888888888888,\"#fdca26\"],[1.0,\"#f0f921\"]]}],\"choropleth\":[{\"type\":\"choropleth\",\"colorbar\":{\"outlinewidth\":0,\"ticks\":\"\"}}],\"histogram2d\":[{\"type\":\"histogram2d\",\"colorbar\":{\"outlinewidth\":0,\"ticks\":\"\"},\"colorscale\":[[0.0,\"#0d0887\"],[0.1111111111111111,\"#46039f\"],[0.2222222222222222,\"#7201a8\"],[0.3333333333333333,\"#9c179e\"],[0.4444444444444444,\"#bd3786\"],[0.5555555555555556,\"#d8576b\"],[0.6666666666666666,\"#ed7953\"],[0.7777777777777778,\"#fb9f3a\"],[0.8888888888888888,\"#fdca26\"],[1.0,\"#f0f921\"]]}],\"heatmap\":[{\"type\":\"heatmap\",\"colorbar\":{\"outlinewidth\":0,\"ticks\":\"\"},\"colorscale\":[[0.0,\"#0d0887\"],[0.1111111111111111,\"#46039f\"],[0.2222222222222222,\"#7201a8\"],[0.3333333333333333,\"#9c179e\"],[0.4444444444444444,\"#bd3786\"],[0.5555555555555556,\"#d8576b\"],[0.6666666666666666,\"#ed7953\"],[0.7777777777777778,\"#fb9f3a\"],[0.8888888888888888,\"#fdca26\"],[1.0,\"#f0f921\"]]}],\"heatmapgl\":[{\"type\":\"heatmapgl\",\"colorbar\":{\"outlinewidth\":0,\"ticks\":\"\"},\"colorscale\":[[0.0,\"#0d0887\"],[0.1111111111111111,\"#46039f\"],[0.2222222222222222,\"#7201a8\"],[0.3333333333333333,\"#9c179e\"],[0.4444444444444444,\"#bd3786\"],[0.5555555555555556,\"#d8576b\"],[0.6666666666666666,\"#ed7953\"],[0.7777777777777778,\"#fb9f3a\"],[0.8888888888888888,\"#fdca26\"],[1.0,\"#f0f921\"]]}],\"contourcarpet\":[{\"type\":\"contourcarpet\",\"colorbar\":{\"outlinewidth\":0,\"ticks\":\"\"}}],\"contour\":[{\"type\":\"contour\",\"colorbar\":{\"outlinewidth\":0,\"ticks\":\"\"},\"colorscale\":[[0.0,\"#0d0887\"],[0.1111111111111111,\"#46039f\"],[0.2222222222222222,\"#7201a8\"],[0.3333333333333333,\"#9c179e\"],[0.4444444444444444,\"#bd3786\"],[0.5555555555555556,\"#d8576b\"],[0.6666666666666666,\"#ed7953\"],[0.7777777777777778,\"#fb9f3a\"],[0.8888888888888888,\"#fdca26\"],[1.0,\"#f0f921\"]]}],\"surface\":[{\"type\":\"surface\",\"colorbar\":{\"outlinewidth\":0,\"ticks\":\"\"},\"colorscale\":[[0.0,\"#0d0887\"],[0.1111111111111111,\"#46039f\"],[0.2222222222222222,\"#7201a8\"],[0.3333333333333333,\"#9c179e\"],[0.4444444444444444,\"#bd3786\"],[0.5555555555555556,\"#d8576b\"],[0.6666666666666666,\"#ed7953\"],[0.7777777777777778,\"#fb9f3a\"],[0.8888888888888888,\"#fdca26\"],[1.0,\"#f0f921\"]]}],\"mesh3d\":[{\"type\":\"mesh3d\",\"colorbar\":{\"outlinewidth\":0,\"ticks\":\"\"}}],\"scatter\":[{\"fillpattern\":{\"fillmode\":\"overlay\",\"size\":10,\"solidity\":0.2},\"type\":\"scatter\"}],\"parcoords\":[{\"type\":\"parcoords\",\"line\":{\"colorbar\":{\"outlinewidth\":0,\"ticks\":\"\"}}}],\"scatterpolargl\":[{\"type\":\"scatterpolargl\",\"marker\":{\"colorbar\":{\"outlinewidth\":0,\"ticks\":\"\"}}}],\"bar\":[{\"error_x\":{\"color\":\"#2a3f5f\"},\"error_y\":{\"color\":\"#2a3f5f\"},\"marker\":{\"line\":{\"color\":\"#E5ECF6\",\"width\":0.5},\"pattern\":{\"fillmode\":\"overlay\",\"size\":10,\"solidity\":0.2}},\"type\":\"bar\"}],\"scattergeo\":[{\"type\":\"scattergeo\",\"marker\":{\"colorbar\":{\"outlinewidth\":0,\"ticks\":\"\"}}}],\"scatterpolar\":[{\"type\":\"scatterpolar\",\"marker\":{\"colorbar\":{\"outlinewidth\":0,\"ticks\":\"\"}}}],\"histogram\":[{\"marker\":{\"pattern\":{\"fillmode\":\"overlay\",\"size\":10,\"solidity\":0.2}},\"type\":\"histogram\"}],\"scattergl\":[{\"type\":\"scattergl\",\"marker\":{\"colorbar\":{\"outlinewidth\":0,\"ticks\":\"\"}}}],\"scatter3d\":[{\"type\":\"scatter3d\",\"line\":{\"colorbar\":{\"outlinewidth\":0,\"ticks\":\"\"}},\"marker\":{\"colorbar\":{\"outlinewidth\":0,\"ticks\":\"\"}}}],\"scattermapbox\":[{\"type\":\"scattermapbox\",\"marker\":{\"colorbar\":{\"outlinewidth\":0,\"ticks\":\"\"}}}],\"scatterternary\":[{\"type\":\"scatterternary\",\"marker\":{\"colorbar\":{\"outlinewidth\":0,\"ticks\":\"\"}}}],\"scattercarpet\":[{\"type\":\"scattercarpet\",\"marker\":{\"colorbar\":{\"outlinewidth\":0,\"ticks\":\"\"}}}],\"carpet\":[{\"aaxis\":{\"endlinecolor\":\"#2a3f5f\",\"gridcolor\":\"white\",\"linecolor\":\"white\",\"minorgridcolor\":\"white\",\"startlinecolor\":\"#2a3f5f\"},\"baxis\":{\"endlinecolor\":\"#2a3f5f\",\"gridcolor\":\"white\",\"linecolor\":\"white\",\"minorgridcolor\":\"white\",\"startlinecolor\":\"#2a3f5f\"},\"type\":\"carpet\"}],\"table\":[{\"cells\":{\"fill\":{\"color\":\"#EBF0F8\"},\"line\":{\"color\":\"white\"}},\"header\":{\"fill\":{\"color\":\"#C8D4E3\"},\"line\":{\"color\":\"white\"}},\"type\":\"table\"}],\"barpolar\":[{\"marker\":{\"line\":{\"color\":\"#E5ECF6\",\"width\":0.5},\"pattern\":{\"fillmode\":\"overlay\",\"size\":10,\"solidity\":0.2}},\"type\":\"barpolar\"}],\"pie\":[{\"automargin\":true,\"type\":\"pie\"}]},\"layout\":{\"autotypenumbers\":\"strict\",\"colorway\":[\"#636efa\",\"#EF553B\",\"#00cc96\",\"#ab63fa\",\"#FFA15A\",\"#19d3f3\",\"#FF6692\",\"#B6E880\",\"#FF97FF\",\"#FECB52\"],\"font\":{\"color\":\"#2a3f5f\"},\"hovermode\":\"closest\",\"hoverlabel\":{\"align\":\"left\"},\"paper_bgcolor\":\"white\",\"plot_bgcolor\":\"#E5ECF6\",\"polar\":{\"bgcolor\":\"#E5ECF6\",\"angularaxis\":{\"gridcolor\":\"white\",\"linecolor\":\"white\",\"ticks\":\"\"},\"radialaxis\":{\"gridcolor\":\"white\",\"linecolor\":\"white\",\"ticks\":\"\"}},\"ternary\":{\"bgcolor\":\"#E5ECF6\",\"aaxis\":{\"gridcolor\":\"white\",\"linecolor\":\"white\",\"ticks\":\"\"},\"baxis\":{\"gridcolor\":\"white\",\"linecolor\":\"white\",\"ticks\":\"\"},\"caxis\":{\"gridcolor\":\"white\",\"linecolor\":\"white\",\"ticks\":\"\"}},\"coloraxis\":{\"colorbar\":{\"outlinewidth\":0,\"ticks\":\"\"}},\"colorscale\":{\"sequential\":[[0.0,\"#0d0887\"],[0.1111111111111111,\"#46039f\"],[0.2222222222222222,\"#7201a8\"],[0.3333333333333333,\"#9c179e\"],[0.4444444444444444,\"#bd3786\"],[0.5555555555555556,\"#d8576b\"],[0.6666666666666666,\"#ed7953\"],[0.7777777777777778,\"#fb9f3a\"],[0.8888888888888888,\"#fdca26\"],[1.0,\"#f0f921\"]],\"sequentialminus\":[[0.0,\"#0d0887\"],[0.1111111111111111,\"#46039f\"],[0.2222222222222222,\"#7201a8\"],[0.3333333333333333,\"#9c179e\"],[0.4444444444444444,\"#bd3786\"],[0.5555555555555556,\"#d8576b\"],[0.6666666666666666,\"#ed7953\"],[0.7777777777777778,\"#fb9f3a\"],[0.8888888888888888,\"#fdca26\"],[1.0,\"#f0f921\"]],\"diverging\":[[0,\"#8e0152\"],[0.1,\"#c51b7d\"],[0.2,\"#de77ae\"],[0.3,\"#f1b6da\"],[0.4,\"#fde0ef\"],[0.5,\"#f7f7f7\"],[0.6,\"#e6f5d0\"],[0.7,\"#b8e186\"],[0.8,\"#7fbc41\"],[0.9,\"#4d9221\"],[1,\"#276419\"]]},\"xaxis\":{\"gridcolor\":\"white\",\"linecolor\":\"white\",\"ticks\":\"\",\"title\":{\"standoff\":15},\"zerolinecolor\":\"white\",\"automargin\":true,\"zerolinewidth\":2},\"yaxis\":{\"gridcolor\":\"white\",\"linecolor\":\"white\",\"ticks\":\"\",\"title\":{\"standoff\":15},\"zerolinecolor\":\"white\",\"automargin\":true,\"zerolinewidth\":2},\"scene\":{\"xaxis\":{\"backgroundcolor\":\"#E5ECF6\",\"gridcolor\":\"white\",\"linecolor\":\"white\",\"showbackground\":true,\"ticks\":\"\",\"zerolinecolor\":\"white\",\"gridwidth\":2},\"yaxis\":{\"backgroundcolor\":\"#E5ECF6\",\"gridcolor\":\"white\",\"linecolor\":\"white\",\"showbackground\":true,\"ticks\":\"\",\"zerolinecolor\":\"white\",\"gridwidth\":2},\"zaxis\":{\"backgroundcolor\":\"#E5ECF6\",\"gridcolor\":\"white\",\"linecolor\":\"white\",\"showbackground\":true,\"ticks\":\"\",\"zerolinecolor\":\"white\",\"gridwidth\":2}},\"shapedefaults\":{\"line\":{\"color\":\"#2a3f5f\"}},\"annotationdefaults\":{\"arrowcolor\":\"#2a3f5f\",\"arrowhead\":0,\"arrowwidth\":1},\"geo\":{\"bgcolor\":\"white\",\"landcolor\":\"#E5ECF6\",\"subunitcolor\":\"white\",\"showland\":true,\"showlakes\":true,\"lakecolor\":\"white\"},\"title\":{\"x\":0.05},\"mapbox\":{\"style\":\"light\"}}},\"xaxis\":{\"anchor\":\"y\",\"domain\":[0.0,1.0],\"title\":{\"text\":\"Total Working Years\"}},\"yaxis\":{\"anchor\":\"x\",\"domain\":[0.0,1.0],\"title\":{\"text\":\"Income\"},\"tickprefix\":\"$\"},\"legend\":{\"title\":{\"text\":\"\"},\"tracegroupgap\":0,\"itemsizing\":\"constant\",\"orientation\":\"h\",\"yanchor\":\"bottom\",\"y\":1.02,\"xanchor\":\"right\",\"x\":1},\"margin\":{\"t\":120,\"l\":40,\"r\":30,\"b\":80},\"font\":{\"color\":\"#28221D\"},\"title\":{\"text\":\"Monthly Income vs Total Working Years by Job Level\"},\"paper_bgcolor\":\"#F4F2F0\",\"plot_bgcolor\":\"#F4F2F0\"},                        {\"responsive\": true}                    ).then(function(){\n",
       "                            \n",
       "var gd = document.getElementById('53ac7c8c-708a-42be-aac5-294f0466374b');\n",
       "var x = new MutationObserver(function (mutations, observer) {{\n",
       "        var display = window.getComputedStyle(gd).display;\n",
       "        if (!display || display === 'none') {{\n",
       "            console.log([gd, 'removed!']);\n",
       "            Plotly.purge(gd);\n",
       "            observer.disconnect();\n",
       "        }}\n",
       "}});\n",
       "\n",
       "// Listen for the removal of the full notebook cells\n",
       "var notebookContainer = gd.closest('#notebook-container');\n",
       "if (notebookContainer) {{\n",
       "    x.observe(notebookContainer, {childList: true});\n",
       "}}\n",
       "\n",
       "// Listen for the clearing of the current output cell\n",
       "var outputEl = gd.closest('.output');\n",
       "if (outputEl) {{\n",
       "    x.observe(outputEl, {childList: true});\n",
       "}}\n",
       "\n",
       "                        })                };                });            </script>        </div>"
      ]
     },
     "metadata": {},
     "output_type": "display_data"
    }
   ],
   "source": [
    "import plotly.express as px\n",
    "import pandas as pd\n",
    "\n",
    "# Copy data and rename JobLevel categories\n",
    "plot_df = data.copy()\n",
    "plot_df['JobLevel'] = plot_df['JobLevel'].map({\n",
    "    1: 'Entry level',\n",
    "    2: 'Mid level',\n",
    "    3: 'Senior',\n",
    "    4: 'Lead',\n",
    "    5: 'Executive'\n",
    "})\n",
    "\n",
    "# Custom colors for Job Levels\n",
    "colors = ['#73AF8E', '#4F909B', '#707BAD', '#A89DB7', '#C99193']\n",
    "\n",
    "# Scatter plot\n",
    "fig = px.scatter(\n",
    "    plot_df,\n",
    "    x='TotalWorkingYears',\n",
    "    y='MonthlyIncome',\n",
    "    color='JobLevel',\n",
    "    size='MonthlyIncome',\n",
    "    color_discrete_sequence=colors,\n",
    "    category_orders={'JobLevel': ['Entry level', 'Mid level', 'Senior', 'Lead', 'Executive']}\n",
    ")\n",
    "\n",
    "# Layout\n",
    "fig.update_layout(\n",
    "    title='Monthly Income vs Total Working Years by Job Level',\n",
    "    xaxis_title='Total Working Years',\n",
    "    yaxis_title='Income',\n",
    "    yaxis_tickprefix='$',\n",
    "    legend=dict(orientation=\"h\", yanchor=\"bottom\", y=1.02, xanchor=\"right\", x=1),\n",
    "    legend_title='',\n",
    "    font_color='#28221D',\n",
    "    paper_bgcolor='#F4F2F0',\n",
    "    plot_bgcolor='#F4F2F0',\n",
    "    margin=dict(l=40, r=30, b=80, t=120)\n",
    ")\n",
    "\n",
    "fig.show()\n"
   ]
  },
  {
   "cell_type": "markdown",
   "metadata": {},
   "source": [
    "Based on the scatterplot above, monthly income is positively correlated with total number of years worked and there is strong association between an employee's earnings and their job level."
   ]
  },
  {
   "cell_type": "code",
   "execution_count": 102,
   "metadata": {
    "_kg_hide-input": true
   },
   "outputs": [
    {
     "data": {
      "application/vnd.plotly.v1+json": {
       "config": {
        "plotlyServerURL": "https://plot.ly"
       },
       "data": [
        {
         "colorscale": [
          [
           0,
           "rgb(247,252,240)"
          ],
          [
           0.125,
           "rgb(224,243,219)"
          ],
          [
           0.25,
           "rgb(204,235,197)"
          ],
          [
           0.375,
           "rgb(168,221,181)"
          ],
          [
           0.5,
           "rgb(123,204,196)"
          ],
          [
           0.625,
           "rgb(78,179,211)"
          ],
          [
           0.75,
           "rgb(43,140,190)"
          ],
          [
           0.875,
           "rgb(8,104,172)"
          ],
          [
           1,
           "rgb(8,64,129)"
          ]
         ],
         "hovertemplate": "Correlation between %{x} and %{y} = %{z}",
         "reversescale": false,
         "showscale": false,
         "type": "heatmap",
         "x": [
          "Age",
          "DailyRate",
          "DistanceFromHome",
          "HourlyRate",
          "MonthlyIncome",
          "MonthlyRate",
          "NumCompaniesWorked",
          "PercentSalaryHike",
          "TotalWorkingYears",
          "TrainingTimesLastYear",
          "YearsAtCompany",
          "YearsInCurrentRole",
          "YearsSinceLastPromotion",
          "YearsWithCurrManager"
         ],
         "y": [
          "Age",
          "DailyRate",
          "DistanceFromHome",
          "HourlyRate",
          "MonthlyIncome",
          "MonthlyRate",
          "NumCompaniesWorked",
          "PercentSalaryHike",
          "TotalWorkingYears",
          "TrainingTimesLastYear",
          "YearsAtCompany",
          "YearsInCurrentRole",
          "YearsSinceLastPromotion",
          "YearsWithCurrManager"
         ],
         "z": [
          [
           1,
           0.01,
           0,
           0.02,
           0.5,
           0.03,
           0.3,
           0,
           0.68,
           -0.02,
           0.31,
           0.21,
           0.22,
           0.2
          ],
          [
           0.01,
           1,
           0,
           0.02,
           0.01,
           -0.03,
           0.04,
           0.02,
           0.01,
           0,
           -0.03,
           0.01,
           -0.03,
           -0.03
          ],
          [
           0,
           0,
           1,
           0.03,
           -0.02,
           0.03,
           -0.03,
           0.04,
           0,
           -0.04,
           0.01,
           0.02,
           0.01,
           0.01
          ],
          [
           0.02,
           0.02,
           0.03,
           1,
           -0.02,
           -0.02,
           0.02,
           -0.01,
           0,
           -0.01,
           -0.02,
           -0.02,
           -0.03,
           -0.02
          ],
          [
           0.5,
           0.01,
           -0.02,
           -0.02,
           1,
           0.03,
           0.15,
           -0.03,
           0.77,
           -0.02,
           0.51,
           0.36,
           0.34,
           0.34
          ],
          [
           0.03,
           -0.03,
           0.03,
           -0.02,
           0.03,
           1,
           0.02,
           -0.01,
           0.03,
           0,
           -0.02,
           -0.01,
           0,
           -0.04
          ],
          [
           0.3,
           0.04,
           -0.03,
           0.02,
           0.15,
           0.02,
           1,
           -0.01,
           0.24,
           -0.07,
           -0.12,
           -0.09,
           -0.04,
           -0.11
          ],
          [
           0,
           0.02,
           0.04,
           -0.01,
           -0.03,
           -0.01,
           -0.01,
           1,
           -0.02,
           -0.01,
           -0.04,
           0,
           -0.02,
           -0.01
          ],
          [
           0.68,
           0.01,
           0,
           0,
           0.77,
           0.03,
           0.24,
           -0.02,
           1,
           -0.04,
           0.63,
           0.46,
           0.4,
           0.46
          ],
          [
           -0.02,
           0,
           -0.04,
           -0.01,
           -0.02,
           0,
           -0.07,
           -0.01,
           -0.04,
           1,
           0,
           -0.01,
           0,
           0
          ],
          [
           0.31,
           -0.03,
           0.01,
           -0.02,
           0.51,
           -0.02,
           -0.12,
           -0.04,
           0.63,
           0,
           1,
           0.76,
           0.62,
           0.77
          ],
          [
           0.21,
           0.01,
           0.02,
           -0.02,
           0.36,
           -0.01,
           -0.09,
           0,
           0.46,
           -0.01,
           0.76,
           1,
           0.55,
           0.71
          ],
          [
           0.22,
           -0.03,
           0.01,
           -0.03,
           0.34,
           0,
           -0.04,
           -0.02,
           0.4,
           0,
           0.62,
           0.55,
           1,
           0.51
          ],
          [
           0.2,
           -0.03,
           0.01,
           -0.02,
           0.34,
           -0.04,
           -0.11,
           -0.01,
           0.46,
           0,
           0.77,
           0.71,
           0.51,
           1
          ]
         ]
        }
       ],
       "layout": {
        "annotations": [
         {
          "font": {
           "color": "#FFFFFF"
          },
          "showarrow": false,
          "text": "1.0",
          "x": "Age",
          "xref": "x",
          "y": "Age",
          "yref": "y"
         },
         {
          "font": {
           "color": "#000000"
          },
          "showarrow": false,
          "text": "0.01",
          "x": "DailyRate",
          "xref": "x",
          "y": "Age",
          "yref": "y"
         },
         {
          "font": {
           "color": "#000000"
          },
          "showarrow": false,
          "text": "-0.0",
          "x": "DistanceFromHome",
          "xref": "x",
          "y": "Age",
          "yref": "y"
         },
         {
          "font": {
           "color": "#000000"
          },
          "showarrow": false,
          "text": "0.02",
          "x": "HourlyRate",
          "xref": "x",
          "y": "Age",
          "yref": "y"
         },
         {
          "font": {
           "color": "#FFFFFF"
          },
          "showarrow": false,
          "text": "0.5",
          "x": "MonthlyIncome",
          "xref": "x",
          "y": "Age",
          "yref": "y"
         },
         {
          "font": {
           "color": "#000000"
          },
          "showarrow": false,
          "text": "0.03",
          "x": "MonthlyRate",
          "xref": "x",
          "y": "Age",
          "yref": "y"
         },
         {
          "font": {
           "color": "#000000"
          },
          "showarrow": false,
          "text": "0.3",
          "x": "NumCompaniesWorked",
          "xref": "x",
          "y": "Age",
          "yref": "y"
         },
         {
          "font": {
           "color": "#000000"
          },
          "showarrow": false,
          "text": "0.0",
          "x": "PercentSalaryHike",
          "xref": "x",
          "y": "Age",
          "yref": "y"
         },
         {
          "font": {
           "color": "#FFFFFF"
          },
          "showarrow": false,
          "text": "0.68",
          "x": "TotalWorkingYears",
          "xref": "x",
          "y": "Age",
          "yref": "y"
         },
         {
          "font": {
           "color": "#000000"
          },
          "showarrow": false,
          "text": "-0.02",
          "x": "TrainingTimesLastYear",
          "xref": "x",
          "y": "Age",
          "yref": "y"
         },
         {
          "font": {
           "color": "#000000"
          },
          "showarrow": false,
          "text": "0.31",
          "x": "YearsAtCompany",
          "xref": "x",
          "y": "Age",
          "yref": "y"
         },
         {
          "font": {
           "color": "#000000"
          },
          "showarrow": false,
          "text": "0.21",
          "x": "YearsInCurrentRole",
          "xref": "x",
          "y": "Age",
          "yref": "y"
         },
         {
          "font": {
           "color": "#000000"
          },
          "showarrow": false,
          "text": "0.22",
          "x": "YearsSinceLastPromotion",
          "xref": "x",
          "y": "Age",
          "yref": "y"
         },
         {
          "font": {
           "color": "#000000"
          },
          "showarrow": false,
          "text": "0.2",
          "x": "YearsWithCurrManager",
          "xref": "x",
          "y": "Age",
          "yref": "y"
         },
         {
          "font": {
           "color": "#000000"
          },
          "showarrow": false,
          "text": "0.01",
          "x": "Age",
          "xref": "x",
          "y": "DailyRate",
          "yref": "y"
         },
         {
          "font": {
           "color": "#FFFFFF"
          },
          "showarrow": false,
          "text": "1.0",
          "x": "DailyRate",
          "xref": "x",
          "y": "DailyRate",
          "yref": "y"
         },
         {
          "font": {
           "color": "#000000"
          },
          "showarrow": false,
          "text": "-0.0",
          "x": "DistanceFromHome",
          "xref": "x",
          "y": "DailyRate",
          "yref": "y"
         },
         {
          "font": {
           "color": "#000000"
          },
          "showarrow": false,
          "text": "0.02",
          "x": "HourlyRate",
          "xref": "x",
          "y": "DailyRate",
          "yref": "y"
         },
         {
          "font": {
           "color": "#000000"
          },
          "showarrow": false,
          "text": "0.01",
          "x": "MonthlyIncome",
          "xref": "x",
          "y": "DailyRate",
          "yref": "y"
         },
         {
          "font": {
           "color": "#000000"
          },
          "showarrow": false,
          "text": "-0.03",
          "x": "MonthlyRate",
          "xref": "x",
          "y": "DailyRate",
          "yref": "y"
         },
         {
          "font": {
           "color": "#000000"
          },
          "showarrow": false,
          "text": "0.04",
          "x": "NumCompaniesWorked",
          "xref": "x",
          "y": "DailyRate",
          "yref": "y"
         },
         {
          "font": {
           "color": "#000000"
          },
          "showarrow": false,
          "text": "0.02",
          "x": "PercentSalaryHike",
          "xref": "x",
          "y": "DailyRate",
          "yref": "y"
         },
         {
          "font": {
           "color": "#000000"
          },
          "showarrow": false,
          "text": "0.01",
          "x": "TotalWorkingYears",
          "xref": "x",
          "y": "DailyRate",
          "yref": "y"
         },
         {
          "font": {
           "color": "#000000"
          },
          "showarrow": false,
          "text": "0.0",
          "x": "TrainingTimesLastYear",
          "xref": "x",
          "y": "DailyRate",
          "yref": "y"
         },
         {
          "font": {
           "color": "#000000"
          },
          "showarrow": false,
          "text": "-0.03",
          "x": "YearsAtCompany",
          "xref": "x",
          "y": "DailyRate",
          "yref": "y"
         },
         {
          "font": {
           "color": "#000000"
          },
          "showarrow": false,
          "text": "0.01",
          "x": "YearsInCurrentRole",
          "xref": "x",
          "y": "DailyRate",
          "yref": "y"
         },
         {
          "font": {
           "color": "#000000"
          },
          "showarrow": false,
          "text": "-0.03",
          "x": "YearsSinceLastPromotion",
          "xref": "x",
          "y": "DailyRate",
          "yref": "y"
         },
         {
          "font": {
           "color": "#000000"
          },
          "showarrow": false,
          "text": "-0.03",
          "x": "YearsWithCurrManager",
          "xref": "x",
          "y": "DailyRate",
          "yref": "y"
         },
         {
          "font": {
           "color": "#000000"
          },
          "showarrow": false,
          "text": "-0.0",
          "x": "Age",
          "xref": "x",
          "y": "DistanceFromHome",
          "yref": "y"
         },
         {
          "font": {
           "color": "#000000"
          },
          "showarrow": false,
          "text": "-0.0",
          "x": "DailyRate",
          "xref": "x",
          "y": "DistanceFromHome",
          "yref": "y"
         },
         {
          "font": {
           "color": "#FFFFFF"
          },
          "showarrow": false,
          "text": "1.0",
          "x": "DistanceFromHome",
          "xref": "x",
          "y": "DistanceFromHome",
          "yref": "y"
         },
         {
          "font": {
           "color": "#000000"
          },
          "showarrow": false,
          "text": "0.03",
          "x": "HourlyRate",
          "xref": "x",
          "y": "DistanceFromHome",
          "yref": "y"
         },
         {
          "font": {
           "color": "#000000"
          },
          "showarrow": false,
          "text": "-0.02",
          "x": "MonthlyIncome",
          "xref": "x",
          "y": "DistanceFromHome",
          "yref": "y"
         },
         {
          "font": {
           "color": "#000000"
          },
          "showarrow": false,
          "text": "0.03",
          "x": "MonthlyRate",
          "xref": "x",
          "y": "DistanceFromHome",
          "yref": "y"
         },
         {
          "font": {
           "color": "#000000"
          },
          "showarrow": false,
          "text": "-0.03",
          "x": "NumCompaniesWorked",
          "xref": "x",
          "y": "DistanceFromHome",
          "yref": "y"
         },
         {
          "font": {
           "color": "#000000"
          },
          "showarrow": false,
          "text": "0.04",
          "x": "PercentSalaryHike",
          "xref": "x",
          "y": "DistanceFromHome",
          "yref": "y"
         },
         {
          "font": {
           "color": "#000000"
          },
          "showarrow": false,
          "text": "0.0",
          "x": "TotalWorkingYears",
          "xref": "x",
          "y": "DistanceFromHome",
          "yref": "y"
         },
         {
          "font": {
           "color": "#000000"
          },
          "showarrow": false,
          "text": "-0.04",
          "x": "TrainingTimesLastYear",
          "xref": "x",
          "y": "DistanceFromHome",
          "yref": "y"
         },
         {
          "font": {
           "color": "#000000"
          },
          "showarrow": false,
          "text": "0.01",
          "x": "YearsAtCompany",
          "xref": "x",
          "y": "DistanceFromHome",
          "yref": "y"
         },
         {
          "font": {
           "color": "#000000"
          },
          "showarrow": false,
          "text": "0.02",
          "x": "YearsInCurrentRole",
          "xref": "x",
          "y": "DistanceFromHome",
          "yref": "y"
         },
         {
          "font": {
           "color": "#000000"
          },
          "showarrow": false,
          "text": "0.01",
          "x": "YearsSinceLastPromotion",
          "xref": "x",
          "y": "DistanceFromHome",
          "yref": "y"
         },
         {
          "font": {
           "color": "#000000"
          },
          "showarrow": false,
          "text": "0.01",
          "x": "YearsWithCurrManager",
          "xref": "x",
          "y": "DistanceFromHome",
          "yref": "y"
         },
         {
          "font": {
           "color": "#000000"
          },
          "showarrow": false,
          "text": "0.02",
          "x": "Age",
          "xref": "x",
          "y": "HourlyRate",
          "yref": "y"
         },
         {
          "font": {
           "color": "#000000"
          },
          "showarrow": false,
          "text": "0.02",
          "x": "DailyRate",
          "xref": "x",
          "y": "HourlyRate",
          "yref": "y"
         },
         {
          "font": {
           "color": "#000000"
          },
          "showarrow": false,
          "text": "0.03",
          "x": "DistanceFromHome",
          "xref": "x",
          "y": "HourlyRate",
          "yref": "y"
         },
         {
          "font": {
           "color": "#FFFFFF"
          },
          "showarrow": false,
          "text": "1.0",
          "x": "HourlyRate",
          "xref": "x",
          "y": "HourlyRate",
          "yref": "y"
         },
         {
          "font": {
           "color": "#000000"
          },
          "showarrow": false,
          "text": "-0.02",
          "x": "MonthlyIncome",
          "xref": "x",
          "y": "HourlyRate",
          "yref": "y"
         },
         {
          "font": {
           "color": "#000000"
          },
          "showarrow": false,
          "text": "-0.02",
          "x": "MonthlyRate",
          "xref": "x",
          "y": "HourlyRate",
          "yref": "y"
         },
         {
          "font": {
           "color": "#000000"
          },
          "showarrow": false,
          "text": "0.02",
          "x": "NumCompaniesWorked",
          "xref": "x",
          "y": "HourlyRate",
          "yref": "y"
         },
         {
          "font": {
           "color": "#000000"
          },
          "showarrow": false,
          "text": "-0.01",
          "x": "PercentSalaryHike",
          "xref": "x",
          "y": "HourlyRate",
          "yref": "y"
         },
         {
          "font": {
           "color": "#000000"
          },
          "showarrow": false,
          "text": "-0.0",
          "x": "TotalWorkingYears",
          "xref": "x",
          "y": "HourlyRate",
          "yref": "y"
         },
         {
          "font": {
           "color": "#000000"
          },
          "showarrow": false,
          "text": "-0.01",
          "x": "TrainingTimesLastYear",
          "xref": "x",
          "y": "HourlyRate",
          "yref": "y"
         },
         {
          "font": {
           "color": "#000000"
          },
          "showarrow": false,
          "text": "-0.02",
          "x": "YearsAtCompany",
          "xref": "x",
          "y": "HourlyRate",
          "yref": "y"
         },
         {
          "font": {
           "color": "#000000"
          },
          "showarrow": false,
          "text": "-0.02",
          "x": "YearsInCurrentRole",
          "xref": "x",
          "y": "HourlyRate",
          "yref": "y"
         },
         {
          "font": {
           "color": "#000000"
          },
          "showarrow": false,
          "text": "-0.03",
          "x": "YearsSinceLastPromotion",
          "xref": "x",
          "y": "HourlyRate",
          "yref": "y"
         },
         {
          "font": {
           "color": "#000000"
          },
          "showarrow": false,
          "text": "-0.02",
          "x": "YearsWithCurrManager",
          "xref": "x",
          "y": "HourlyRate",
          "yref": "y"
         },
         {
          "font": {
           "color": "#FFFFFF"
          },
          "showarrow": false,
          "text": "0.5",
          "x": "Age",
          "xref": "x",
          "y": "MonthlyIncome",
          "yref": "y"
         },
         {
          "font": {
           "color": "#000000"
          },
          "showarrow": false,
          "text": "0.01",
          "x": "DailyRate",
          "xref": "x",
          "y": "MonthlyIncome",
          "yref": "y"
         },
         {
          "font": {
           "color": "#000000"
          },
          "showarrow": false,
          "text": "-0.02",
          "x": "DistanceFromHome",
          "xref": "x",
          "y": "MonthlyIncome",
          "yref": "y"
         },
         {
          "font": {
           "color": "#000000"
          },
          "showarrow": false,
          "text": "-0.02",
          "x": "HourlyRate",
          "xref": "x",
          "y": "MonthlyIncome",
          "yref": "y"
         },
         {
          "font": {
           "color": "#FFFFFF"
          },
          "showarrow": false,
          "text": "1.0",
          "x": "MonthlyIncome",
          "xref": "x",
          "y": "MonthlyIncome",
          "yref": "y"
         },
         {
          "font": {
           "color": "#000000"
          },
          "showarrow": false,
          "text": "0.03",
          "x": "MonthlyRate",
          "xref": "x",
          "y": "MonthlyIncome",
          "yref": "y"
         },
         {
          "font": {
           "color": "#000000"
          },
          "showarrow": false,
          "text": "0.15",
          "x": "NumCompaniesWorked",
          "xref": "x",
          "y": "MonthlyIncome",
          "yref": "y"
         },
         {
          "font": {
           "color": "#000000"
          },
          "showarrow": false,
          "text": "-0.03",
          "x": "PercentSalaryHike",
          "xref": "x",
          "y": "MonthlyIncome",
          "yref": "y"
         },
         {
          "font": {
           "color": "#FFFFFF"
          },
          "showarrow": false,
          "text": "0.77",
          "x": "TotalWorkingYears",
          "xref": "x",
          "y": "MonthlyIncome",
          "yref": "y"
         },
         {
          "font": {
           "color": "#000000"
          },
          "showarrow": false,
          "text": "-0.02",
          "x": "TrainingTimesLastYear",
          "xref": "x",
          "y": "MonthlyIncome",
          "yref": "y"
         },
         {
          "font": {
           "color": "#FFFFFF"
          },
          "showarrow": false,
          "text": "0.51",
          "x": "YearsAtCompany",
          "xref": "x",
          "y": "MonthlyIncome",
          "yref": "y"
         },
         {
          "font": {
           "color": "#000000"
          },
          "showarrow": false,
          "text": "0.36",
          "x": "YearsInCurrentRole",
          "xref": "x",
          "y": "MonthlyIncome",
          "yref": "y"
         },
         {
          "font": {
           "color": "#000000"
          },
          "showarrow": false,
          "text": "0.34",
          "x": "YearsSinceLastPromotion",
          "xref": "x",
          "y": "MonthlyIncome",
          "yref": "y"
         },
         {
          "font": {
           "color": "#000000"
          },
          "showarrow": false,
          "text": "0.34",
          "x": "YearsWithCurrManager",
          "xref": "x",
          "y": "MonthlyIncome",
          "yref": "y"
         },
         {
          "font": {
           "color": "#000000"
          },
          "showarrow": false,
          "text": "0.03",
          "x": "Age",
          "xref": "x",
          "y": "MonthlyRate",
          "yref": "y"
         },
         {
          "font": {
           "color": "#000000"
          },
          "showarrow": false,
          "text": "-0.03",
          "x": "DailyRate",
          "xref": "x",
          "y": "MonthlyRate",
          "yref": "y"
         },
         {
          "font": {
           "color": "#000000"
          },
          "showarrow": false,
          "text": "0.03",
          "x": "DistanceFromHome",
          "xref": "x",
          "y": "MonthlyRate",
          "yref": "y"
         },
         {
          "font": {
           "color": "#000000"
          },
          "showarrow": false,
          "text": "-0.02",
          "x": "HourlyRate",
          "xref": "x",
          "y": "MonthlyRate",
          "yref": "y"
         },
         {
          "font": {
           "color": "#000000"
          },
          "showarrow": false,
          "text": "0.03",
          "x": "MonthlyIncome",
          "xref": "x",
          "y": "MonthlyRate",
          "yref": "y"
         },
         {
          "font": {
           "color": "#FFFFFF"
          },
          "showarrow": false,
          "text": "1.0",
          "x": "MonthlyRate",
          "xref": "x",
          "y": "MonthlyRate",
          "yref": "y"
         },
         {
          "font": {
           "color": "#000000"
          },
          "showarrow": false,
          "text": "0.02",
          "x": "NumCompaniesWorked",
          "xref": "x",
          "y": "MonthlyRate",
          "yref": "y"
         },
         {
          "font": {
           "color": "#000000"
          },
          "showarrow": false,
          "text": "-0.01",
          "x": "PercentSalaryHike",
          "xref": "x",
          "y": "MonthlyRate",
          "yref": "y"
         },
         {
          "font": {
           "color": "#000000"
          },
          "showarrow": false,
          "text": "0.03",
          "x": "TotalWorkingYears",
          "xref": "x",
          "y": "MonthlyRate",
          "yref": "y"
         },
         {
          "font": {
           "color": "#000000"
          },
          "showarrow": false,
          "text": "0.0",
          "x": "TrainingTimesLastYear",
          "xref": "x",
          "y": "MonthlyRate",
          "yref": "y"
         },
         {
          "font": {
           "color": "#000000"
          },
          "showarrow": false,
          "text": "-0.02",
          "x": "YearsAtCompany",
          "xref": "x",
          "y": "MonthlyRate",
          "yref": "y"
         },
         {
          "font": {
           "color": "#000000"
          },
          "showarrow": false,
          "text": "-0.01",
          "x": "YearsInCurrentRole",
          "xref": "x",
          "y": "MonthlyRate",
          "yref": "y"
         },
         {
          "font": {
           "color": "#000000"
          },
          "showarrow": false,
          "text": "0.0",
          "x": "YearsSinceLastPromotion",
          "xref": "x",
          "y": "MonthlyRate",
          "yref": "y"
         },
         {
          "font": {
           "color": "#000000"
          },
          "showarrow": false,
          "text": "-0.04",
          "x": "YearsWithCurrManager",
          "xref": "x",
          "y": "MonthlyRate",
          "yref": "y"
         },
         {
          "font": {
           "color": "#000000"
          },
          "showarrow": false,
          "text": "0.3",
          "x": "Age",
          "xref": "x",
          "y": "NumCompaniesWorked",
          "yref": "y"
         },
         {
          "font": {
           "color": "#000000"
          },
          "showarrow": false,
          "text": "0.04",
          "x": "DailyRate",
          "xref": "x",
          "y": "NumCompaniesWorked",
          "yref": "y"
         },
         {
          "font": {
           "color": "#000000"
          },
          "showarrow": false,
          "text": "-0.03",
          "x": "DistanceFromHome",
          "xref": "x",
          "y": "NumCompaniesWorked",
          "yref": "y"
         },
         {
          "font": {
           "color": "#000000"
          },
          "showarrow": false,
          "text": "0.02",
          "x": "HourlyRate",
          "xref": "x",
          "y": "NumCompaniesWorked",
          "yref": "y"
         },
         {
          "font": {
           "color": "#000000"
          },
          "showarrow": false,
          "text": "0.15",
          "x": "MonthlyIncome",
          "xref": "x",
          "y": "NumCompaniesWorked",
          "yref": "y"
         },
         {
          "font": {
           "color": "#000000"
          },
          "showarrow": false,
          "text": "0.02",
          "x": "MonthlyRate",
          "xref": "x",
          "y": "NumCompaniesWorked",
          "yref": "y"
         },
         {
          "font": {
           "color": "#FFFFFF"
          },
          "showarrow": false,
          "text": "1.0",
          "x": "NumCompaniesWorked",
          "xref": "x",
          "y": "NumCompaniesWorked",
          "yref": "y"
         },
         {
          "font": {
           "color": "#000000"
          },
          "showarrow": false,
          "text": "-0.01",
          "x": "PercentSalaryHike",
          "xref": "x",
          "y": "NumCompaniesWorked",
          "yref": "y"
         },
         {
          "font": {
           "color": "#000000"
          },
          "showarrow": false,
          "text": "0.24",
          "x": "TotalWorkingYears",
          "xref": "x",
          "y": "NumCompaniesWorked",
          "yref": "y"
         },
         {
          "font": {
           "color": "#000000"
          },
          "showarrow": false,
          "text": "-0.07",
          "x": "TrainingTimesLastYear",
          "xref": "x",
          "y": "NumCompaniesWorked",
          "yref": "y"
         },
         {
          "font": {
           "color": "#000000"
          },
          "showarrow": false,
          "text": "-0.12",
          "x": "YearsAtCompany",
          "xref": "x",
          "y": "NumCompaniesWorked",
          "yref": "y"
         },
         {
          "font": {
           "color": "#000000"
          },
          "showarrow": false,
          "text": "-0.09",
          "x": "YearsInCurrentRole",
          "xref": "x",
          "y": "NumCompaniesWorked",
          "yref": "y"
         },
         {
          "font": {
           "color": "#000000"
          },
          "showarrow": false,
          "text": "-0.04",
          "x": "YearsSinceLastPromotion",
          "xref": "x",
          "y": "NumCompaniesWorked",
          "yref": "y"
         },
         {
          "font": {
           "color": "#000000"
          },
          "showarrow": false,
          "text": "-0.11",
          "x": "YearsWithCurrManager",
          "xref": "x",
          "y": "NumCompaniesWorked",
          "yref": "y"
         },
         {
          "font": {
           "color": "#000000"
          },
          "showarrow": false,
          "text": "0.0",
          "x": "Age",
          "xref": "x",
          "y": "PercentSalaryHike",
          "yref": "y"
         },
         {
          "font": {
           "color": "#000000"
          },
          "showarrow": false,
          "text": "0.02",
          "x": "DailyRate",
          "xref": "x",
          "y": "PercentSalaryHike",
          "yref": "y"
         },
         {
          "font": {
           "color": "#000000"
          },
          "showarrow": false,
          "text": "0.04",
          "x": "DistanceFromHome",
          "xref": "x",
          "y": "PercentSalaryHike",
          "yref": "y"
         },
         {
          "font": {
           "color": "#000000"
          },
          "showarrow": false,
          "text": "-0.01",
          "x": "HourlyRate",
          "xref": "x",
          "y": "PercentSalaryHike",
          "yref": "y"
         },
         {
          "font": {
           "color": "#000000"
          },
          "showarrow": false,
          "text": "-0.03",
          "x": "MonthlyIncome",
          "xref": "x",
          "y": "PercentSalaryHike",
          "yref": "y"
         },
         {
          "font": {
           "color": "#000000"
          },
          "showarrow": false,
          "text": "-0.01",
          "x": "MonthlyRate",
          "xref": "x",
          "y": "PercentSalaryHike",
          "yref": "y"
         },
         {
          "font": {
           "color": "#000000"
          },
          "showarrow": false,
          "text": "-0.01",
          "x": "NumCompaniesWorked",
          "xref": "x",
          "y": "PercentSalaryHike",
          "yref": "y"
         },
         {
          "font": {
           "color": "#FFFFFF"
          },
          "showarrow": false,
          "text": "1.0",
          "x": "PercentSalaryHike",
          "xref": "x",
          "y": "PercentSalaryHike",
          "yref": "y"
         },
         {
          "font": {
           "color": "#000000"
          },
          "showarrow": false,
          "text": "-0.02",
          "x": "TotalWorkingYears",
          "xref": "x",
          "y": "PercentSalaryHike",
          "yref": "y"
         },
         {
          "font": {
           "color": "#000000"
          },
          "showarrow": false,
          "text": "-0.01",
          "x": "TrainingTimesLastYear",
          "xref": "x",
          "y": "PercentSalaryHike",
          "yref": "y"
         },
         {
          "font": {
           "color": "#000000"
          },
          "showarrow": false,
          "text": "-0.04",
          "x": "YearsAtCompany",
          "xref": "x",
          "y": "PercentSalaryHike",
          "yref": "y"
         },
         {
          "font": {
           "color": "#000000"
          },
          "showarrow": false,
          "text": "-0.0",
          "x": "YearsInCurrentRole",
          "xref": "x",
          "y": "PercentSalaryHike",
          "yref": "y"
         },
         {
          "font": {
           "color": "#000000"
          },
          "showarrow": false,
          "text": "-0.02",
          "x": "YearsSinceLastPromotion",
          "xref": "x",
          "y": "PercentSalaryHike",
          "yref": "y"
         },
         {
          "font": {
           "color": "#000000"
          },
          "showarrow": false,
          "text": "-0.01",
          "x": "YearsWithCurrManager",
          "xref": "x",
          "y": "PercentSalaryHike",
          "yref": "y"
         },
         {
          "font": {
           "color": "#FFFFFF"
          },
          "showarrow": false,
          "text": "0.68",
          "x": "Age",
          "xref": "x",
          "y": "TotalWorkingYears",
          "yref": "y"
         },
         {
          "font": {
           "color": "#000000"
          },
          "showarrow": false,
          "text": "0.01",
          "x": "DailyRate",
          "xref": "x",
          "y": "TotalWorkingYears",
          "yref": "y"
         },
         {
          "font": {
           "color": "#000000"
          },
          "showarrow": false,
          "text": "0.0",
          "x": "DistanceFromHome",
          "xref": "x",
          "y": "TotalWorkingYears",
          "yref": "y"
         },
         {
          "font": {
           "color": "#000000"
          },
          "showarrow": false,
          "text": "-0.0",
          "x": "HourlyRate",
          "xref": "x",
          "y": "TotalWorkingYears",
          "yref": "y"
         },
         {
          "font": {
           "color": "#FFFFFF"
          },
          "showarrow": false,
          "text": "0.77",
          "x": "MonthlyIncome",
          "xref": "x",
          "y": "TotalWorkingYears",
          "yref": "y"
         },
         {
          "font": {
           "color": "#000000"
          },
          "showarrow": false,
          "text": "0.03",
          "x": "MonthlyRate",
          "xref": "x",
          "y": "TotalWorkingYears",
          "yref": "y"
         },
         {
          "font": {
           "color": "#000000"
          },
          "showarrow": false,
          "text": "0.24",
          "x": "NumCompaniesWorked",
          "xref": "x",
          "y": "TotalWorkingYears",
          "yref": "y"
         },
         {
          "font": {
           "color": "#000000"
          },
          "showarrow": false,
          "text": "-0.02",
          "x": "PercentSalaryHike",
          "xref": "x",
          "y": "TotalWorkingYears",
          "yref": "y"
         },
         {
          "font": {
           "color": "#FFFFFF"
          },
          "showarrow": false,
          "text": "1.0",
          "x": "TotalWorkingYears",
          "xref": "x",
          "y": "TotalWorkingYears",
          "yref": "y"
         },
         {
          "font": {
           "color": "#000000"
          },
          "showarrow": false,
          "text": "-0.04",
          "x": "TrainingTimesLastYear",
          "xref": "x",
          "y": "TotalWorkingYears",
          "yref": "y"
         },
         {
          "font": {
           "color": "#FFFFFF"
          },
          "showarrow": false,
          "text": "0.63",
          "x": "YearsAtCompany",
          "xref": "x",
          "y": "TotalWorkingYears",
          "yref": "y"
         },
         {
          "font": {
           "color": "#FFFFFF"
          },
          "showarrow": false,
          "text": "0.46",
          "x": "YearsInCurrentRole",
          "xref": "x",
          "y": "TotalWorkingYears",
          "yref": "y"
         },
         {
          "font": {
           "color": "#000000"
          },
          "showarrow": false,
          "text": "0.4",
          "x": "YearsSinceLastPromotion",
          "xref": "x",
          "y": "TotalWorkingYears",
          "yref": "y"
         },
         {
          "font": {
           "color": "#FFFFFF"
          },
          "showarrow": false,
          "text": "0.46",
          "x": "YearsWithCurrManager",
          "xref": "x",
          "y": "TotalWorkingYears",
          "yref": "y"
         },
         {
          "font": {
           "color": "#000000"
          },
          "showarrow": false,
          "text": "-0.02",
          "x": "Age",
          "xref": "x",
          "y": "TrainingTimesLastYear",
          "yref": "y"
         },
         {
          "font": {
           "color": "#000000"
          },
          "showarrow": false,
          "text": "0.0",
          "x": "DailyRate",
          "xref": "x",
          "y": "TrainingTimesLastYear",
          "yref": "y"
         },
         {
          "font": {
           "color": "#000000"
          },
          "showarrow": false,
          "text": "-0.04",
          "x": "DistanceFromHome",
          "xref": "x",
          "y": "TrainingTimesLastYear",
          "yref": "y"
         },
         {
          "font": {
           "color": "#000000"
          },
          "showarrow": false,
          "text": "-0.01",
          "x": "HourlyRate",
          "xref": "x",
          "y": "TrainingTimesLastYear",
          "yref": "y"
         },
         {
          "font": {
           "color": "#000000"
          },
          "showarrow": false,
          "text": "-0.02",
          "x": "MonthlyIncome",
          "xref": "x",
          "y": "TrainingTimesLastYear",
          "yref": "y"
         },
         {
          "font": {
           "color": "#000000"
          },
          "showarrow": false,
          "text": "0.0",
          "x": "MonthlyRate",
          "xref": "x",
          "y": "TrainingTimesLastYear",
          "yref": "y"
         },
         {
          "font": {
           "color": "#000000"
          },
          "showarrow": false,
          "text": "-0.07",
          "x": "NumCompaniesWorked",
          "xref": "x",
          "y": "TrainingTimesLastYear",
          "yref": "y"
         },
         {
          "font": {
           "color": "#000000"
          },
          "showarrow": false,
          "text": "-0.01",
          "x": "PercentSalaryHike",
          "xref": "x",
          "y": "TrainingTimesLastYear",
          "yref": "y"
         },
         {
          "font": {
           "color": "#000000"
          },
          "showarrow": false,
          "text": "-0.04",
          "x": "TotalWorkingYears",
          "xref": "x",
          "y": "TrainingTimesLastYear",
          "yref": "y"
         },
         {
          "font": {
           "color": "#FFFFFF"
          },
          "showarrow": false,
          "text": "1.0",
          "x": "TrainingTimesLastYear",
          "xref": "x",
          "y": "TrainingTimesLastYear",
          "yref": "y"
         },
         {
          "font": {
           "color": "#000000"
          },
          "showarrow": false,
          "text": "0.0",
          "x": "YearsAtCompany",
          "xref": "x",
          "y": "TrainingTimesLastYear",
          "yref": "y"
         },
         {
          "font": {
           "color": "#000000"
          },
          "showarrow": false,
          "text": "-0.01",
          "x": "YearsInCurrentRole",
          "xref": "x",
          "y": "TrainingTimesLastYear",
          "yref": "y"
         },
         {
          "font": {
           "color": "#000000"
          },
          "showarrow": false,
          "text": "-0.0",
          "x": "YearsSinceLastPromotion",
          "xref": "x",
          "y": "TrainingTimesLastYear",
          "yref": "y"
         },
         {
          "font": {
           "color": "#000000"
          },
          "showarrow": false,
          "text": "-0.0",
          "x": "YearsWithCurrManager",
          "xref": "x",
          "y": "TrainingTimesLastYear",
          "yref": "y"
         },
         {
          "font": {
           "color": "#000000"
          },
          "showarrow": false,
          "text": "0.31",
          "x": "Age",
          "xref": "x",
          "y": "YearsAtCompany",
          "yref": "y"
         },
         {
          "font": {
           "color": "#000000"
          },
          "showarrow": false,
          "text": "-0.03",
          "x": "DailyRate",
          "xref": "x",
          "y": "YearsAtCompany",
          "yref": "y"
         },
         {
          "font": {
           "color": "#000000"
          },
          "showarrow": false,
          "text": "0.01",
          "x": "DistanceFromHome",
          "xref": "x",
          "y": "YearsAtCompany",
          "yref": "y"
         },
         {
          "font": {
           "color": "#000000"
          },
          "showarrow": false,
          "text": "-0.02",
          "x": "HourlyRate",
          "xref": "x",
          "y": "YearsAtCompany",
          "yref": "y"
         },
         {
          "font": {
           "color": "#FFFFFF"
          },
          "showarrow": false,
          "text": "0.51",
          "x": "MonthlyIncome",
          "xref": "x",
          "y": "YearsAtCompany",
          "yref": "y"
         },
         {
          "font": {
           "color": "#000000"
          },
          "showarrow": false,
          "text": "-0.02",
          "x": "MonthlyRate",
          "xref": "x",
          "y": "YearsAtCompany",
          "yref": "y"
         },
         {
          "font": {
           "color": "#000000"
          },
          "showarrow": false,
          "text": "-0.12",
          "x": "NumCompaniesWorked",
          "xref": "x",
          "y": "YearsAtCompany",
          "yref": "y"
         },
         {
          "font": {
           "color": "#000000"
          },
          "showarrow": false,
          "text": "-0.04",
          "x": "PercentSalaryHike",
          "xref": "x",
          "y": "YearsAtCompany",
          "yref": "y"
         },
         {
          "font": {
           "color": "#FFFFFF"
          },
          "showarrow": false,
          "text": "0.63",
          "x": "TotalWorkingYears",
          "xref": "x",
          "y": "YearsAtCompany",
          "yref": "y"
         },
         {
          "font": {
           "color": "#000000"
          },
          "showarrow": false,
          "text": "0.0",
          "x": "TrainingTimesLastYear",
          "xref": "x",
          "y": "YearsAtCompany",
          "yref": "y"
         },
         {
          "font": {
           "color": "#FFFFFF"
          },
          "showarrow": false,
          "text": "1.0",
          "x": "YearsAtCompany",
          "xref": "x",
          "y": "YearsAtCompany",
          "yref": "y"
         },
         {
          "font": {
           "color": "#FFFFFF"
          },
          "showarrow": false,
          "text": "0.76",
          "x": "YearsInCurrentRole",
          "xref": "x",
          "y": "YearsAtCompany",
          "yref": "y"
         },
         {
          "font": {
           "color": "#FFFFFF"
          },
          "showarrow": false,
          "text": "0.62",
          "x": "YearsSinceLastPromotion",
          "xref": "x",
          "y": "YearsAtCompany",
          "yref": "y"
         },
         {
          "font": {
           "color": "#FFFFFF"
          },
          "showarrow": false,
          "text": "0.77",
          "x": "YearsWithCurrManager",
          "xref": "x",
          "y": "YearsAtCompany",
          "yref": "y"
         },
         {
          "font": {
           "color": "#000000"
          },
          "showarrow": false,
          "text": "0.21",
          "x": "Age",
          "xref": "x",
          "y": "YearsInCurrentRole",
          "yref": "y"
         },
         {
          "font": {
           "color": "#000000"
          },
          "showarrow": false,
          "text": "0.01",
          "x": "DailyRate",
          "xref": "x",
          "y": "YearsInCurrentRole",
          "yref": "y"
         },
         {
          "font": {
           "color": "#000000"
          },
          "showarrow": false,
          "text": "0.02",
          "x": "DistanceFromHome",
          "xref": "x",
          "y": "YearsInCurrentRole",
          "yref": "y"
         },
         {
          "font": {
           "color": "#000000"
          },
          "showarrow": false,
          "text": "-0.02",
          "x": "HourlyRate",
          "xref": "x",
          "y": "YearsInCurrentRole",
          "yref": "y"
         },
         {
          "font": {
           "color": "#000000"
          },
          "showarrow": false,
          "text": "0.36",
          "x": "MonthlyIncome",
          "xref": "x",
          "y": "YearsInCurrentRole",
          "yref": "y"
         },
         {
          "font": {
           "color": "#000000"
          },
          "showarrow": false,
          "text": "-0.01",
          "x": "MonthlyRate",
          "xref": "x",
          "y": "YearsInCurrentRole",
          "yref": "y"
         },
         {
          "font": {
           "color": "#000000"
          },
          "showarrow": false,
          "text": "-0.09",
          "x": "NumCompaniesWorked",
          "xref": "x",
          "y": "YearsInCurrentRole",
          "yref": "y"
         },
         {
          "font": {
           "color": "#000000"
          },
          "showarrow": false,
          "text": "-0.0",
          "x": "PercentSalaryHike",
          "xref": "x",
          "y": "YearsInCurrentRole",
          "yref": "y"
         },
         {
          "font": {
           "color": "#FFFFFF"
          },
          "showarrow": false,
          "text": "0.46",
          "x": "TotalWorkingYears",
          "xref": "x",
          "y": "YearsInCurrentRole",
          "yref": "y"
         },
         {
          "font": {
           "color": "#000000"
          },
          "showarrow": false,
          "text": "-0.01",
          "x": "TrainingTimesLastYear",
          "xref": "x",
          "y": "YearsInCurrentRole",
          "yref": "y"
         },
         {
          "font": {
           "color": "#FFFFFF"
          },
          "showarrow": false,
          "text": "0.76",
          "x": "YearsAtCompany",
          "xref": "x",
          "y": "YearsInCurrentRole",
          "yref": "y"
         },
         {
          "font": {
           "color": "#FFFFFF"
          },
          "showarrow": false,
          "text": "1.0",
          "x": "YearsInCurrentRole",
          "xref": "x",
          "y": "YearsInCurrentRole",
          "yref": "y"
         },
         {
          "font": {
           "color": "#FFFFFF"
          },
          "showarrow": false,
          "text": "0.55",
          "x": "YearsSinceLastPromotion",
          "xref": "x",
          "y": "YearsInCurrentRole",
          "yref": "y"
         },
         {
          "font": {
           "color": "#FFFFFF"
          },
          "showarrow": false,
          "text": "0.71",
          "x": "YearsWithCurrManager",
          "xref": "x",
          "y": "YearsInCurrentRole",
          "yref": "y"
         },
         {
          "font": {
           "color": "#000000"
          },
          "showarrow": false,
          "text": "0.22",
          "x": "Age",
          "xref": "x",
          "y": "YearsSinceLastPromotion",
          "yref": "y"
         },
         {
          "font": {
           "color": "#000000"
          },
          "showarrow": false,
          "text": "-0.03",
          "x": "DailyRate",
          "xref": "x",
          "y": "YearsSinceLastPromotion",
          "yref": "y"
         },
         {
          "font": {
           "color": "#000000"
          },
          "showarrow": false,
          "text": "0.01",
          "x": "DistanceFromHome",
          "xref": "x",
          "y": "YearsSinceLastPromotion",
          "yref": "y"
         },
         {
          "font": {
           "color": "#000000"
          },
          "showarrow": false,
          "text": "-0.03",
          "x": "HourlyRate",
          "xref": "x",
          "y": "YearsSinceLastPromotion",
          "yref": "y"
         },
         {
          "font": {
           "color": "#000000"
          },
          "showarrow": false,
          "text": "0.34",
          "x": "MonthlyIncome",
          "xref": "x",
          "y": "YearsSinceLastPromotion",
          "yref": "y"
         },
         {
          "font": {
           "color": "#000000"
          },
          "showarrow": false,
          "text": "0.0",
          "x": "MonthlyRate",
          "xref": "x",
          "y": "YearsSinceLastPromotion",
          "yref": "y"
         },
         {
          "font": {
           "color": "#000000"
          },
          "showarrow": false,
          "text": "-0.04",
          "x": "NumCompaniesWorked",
          "xref": "x",
          "y": "YearsSinceLastPromotion",
          "yref": "y"
         },
         {
          "font": {
           "color": "#000000"
          },
          "showarrow": false,
          "text": "-0.02",
          "x": "PercentSalaryHike",
          "xref": "x",
          "y": "YearsSinceLastPromotion",
          "yref": "y"
         },
         {
          "font": {
           "color": "#000000"
          },
          "showarrow": false,
          "text": "0.4",
          "x": "TotalWorkingYears",
          "xref": "x",
          "y": "YearsSinceLastPromotion",
          "yref": "y"
         },
         {
          "font": {
           "color": "#000000"
          },
          "showarrow": false,
          "text": "-0.0",
          "x": "TrainingTimesLastYear",
          "xref": "x",
          "y": "YearsSinceLastPromotion",
          "yref": "y"
         },
         {
          "font": {
           "color": "#FFFFFF"
          },
          "showarrow": false,
          "text": "0.62",
          "x": "YearsAtCompany",
          "xref": "x",
          "y": "YearsSinceLastPromotion",
          "yref": "y"
         },
         {
          "font": {
           "color": "#FFFFFF"
          },
          "showarrow": false,
          "text": "0.55",
          "x": "YearsInCurrentRole",
          "xref": "x",
          "y": "YearsSinceLastPromotion",
          "yref": "y"
         },
         {
          "font": {
           "color": "#FFFFFF"
          },
          "showarrow": false,
          "text": "1.0",
          "x": "YearsSinceLastPromotion",
          "xref": "x",
          "y": "YearsSinceLastPromotion",
          "yref": "y"
         },
         {
          "font": {
           "color": "#FFFFFF"
          },
          "showarrow": false,
          "text": "0.51",
          "x": "YearsWithCurrManager",
          "xref": "x",
          "y": "YearsSinceLastPromotion",
          "yref": "y"
         },
         {
          "font": {
           "color": "#000000"
          },
          "showarrow": false,
          "text": "0.2",
          "x": "Age",
          "xref": "x",
          "y": "YearsWithCurrManager",
          "yref": "y"
         },
         {
          "font": {
           "color": "#000000"
          },
          "showarrow": false,
          "text": "-0.03",
          "x": "DailyRate",
          "xref": "x",
          "y": "YearsWithCurrManager",
          "yref": "y"
         },
         {
          "font": {
           "color": "#000000"
          },
          "showarrow": false,
          "text": "0.01",
          "x": "DistanceFromHome",
          "xref": "x",
          "y": "YearsWithCurrManager",
          "yref": "y"
         },
         {
          "font": {
           "color": "#000000"
          },
          "showarrow": false,
          "text": "-0.02",
          "x": "HourlyRate",
          "xref": "x",
          "y": "YearsWithCurrManager",
          "yref": "y"
         },
         {
          "font": {
           "color": "#000000"
          },
          "showarrow": false,
          "text": "0.34",
          "x": "MonthlyIncome",
          "xref": "x",
          "y": "YearsWithCurrManager",
          "yref": "y"
         },
         {
          "font": {
           "color": "#000000"
          },
          "showarrow": false,
          "text": "-0.04",
          "x": "MonthlyRate",
          "xref": "x",
          "y": "YearsWithCurrManager",
          "yref": "y"
         },
         {
          "font": {
           "color": "#000000"
          },
          "showarrow": false,
          "text": "-0.11",
          "x": "NumCompaniesWorked",
          "xref": "x",
          "y": "YearsWithCurrManager",
          "yref": "y"
         },
         {
          "font": {
           "color": "#000000"
          },
          "showarrow": false,
          "text": "-0.01",
          "x": "PercentSalaryHike",
          "xref": "x",
          "y": "YearsWithCurrManager",
          "yref": "y"
         },
         {
          "font": {
           "color": "#FFFFFF"
          },
          "showarrow": false,
          "text": "0.46",
          "x": "TotalWorkingYears",
          "xref": "x",
          "y": "YearsWithCurrManager",
          "yref": "y"
         },
         {
          "font": {
           "color": "#000000"
          },
          "showarrow": false,
          "text": "-0.0",
          "x": "TrainingTimesLastYear",
          "xref": "x",
          "y": "YearsWithCurrManager",
          "yref": "y"
         },
         {
          "font": {
           "color": "#FFFFFF"
          },
          "showarrow": false,
          "text": "0.77",
          "x": "YearsAtCompany",
          "xref": "x",
          "y": "YearsWithCurrManager",
          "yref": "y"
         },
         {
          "font": {
           "color": "#FFFFFF"
          },
          "showarrow": false,
          "text": "0.71",
          "x": "YearsInCurrentRole",
          "xref": "x",
          "y": "YearsWithCurrManager",
          "yref": "y"
         },
         {
          "font": {
           "color": "#FFFFFF"
          },
          "showarrow": false,
          "text": "0.51",
          "x": "YearsSinceLastPromotion",
          "xref": "x",
          "y": "YearsWithCurrManager",
          "yref": "y"
         },
         {
          "font": {
           "color": "#FFFFFF"
          },
          "showarrow": false,
          "text": "1.0",
          "x": "YearsWithCurrManager",
          "xref": "x",
          "y": "YearsWithCurrManager",
          "yref": "y"
         }
        ],
        "autosize": true,
        "font": {
         "color": "#28221D"
        },
        "margin": {
         "t": 180
        },
        "template": {
         "data": {
          "bar": [
           {
            "error_x": {
             "color": "#2a3f5f"
            },
            "error_y": {
             "color": "#2a3f5f"
            },
            "marker": {
             "line": {
              "color": "#E5ECF6",
              "width": 0.5
             },
             "pattern": {
              "fillmode": "overlay",
              "size": 10,
              "solidity": 0.2
             }
            },
            "type": "bar"
           }
          ],
          "barpolar": [
           {
            "marker": {
             "line": {
              "color": "#E5ECF6",
              "width": 0.5
             },
             "pattern": {
              "fillmode": "overlay",
              "size": 10,
              "solidity": 0.2
             }
            },
            "type": "barpolar"
           }
          ],
          "carpet": [
           {
            "aaxis": {
             "endlinecolor": "#2a3f5f",
             "gridcolor": "white",
             "linecolor": "white",
             "minorgridcolor": "white",
             "startlinecolor": "#2a3f5f"
            },
            "baxis": {
             "endlinecolor": "#2a3f5f",
             "gridcolor": "white",
             "linecolor": "white",
             "minorgridcolor": "white",
             "startlinecolor": "#2a3f5f"
            },
            "type": "carpet"
           }
          ],
          "choropleth": [
           {
            "colorbar": {
             "outlinewidth": 0,
             "ticks": ""
            },
            "type": "choropleth"
           }
          ],
          "contour": [
           {
            "colorbar": {
             "outlinewidth": 0,
             "ticks": ""
            },
            "colorscale": [
             [
              0,
              "#0d0887"
             ],
             [
              0.1111111111111111,
              "#46039f"
             ],
             [
              0.2222222222222222,
              "#7201a8"
             ],
             [
              0.3333333333333333,
              "#9c179e"
             ],
             [
              0.4444444444444444,
              "#bd3786"
             ],
             [
              0.5555555555555556,
              "#d8576b"
             ],
             [
              0.6666666666666666,
              "#ed7953"
             ],
             [
              0.7777777777777778,
              "#fb9f3a"
             ],
             [
              0.8888888888888888,
              "#fdca26"
             ],
             [
              1,
              "#f0f921"
             ]
            ],
            "type": "contour"
           }
          ],
          "contourcarpet": [
           {
            "colorbar": {
             "outlinewidth": 0,
             "ticks": ""
            },
            "type": "contourcarpet"
           }
          ],
          "heatmap": [
           {
            "colorbar": {
             "outlinewidth": 0,
             "ticks": ""
            },
            "colorscale": [
             [
              0,
              "#0d0887"
             ],
             [
              0.1111111111111111,
              "#46039f"
             ],
             [
              0.2222222222222222,
              "#7201a8"
             ],
             [
              0.3333333333333333,
              "#9c179e"
             ],
             [
              0.4444444444444444,
              "#bd3786"
             ],
             [
              0.5555555555555556,
              "#d8576b"
             ],
             [
              0.6666666666666666,
              "#ed7953"
             ],
             [
              0.7777777777777778,
              "#fb9f3a"
             ],
             [
              0.8888888888888888,
              "#fdca26"
             ],
             [
              1,
              "#f0f921"
             ]
            ],
            "type": "heatmap"
           }
          ],
          "heatmapgl": [
           {
            "colorbar": {
             "outlinewidth": 0,
             "ticks": ""
            },
            "colorscale": [
             [
              0,
              "#0d0887"
             ],
             [
              0.1111111111111111,
              "#46039f"
             ],
             [
              0.2222222222222222,
              "#7201a8"
             ],
             [
              0.3333333333333333,
              "#9c179e"
             ],
             [
              0.4444444444444444,
              "#bd3786"
             ],
             [
              0.5555555555555556,
              "#d8576b"
             ],
             [
              0.6666666666666666,
              "#ed7953"
             ],
             [
              0.7777777777777778,
              "#fb9f3a"
             ],
             [
              0.8888888888888888,
              "#fdca26"
             ],
             [
              1,
              "#f0f921"
             ]
            ],
            "type": "heatmapgl"
           }
          ],
          "histogram": [
           {
            "marker": {
             "pattern": {
              "fillmode": "overlay",
              "size": 10,
              "solidity": 0.2
             }
            },
            "type": "histogram"
           }
          ],
          "histogram2d": [
           {
            "colorbar": {
             "outlinewidth": 0,
             "ticks": ""
            },
            "colorscale": [
             [
              0,
              "#0d0887"
             ],
             [
              0.1111111111111111,
              "#46039f"
             ],
             [
              0.2222222222222222,
              "#7201a8"
             ],
             [
              0.3333333333333333,
              "#9c179e"
             ],
             [
              0.4444444444444444,
              "#bd3786"
             ],
             [
              0.5555555555555556,
              "#d8576b"
             ],
             [
              0.6666666666666666,
              "#ed7953"
             ],
             [
              0.7777777777777778,
              "#fb9f3a"
             ],
             [
              0.8888888888888888,
              "#fdca26"
             ],
             [
              1,
              "#f0f921"
             ]
            ],
            "type": "histogram2d"
           }
          ],
          "histogram2dcontour": [
           {
            "colorbar": {
             "outlinewidth": 0,
             "ticks": ""
            },
            "colorscale": [
             [
              0,
              "#0d0887"
             ],
             [
              0.1111111111111111,
              "#46039f"
             ],
             [
              0.2222222222222222,
              "#7201a8"
             ],
             [
              0.3333333333333333,
              "#9c179e"
             ],
             [
              0.4444444444444444,
              "#bd3786"
             ],
             [
              0.5555555555555556,
              "#d8576b"
             ],
             [
              0.6666666666666666,
              "#ed7953"
             ],
             [
              0.7777777777777778,
              "#fb9f3a"
             ],
             [
              0.8888888888888888,
              "#fdca26"
             ],
             [
              1,
              "#f0f921"
             ]
            ],
            "type": "histogram2dcontour"
           }
          ],
          "mesh3d": [
           {
            "colorbar": {
             "outlinewidth": 0,
             "ticks": ""
            },
            "type": "mesh3d"
           }
          ],
          "parcoords": [
           {
            "line": {
             "colorbar": {
              "outlinewidth": 0,
              "ticks": ""
             }
            },
            "type": "parcoords"
           }
          ],
          "pie": [
           {
            "automargin": true,
            "type": "pie"
           }
          ],
          "scatter": [
           {
            "fillpattern": {
             "fillmode": "overlay",
             "size": 10,
             "solidity": 0.2
            },
            "type": "scatter"
           }
          ],
          "scatter3d": [
           {
            "line": {
             "colorbar": {
              "outlinewidth": 0,
              "ticks": ""
             }
            },
            "marker": {
             "colorbar": {
              "outlinewidth": 0,
              "ticks": ""
             }
            },
            "type": "scatter3d"
           }
          ],
          "scattercarpet": [
           {
            "marker": {
             "colorbar": {
              "outlinewidth": 0,
              "ticks": ""
             }
            },
            "type": "scattercarpet"
           }
          ],
          "scattergeo": [
           {
            "marker": {
             "colorbar": {
              "outlinewidth": 0,
              "ticks": ""
             }
            },
            "type": "scattergeo"
           }
          ],
          "scattergl": [
           {
            "marker": {
             "colorbar": {
              "outlinewidth": 0,
              "ticks": ""
             }
            },
            "type": "scattergl"
           }
          ],
          "scattermapbox": [
           {
            "marker": {
             "colorbar": {
              "outlinewidth": 0,
              "ticks": ""
             }
            },
            "type": "scattermapbox"
           }
          ],
          "scatterpolar": [
           {
            "marker": {
             "colorbar": {
              "outlinewidth": 0,
              "ticks": ""
             }
            },
            "type": "scatterpolar"
           }
          ],
          "scatterpolargl": [
           {
            "marker": {
             "colorbar": {
              "outlinewidth": 0,
              "ticks": ""
             }
            },
            "type": "scatterpolargl"
           }
          ],
          "scatterternary": [
           {
            "marker": {
             "colorbar": {
              "outlinewidth": 0,
              "ticks": ""
             }
            },
            "type": "scatterternary"
           }
          ],
          "surface": [
           {
            "colorbar": {
             "outlinewidth": 0,
             "ticks": ""
            },
            "colorscale": [
             [
              0,
              "#0d0887"
             ],
             [
              0.1111111111111111,
              "#46039f"
             ],
             [
              0.2222222222222222,
              "#7201a8"
             ],
             [
              0.3333333333333333,
              "#9c179e"
             ],
             [
              0.4444444444444444,
              "#bd3786"
             ],
             [
              0.5555555555555556,
              "#d8576b"
             ],
             [
              0.6666666666666666,
              "#ed7953"
             ],
             [
              0.7777777777777778,
              "#fb9f3a"
             ],
             [
              0.8888888888888888,
              "#fdca26"
             ],
             [
              1,
              "#f0f921"
             ]
            ],
            "type": "surface"
           }
          ],
          "table": [
           {
            "cells": {
             "fill": {
              "color": "#EBF0F8"
             },
             "line": {
              "color": "white"
             }
            },
            "header": {
             "fill": {
              "color": "#C8D4E3"
             },
             "line": {
              "color": "white"
             }
            },
            "type": "table"
           }
          ]
         },
         "layout": {
          "annotationdefaults": {
           "arrowcolor": "#2a3f5f",
           "arrowhead": 0,
           "arrowwidth": 1
          },
          "autotypenumbers": "strict",
          "coloraxis": {
           "colorbar": {
            "outlinewidth": 0,
            "ticks": ""
           }
          },
          "colorscale": {
           "diverging": [
            [
             0,
             "#8e0152"
            ],
            [
             0.1,
             "#c51b7d"
            ],
            [
             0.2,
             "#de77ae"
            ],
            [
             0.3,
             "#f1b6da"
            ],
            [
             0.4,
             "#fde0ef"
            ],
            [
             0.5,
             "#f7f7f7"
            ],
            [
             0.6,
             "#e6f5d0"
            ],
            [
             0.7,
             "#b8e186"
            ],
            [
             0.8,
             "#7fbc41"
            ],
            [
             0.9,
             "#4d9221"
            ],
            [
             1,
             "#276419"
            ]
           ],
           "sequential": [
            [
             0,
             "#0d0887"
            ],
            [
             0.1111111111111111,
             "#46039f"
            ],
            [
             0.2222222222222222,
             "#7201a8"
            ],
            [
             0.3333333333333333,
             "#9c179e"
            ],
            [
             0.4444444444444444,
             "#bd3786"
            ],
            [
             0.5555555555555556,
             "#d8576b"
            ],
            [
             0.6666666666666666,
             "#ed7953"
            ],
            [
             0.7777777777777778,
             "#fb9f3a"
            ],
            [
             0.8888888888888888,
             "#fdca26"
            ],
            [
             1,
             "#f0f921"
            ]
           ],
           "sequentialminus": [
            [
             0,
             "#0d0887"
            ],
            [
             0.1111111111111111,
             "#46039f"
            ],
            [
             0.2222222222222222,
             "#7201a8"
            ],
            [
             0.3333333333333333,
             "#9c179e"
            ],
            [
             0.4444444444444444,
             "#bd3786"
            ],
            [
             0.5555555555555556,
             "#d8576b"
            ],
            [
             0.6666666666666666,
             "#ed7953"
            ],
            [
             0.7777777777777778,
             "#fb9f3a"
            ],
            [
             0.8888888888888888,
             "#fdca26"
            ],
            [
             1,
             "#f0f921"
            ]
           ]
          },
          "colorway": [
           "#636efa",
           "#EF553B",
           "#00cc96",
           "#ab63fa",
           "#FFA15A",
           "#19d3f3",
           "#FF6692",
           "#B6E880",
           "#FF97FF",
           "#FECB52"
          ],
          "font": {
           "color": "#2a3f5f"
          },
          "geo": {
           "bgcolor": "white",
           "lakecolor": "white",
           "landcolor": "#E5ECF6",
           "showlakes": true,
           "showland": true,
           "subunitcolor": "white"
          },
          "hoverlabel": {
           "align": "left"
          },
          "hovermode": "closest",
          "mapbox": {
           "style": "light"
          },
          "paper_bgcolor": "white",
          "plot_bgcolor": "#E5ECF6",
          "polar": {
           "angularaxis": {
            "gridcolor": "white",
            "linecolor": "white",
            "ticks": ""
           },
           "bgcolor": "#E5ECF6",
           "radialaxis": {
            "gridcolor": "white",
            "linecolor": "white",
            "ticks": ""
           }
          },
          "scene": {
           "xaxis": {
            "backgroundcolor": "#E5ECF6",
            "gridcolor": "white",
            "gridwidth": 2,
            "linecolor": "white",
            "showbackground": true,
            "ticks": "",
            "zerolinecolor": "white"
           },
           "yaxis": {
            "backgroundcolor": "#E5ECF6",
            "gridcolor": "white",
            "gridwidth": 2,
            "linecolor": "white",
            "showbackground": true,
            "ticks": "",
            "zerolinecolor": "white"
           },
           "zaxis": {
            "backgroundcolor": "#E5ECF6",
            "gridcolor": "white",
            "gridwidth": 2,
            "linecolor": "white",
            "showbackground": true,
            "ticks": "",
            "zerolinecolor": "white"
           }
          },
          "shapedefaults": {
           "line": {
            "color": "#2a3f5f"
           }
          },
          "ternary": {
           "aaxis": {
            "gridcolor": "white",
            "linecolor": "white",
            "ticks": ""
           },
           "baxis": {
            "gridcolor": "white",
            "linecolor": "white",
            "ticks": ""
           },
           "bgcolor": "#E5ECF6",
           "caxis": {
            "gridcolor": "white",
            "linecolor": "white",
            "ticks": ""
           }
          },
          "title": {
           "x": 0.05
          },
          "xaxis": {
           "automargin": true,
           "gridcolor": "white",
           "linecolor": "white",
           "ticks": "",
           "title": {
            "standoff": 15
           },
           "zerolinecolor": "white",
           "zerolinewidth": 2
          },
          "yaxis": {
           "automargin": true,
           "gridcolor": "white",
           "linecolor": "white",
           "ticks": "",
           "title": {
            "standoff": 15
           },
           "zerolinecolor": "white",
           "zerolinewidth": 2
          }
         }
        },
        "title": {
         "text": "Correlation Matrix of Employee Attrition"
        },
        "xaxis": {
         "autorange": true,
         "dtick": 1,
         "gridcolor": "rgb(0, 0, 0)",
         "range": [
          -0.5865853658536585,
          13.586585365853658
         ],
         "side": "top",
         "ticks": "",
         "type": "category"
        },
        "yaxis": {
         "autorange": true,
         "dtick": 1,
         "range": [
          13.5,
          -0.5
         ],
         "ticks": "",
         "ticksuffix": "  ",
         "type": "category"
        }
       }
      },
      "text/html": [
       "<div>                            <div id=\"b81c9b95-0150-4368-a01e-2efa2d17140d\" class=\"plotly-graph-div\" style=\"height:600px; width:100%;\"></div>            <script type=\"text/javascript\">                require([\"plotly\"], function(Plotly) {                    window.PLOTLYENV=window.PLOTLYENV || {};                                    if (document.getElementById(\"b81c9b95-0150-4368-a01e-2efa2d17140d\")) {                    Plotly.newPlot(                        \"b81c9b95-0150-4368-a01e-2efa2d17140d\",                        [{\"colorscale\":[[0.0,\"rgb(247,252,240)\"],[0.125,\"rgb(224,243,219)\"],[0.25,\"rgb(204,235,197)\"],[0.375,\"rgb(168,221,181)\"],[0.5,\"rgb(123,204,196)\"],[0.625,\"rgb(78,179,211)\"],[0.75,\"rgb(43,140,190)\"],[0.875,\"rgb(8,104,172)\"],[1.0,\"rgb(8,64,129)\"]],\"hovertemplate\":\"Correlation between %{x} and %{y} = %{z}\",\"reversescale\":false,\"showscale\":false,\"x\":[\"Age\",\"DailyRate\",\"DistanceFromHome\",\"HourlyRate\",\"MonthlyIncome\",\"MonthlyRate\",\"NumCompaniesWorked\",\"PercentSalaryHike\",\"TotalWorkingYears\",\"TrainingTimesLastYear\",\"YearsAtCompany\",\"YearsInCurrentRole\",\"YearsSinceLastPromotion\",\"YearsWithCurrManager\"],\"y\":[\"Age\",\"DailyRate\",\"DistanceFromHome\",\"HourlyRate\",\"MonthlyIncome\",\"MonthlyRate\",\"NumCompaniesWorked\",\"PercentSalaryHike\",\"TotalWorkingYears\",\"TrainingTimesLastYear\",\"YearsAtCompany\",\"YearsInCurrentRole\",\"YearsSinceLastPromotion\",\"YearsWithCurrManager\"],\"z\":[[1.0,0.01,-0.0,0.02,0.5,0.03,0.3,0.0,0.68,-0.02,0.31,0.21,0.22,0.2],[0.01,1.0,-0.0,0.02,0.01,-0.03,0.04,0.02,0.01,0.0,-0.03,0.01,-0.03,-0.03],[-0.0,-0.0,1.0,0.03,-0.02,0.03,-0.03,0.04,0.0,-0.04,0.01,0.02,0.01,0.01],[0.02,0.02,0.03,1.0,-0.02,-0.02,0.02,-0.01,-0.0,-0.01,-0.02,-0.02,-0.03,-0.02],[0.5,0.01,-0.02,-0.02,1.0,0.03,0.15,-0.03,0.77,-0.02,0.51,0.36,0.34,0.34],[0.03,-0.03,0.03,-0.02,0.03,1.0,0.02,-0.01,0.03,0.0,-0.02,-0.01,0.0,-0.04],[0.3,0.04,-0.03,0.02,0.15,0.02,1.0,-0.01,0.24,-0.07,-0.12,-0.09,-0.04,-0.11],[0.0,0.02,0.04,-0.01,-0.03,-0.01,-0.01,1.0,-0.02,-0.01,-0.04,-0.0,-0.02,-0.01],[0.68,0.01,0.0,-0.0,0.77,0.03,0.24,-0.02,1.0,-0.04,0.63,0.46,0.4,0.46],[-0.02,0.0,-0.04,-0.01,-0.02,0.0,-0.07,-0.01,-0.04,1.0,0.0,-0.01,-0.0,-0.0],[0.31,-0.03,0.01,-0.02,0.51,-0.02,-0.12,-0.04,0.63,0.0,1.0,0.76,0.62,0.77],[0.21,0.01,0.02,-0.02,0.36,-0.01,-0.09,-0.0,0.46,-0.01,0.76,1.0,0.55,0.71],[0.22,-0.03,0.01,-0.03,0.34,0.0,-0.04,-0.02,0.4,-0.0,0.62,0.55,1.0,0.51],[0.2,-0.03,0.01,-0.02,0.34,-0.04,-0.11,-0.01,0.46,-0.0,0.77,0.71,0.51,1.0]],\"type\":\"heatmap\"}],                        {\"annotations\":[{\"font\":{\"color\":\"#FFFFFF\"},\"showarrow\":false,\"text\":\"1.0\",\"x\":\"Age\",\"xref\":\"x\",\"y\":\"Age\",\"yref\":\"y\"},{\"font\":{\"color\":\"#000000\"},\"showarrow\":false,\"text\":\"0.01\",\"x\":\"DailyRate\",\"xref\":\"x\",\"y\":\"Age\",\"yref\":\"y\"},{\"font\":{\"color\":\"#000000\"},\"showarrow\":false,\"text\":\"-0.0\",\"x\":\"DistanceFromHome\",\"xref\":\"x\",\"y\":\"Age\",\"yref\":\"y\"},{\"font\":{\"color\":\"#000000\"},\"showarrow\":false,\"text\":\"0.02\",\"x\":\"HourlyRate\",\"xref\":\"x\",\"y\":\"Age\",\"yref\":\"y\"},{\"font\":{\"color\":\"#FFFFFF\"},\"showarrow\":false,\"text\":\"0.5\",\"x\":\"MonthlyIncome\",\"xref\":\"x\",\"y\":\"Age\",\"yref\":\"y\"},{\"font\":{\"color\":\"#000000\"},\"showarrow\":false,\"text\":\"0.03\",\"x\":\"MonthlyRate\",\"xref\":\"x\",\"y\":\"Age\",\"yref\":\"y\"},{\"font\":{\"color\":\"#000000\"},\"showarrow\":false,\"text\":\"0.3\",\"x\":\"NumCompaniesWorked\",\"xref\":\"x\",\"y\":\"Age\",\"yref\":\"y\"},{\"font\":{\"color\":\"#000000\"},\"showarrow\":false,\"text\":\"0.0\",\"x\":\"PercentSalaryHike\",\"xref\":\"x\",\"y\":\"Age\",\"yref\":\"y\"},{\"font\":{\"color\":\"#FFFFFF\"},\"showarrow\":false,\"text\":\"0.68\",\"x\":\"TotalWorkingYears\",\"xref\":\"x\",\"y\":\"Age\",\"yref\":\"y\"},{\"font\":{\"color\":\"#000000\"},\"showarrow\":false,\"text\":\"-0.02\",\"x\":\"TrainingTimesLastYear\",\"xref\":\"x\",\"y\":\"Age\",\"yref\":\"y\"},{\"font\":{\"color\":\"#000000\"},\"showarrow\":false,\"text\":\"0.31\",\"x\":\"YearsAtCompany\",\"xref\":\"x\",\"y\":\"Age\",\"yref\":\"y\"},{\"font\":{\"color\":\"#000000\"},\"showarrow\":false,\"text\":\"0.21\",\"x\":\"YearsInCurrentRole\",\"xref\":\"x\",\"y\":\"Age\",\"yref\":\"y\"},{\"font\":{\"color\":\"#000000\"},\"showarrow\":false,\"text\":\"0.22\",\"x\":\"YearsSinceLastPromotion\",\"xref\":\"x\",\"y\":\"Age\",\"yref\":\"y\"},{\"font\":{\"color\":\"#000000\"},\"showarrow\":false,\"text\":\"0.2\",\"x\":\"YearsWithCurrManager\",\"xref\":\"x\",\"y\":\"Age\",\"yref\":\"y\"},{\"font\":{\"color\":\"#000000\"},\"showarrow\":false,\"text\":\"0.01\",\"x\":\"Age\",\"xref\":\"x\",\"y\":\"DailyRate\",\"yref\":\"y\"},{\"font\":{\"color\":\"#FFFFFF\"},\"showarrow\":false,\"text\":\"1.0\",\"x\":\"DailyRate\",\"xref\":\"x\",\"y\":\"DailyRate\",\"yref\":\"y\"},{\"font\":{\"color\":\"#000000\"},\"showarrow\":false,\"text\":\"-0.0\",\"x\":\"DistanceFromHome\",\"xref\":\"x\",\"y\":\"DailyRate\",\"yref\":\"y\"},{\"font\":{\"color\":\"#000000\"},\"showarrow\":false,\"text\":\"0.02\",\"x\":\"HourlyRate\",\"xref\":\"x\",\"y\":\"DailyRate\",\"yref\":\"y\"},{\"font\":{\"color\":\"#000000\"},\"showarrow\":false,\"text\":\"0.01\",\"x\":\"MonthlyIncome\",\"xref\":\"x\",\"y\":\"DailyRate\",\"yref\":\"y\"},{\"font\":{\"color\":\"#000000\"},\"showarrow\":false,\"text\":\"-0.03\",\"x\":\"MonthlyRate\",\"xref\":\"x\",\"y\":\"DailyRate\",\"yref\":\"y\"},{\"font\":{\"color\":\"#000000\"},\"showarrow\":false,\"text\":\"0.04\",\"x\":\"NumCompaniesWorked\",\"xref\":\"x\",\"y\":\"DailyRate\",\"yref\":\"y\"},{\"font\":{\"color\":\"#000000\"},\"showarrow\":false,\"text\":\"0.02\",\"x\":\"PercentSalaryHike\",\"xref\":\"x\",\"y\":\"DailyRate\",\"yref\":\"y\"},{\"font\":{\"color\":\"#000000\"},\"showarrow\":false,\"text\":\"0.01\",\"x\":\"TotalWorkingYears\",\"xref\":\"x\",\"y\":\"DailyRate\",\"yref\":\"y\"},{\"font\":{\"color\":\"#000000\"},\"showarrow\":false,\"text\":\"0.0\",\"x\":\"TrainingTimesLastYear\",\"xref\":\"x\",\"y\":\"DailyRate\",\"yref\":\"y\"},{\"font\":{\"color\":\"#000000\"},\"showarrow\":false,\"text\":\"-0.03\",\"x\":\"YearsAtCompany\",\"xref\":\"x\",\"y\":\"DailyRate\",\"yref\":\"y\"},{\"font\":{\"color\":\"#000000\"},\"showarrow\":false,\"text\":\"0.01\",\"x\":\"YearsInCurrentRole\",\"xref\":\"x\",\"y\":\"DailyRate\",\"yref\":\"y\"},{\"font\":{\"color\":\"#000000\"},\"showarrow\":false,\"text\":\"-0.03\",\"x\":\"YearsSinceLastPromotion\",\"xref\":\"x\",\"y\":\"DailyRate\",\"yref\":\"y\"},{\"font\":{\"color\":\"#000000\"},\"showarrow\":false,\"text\":\"-0.03\",\"x\":\"YearsWithCurrManager\",\"xref\":\"x\",\"y\":\"DailyRate\",\"yref\":\"y\"},{\"font\":{\"color\":\"#000000\"},\"showarrow\":false,\"text\":\"-0.0\",\"x\":\"Age\",\"xref\":\"x\",\"y\":\"DistanceFromHome\",\"yref\":\"y\"},{\"font\":{\"color\":\"#000000\"},\"showarrow\":false,\"text\":\"-0.0\",\"x\":\"DailyRate\",\"xref\":\"x\",\"y\":\"DistanceFromHome\",\"yref\":\"y\"},{\"font\":{\"color\":\"#FFFFFF\"},\"showarrow\":false,\"text\":\"1.0\",\"x\":\"DistanceFromHome\",\"xref\":\"x\",\"y\":\"DistanceFromHome\",\"yref\":\"y\"},{\"font\":{\"color\":\"#000000\"},\"showarrow\":false,\"text\":\"0.03\",\"x\":\"HourlyRate\",\"xref\":\"x\",\"y\":\"DistanceFromHome\",\"yref\":\"y\"},{\"font\":{\"color\":\"#000000\"},\"showarrow\":false,\"text\":\"-0.02\",\"x\":\"MonthlyIncome\",\"xref\":\"x\",\"y\":\"DistanceFromHome\",\"yref\":\"y\"},{\"font\":{\"color\":\"#000000\"},\"showarrow\":false,\"text\":\"0.03\",\"x\":\"MonthlyRate\",\"xref\":\"x\",\"y\":\"DistanceFromHome\",\"yref\":\"y\"},{\"font\":{\"color\":\"#000000\"},\"showarrow\":false,\"text\":\"-0.03\",\"x\":\"NumCompaniesWorked\",\"xref\":\"x\",\"y\":\"DistanceFromHome\",\"yref\":\"y\"},{\"font\":{\"color\":\"#000000\"},\"showarrow\":false,\"text\":\"0.04\",\"x\":\"PercentSalaryHike\",\"xref\":\"x\",\"y\":\"DistanceFromHome\",\"yref\":\"y\"},{\"font\":{\"color\":\"#000000\"},\"showarrow\":false,\"text\":\"0.0\",\"x\":\"TotalWorkingYears\",\"xref\":\"x\",\"y\":\"DistanceFromHome\",\"yref\":\"y\"},{\"font\":{\"color\":\"#000000\"},\"showarrow\":false,\"text\":\"-0.04\",\"x\":\"TrainingTimesLastYear\",\"xref\":\"x\",\"y\":\"DistanceFromHome\",\"yref\":\"y\"},{\"font\":{\"color\":\"#000000\"},\"showarrow\":false,\"text\":\"0.01\",\"x\":\"YearsAtCompany\",\"xref\":\"x\",\"y\":\"DistanceFromHome\",\"yref\":\"y\"},{\"font\":{\"color\":\"#000000\"},\"showarrow\":false,\"text\":\"0.02\",\"x\":\"YearsInCurrentRole\",\"xref\":\"x\",\"y\":\"DistanceFromHome\",\"yref\":\"y\"},{\"font\":{\"color\":\"#000000\"},\"showarrow\":false,\"text\":\"0.01\",\"x\":\"YearsSinceLastPromotion\",\"xref\":\"x\",\"y\":\"DistanceFromHome\",\"yref\":\"y\"},{\"font\":{\"color\":\"#000000\"},\"showarrow\":false,\"text\":\"0.01\",\"x\":\"YearsWithCurrManager\",\"xref\":\"x\",\"y\":\"DistanceFromHome\",\"yref\":\"y\"},{\"font\":{\"color\":\"#000000\"},\"showarrow\":false,\"text\":\"0.02\",\"x\":\"Age\",\"xref\":\"x\",\"y\":\"HourlyRate\",\"yref\":\"y\"},{\"font\":{\"color\":\"#000000\"},\"showarrow\":false,\"text\":\"0.02\",\"x\":\"DailyRate\",\"xref\":\"x\",\"y\":\"HourlyRate\",\"yref\":\"y\"},{\"font\":{\"color\":\"#000000\"},\"showarrow\":false,\"text\":\"0.03\",\"x\":\"DistanceFromHome\",\"xref\":\"x\",\"y\":\"HourlyRate\",\"yref\":\"y\"},{\"font\":{\"color\":\"#FFFFFF\"},\"showarrow\":false,\"text\":\"1.0\",\"x\":\"HourlyRate\",\"xref\":\"x\",\"y\":\"HourlyRate\",\"yref\":\"y\"},{\"font\":{\"color\":\"#000000\"},\"showarrow\":false,\"text\":\"-0.02\",\"x\":\"MonthlyIncome\",\"xref\":\"x\",\"y\":\"HourlyRate\",\"yref\":\"y\"},{\"font\":{\"color\":\"#000000\"},\"showarrow\":false,\"text\":\"-0.02\",\"x\":\"MonthlyRate\",\"xref\":\"x\",\"y\":\"HourlyRate\",\"yref\":\"y\"},{\"font\":{\"color\":\"#000000\"},\"showarrow\":false,\"text\":\"0.02\",\"x\":\"NumCompaniesWorked\",\"xref\":\"x\",\"y\":\"HourlyRate\",\"yref\":\"y\"},{\"font\":{\"color\":\"#000000\"},\"showarrow\":false,\"text\":\"-0.01\",\"x\":\"PercentSalaryHike\",\"xref\":\"x\",\"y\":\"HourlyRate\",\"yref\":\"y\"},{\"font\":{\"color\":\"#000000\"},\"showarrow\":false,\"text\":\"-0.0\",\"x\":\"TotalWorkingYears\",\"xref\":\"x\",\"y\":\"HourlyRate\",\"yref\":\"y\"},{\"font\":{\"color\":\"#000000\"},\"showarrow\":false,\"text\":\"-0.01\",\"x\":\"TrainingTimesLastYear\",\"xref\":\"x\",\"y\":\"HourlyRate\",\"yref\":\"y\"},{\"font\":{\"color\":\"#000000\"},\"showarrow\":false,\"text\":\"-0.02\",\"x\":\"YearsAtCompany\",\"xref\":\"x\",\"y\":\"HourlyRate\",\"yref\":\"y\"},{\"font\":{\"color\":\"#000000\"},\"showarrow\":false,\"text\":\"-0.02\",\"x\":\"YearsInCurrentRole\",\"xref\":\"x\",\"y\":\"HourlyRate\",\"yref\":\"y\"},{\"font\":{\"color\":\"#000000\"},\"showarrow\":false,\"text\":\"-0.03\",\"x\":\"YearsSinceLastPromotion\",\"xref\":\"x\",\"y\":\"HourlyRate\",\"yref\":\"y\"},{\"font\":{\"color\":\"#000000\"},\"showarrow\":false,\"text\":\"-0.02\",\"x\":\"YearsWithCurrManager\",\"xref\":\"x\",\"y\":\"HourlyRate\",\"yref\":\"y\"},{\"font\":{\"color\":\"#FFFFFF\"},\"showarrow\":false,\"text\":\"0.5\",\"x\":\"Age\",\"xref\":\"x\",\"y\":\"MonthlyIncome\",\"yref\":\"y\"},{\"font\":{\"color\":\"#000000\"},\"showarrow\":false,\"text\":\"0.01\",\"x\":\"DailyRate\",\"xref\":\"x\",\"y\":\"MonthlyIncome\",\"yref\":\"y\"},{\"font\":{\"color\":\"#000000\"},\"showarrow\":false,\"text\":\"-0.02\",\"x\":\"DistanceFromHome\",\"xref\":\"x\",\"y\":\"MonthlyIncome\",\"yref\":\"y\"},{\"font\":{\"color\":\"#000000\"},\"showarrow\":false,\"text\":\"-0.02\",\"x\":\"HourlyRate\",\"xref\":\"x\",\"y\":\"MonthlyIncome\",\"yref\":\"y\"},{\"font\":{\"color\":\"#FFFFFF\"},\"showarrow\":false,\"text\":\"1.0\",\"x\":\"MonthlyIncome\",\"xref\":\"x\",\"y\":\"MonthlyIncome\",\"yref\":\"y\"},{\"font\":{\"color\":\"#000000\"},\"showarrow\":false,\"text\":\"0.03\",\"x\":\"MonthlyRate\",\"xref\":\"x\",\"y\":\"MonthlyIncome\",\"yref\":\"y\"},{\"font\":{\"color\":\"#000000\"},\"showarrow\":false,\"text\":\"0.15\",\"x\":\"NumCompaniesWorked\",\"xref\":\"x\",\"y\":\"MonthlyIncome\",\"yref\":\"y\"},{\"font\":{\"color\":\"#000000\"},\"showarrow\":false,\"text\":\"-0.03\",\"x\":\"PercentSalaryHike\",\"xref\":\"x\",\"y\":\"MonthlyIncome\",\"yref\":\"y\"},{\"font\":{\"color\":\"#FFFFFF\"},\"showarrow\":false,\"text\":\"0.77\",\"x\":\"TotalWorkingYears\",\"xref\":\"x\",\"y\":\"MonthlyIncome\",\"yref\":\"y\"},{\"font\":{\"color\":\"#000000\"},\"showarrow\":false,\"text\":\"-0.02\",\"x\":\"TrainingTimesLastYear\",\"xref\":\"x\",\"y\":\"MonthlyIncome\",\"yref\":\"y\"},{\"font\":{\"color\":\"#FFFFFF\"},\"showarrow\":false,\"text\":\"0.51\",\"x\":\"YearsAtCompany\",\"xref\":\"x\",\"y\":\"MonthlyIncome\",\"yref\":\"y\"},{\"font\":{\"color\":\"#000000\"},\"showarrow\":false,\"text\":\"0.36\",\"x\":\"YearsInCurrentRole\",\"xref\":\"x\",\"y\":\"MonthlyIncome\",\"yref\":\"y\"},{\"font\":{\"color\":\"#000000\"},\"showarrow\":false,\"text\":\"0.34\",\"x\":\"YearsSinceLastPromotion\",\"xref\":\"x\",\"y\":\"MonthlyIncome\",\"yref\":\"y\"},{\"font\":{\"color\":\"#000000\"},\"showarrow\":false,\"text\":\"0.34\",\"x\":\"YearsWithCurrManager\",\"xref\":\"x\",\"y\":\"MonthlyIncome\",\"yref\":\"y\"},{\"font\":{\"color\":\"#000000\"},\"showarrow\":false,\"text\":\"0.03\",\"x\":\"Age\",\"xref\":\"x\",\"y\":\"MonthlyRate\",\"yref\":\"y\"},{\"font\":{\"color\":\"#000000\"},\"showarrow\":false,\"text\":\"-0.03\",\"x\":\"DailyRate\",\"xref\":\"x\",\"y\":\"MonthlyRate\",\"yref\":\"y\"},{\"font\":{\"color\":\"#000000\"},\"showarrow\":false,\"text\":\"0.03\",\"x\":\"DistanceFromHome\",\"xref\":\"x\",\"y\":\"MonthlyRate\",\"yref\":\"y\"},{\"font\":{\"color\":\"#000000\"},\"showarrow\":false,\"text\":\"-0.02\",\"x\":\"HourlyRate\",\"xref\":\"x\",\"y\":\"MonthlyRate\",\"yref\":\"y\"},{\"font\":{\"color\":\"#000000\"},\"showarrow\":false,\"text\":\"0.03\",\"x\":\"MonthlyIncome\",\"xref\":\"x\",\"y\":\"MonthlyRate\",\"yref\":\"y\"},{\"font\":{\"color\":\"#FFFFFF\"},\"showarrow\":false,\"text\":\"1.0\",\"x\":\"MonthlyRate\",\"xref\":\"x\",\"y\":\"MonthlyRate\",\"yref\":\"y\"},{\"font\":{\"color\":\"#000000\"},\"showarrow\":false,\"text\":\"0.02\",\"x\":\"NumCompaniesWorked\",\"xref\":\"x\",\"y\":\"MonthlyRate\",\"yref\":\"y\"},{\"font\":{\"color\":\"#000000\"},\"showarrow\":false,\"text\":\"-0.01\",\"x\":\"PercentSalaryHike\",\"xref\":\"x\",\"y\":\"MonthlyRate\",\"yref\":\"y\"},{\"font\":{\"color\":\"#000000\"},\"showarrow\":false,\"text\":\"0.03\",\"x\":\"TotalWorkingYears\",\"xref\":\"x\",\"y\":\"MonthlyRate\",\"yref\":\"y\"},{\"font\":{\"color\":\"#000000\"},\"showarrow\":false,\"text\":\"0.0\",\"x\":\"TrainingTimesLastYear\",\"xref\":\"x\",\"y\":\"MonthlyRate\",\"yref\":\"y\"},{\"font\":{\"color\":\"#000000\"},\"showarrow\":false,\"text\":\"-0.02\",\"x\":\"YearsAtCompany\",\"xref\":\"x\",\"y\":\"MonthlyRate\",\"yref\":\"y\"},{\"font\":{\"color\":\"#000000\"},\"showarrow\":false,\"text\":\"-0.01\",\"x\":\"YearsInCurrentRole\",\"xref\":\"x\",\"y\":\"MonthlyRate\",\"yref\":\"y\"},{\"font\":{\"color\":\"#000000\"},\"showarrow\":false,\"text\":\"0.0\",\"x\":\"YearsSinceLastPromotion\",\"xref\":\"x\",\"y\":\"MonthlyRate\",\"yref\":\"y\"},{\"font\":{\"color\":\"#000000\"},\"showarrow\":false,\"text\":\"-0.04\",\"x\":\"YearsWithCurrManager\",\"xref\":\"x\",\"y\":\"MonthlyRate\",\"yref\":\"y\"},{\"font\":{\"color\":\"#000000\"},\"showarrow\":false,\"text\":\"0.3\",\"x\":\"Age\",\"xref\":\"x\",\"y\":\"NumCompaniesWorked\",\"yref\":\"y\"},{\"font\":{\"color\":\"#000000\"},\"showarrow\":false,\"text\":\"0.04\",\"x\":\"DailyRate\",\"xref\":\"x\",\"y\":\"NumCompaniesWorked\",\"yref\":\"y\"},{\"font\":{\"color\":\"#000000\"},\"showarrow\":false,\"text\":\"-0.03\",\"x\":\"DistanceFromHome\",\"xref\":\"x\",\"y\":\"NumCompaniesWorked\",\"yref\":\"y\"},{\"font\":{\"color\":\"#000000\"},\"showarrow\":false,\"text\":\"0.02\",\"x\":\"HourlyRate\",\"xref\":\"x\",\"y\":\"NumCompaniesWorked\",\"yref\":\"y\"},{\"font\":{\"color\":\"#000000\"},\"showarrow\":false,\"text\":\"0.15\",\"x\":\"MonthlyIncome\",\"xref\":\"x\",\"y\":\"NumCompaniesWorked\",\"yref\":\"y\"},{\"font\":{\"color\":\"#000000\"},\"showarrow\":false,\"text\":\"0.02\",\"x\":\"MonthlyRate\",\"xref\":\"x\",\"y\":\"NumCompaniesWorked\",\"yref\":\"y\"},{\"font\":{\"color\":\"#FFFFFF\"},\"showarrow\":false,\"text\":\"1.0\",\"x\":\"NumCompaniesWorked\",\"xref\":\"x\",\"y\":\"NumCompaniesWorked\",\"yref\":\"y\"},{\"font\":{\"color\":\"#000000\"},\"showarrow\":false,\"text\":\"-0.01\",\"x\":\"PercentSalaryHike\",\"xref\":\"x\",\"y\":\"NumCompaniesWorked\",\"yref\":\"y\"},{\"font\":{\"color\":\"#000000\"},\"showarrow\":false,\"text\":\"0.24\",\"x\":\"TotalWorkingYears\",\"xref\":\"x\",\"y\":\"NumCompaniesWorked\",\"yref\":\"y\"},{\"font\":{\"color\":\"#000000\"},\"showarrow\":false,\"text\":\"-0.07\",\"x\":\"TrainingTimesLastYear\",\"xref\":\"x\",\"y\":\"NumCompaniesWorked\",\"yref\":\"y\"},{\"font\":{\"color\":\"#000000\"},\"showarrow\":false,\"text\":\"-0.12\",\"x\":\"YearsAtCompany\",\"xref\":\"x\",\"y\":\"NumCompaniesWorked\",\"yref\":\"y\"},{\"font\":{\"color\":\"#000000\"},\"showarrow\":false,\"text\":\"-0.09\",\"x\":\"YearsInCurrentRole\",\"xref\":\"x\",\"y\":\"NumCompaniesWorked\",\"yref\":\"y\"},{\"font\":{\"color\":\"#000000\"},\"showarrow\":false,\"text\":\"-0.04\",\"x\":\"YearsSinceLastPromotion\",\"xref\":\"x\",\"y\":\"NumCompaniesWorked\",\"yref\":\"y\"},{\"font\":{\"color\":\"#000000\"},\"showarrow\":false,\"text\":\"-0.11\",\"x\":\"YearsWithCurrManager\",\"xref\":\"x\",\"y\":\"NumCompaniesWorked\",\"yref\":\"y\"},{\"font\":{\"color\":\"#000000\"},\"showarrow\":false,\"text\":\"0.0\",\"x\":\"Age\",\"xref\":\"x\",\"y\":\"PercentSalaryHike\",\"yref\":\"y\"},{\"font\":{\"color\":\"#000000\"},\"showarrow\":false,\"text\":\"0.02\",\"x\":\"DailyRate\",\"xref\":\"x\",\"y\":\"PercentSalaryHike\",\"yref\":\"y\"},{\"font\":{\"color\":\"#000000\"},\"showarrow\":false,\"text\":\"0.04\",\"x\":\"DistanceFromHome\",\"xref\":\"x\",\"y\":\"PercentSalaryHike\",\"yref\":\"y\"},{\"font\":{\"color\":\"#000000\"},\"showarrow\":false,\"text\":\"-0.01\",\"x\":\"HourlyRate\",\"xref\":\"x\",\"y\":\"PercentSalaryHike\",\"yref\":\"y\"},{\"font\":{\"color\":\"#000000\"},\"showarrow\":false,\"text\":\"-0.03\",\"x\":\"MonthlyIncome\",\"xref\":\"x\",\"y\":\"PercentSalaryHike\",\"yref\":\"y\"},{\"font\":{\"color\":\"#000000\"},\"showarrow\":false,\"text\":\"-0.01\",\"x\":\"MonthlyRate\",\"xref\":\"x\",\"y\":\"PercentSalaryHike\",\"yref\":\"y\"},{\"font\":{\"color\":\"#000000\"},\"showarrow\":false,\"text\":\"-0.01\",\"x\":\"NumCompaniesWorked\",\"xref\":\"x\",\"y\":\"PercentSalaryHike\",\"yref\":\"y\"},{\"font\":{\"color\":\"#FFFFFF\"},\"showarrow\":false,\"text\":\"1.0\",\"x\":\"PercentSalaryHike\",\"xref\":\"x\",\"y\":\"PercentSalaryHike\",\"yref\":\"y\"},{\"font\":{\"color\":\"#000000\"},\"showarrow\":false,\"text\":\"-0.02\",\"x\":\"TotalWorkingYears\",\"xref\":\"x\",\"y\":\"PercentSalaryHike\",\"yref\":\"y\"},{\"font\":{\"color\":\"#000000\"},\"showarrow\":false,\"text\":\"-0.01\",\"x\":\"TrainingTimesLastYear\",\"xref\":\"x\",\"y\":\"PercentSalaryHike\",\"yref\":\"y\"},{\"font\":{\"color\":\"#000000\"},\"showarrow\":false,\"text\":\"-0.04\",\"x\":\"YearsAtCompany\",\"xref\":\"x\",\"y\":\"PercentSalaryHike\",\"yref\":\"y\"},{\"font\":{\"color\":\"#000000\"},\"showarrow\":false,\"text\":\"-0.0\",\"x\":\"YearsInCurrentRole\",\"xref\":\"x\",\"y\":\"PercentSalaryHike\",\"yref\":\"y\"},{\"font\":{\"color\":\"#000000\"},\"showarrow\":false,\"text\":\"-0.02\",\"x\":\"YearsSinceLastPromotion\",\"xref\":\"x\",\"y\":\"PercentSalaryHike\",\"yref\":\"y\"},{\"font\":{\"color\":\"#000000\"},\"showarrow\":false,\"text\":\"-0.01\",\"x\":\"YearsWithCurrManager\",\"xref\":\"x\",\"y\":\"PercentSalaryHike\",\"yref\":\"y\"},{\"font\":{\"color\":\"#FFFFFF\"},\"showarrow\":false,\"text\":\"0.68\",\"x\":\"Age\",\"xref\":\"x\",\"y\":\"TotalWorkingYears\",\"yref\":\"y\"},{\"font\":{\"color\":\"#000000\"},\"showarrow\":false,\"text\":\"0.01\",\"x\":\"DailyRate\",\"xref\":\"x\",\"y\":\"TotalWorkingYears\",\"yref\":\"y\"},{\"font\":{\"color\":\"#000000\"},\"showarrow\":false,\"text\":\"0.0\",\"x\":\"DistanceFromHome\",\"xref\":\"x\",\"y\":\"TotalWorkingYears\",\"yref\":\"y\"},{\"font\":{\"color\":\"#000000\"},\"showarrow\":false,\"text\":\"-0.0\",\"x\":\"HourlyRate\",\"xref\":\"x\",\"y\":\"TotalWorkingYears\",\"yref\":\"y\"},{\"font\":{\"color\":\"#FFFFFF\"},\"showarrow\":false,\"text\":\"0.77\",\"x\":\"MonthlyIncome\",\"xref\":\"x\",\"y\":\"TotalWorkingYears\",\"yref\":\"y\"},{\"font\":{\"color\":\"#000000\"},\"showarrow\":false,\"text\":\"0.03\",\"x\":\"MonthlyRate\",\"xref\":\"x\",\"y\":\"TotalWorkingYears\",\"yref\":\"y\"},{\"font\":{\"color\":\"#000000\"},\"showarrow\":false,\"text\":\"0.24\",\"x\":\"NumCompaniesWorked\",\"xref\":\"x\",\"y\":\"TotalWorkingYears\",\"yref\":\"y\"},{\"font\":{\"color\":\"#000000\"},\"showarrow\":false,\"text\":\"-0.02\",\"x\":\"PercentSalaryHike\",\"xref\":\"x\",\"y\":\"TotalWorkingYears\",\"yref\":\"y\"},{\"font\":{\"color\":\"#FFFFFF\"},\"showarrow\":false,\"text\":\"1.0\",\"x\":\"TotalWorkingYears\",\"xref\":\"x\",\"y\":\"TotalWorkingYears\",\"yref\":\"y\"},{\"font\":{\"color\":\"#000000\"},\"showarrow\":false,\"text\":\"-0.04\",\"x\":\"TrainingTimesLastYear\",\"xref\":\"x\",\"y\":\"TotalWorkingYears\",\"yref\":\"y\"},{\"font\":{\"color\":\"#FFFFFF\"},\"showarrow\":false,\"text\":\"0.63\",\"x\":\"YearsAtCompany\",\"xref\":\"x\",\"y\":\"TotalWorkingYears\",\"yref\":\"y\"},{\"font\":{\"color\":\"#FFFFFF\"},\"showarrow\":false,\"text\":\"0.46\",\"x\":\"YearsInCurrentRole\",\"xref\":\"x\",\"y\":\"TotalWorkingYears\",\"yref\":\"y\"},{\"font\":{\"color\":\"#000000\"},\"showarrow\":false,\"text\":\"0.4\",\"x\":\"YearsSinceLastPromotion\",\"xref\":\"x\",\"y\":\"TotalWorkingYears\",\"yref\":\"y\"},{\"font\":{\"color\":\"#FFFFFF\"},\"showarrow\":false,\"text\":\"0.46\",\"x\":\"YearsWithCurrManager\",\"xref\":\"x\",\"y\":\"TotalWorkingYears\",\"yref\":\"y\"},{\"font\":{\"color\":\"#000000\"},\"showarrow\":false,\"text\":\"-0.02\",\"x\":\"Age\",\"xref\":\"x\",\"y\":\"TrainingTimesLastYear\",\"yref\":\"y\"},{\"font\":{\"color\":\"#000000\"},\"showarrow\":false,\"text\":\"0.0\",\"x\":\"DailyRate\",\"xref\":\"x\",\"y\":\"TrainingTimesLastYear\",\"yref\":\"y\"},{\"font\":{\"color\":\"#000000\"},\"showarrow\":false,\"text\":\"-0.04\",\"x\":\"DistanceFromHome\",\"xref\":\"x\",\"y\":\"TrainingTimesLastYear\",\"yref\":\"y\"},{\"font\":{\"color\":\"#000000\"},\"showarrow\":false,\"text\":\"-0.01\",\"x\":\"HourlyRate\",\"xref\":\"x\",\"y\":\"TrainingTimesLastYear\",\"yref\":\"y\"},{\"font\":{\"color\":\"#000000\"},\"showarrow\":false,\"text\":\"-0.02\",\"x\":\"MonthlyIncome\",\"xref\":\"x\",\"y\":\"TrainingTimesLastYear\",\"yref\":\"y\"},{\"font\":{\"color\":\"#000000\"},\"showarrow\":false,\"text\":\"0.0\",\"x\":\"MonthlyRate\",\"xref\":\"x\",\"y\":\"TrainingTimesLastYear\",\"yref\":\"y\"},{\"font\":{\"color\":\"#000000\"},\"showarrow\":false,\"text\":\"-0.07\",\"x\":\"NumCompaniesWorked\",\"xref\":\"x\",\"y\":\"TrainingTimesLastYear\",\"yref\":\"y\"},{\"font\":{\"color\":\"#000000\"},\"showarrow\":false,\"text\":\"-0.01\",\"x\":\"PercentSalaryHike\",\"xref\":\"x\",\"y\":\"TrainingTimesLastYear\",\"yref\":\"y\"},{\"font\":{\"color\":\"#000000\"},\"showarrow\":false,\"text\":\"-0.04\",\"x\":\"TotalWorkingYears\",\"xref\":\"x\",\"y\":\"TrainingTimesLastYear\",\"yref\":\"y\"},{\"font\":{\"color\":\"#FFFFFF\"},\"showarrow\":false,\"text\":\"1.0\",\"x\":\"TrainingTimesLastYear\",\"xref\":\"x\",\"y\":\"TrainingTimesLastYear\",\"yref\":\"y\"},{\"font\":{\"color\":\"#000000\"},\"showarrow\":false,\"text\":\"0.0\",\"x\":\"YearsAtCompany\",\"xref\":\"x\",\"y\":\"TrainingTimesLastYear\",\"yref\":\"y\"},{\"font\":{\"color\":\"#000000\"},\"showarrow\":false,\"text\":\"-0.01\",\"x\":\"YearsInCurrentRole\",\"xref\":\"x\",\"y\":\"TrainingTimesLastYear\",\"yref\":\"y\"},{\"font\":{\"color\":\"#000000\"},\"showarrow\":false,\"text\":\"-0.0\",\"x\":\"YearsSinceLastPromotion\",\"xref\":\"x\",\"y\":\"TrainingTimesLastYear\",\"yref\":\"y\"},{\"font\":{\"color\":\"#000000\"},\"showarrow\":false,\"text\":\"-0.0\",\"x\":\"YearsWithCurrManager\",\"xref\":\"x\",\"y\":\"TrainingTimesLastYear\",\"yref\":\"y\"},{\"font\":{\"color\":\"#000000\"},\"showarrow\":false,\"text\":\"0.31\",\"x\":\"Age\",\"xref\":\"x\",\"y\":\"YearsAtCompany\",\"yref\":\"y\"},{\"font\":{\"color\":\"#000000\"},\"showarrow\":false,\"text\":\"-0.03\",\"x\":\"DailyRate\",\"xref\":\"x\",\"y\":\"YearsAtCompany\",\"yref\":\"y\"},{\"font\":{\"color\":\"#000000\"},\"showarrow\":false,\"text\":\"0.01\",\"x\":\"DistanceFromHome\",\"xref\":\"x\",\"y\":\"YearsAtCompany\",\"yref\":\"y\"},{\"font\":{\"color\":\"#000000\"},\"showarrow\":false,\"text\":\"-0.02\",\"x\":\"HourlyRate\",\"xref\":\"x\",\"y\":\"YearsAtCompany\",\"yref\":\"y\"},{\"font\":{\"color\":\"#FFFFFF\"},\"showarrow\":false,\"text\":\"0.51\",\"x\":\"MonthlyIncome\",\"xref\":\"x\",\"y\":\"YearsAtCompany\",\"yref\":\"y\"},{\"font\":{\"color\":\"#000000\"},\"showarrow\":false,\"text\":\"-0.02\",\"x\":\"MonthlyRate\",\"xref\":\"x\",\"y\":\"YearsAtCompany\",\"yref\":\"y\"},{\"font\":{\"color\":\"#000000\"},\"showarrow\":false,\"text\":\"-0.12\",\"x\":\"NumCompaniesWorked\",\"xref\":\"x\",\"y\":\"YearsAtCompany\",\"yref\":\"y\"},{\"font\":{\"color\":\"#000000\"},\"showarrow\":false,\"text\":\"-0.04\",\"x\":\"PercentSalaryHike\",\"xref\":\"x\",\"y\":\"YearsAtCompany\",\"yref\":\"y\"},{\"font\":{\"color\":\"#FFFFFF\"},\"showarrow\":false,\"text\":\"0.63\",\"x\":\"TotalWorkingYears\",\"xref\":\"x\",\"y\":\"YearsAtCompany\",\"yref\":\"y\"},{\"font\":{\"color\":\"#000000\"},\"showarrow\":false,\"text\":\"0.0\",\"x\":\"TrainingTimesLastYear\",\"xref\":\"x\",\"y\":\"YearsAtCompany\",\"yref\":\"y\"},{\"font\":{\"color\":\"#FFFFFF\"},\"showarrow\":false,\"text\":\"1.0\",\"x\":\"YearsAtCompany\",\"xref\":\"x\",\"y\":\"YearsAtCompany\",\"yref\":\"y\"},{\"font\":{\"color\":\"#FFFFFF\"},\"showarrow\":false,\"text\":\"0.76\",\"x\":\"YearsInCurrentRole\",\"xref\":\"x\",\"y\":\"YearsAtCompany\",\"yref\":\"y\"},{\"font\":{\"color\":\"#FFFFFF\"},\"showarrow\":false,\"text\":\"0.62\",\"x\":\"YearsSinceLastPromotion\",\"xref\":\"x\",\"y\":\"YearsAtCompany\",\"yref\":\"y\"},{\"font\":{\"color\":\"#FFFFFF\"},\"showarrow\":false,\"text\":\"0.77\",\"x\":\"YearsWithCurrManager\",\"xref\":\"x\",\"y\":\"YearsAtCompany\",\"yref\":\"y\"},{\"font\":{\"color\":\"#000000\"},\"showarrow\":false,\"text\":\"0.21\",\"x\":\"Age\",\"xref\":\"x\",\"y\":\"YearsInCurrentRole\",\"yref\":\"y\"},{\"font\":{\"color\":\"#000000\"},\"showarrow\":false,\"text\":\"0.01\",\"x\":\"DailyRate\",\"xref\":\"x\",\"y\":\"YearsInCurrentRole\",\"yref\":\"y\"},{\"font\":{\"color\":\"#000000\"},\"showarrow\":false,\"text\":\"0.02\",\"x\":\"DistanceFromHome\",\"xref\":\"x\",\"y\":\"YearsInCurrentRole\",\"yref\":\"y\"},{\"font\":{\"color\":\"#000000\"},\"showarrow\":false,\"text\":\"-0.02\",\"x\":\"HourlyRate\",\"xref\":\"x\",\"y\":\"YearsInCurrentRole\",\"yref\":\"y\"},{\"font\":{\"color\":\"#000000\"},\"showarrow\":false,\"text\":\"0.36\",\"x\":\"MonthlyIncome\",\"xref\":\"x\",\"y\":\"YearsInCurrentRole\",\"yref\":\"y\"},{\"font\":{\"color\":\"#000000\"},\"showarrow\":false,\"text\":\"-0.01\",\"x\":\"MonthlyRate\",\"xref\":\"x\",\"y\":\"YearsInCurrentRole\",\"yref\":\"y\"},{\"font\":{\"color\":\"#000000\"},\"showarrow\":false,\"text\":\"-0.09\",\"x\":\"NumCompaniesWorked\",\"xref\":\"x\",\"y\":\"YearsInCurrentRole\",\"yref\":\"y\"},{\"font\":{\"color\":\"#000000\"},\"showarrow\":false,\"text\":\"-0.0\",\"x\":\"PercentSalaryHike\",\"xref\":\"x\",\"y\":\"YearsInCurrentRole\",\"yref\":\"y\"},{\"font\":{\"color\":\"#FFFFFF\"},\"showarrow\":false,\"text\":\"0.46\",\"x\":\"TotalWorkingYears\",\"xref\":\"x\",\"y\":\"YearsInCurrentRole\",\"yref\":\"y\"},{\"font\":{\"color\":\"#000000\"},\"showarrow\":false,\"text\":\"-0.01\",\"x\":\"TrainingTimesLastYear\",\"xref\":\"x\",\"y\":\"YearsInCurrentRole\",\"yref\":\"y\"},{\"font\":{\"color\":\"#FFFFFF\"},\"showarrow\":false,\"text\":\"0.76\",\"x\":\"YearsAtCompany\",\"xref\":\"x\",\"y\":\"YearsInCurrentRole\",\"yref\":\"y\"},{\"font\":{\"color\":\"#FFFFFF\"},\"showarrow\":false,\"text\":\"1.0\",\"x\":\"YearsInCurrentRole\",\"xref\":\"x\",\"y\":\"YearsInCurrentRole\",\"yref\":\"y\"},{\"font\":{\"color\":\"#FFFFFF\"},\"showarrow\":false,\"text\":\"0.55\",\"x\":\"YearsSinceLastPromotion\",\"xref\":\"x\",\"y\":\"YearsInCurrentRole\",\"yref\":\"y\"},{\"font\":{\"color\":\"#FFFFFF\"},\"showarrow\":false,\"text\":\"0.71\",\"x\":\"YearsWithCurrManager\",\"xref\":\"x\",\"y\":\"YearsInCurrentRole\",\"yref\":\"y\"},{\"font\":{\"color\":\"#000000\"},\"showarrow\":false,\"text\":\"0.22\",\"x\":\"Age\",\"xref\":\"x\",\"y\":\"YearsSinceLastPromotion\",\"yref\":\"y\"},{\"font\":{\"color\":\"#000000\"},\"showarrow\":false,\"text\":\"-0.03\",\"x\":\"DailyRate\",\"xref\":\"x\",\"y\":\"YearsSinceLastPromotion\",\"yref\":\"y\"},{\"font\":{\"color\":\"#000000\"},\"showarrow\":false,\"text\":\"0.01\",\"x\":\"DistanceFromHome\",\"xref\":\"x\",\"y\":\"YearsSinceLastPromotion\",\"yref\":\"y\"},{\"font\":{\"color\":\"#000000\"},\"showarrow\":false,\"text\":\"-0.03\",\"x\":\"HourlyRate\",\"xref\":\"x\",\"y\":\"YearsSinceLastPromotion\",\"yref\":\"y\"},{\"font\":{\"color\":\"#000000\"},\"showarrow\":false,\"text\":\"0.34\",\"x\":\"MonthlyIncome\",\"xref\":\"x\",\"y\":\"YearsSinceLastPromotion\",\"yref\":\"y\"},{\"font\":{\"color\":\"#000000\"},\"showarrow\":false,\"text\":\"0.0\",\"x\":\"MonthlyRate\",\"xref\":\"x\",\"y\":\"YearsSinceLastPromotion\",\"yref\":\"y\"},{\"font\":{\"color\":\"#000000\"},\"showarrow\":false,\"text\":\"-0.04\",\"x\":\"NumCompaniesWorked\",\"xref\":\"x\",\"y\":\"YearsSinceLastPromotion\",\"yref\":\"y\"},{\"font\":{\"color\":\"#000000\"},\"showarrow\":false,\"text\":\"-0.02\",\"x\":\"PercentSalaryHike\",\"xref\":\"x\",\"y\":\"YearsSinceLastPromotion\",\"yref\":\"y\"},{\"font\":{\"color\":\"#000000\"},\"showarrow\":false,\"text\":\"0.4\",\"x\":\"TotalWorkingYears\",\"xref\":\"x\",\"y\":\"YearsSinceLastPromotion\",\"yref\":\"y\"},{\"font\":{\"color\":\"#000000\"},\"showarrow\":false,\"text\":\"-0.0\",\"x\":\"TrainingTimesLastYear\",\"xref\":\"x\",\"y\":\"YearsSinceLastPromotion\",\"yref\":\"y\"},{\"font\":{\"color\":\"#FFFFFF\"},\"showarrow\":false,\"text\":\"0.62\",\"x\":\"YearsAtCompany\",\"xref\":\"x\",\"y\":\"YearsSinceLastPromotion\",\"yref\":\"y\"},{\"font\":{\"color\":\"#FFFFFF\"},\"showarrow\":false,\"text\":\"0.55\",\"x\":\"YearsInCurrentRole\",\"xref\":\"x\",\"y\":\"YearsSinceLastPromotion\",\"yref\":\"y\"},{\"font\":{\"color\":\"#FFFFFF\"},\"showarrow\":false,\"text\":\"1.0\",\"x\":\"YearsSinceLastPromotion\",\"xref\":\"x\",\"y\":\"YearsSinceLastPromotion\",\"yref\":\"y\"},{\"font\":{\"color\":\"#FFFFFF\"},\"showarrow\":false,\"text\":\"0.51\",\"x\":\"YearsWithCurrManager\",\"xref\":\"x\",\"y\":\"YearsSinceLastPromotion\",\"yref\":\"y\"},{\"font\":{\"color\":\"#000000\"},\"showarrow\":false,\"text\":\"0.2\",\"x\":\"Age\",\"xref\":\"x\",\"y\":\"YearsWithCurrManager\",\"yref\":\"y\"},{\"font\":{\"color\":\"#000000\"},\"showarrow\":false,\"text\":\"-0.03\",\"x\":\"DailyRate\",\"xref\":\"x\",\"y\":\"YearsWithCurrManager\",\"yref\":\"y\"},{\"font\":{\"color\":\"#000000\"},\"showarrow\":false,\"text\":\"0.01\",\"x\":\"DistanceFromHome\",\"xref\":\"x\",\"y\":\"YearsWithCurrManager\",\"yref\":\"y\"},{\"font\":{\"color\":\"#000000\"},\"showarrow\":false,\"text\":\"-0.02\",\"x\":\"HourlyRate\",\"xref\":\"x\",\"y\":\"YearsWithCurrManager\",\"yref\":\"y\"},{\"font\":{\"color\":\"#000000\"},\"showarrow\":false,\"text\":\"0.34\",\"x\":\"MonthlyIncome\",\"xref\":\"x\",\"y\":\"YearsWithCurrManager\",\"yref\":\"y\"},{\"font\":{\"color\":\"#000000\"},\"showarrow\":false,\"text\":\"-0.04\",\"x\":\"MonthlyRate\",\"xref\":\"x\",\"y\":\"YearsWithCurrManager\",\"yref\":\"y\"},{\"font\":{\"color\":\"#000000\"},\"showarrow\":false,\"text\":\"-0.11\",\"x\":\"NumCompaniesWorked\",\"xref\":\"x\",\"y\":\"YearsWithCurrManager\",\"yref\":\"y\"},{\"font\":{\"color\":\"#000000\"},\"showarrow\":false,\"text\":\"-0.01\",\"x\":\"PercentSalaryHike\",\"xref\":\"x\",\"y\":\"YearsWithCurrManager\",\"yref\":\"y\"},{\"font\":{\"color\":\"#FFFFFF\"},\"showarrow\":false,\"text\":\"0.46\",\"x\":\"TotalWorkingYears\",\"xref\":\"x\",\"y\":\"YearsWithCurrManager\",\"yref\":\"y\"},{\"font\":{\"color\":\"#000000\"},\"showarrow\":false,\"text\":\"-0.0\",\"x\":\"TrainingTimesLastYear\",\"xref\":\"x\",\"y\":\"YearsWithCurrManager\",\"yref\":\"y\"},{\"font\":{\"color\":\"#FFFFFF\"},\"showarrow\":false,\"text\":\"0.77\",\"x\":\"YearsAtCompany\",\"xref\":\"x\",\"y\":\"YearsWithCurrManager\",\"yref\":\"y\"},{\"font\":{\"color\":\"#FFFFFF\"},\"showarrow\":false,\"text\":\"0.71\",\"x\":\"YearsInCurrentRole\",\"xref\":\"x\",\"y\":\"YearsWithCurrManager\",\"yref\":\"y\"},{\"font\":{\"color\":\"#FFFFFF\"},\"showarrow\":false,\"text\":\"0.51\",\"x\":\"YearsSinceLastPromotion\",\"xref\":\"x\",\"y\":\"YearsWithCurrManager\",\"yref\":\"y\"},{\"font\":{\"color\":\"#FFFFFF\"},\"showarrow\":false,\"text\":\"1.0\",\"x\":\"YearsWithCurrManager\",\"xref\":\"x\",\"y\":\"YearsWithCurrManager\",\"yref\":\"y\"}],\"xaxis\":{\"dtick\":1,\"gridcolor\":\"rgb(0, 0, 0)\",\"side\":\"top\",\"ticks\":\"\"},\"yaxis\":{\"dtick\":1,\"ticks\":\"\",\"ticksuffix\":\"  \",\"autorange\":\"reversed\"},\"template\":{\"data\":{\"histogram2dcontour\":[{\"type\":\"histogram2dcontour\",\"colorbar\":{\"outlinewidth\":0,\"ticks\":\"\"},\"colorscale\":[[0.0,\"#0d0887\"],[0.1111111111111111,\"#46039f\"],[0.2222222222222222,\"#7201a8\"],[0.3333333333333333,\"#9c179e\"],[0.4444444444444444,\"#bd3786\"],[0.5555555555555556,\"#d8576b\"],[0.6666666666666666,\"#ed7953\"],[0.7777777777777778,\"#fb9f3a\"],[0.8888888888888888,\"#fdca26\"],[1.0,\"#f0f921\"]]}],\"choropleth\":[{\"type\":\"choropleth\",\"colorbar\":{\"outlinewidth\":0,\"ticks\":\"\"}}],\"histogram2d\":[{\"type\":\"histogram2d\",\"colorbar\":{\"outlinewidth\":0,\"ticks\":\"\"},\"colorscale\":[[0.0,\"#0d0887\"],[0.1111111111111111,\"#46039f\"],[0.2222222222222222,\"#7201a8\"],[0.3333333333333333,\"#9c179e\"],[0.4444444444444444,\"#bd3786\"],[0.5555555555555556,\"#d8576b\"],[0.6666666666666666,\"#ed7953\"],[0.7777777777777778,\"#fb9f3a\"],[0.8888888888888888,\"#fdca26\"],[1.0,\"#f0f921\"]]}],\"heatmap\":[{\"type\":\"heatmap\",\"colorbar\":{\"outlinewidth\":0,\"ticks\":\"\"},\"colorscale\":[[0.0,\"#0d0887\"],[0.1111111111111111,\"#46039f\"],[0.2222222222222222,\"#7201a8\"],[0.3333333333333333,\"#9c179e\"],[0.4444444444444444,\"#bd3786\"],[0.5555555555555556,\"#d8576b\"],[0.6666666666666666,\"#ed7953\"],[0.7777777777777778,\"#fb9f3a\"],[0.8888888888888888,\"#fdca26\"],[1.0,\"#f0f921\"]]}],\"heatmapgl\":[{\"type\":\"heatmapgl\",\"colorbar\":{\"outlinewidth\":0,\"ticks\":\"\"},\"colorscale\":[[0.0,\"#0d0887\"],[0.1111111111111111,\"#46039f\"],[0.2222222222222222,\"#7201a8\"],[0.3333333333333333,\"#9c179e\"],[0.4444444444444444,\"#bd3786\"],[0.5555555555555556,\"#d8576b\"],[0.6666666666666666,\"#ed7953\"],[0.7777777777777778,\"#fb9f3a\"],[0.8888888888888888,\"#fdca26\"],[1.0,\"#f0f921\"]]}],\"contourcarpet\":[{\"type\":\"contourcarpet\",\"colorbar\":{\"outlinewidth\":0,\"ticks\":\"\"}}],\"contour\":[{\"type\":\"contour\",\"colorbar\":{\"outlinewidth\":0,\"ticks\":\"\"},\"colorscale\":[[0.0,\"#0d0887\"],[0.1111111111111111,\"#46039f\"],[0.2222222222222222,\"#7201a8\"],[0.3333333333333333,\"#9c179e\"],[0.4444444444444444,\"#bd3786\"],[0.5555555555555556,\"#d8576b\"],[0.6666666666666666,\"#ed7953\"],[0.7777777777777778,\"#fb9f3a\"],[0.8888888888888888,\"#fdca26\"],[1.0,\"#f0f921\"]]}],\"surface\":[{\"type\":\"surface\",\"colorbar\":{\"outlinewidth\":0,\"ticks\":\"\"},\"colorscale\":[[0.0,\"#0d0887\"],[0.1111111111111111,\"#46039f\"],[0.2222222222222222,\"#7201a8\"],[0.3333333333333333,\"#9c179e\"],[0.4444444444444444,\"#bd3786\"],[0.5555555555555556,\"#d8576b\"],[0.6666666666666666,\"#ed7953\"],[0.7777777777777778,\"#fb9f3a\"],[0.8888888888888888,\"#fdca26\"],[1.0,\"#f0f921\"]]}],\"mesh3d\":[{\"type\":\"mesh3d\",\"colorbar\":{\"outlinewidth\":0,\"ticks\":\"\"}}],\"scatter\":[{\"fillpattern\":{\"fillmode\":\"overlay\",\"size\":10,\"solidity\":0.2},\"type\":\"scatter\"}],\"parcoords\":[{\"type\":\"parcoords\",\"line\":{\"colorbar\":{\"outlinewidth\":0,\"ticks\":\"\"}}}],\"scatterpolargl\":[{\"type\":\"scatterpolargl\",\"marker\":{\"colorbar\":{\"outlinewidth\":0,\"ticks\":\"\"}}}],\"bar\":[{\"error_x\":{\"color\":\"#2a3f5f\"},\"error_y\":{\"color\":\"#2a3f5f\"},\"marker\":{\"line\":{\"color\":\"#E5ECF6\",\"width\":0.5},\"pattern\":{\"fillmode\":\"overlay\",\"size\":10,\"solidity\":0.2}},\"type\":\"bar\"}],\"scattergeo\":[{\"type\":\"scattergeo\",\"marker\":{\"colorbar\":{\"outlinewidth\":0,\"ticks\":\"\"}}}],\"scatterpolar\":[{\"type\":\"scatterpolar\",\"marker\":{\"colorbar\":{\"outlinewidth\":0,\"ticks\":\"\"}}}],\"histogram\":[{\"marker\":{\"pattern\":{\"fillmode\":\"overlay\",\"size\":10,\"solidity\":0.2}},\"type\":\"histogram\"}],\"scattergl\":[{\"type\":\"scattergl\",\"marker\":{\"colorbar\":{\"outlinewidth\":0,\"ticks\":\"\"}}}],\"scatter3d\":[{\"type\":\"scatter3d\",\"line\":{\"colorbar\":{\"outlinewidth\":0,\"ticks\":\"\"}},\"marker\":{\"colorbar\":{\"outlinewidth\":0,\"ticks\":\"\"}}}],\"scattermapbox\":[{\"type\":\"scattermapbox\",\"marker\":{\"colorbar\":{\"outlinewidth\":0,\"ticks\":\"\"}}}],\"scatterternary\":[{\"type\":\"scatterternary\",\"marker\":{\"colorbar\":{\"outlinewidth\":0,\"ticks\":\"\"}}}],\"scattercarpet\":[{\"type\":\"scattercarpet\",\"marker\":{\"colorbar\":{\"outlinewidth\":0,\"ticks\":\"\"}}}],\"carpet\":[{\"aaxis\":{\"endlinecolor\":\"#2a3f5f\",\"gridcolor\":\"white\",\"linecolor\":\"white\",\"minorgridcolor\":\"white\",\"startlinecolor\":\"#2a3f5f\"},\"baxis\":{\"endlinecolor\":\"#2a3f5f\",\"gridcolor\":\"white\",\"linecolor\":\"white\",\"minorgridcolor\":\"white\",\"startlinecolor\":\"#2a3f5f\"},\"type\":\"carpet\"}],\"table\":[{\"cells\":{\"fill\":{\"color\":\"#EBF0F8\"},\"line\":{\"color\":\"white\"}},\"header\":{\"fill\":{\"color\":\"#C8D4E3\"},\"line\":{\"color\":\"white\"}},\"type\":\"table\"}],\"barpolar\":[{\"marker\":{\"line\":{\"color\":\"#E5ECF6\",\"width\":0.5},\"pattern\":{\"fillmode\":\"overlay\",\"size\":10,\"solidity\":0.2}},\"type\":\"barpolar\"}],\"pie\":[{\"automargin\":true,\"type\":\"pie\"}]},\"layout\":{\"autotypenumbers\":\"strict\",\"colorway\":[\"#636efa\",\"#EF553B\",\"#00cc96\",\"#ab63fa\",\"#FFA15A\",\"#19d3f3\",\"#FF6692\",\"#B6E880\",\"#FF97FF\",\"#FECB52\"],\"font\":{\"color\":\"#2a3f5f\"},\"hovermode\":\"closest\",\"hoverlabel\":{\"align\":\"left\"},\"paper_bgcolor\":\"white\",\"plot_bgcolor\":\"#E5ECF6\",\"polar\":{\"bgcolor\":\"#E5ECF6\",\"angularaxis\":{\"gridcolor\":\"white\",\"linecolor\":\"white\",\"ticks\":\"\"},\"radialaxis\":{\"gridcolor\":\"white\",\"linecolor\":\"white\",\"ticks\":\"\"}},\"ternary\":{\"bgcolor\":\"#E5ECF6\",\"aaxis\":{\"gridcolor\":\"white\",\"linecolor\":\"white\",\"ticks\":\"\"},\"baxis\":{\"gridcolor\":\"white\",\"linecolor\":\"white\",\"ticks\":\"\"},\"caxis\":{\"gridcolor\":\"white\",\"linecolor\":\"white\",\"ticks\":\"\"}},\"coloraxis\":{\"colorbar\":{\"outlinewidth\":0,\"ticks\":\"\"}},\"colorscale\":{\"sequential\":[[0.0,\"#0d0887\"],[0.1111111111111111,\"#46039f\"],[0.2222222222222222,\"#7201a8\"],[0.3333333333333333,\"#9c179e\"],[0.4444444444444444,\"#bd3786\"],[0.5555555555555556,\"#d8576b\"],[0.6666666666666666,\"#ed7953\"],[0.7777777777777778,\"#fb9f3a\"],[0.8888888888888888,\"#fdca26\"],[1.0,\"#f0f921\"]],\"sequentialminus\":[[0.0,\"#0d0887\"],[0.1111111111111111,\"#46039f\"],[0.2222222222222222,\"#7201a8\"],[0.3333333333333333,\"#9c179e\"],[0.4444444444444444,\"#bd3786\"],[0.5555555555555556,\"#d8576b\"],[0.6666666666666666,\"#ed7953\"],[0.7777777777777778,\"#fb9f3a\"],[0.8888888888888888,\"#fdca26\"],[1.0,\"#f0f921\"]],\"diverging\":[[0,\"#8e0152\"],[0.1,\"#c51b7d\"],[0.2,\"#de77ae\"],[0.3,\"#f1b6da\"],[0.4,\"#fde0ef\"],[0.5,\"#f7f7f7\"],[0.6,\"#e6f5d0\"],[0.7,\"#b8e186\"],[0.8,\"#7fbc41\"],[0.9,\"#4d9221\"],[1,\"#276419\"]]},\"xaxis\":{\"gridcolor\":\"white\",\"linecolor\":\"white\",\"ticks\":\"\",\"title\":{\"standoff\":15},\"zerolinecolor\":\"white\",\"automargin\":true,\"zerolinewidth\":2},\"yaxis\":{\"gridcolor\":\"white\",\"linecolor\":\"white\",\"ticks\":\"\",\"title\":{\"standoff\":15},\"zerolinecolor\":\"white\",\"automargin\":true,\"zerolinewidth\":2},\"scene\":{\"xaxis\":{\"backgroundcolor\":\"#E5ECF6\",\"gridcolor\":\"white\",\"linecolor\":\"white\",\"showbackground\":true,\"ticks\":\"\",\"zerolinecolor\":\"white\",\"gridwidth\":2},\"yaxis\":{\"backgroundcolor\":\"#E5ECF6\",\"gridcolor\":\"white\",\"linecolor\":\"white\",\"showbackground\":true,\"ticks\":\"\",\"zerolinecolor\":\"white\",\"gridwidth\":2},\"zaxis\":{\"backgroundcolor\":\"#E5ECF6\",\"gridcolor\":\"white\",\"linecolor\":\"white\",\"showbackground\":true,\"ticks\":\"\",\"zerolinecolor\":\"white\",\"gridwidth\":2}},\"shapedefaults\":{\"line\":{\"color\":\"#2a3f5f\"}},\"annotationdefaults\":{\"arrowcolor\":\"#2a3f5f\",\"arrowhead\":0,\"arrowwidth\":1},\"geo\":{\"bgcolor\":\"white\",\"landcolor\":\"#E5ECF6\",\"subunitcolor\":\"white\",\"showland\":true,\"showlakes\":true,\"lakecolor\":\"white\"},\"title\":{\"x\":0.05},\"mapbox\":{\"style\":\"light\"}}},\"font\":{\"color\":\"#28221D\"},\"margin\":{\"t\":180},\"title\":{\"text\":\"Correlation Matrix of Employee Attrition\"},\"height\":600},                        {\"responsive\": true}                    ).then(function(){\n",
       "                            \n",
       "var gd = document.getElementById('b81c9b95-0150-4368-a01e-2efa2d17140d');\n",
       "var x = new MutationObserver(function (mutations, observer) {{\n",
       "        var display = window.getComputedStyle(gd).display;\n",
       "        if (!display || display === 'none') {{\n",
       "            console.log([gd, 'removed!']);\n",
       "            Plotly.purge(gd);\n",
       "            observer.disconnect();\n",
       "        }}\n",
       "}});\n",
       "\n",
       "// Listen for the removal of the full notebook cells\n",
       "var notebookContainer = gd.closest('#notebook-container');\n",
       "if (notebookContainer) {{\n",
       "    x.observe(notebookContainer, {childList: true});\n",
       "}}\n",
       "\n",
       "// Listen for the clearing of the current output cell\n",
       "var outputEl = gd.closest('.output');\n",
       "if (outputEl) {{\n",
       "    x.observe(outputEl, {childList: true});\n",
       "}}\n",
       "\n",
       "                        })                };                });            </script>        </div>"
      ]
     },
     "metadata": {},
     "output_type": "display_data"
    }
   ],
   "source": [
    "import plotly.figure_factory as ff\n",
    "import pandas as pd\n",
    "\n",
    "# Select numerical columns only\n",
    "cat_cols = [col for col in data.columns if data[col].nunique() <= 5 or data[col].dtype == object]\n",
    "df = data.drop(columns=cat_cols + ['EmployeeNumber'])\n",
    "\n",
    "# Compute correlation matrix\n",
    "corr = df.corr().round(2)\n",
    "\n",
    "# Heatmap values\n",
    "z = corr.to_numpy()\n",
    "x = corr.columns.tolist()\n",
    "y = corr.index.tolist()\n",
    "\n",
    "# Annotated heatmap\n",
    "fig = ff.create_annotated_heatmap(\n",
    "    z=z,\n",
    "    x=x,\n",
    "    y=y,\n",
    "    annotation_text=z,\n",
    "    colorscale='GnBu',\n",
    "    hovertemplate=\"Correlation between %{x} and %{y} = %{z}\"\n",
    ")\n",
    "\n",
    "# Reverse y-axis to match matrix style\n",
    "fig.update_yaxes(autorange=\"reversed\")\n",
    "\n",
    "# Layout\n",
    "fig.update_layout(\n",
    "    title=\"Correlation Matrix of Employee Attrition\",\n",
    "    font_color='#28221D',\n",
    "    height=600,\n",
    "    margin=dict(t=180)\n",
    ")\n",
    "\n",
    "fig.show()\n"
   ]
  },
  {
   "cell_type": "markdown",
   "metadata": {},
   "source": [
    "Confirming our findings in the scatterplot above, `MonthlyIncome` has a strong positive correlation to `TotalWorkingYears` of 0.77. Additionally, `YearsAtCompany` has a strong positive association with `YearsWithCurrManager` (correlation = 0.77), as well as with `YearsInCurrentRole` (correlation = 0.76). There are no variables with a correlation above 0.8, indicating a potential collinearity issue."
   ]
  },
  {
   "cell_type": "markdown",
   "metadata": {},
   "source": [
    "# <div style=\"color:white;display:fill;border-radius:5px;background-color:#8ABEB9;overflow:hidden\"><p style=\"padding:20px;color:white;overflow:hidden;font-size:100%;margin:0;text-align:center\">Data Cleaning and Preprocessing</p></div>\n",
    "\n",
    "There are several columns in the data that have numeric values that represent categories, like `Education` that has values of 1 through 5 representing different levels of education. These columns were converted to categorical variables to perform significance testing for feature selection. I then removed columns with zero variance from the data since these can lead to errors in model fitting. Lastly, to reduce the skewness in the data, I log-transformed variables that had a skewness above 0.75."
   ]
  },
  {
   "cell_type": "code",
   "execution_count": 105,
   "metadata": {
    "_kg_hide-input": true
   },
   "outputs": [
    {
     "data": {
      "text/plain": [
       "(1470, 31)"
      ]
     },
     "execution_count": 105,
     "metadata": {},
     "output_type": "execute_result"
    }
   ],
   "source": [
    "import pandas as pd\n",
    "import numpy as np\n",
    "\n",
    "# Identify categorical columns (excluding target)\n",
    "cat_cols = [col for col in data.columns if data[col].dtype == 'object' and col != 'Attrition']\n",
    "\n",
    "# Convert categorical columns to category type\n",
    "for col in cat_cols:\n",
    "    data[col] = pd.Categorical(data[col])\n",
    "\n",
    "# Initialize list for zero-variance columns\n",
    "nzv = []\n",
    "\n",
    "for col in data.columns:\n",
    "    if col in cat_cols:  # Factorize categorical columns\n",
    "        vals = data[col].cat.codes\n",
    "    elif pd.api.types.is_numeric_dtype(data[col]):  # Numeric columns\n",
    "        vals = data[col].values\n",
    "    else:\n",
    "        continue  # Skip other columns\n",
    "\n",
    "    if np.std(vals) == 0:\n",
    "        nzv.append(col)\n",
    "\n",
    "# Drop zero-variance columns + EmployeeNumber\n",
    "data.drop(columns=nzv + ['EmployeeNumber'], inplace=True)\n",
    "\n",
    "# Copy cleaned dataframe\n",
    "df = data.copy()\n",
    "df.shape\n"
   ]
  },
  {
   "cell_type": "code",
   "execution_count": 106,
   "metadata": {
    "_kg_hide-input": true,
    "scrolled": true
   },
   "outputs": [
    {
     "name": "stdout",
     "output_type": "stream",
     "text": [
      "Columns to log-transform: ['DistanceFromHome', 'JobLevel', 'MonthlyIncome', 'NumCompaniesWorked', 'PercentSalaryHike', 'PerformanceRating', 'StockOptionLevel', 'TotalWorkingYears', 'YearsAtCompany', 'YearsInCurrentRole', 'YearsSinceLastPromotion', 'YearsWithCurrManager']\n"
     ]
    }
   ],
   "source": [
    "import numpy as np\n",
    "import pandas as pd\n",
    "\n",
    "df = data.copy()  # work on a copy\n",
    "skew_limit = 0.75\n",
    "\n",
    "# Find numeric columns with high skew\n",
    "skew_cols = df.select_dtypes(include=np.number).skew()\n",
    "skew_cols = skew_cols[abs(skew_cols) > skew_limit]\n",
    "\n",
    "# Display skewed columns\n",
    "print(\"Columns to log-transform:\", skew_cols.index.tolist())\n",
    "\n",
    "# Log-transform skewed columns\n",
    "for col in skew_cols.index:\n",
    "    df[col] = np.log1p(df[col])\n"
   ]
  },
  {
   "cell_type": "markdown",
   "metadata": {},
   "source": [
    "# <div style=\"color:white;display:fill;border-radius:5px;background-color:#8ABEB9;overflow:hidden\"><p style=\"padding:20px;color:white;overflow:hidden;font-size:100%;margin:0;text-align:center\">Hypothesis Testing</p></div>\n",
    "## <b><span style='color:#68A19B'>I.</span> Independent T-Test</b>"
   ]
  },
  {
   "cell_type": "markdown",
   "metadata": {},
   "source": [
    "To compare the average monthly income among current and former employees, I'll perform an independent t-test. This will allow us to determine whether there is a statistically significant difference between the average incomes of the two populations. To test this, I'll use the log-transformed data since one of the assumptions of the test is that the continuous variable is approximately normally distributed.\n",
    "\n",
    "#### Hypothesis:\n",
    "\n",
    "$H_{0}$: The null hypothesis for the t-test is that the average monthly income of former employees is the same as current employees. \n",
    "$$\n",
    "  u_{1} = u_{2}\n",
    "$$  \n",
    "$H_{1}$: The alternative hypothesis is that the average monthly income of former employees is different than current employees.\n",
    "$$\n",
    "  u_{1} \\neq u_{2}\n",
    "$$"
   ]
  },
  {
   "cell_type": "code",
   "execution_count": 109,
   "metadata": {
    "_kg_hide-input": true,
    "_kg_hide-output": true
   },
   "outputs": [
    {
     "name": "stdout",
     "output_type": "stream",
     "text": [
      "Requirement already satisfied: researchpy in d:\\python-folder\\anaconda\\lib\\site-packages (0.3.6)\n",
      "Requirement already satisfied: scipy in d:\\python-folder\\anaconda\\lib\\site-packages (from researchpy) (1.13.1)\n",
      "Requirement already satisfied: numpy in d:\\python-folder\\anaconda\\lib\\site-packages (from researchpy) (1.26.4)\n",
      "Requirement already satisfied: pandas in d:\\python-folder\\anaconda\\lib\\site-packages (from researchpy) (2.2.2)\n",
      "Requirement already satisfied: statsmodels in d:\\python-folder\\anaconda\\lib\\site-packages (from researchpy) (0.14.2)\n",
      "Requirement already satisfied: patsy in d:\\python-folder\\anaconda\\lib\\site-packages (from researchpy) (0.5.6)\n",
      "Requirement already satisfied: python-dateutil>=2.8.2 in d:\\python-folder\\anaconda\\lib\\site-packages (from pandas->researchpy) (2.9.0.post0)\n",
      "Requirement already satisfied: pytz>=2020.1 in d:\\python-folder\\anaconda\\lib\\site-packages (from pandas->researchpy) (2024.1)\n",
      "Requirement already satisfied: tzdata>=2022.7 in d:\\python-folder\\anaconda\\lib\\site-packages (from pandas->researchpy) (2023.3)\n",
      "Requirement already satisfied: six in d:\\python-folder\\anaconda\\lib\\site-packages (from patsy->researchpy) (1.16.0)\n",
      "Requirement already satisfied: packaging>=21.3 in d:\\python-folder\\anaconda\\lib\\site-packages (from statsmodels->researchpy) (24.1)\n"
     ]
    }
   ],
   "source": [
    "!pip install researchpy"
   ]
  },
  {
   "cell_type": "code",
   "execution_count": 110,
   "metadata": {
    "_kg_hide-input": true
   },
   "outputs": [
    {
     "name": "stdout",
     "output_type": "stream",
     "text": [
      "\n",
      "Summary Statistics:\n"
     ]
    },
    {
     "data": {
      "text/html": [
       "<div>\n",
       "<style scoped>\n",
       "    .dataframe tbody tr th:only-of-type {\n",
       "        vertical-align: middle;\n",
       "    }\n",
       "\n",
       "    .dataframe tbody tr th {\n",
       "        vertical-align: top;\n",
       "    }\n",
       "\n",
       "    .dataframe thead th {\n",
       "        text-align: right;\n",
       "    }\n",
       "</style>\n",
       "<table border=\"1\" class=\"dataframe\">\n",
       "  <thead>\n",
       "    <tr style=\"text-align: right;\">\n",
       "      <th></th>\n",
       "      <th>Variable</th>\n",
       "      <th>N</th>\n",
       "      <th>Mean</th>\n",
       "      <th>SD</th>\n",
       "      <th>SE</th>\n",
       "      <th>95% Conf.</th>\n",
       "      <th>Interval</th>\n",
       "    </tr>\n",
       "  </thead>\n",
       "  <tbody>\n",
       "    <tr>\n",
       "      <th>0</th>\n",
       "      <td>Former Employees</td>\n",
       "      <td>237.0</td>\n",
       "      <td>8.252532</td>\n",
       "      <td>0.640059</td>\n",
       "      <td>0.041576</td>\n",
       "      <td>8.170624</td>\n",
       "      <td>8.334440</td>\n",
       "    </tr>\n",
       "    <tr>\n",
       "      <th>1</th>\n",
       "      <td>Current Employees</td>\n",
       "      <td>1233.0</td>\n",
       "      <td>8.610458</td>\n",
       "      <td>0.653497</td>\n",
       "      <td>0.018611</td>\n",
       "      <td>8.573946</td>\n",
       "      <td>8.646970</td>\n",
       "    </tr>\n",
       "    <tr>\n",
       "      <th>2</th>\n",
       "      <td>combined</td>\n",
       "      <td>1470.0</td>\n",
       "      <td>8.552752</td>\n",
       "      <td>0.664313</td>\n",
       "      <td>0.017327</td>\n",
       "      <td>8.518764</td>\n",
       "      <td>8.586739</td>\n",
       "    </tr>\n",
       "  </tbody>\n",
       "</table>\n",
       "</div>"
      ],
      "text/plain": [
       "            Variable       N      Mean        SD        SE  95% Conf.  \\\n",
       "0   Former Employees   237.0  8.252532  0.640059  0.041576   8.170624   \n",
       "1  Current Employees  1233.0  8.610458  0.653497  0.018611   8.573946   \n",
       "2           combined  1470.0  8.552752  0.664313  0.017327   8.518764   \n",
       "\n",
       "   Interval  \n",
       "0  8.334440  \n",
       "1  8.646970  \n",
       "2  8.586739  "
      ]
     },
     "metadata": {},
     "output_type": "display_data"
    },
    {
     "data": {
      "text/html": [
       "<div>\n",
       "<style scoped>\n",
       "    .dataframe tbody tr th:only-of-type {\n",
       "        vertical-align: middle;\n",
       "    }\n",
       "\n",
       "    .dataframe tbody tr th {\n",
       "        vertical-align: top;\n",
       "    }\n",
       "\n",
       "    .dataframe thead th {\n",
       "        text-align: right;\n",
       "    }\n",
       "</style>\n",
       "<table border=\"1\" class=\"dataframe\">\n",
       "  <thead>\n",
       "    <tr style=\"text-align: right;\">\n",
       "      <th></th>\n",
       "      <th>Independent t-test</th>\n",
       "      <th>results</th>\n",
       "    </tr>\n",
       "  </thead>\n",
       "  <tbody>\n",
       "    <tr>\n",
       "      <th>0</th>\n",
       "      <td>Difference (Former Employees - Current Employe...</td>\n",
       "      <td>-0.3579</td>\n",
       "    </tr>\n",
       "    <tr>\n",
       "      <th>1</th>\n",
       "      <td>Degrees of freedom =</td>\n",
       "      <td>1468.0000</td>\n",
       "    </tr>\n",
       "    <tr>\n",
       "      <th>2</th>\n",
       "      <td>t =</td>\n",
       "      <td>-7.7477</td>\n",
       "    </tr>\n",
       "    <tr>\n",
       "      <th>3</th>\n",
       "      <td>Two side test p value =</td>\n",
       "      <td>0.0000</td>\n",
       "    </tr>\n",
       "    <tr>\n",
       "      <th>4</th>\n",
       "      <td>Difference &lt; 0 p value =</td>\n",
       "      <td>0.0000</td>\n",
       "    </tr>\n",
       "    <tr>\n",
       "      <th>5</th>\n",
       "      <td>Difference &gt; 0 p value =</td>\n",
       "      <td>1.0000</td>\n",
       "    </tr>\n",
       "    <tr>\n",
       "      <th>6</th>\n",
       "      <td>Cohen's d =</td>\n",
       "      <td>-0.5495</td>\n",
       "    </tr>\n",
       "    <tr>\n",
       "      <th>7</th>\n",
       "      <td>Hedge's g =</td>\n",
       "      <td>-0.5492</td>\n",
       "    </tr>\n",
       "    <tr>\n",
       "      <th>8</th>\n",
       "      <td>Glass's delta1 =</td>\n",
       "      <td>-0.5592</td>\n",
       "    </tr>\n",
       "    <tr>\n",
       "      <th>9</th>\n",
       "      <td>Point-Biserial r =</td>\n",
       "      <td>-0.1982</td>\n",
       "    </tr>\n",
       "  </tbody>\n",
       "</table>\n",
       "</div>"
      ],
      "text/plain": [
       "                                  Independent t-test    results\n",
       "0  Difference (Former Employees - Current Employe...    -0.3579\n",
       "1                              Degrees of freedom =   1468.0000\n",
       "2                                               t =     -7.7477\n",
       "3                           Two side test p value =      0.0000\n",
       "4                          Difference < 0 p value =      0.0000\n",
       "5                          Difference > 0 p value =      1.0000\n",
       "6                                       Cohen's d =     -0.5495\n",
       "7                                       Hedge's g =     -0.5492\n",
       "8                                  Glass's delta1 =     -0.5592\n",
       "9                                Point-Biserial r =     -0.1982"
      ]
     },
     "metadata": {},
     "output_type": "display_data"
    }
   ],
   "source": [
    "import researchpy as rp\n",
    "summary, res=rp.ttest(group1=df['MonthlyIncome'][df['Attrition']=='Yes'], \n",
    "                      group2=df['MonthlyIncome'][df['Attrition']=='No'], \n",
    "                      group1_name='Former Employees', group2_name='Current Employees')\n",
    "print(\"\\nSummary Statistics:\")\n",
    "display(summary)\n",
    "display(res)"
   ]
  },
  {
   "cell_type": "markdown",
   "metadata": {},
   "source": [
    "The p-value of the T-Test is 0, which is less than our significance level, $a$, of 0.05. Therefore, there is evidence to support that the average monthly income of former employees is different than the average monthly income of current employees."
   ]
  },
  {
   "cell_type": "markdown",
   "metadata": {},
   "source": [
    "## <b><span style='color:#68A19B'>II.</span> Chi-Square Test of Independence</b>"
   ]
  },
  {
   "cell_type": "markdown",
   "metadata": {},
   "source": [
    "To determine if there is a relationship between `Attrition` and the other categorical variables in the data set, I will use the chi-square test of independence. The null hypothesis for this test is that the variables are independent, there is no association between `Attrition` and the variable being tested, while the alternative hypothesis is that that there is a relationship."
   ]
  },
  {
   "cell_type": "code",
   "execution_count": 114,
   "metadata": {
    "_kg_hide-input": true
   },
   "outputs": [
    {
     "name": "stdout",
     "output_type": "stream",
     "text": [
      "Attrition and Gender are independent (p-value = 0.29).\n",
      "\n"
     ]
    },
    {
     "data": {
      "text/html": [
       "<div>\n",
       "<style scoped>\n",
       "    .dataframe tbody tr th:only-of-type {\n",
       "        vertical-align: middle;\n",
       "    }\n",
       "\n",
       "    .dataframe tbody tr th {\n",
       "        vertical-align: top;\n",
       "    }\n",
       "\n",
       "    .dataframe thead th {\n",
       "        text-align: right;\n",
       "    }\n",
       "</style>\n",
       "<table border=\"1\" class=\"dataframe\">\n",
       "  <thead>\n",
       "    <tr style=\"text-align: right;\">\n",
       "      <th></th>\n",
       "      <th>Variable</th>\n",
       "      <th>Chi_Statistic</th>\n",
       "      <th>P_value</th>\n",
       "    </tr>\n",
       "  </thead>\n",
       "  <tbody>\n",
       "    <tr>\n",
       "      <th>6</th>\n",
       "      <td>OverTime</td>\n",
       "      <td>87.564294</td>\n",
       "      <td>8.158424e-21</td>\n",
       "    </tr>\n",
       "    <tr>\n",
       "      <th>4</th>\n",
       "      <td>JobRole</td>\n",
       "      <td>86.190254</td>\n",
       "      <td>2.752482e-15</td>\n",
       "    </tr>\n",
       "    <tr>\n",
       "      <th>5</th>\n",
       "      <td>MaritalStatus</td>\n",
       "      <td>46.163677</td>\n",
       "      <td>9.455511e-11</td>\n",
       "    </tr>\n",
       "    <tr>\n",
       "      <th>0</th>\n",
       "      <td>BusinessTravel</td>\n",
       "      <td>24.182414</td>\n",
       "      <td>5.608614e-06</td>\n",
       "    </tr>\n",
       "    <tr>\n",
       "      <th>1</th>\n",
       "      <td>Department</td>\n",
       "      <td>10.796007</td>\n",
       "      <td>4.525607e-03</td>\n",
       "    </tr>\n",
       "    <tr>\n",
       "      <th>2</th>\n",
       "      <td>EducationField</td>\n",
       "      <td>16.024674</td>\n",
       "      <td>6.773980e-03</td>\n",
       "    </tr>\n",
       "  </tbody>\n",
       "</table>\n",
       "</div>"
      ],
      "text/plain": [
       "         Variable  Chi_Statistic       P_value\n",
       "6        OverTime      87.564294  8.158424e-21\n",
       "4         JobRole      86.190254  2.752482e-15\n",
       "5   MaritalStatus      46.163677  9.455511e-11\n",
       "0  BusinessTravel      24.182414  5.608614e-06\n",
       "1      Department      10.796007  4.525607e-03\n",
       "2  EducationField      16.024674  6.773980e-03"
      ]
     },
     "metadata": {},
     "output_type": "display_data"
    }
   ],
   "source": [
    "cat_cols=df.select_dtypes(include=\"category\").columns.tolist() \n",
    "chi_statistic=[]\n",
    "p_val=[]\n",
    "vars_rm=[]\n",
    "\n",
    "for i in df[cat_cols]:\n",
    "    observed=pd.crosstab(index=df[\"Attrition\"], columns=df[i])\n",
    "    stat, p, dof, expected=chi2_contingency(observed)\n",
    "    chi_statistic.append(stat)\n",
    "    p_val.append(p)\n",
    "    if p >= 0.05:\n",
    "        print(\"Attrition and {} are independent (p-value = {:.2f}).\\n\".format(i,p))\n",
    "        vars_rm.append(i)\n",
    "\n",
    "chi_df = pd.DataFrame()\n",
    "chi_df[\"Variable\"] = cat_cols\n",
    "chi_df[\"Chi_Statistic\"] = chi_statistic\n",
    "chi_df[\"P_value\"] = p_val\n",
    "chi_df=chi_df[chi_df.P_value<0.05].sort_values(\"P_value\", ascending=True)\n",
    "display(chi_df)"
   ]
  },
  {
   "cell_type": "markdown",
   "metadata": {},
   "source": [
    "Based on the chi square test results, factors that are significant in whether an employee stays at the company include their work life balance, job satisfation, whether or not they work overtime, their stock options, and the department they work in. Variables that are independent of attrition, like `Education`, `Gender`, `PerformanceRating`, and `RelationshipSatisfaction`, will be removed from the predictors in the model."
   ]
  },
  {
   "cell_type": "markdown",
   "metadata": {},
   "source": [
    "# <div style=\"color:white;display:fill;border-radius:5px;background-color:#8ABEB9;overflow:hidden\"><p style=\"padding:20px;color:white;overflow:hidden;font-size:100%;margin:0;text-align:center\">Predicting Employee Attrition</p></div>"
   ]
  },
  {
   "cell_type": "markdown",
   "metadata": {},
   "source": [
    "## <b><span style='color:#68A19B'>I.</span>  Encode Categorical Columns</b>"
   ]
  },
  {
   "cell_type": "code",
   "execution_count": 118,
   "metadata": {
    "_kg_hide-input": true
   },
   "outputs": [
    {
     "data": {
      "text/html": [
       "<div>\n",
       "<style scoped>\n",
       "    .dataframe tbody tr th:only-of-type {\n",
       "        vertical-align: middle;\n",
       "    }\n",
       "\n",
       "    .dataframe tbody tr th {\n",
       "        vertical-align: top;\n",
       "    }\n",
       "\n",
       "    .dataframe thead th {\n",
       "        text-align: right;\n",
       "    }\n",
       "</style>\n",
       "<table border=\"1\" class=\"dataframe\">\n",
       "  <thead>\n",
       "    <tr style=\"text-align: right;\">\n",
       "      <th></th>\n",
       "      <th>Age</th>\n",
       "      <th>DailyRate</th>\n",
       "      <th>DistanceFromHome</th>\n",
       "      <th>Education</th>\n",
       "      <th>EnvironmentSatisfaction</th>\n",
       "      <th>HourlyRate</th>\n",
       "      <th>JobInvolvement</th>\n",
       "      <th>JobLevel</th>\n",
       "      <th>JobSatisfaction</th>\n",
       "      <th>MonthlyIncome</th>\n",
       "      <th>...</th>\n",
       "      <th>MaritalStatus_Single</th>\n",
       "      <th>BusinessTravel_Travel_Frequently</th>\n",
       "      <th>BusinessTravel_Travel_Rarely</th>\n",
       "      <th>Department_Research&amp;Development</th>\n",
       "      <th>Department_Sales</th>\n",
       "      <th>EducationField_LifeSciences</th>\n",
       "      <th>EducationField_Marketing</th>\n",
       "      <th>EducationField_Medical</th>\n",
       "      <th>EducationField_Other</th>\n",
       "      <th>EducationField_TechnicalDegree</th>\n",
       "    </tr>\n",
       "  </thead>\n",
       "  <tbody>\n",
       "    <tr>\n",
       "      <th>0</th>\n",
       "      <td>41</td>\n",
       "      <td>1102</td>\n",
       "      <td>0.693147</td>\n",
       "      <td>2</td>\n",
       "      <td>2</td>\n",
       "      <td>94</td>\n",
       "      <td>3</td>\n",
       "      <td>1.098612</td>\n",
       "      <td>4</td>\n",
       "      <td>8.698514</td>\n",
       "      <td>...</td>\n",
       "      <td>True</td>\n",
       "      <td>False</td>\n",
       "      <td>True</td>\n",
       "      <td>False</td>\n",
       "      <td>True</td>\n",
       "      <td>True</td>\n",
       "      <td>False</td>\n",
       "      <td>False</td>\n",
       "      <td>False</td>\n",
       "      <td>False</td>\n",
       "    </tr>\n",
       "    <tr>\n",
       "      <th>1</th>\n",
       "      <td>49</td>\n",
       "      <td>279</td>\n",
       "      <td>2.197225</td>\n",
       "      <td>1</td>\n",
       "      <td>3</td>\n",
       "      <td>61</td>\n",
       "      <td>2</td>\n",
       "      <td>1.098612</td>\n",
       "      <td>2</td>\n",
       "      <td>8.543056</td>\n",
       "      <td>...</td>\n",
       "      <td>False</td>\n",
       "      <td>True</td>\n",
       "      <td>False</td>\n",
       "      <td>True</td>\n",
       "      <td>False</td>\n",
       "      <td>True</td>\n",
       "      <td>False</td>\n",
       "      <td>False</td>\n",
       "      <td>False</td>\n",
       "      <td>False</td>\n",
       "    </tr>\n",
       "    <tr>\n",
       "      <th>2</th>\n",
       "      <td>37</td>\n",
       "      <td>1373</td>\n",
       "      <td>1.098612</td>\n",
       "      <td>2</td>\n",
       "      <td>4</td>\n",
       "      <td>92</td>\n",
       "      <td>2</td>\n",
       "      <td>0.693147</td>\n",
       "      <td>3</td>\n",
       "      <td>7.645398</td>\n",
       "      <td>...</td>\n",
       "      <td>True</td>\n",
       "      <td>False</td>\n",
       "      <td>True</td>\n",
       "      <td>True</td>\n",
       "      <td>False</td>\n",
       "      <td>False</td>\n",
       "      <td>False</td>\n",
       "      <td>False</td>\n",
       "      <td>True</td>\n",
       "      <td>False</td>\n",
       "    </tr>\n",
       "    <tr>\n",
       "      <th>3</th>\n",
       "      <td>33</td>\n",
       "      <td>1392</td>\n",
       "      <td>1.386294</td>\n",
       "      <td>4</td>\n",
       "      <td>4</td>\n",
       "      <td>56</td>\n",
       "      <td>3</td>\n",
       "      <td>0.693147</td>\n",
       "      <td>3</td>\n",
       "      <td>7.975908</td>\n",
       "      <td>...</td>\n",
       "      <td>False</td>\n",
       "      <td>True</td>\n",
       "      <td>False</td>\n",
       "      <td>True</td>\n",
       "      <td>False</td>\n",
       "      <td>True</td>\n",
       "      <td>False</td>\n",
       "      <td>False</td>\n",
       "      <td>False</td>\n",
       "      <td>False</td>\n",
       "    </tr>\n",
       "    <tr>\n",
       "      <th>4</th>\n",
       "      <td>27</td>\n",
       "      <td>591</td>\n",
       "      <td>1.098612</td>\n",
       "      <td>1</td>\n",
       "      <td>1</td>\n",
       "      <td>40</td>\n",
       "      <td>3</td>\n",
       "      <td>0.693147</td>\n",
       "      <td>2</td>\n",
       "      <td>8.151622</td>\n",
       "      <td>...</td>\n",
       "      <td>False</td>\n",
       "      <td>False</td>\n",
       "      <td>True</td>\n",
       "      <td>True</td>\n",
       "      <td>False</td>\n",
       "      <td>False</td>\n",
       "      <td>False</td>\n",
       "      <td>True</td>\n",
       "      <td>False</td>\n",
       "      <td>False</td>\n",
       "    </tr>\n",
       "  </tbody>\n",
       "</table>\n",
       "<p>5 rows × 43 columns</p>\n",
       "</div>"
      ],
      "text/plain": [
       "   Age  DailyRate  DistanceFromHome  Education  EnvironmentSatisfaction  \\\n",
       "0   41       1102          0.693147          2                        2   \n",
       "1   49        279          2.197225          1                        3   \n",
       "2   37       1373          1.098612          2                        4   \n",
       "3   33       1392          1.386294          4                        4   \n",
       "4   27        591          1.098612          1                        1   \n",
       "\n",
       "   HourlyRate  JobInvolvement  JobLevel  JobSatisfaction  MonthlyIncome  ...  \\\n",
       "0          94               3  1.098612                4       8.698514  ...   \n",
       "1          61               2  1.098612                2       8.543056  ...   \n",
       "2          92               2  0.693147                3       7.645398  ...   \n",
       "3          56               3  0.693147                3       7.975908  ...   \n",
       "4          40               3  0.693147                2       8.151622  ...   \n",
       "\n",
       "   MaritalStatus_Single  BusinessTravel_Travel_Frequently  \\\n",
       "0                  True                             False   \n",
       "1                 False                              True   \n",
       "2                  True                             False   \n",
       "3                 False                              True   \n",
       "4                 False                             False   \n",
       "\n",
       "   BusinessTravel_Travel_Rarely  Department_Research&Development  \\\n",
       "0                          True                            False   \n",
       "1                         False                             True   \n",
       "2                          True                             True   \n",
       "3                         False                             True   \n",
       "4                          True                             True   \n",
       "\n",
       "   Department_Sales  EducationField_LifeSciences  EducationField_Marketing  \\\n",
       "0              True                         True                     False   \n",
       "1             False                         True                     False   \n",
       "2             False                        False                     False   \n",
       "3             False                         True                     False   \n",
       "4             False                        False                     False   \n",
       "\n",
       "   EducationField_Medical  EducationField_Other  \\\n",
       "0                   False                 False   \n",
       "1                   False                 False   \n",
       "2                   False                  True   \n",
       "3                   False                 False   \n",
       "4                    True                 False   \n",
       "\n",
       "   EducationField_TechnicalDegree  \n",
       "0                           False  \n",
       "1                           False  \n",
       "2                           False  \n",
       "3                           False  \n",
       "4                           False  \n",
       "\n",
       "[5 rows x 43 columns]"
      ]
     },
     "execution_count": 118,
     "metadata": {},
     "output_type": "execute_result"
    }
   ],
   "source": [
    "# Encode target variable\n",
    "y = df['Attrition'].map({'Yes': 1, 'No': 0})\n",
    "\n",
    "# Select features and drop unwanted columns\n",
    "X = df.drop(columns=['Attrition'] + vars_rm)\n",
    "\n",
    "# One-hot encode categorical columns\n",
    "categorical_cols = chi_df.Variable.values\n",
    "X = pd.get_dummies(X, columns=categorical_cols, drop_first=True)\n",
    "\n",
    "# Clean column names\n",
    "X.columns = X.columns.str.replace(' ', '')\n",
    "\n",
    "# Check first few rows\n",
    "X.head()\n"
   ]
  },
  {
   "cell_type": "markdown",
   "metadata": {},
   "source": [
    "## <b><span style='color:#68A19B'>II.</span> Create Training, Validation, and Test Sets</b>"
   ]
  },
  {
   "cell_type": "code",
   "execution_count": 120,
   "metadata": {
    "_kg_hide-input": true
   },
   "outputs": [
    {
     "name": "stdout",
     "output_type": "stream",
     "text": [
      "Train Shape: (1029, 43) (1029,)\n",
      "Validation set Shape: (220, 43) (220,)\n",
      "Test set Shape: (221, 43) (221,)\n"
     ]
    }
   ],
   "source": [
    "X_train, X_rem, y_train, y_rem = train_test_split(X, y, train_size=0.7, random_state=21)\n",
    "X_val, X_test, y_val, y_test = train_test_split(X_rem, y_rem, test_size=0.5, random_state=21)\n",
    "\n",
    "print(\"Train Shape:\", X_train.shape, y_train.shape)\n",
    "print(\"Validation set Shape:\", X_val.shape,y_val.shape)\n",
    "print(\"Test set Shape:\", X_test.shape, y_test.shape)"
   ]
  },
  {
   "cell_type": "markdown",
   "metadata": {},
   "source": [
    "## <b><span style='color:#68A19B'>III.</span> Scale Features</b>"
   ]
  },
  {
   "cell_type": "code",
   "execution_count": 122,
   "metadata": {
    "_kg_hide-input": true
   },
   "outputs": [
    {
     "data": {
      "text/html": [
       "<div>\n",
       "<style scoped>\n",
       "    .dataframe tbody tr th:only-of-type {\n",
       "        vertical-align: middle;\n",
       "    }\n",
       "\n",
       "    .dataframe tbody tr th {\n",
       "        vertical-align: top;\n",
       "    }\n",
       "\n",
       "    .dataframe thead th {\n",
       "        text-align: right;\n",
       "    }\n",
       "</style>\n",
       "<table border=\"1\" class=\"dataframe\">\n",
       "  <thead>\n",
       "    <tr style=\"text-align: right;\">\n",
       "      <th></th>\n",
       "      <th>Age</th>\n",
       "      <th>DailyRate</th>\n",
       "      <th>DistanceFromHome</th>\n",
       "      <th>Education</th>\n",
       "      <th>EnvironmentSatisfaction</th>\n",
       "      <th>HourlyRate</th>\n",
       "      <th>JobInvolvement</th>\n",
       "      <th>JobLevel</th>\n",
       "      <th>JobSatisfaction</th>\n",
       "      <th>MonthlyIncome</th>\n",
       "      <th>...</th>\n",
       "      <th>MaritalStatus_Single</th>\n",
       "      <th>BusinessTravel_Travel_Frequently</th>\n",
       "      <th>BusinessTravel_Travel_Rarely</th>\n",
       "      <th>Department_Research&amp;Development</th>\n",
       "      <th>Department_Sales</th>\n",
       "      <th>EducationField_LifeSciences</th>\n",
       "      <th>EducationField_Marketing</th>\n",
       "      <th>EducationField_Medical</th>\n",
       "      <th>EducationField_Other</th>\n",
       "      <th>EducationField_TechnicalDegree</th>\n",
       "    </tr>\n",
       "  </thead>\n",
       "  <tbody>\n",
       "    <tr>\n",
       "      <th>0</th>\n",
       "      <td>0.039281</td>\n",
       "      <td>-1.431033</td>\n",
       "      <td>-0.023528</td>\n",
       "      <td>1.049282</td>\n",
       "      <td>0.236636</td>\n",
       "      <td>1.548533</td>\n",
       "      <td>0.372441</td>\n",
       "      <td>0.118015</td>\n",
       "      <td>1.148950</td>\n",
       "      <td>0.340625</td>\n",
       "      <td>...</td>\n",
       "      <td>-0.674867</td>\n",
       "      <td>-0.478947</td>\n",
       "      <td>0.639991</td>\n",
       "      <td>-1.374936</td>\n",
       "      <td>1.515941</td>\n",
       "      <td>-0.822129</td>\n",
       "      <td>-0.349482</td>\n",
       "      <td>1.448930</td>\n",
       "      <td>-0.23763</td>\n",
       "      <td>-0.322610</td>\n",
       "    </tr>\n",
       "    <tr>\n",
       "      <th>1</th>\n",
       "      <td>-1.056109</td>\n",
       "      <td>1.632008</td>\n",
       "      <td>-1.477589</td>\n",
       "      <td>-0.861711</td>\n",
       "      <td>1.155496</td>\n",
       "      <td>0.767530</td>\n",
       "      <td>0.372441</td>\n",
       "      <td>-1.076666</td>\n",
       "      <td>-0.647812</td>\n",
       "      <td>-0.455105</td>\n",
       "      <td>...</td>\n",
       "      <td>-0.674867</td>\n",
       "      <td>-0.478947</td>\n",
       "      <td>0.639991</td>\n",
       "      <td>0.727306</td>\n",
       "      <td>-0.659656</td>\n",
       "      <td>-0.822129</td>\n",
       "      <td>-0.349482</td>\n",
       "      <td>1.448930</td>\n",
       "      <td>-0.23763</td>\n",
       "      <td>-0.322610</td>\n",
       "    </tr>\n",
       "    <tr>\n",
       "      <th>2</th>\n",
       "      <td>0.039281</td>\n",
       "      <td>1.493788</td>\n",
       "      <td>-0.202448</td>\n",
       "      <td>-0.861711</td>\n",
       "      <td>0.236636</td>\n",
       "      <td>0.865156</td>\n",
       "      <td>1.746069</td>\n",
       "      <td>-1.076666</td>\n",
       "      <td>0.250569</td>\n",
       "      <td>-0.584167</td>\n",
       "      <td>...</td>\n",
       "      <td>1.481773</td>\n",
       "      <td>-0.478947</td>\n",
       "      <td>-1.562521</td>\n",
       "      <td>0.727306</td>\n",
       "      <td>-0.659656</td>\n",
       "      <td>-0.822129</td>\n",
       "      <td>-0.349482</td>\n",
       "      <td>-0.690165</td>\n",
       "      <td>-0.23763</td>\n",
       "      <td>3.099717</td>\n",
       "    </tr>\n",
       "    <tr>\n",
       "      <th>3</th>\n",
       "      <td>-0.179797</td>\n",
       "      <td>1.449361</td>\n",
       "      <td>0.390459</td>\n",
       "      <td>1.049282</td>\n",
       "      <td>-0.682225</td>\n",
       "      <td>-0.892100</td>\n",
       "      <td>0.372441</td>\n",
       "      <td>0.118015</td>\n",
       "      <td>0.250569</td>\n",
       "      <td>-0.022621</td>\n",
       "      <td>...</td>\n",
       "      <td>1.481773</td>\n",
       "      <td>-0.478947</td>\n",
       "      <td>0.639991</td>\n",
       "      <td>0.727306</td>\n",
       "      <td>-0.659656</td>\n",
       "      <td>-0.822129</td>\n",
       "      <td>-0.349482</td>\n",
       "      <td>1.448930</td>\n",
       "      <td>-0.23763</td>\n",
       "      <td>-0.322610</td>\n",
       "    </tr>\n",
       "    <tr>\n",
       "      <th>4</th>\n",
       "      <td>2.339599</td>\n",
       "      <td>-0.500520</td>\n",
       "      <td>1.305609</td>\n",
       "      <td>0.093785</td>\n",
       "      <td>1.155496</td>\n",
       "      <td>0.279404</td>\n",
       "      <td>0.372441</td>\n",
       "      <td>1.623135</td>\n",
       "      <td>1.148950</td>\n",
       "      <td>1.850835</td>\n",
       "      <td>...</td>\n",
       "      <td>-0.674867</td>\n",
       "      <td>-0.478947</td>\n",
       "      <td>0.639991</td>\n",
       "      <td>-1.374936</td>\n",
       "      <td>1.515941</td>\n",
       "      <td>1.216354</td>\n",
       "      <td>-0.349482</td>\n",
       "      <td>-0.690165</td>\n",
       "      <td>-0.23763</td>\n",
       "      <td>-0.322610</td>\n",
       "    </tr>\n",
       "  </tbody>\n",
       "</table>\n",
       "<p>5 rows × 43 columns</p>\n",
       "</div>"
      ],
      "text/plain": [
       "        Age  DailyRate  DistanceFromHome  Education  EnvironmentSatisfaction  \\\n",
       "0  0.039281  -1.431033         -0.023528   1.049282                 0.236636   \n",
       "1 -1.056109   1.632008         -1.477589  -0.861711                 1.155496   \n",
       "2  0.039281   1.493788         -0.202448  -0.861711                 0.236636   \n",
       "3 -0.179797   1.449361          0.390459   1.049282                -0.682225   \n",
       "4  2.339599  -0.500520          1.305609   0.093785                 1.155496   \n",
       "\n",
       "   HourlyRate  JobInvolvement  JobLevel  JobSatisfaction  MonthlyIncome  ...  \\\n",
       "0    1.548533        0.372441  0.118015         1.148950       0.340625  ...   \n",
       "1    0.767530        0.372441 -1.076666        -0.647812      -0.455105  ...   \n",
       "2    0.865156        1.746069 -1.076666         0.250569      -0.584167  ...   \n",
       "3   -0.892100        0.372441  0.118015         0.250569      -0.022621  ...   \n",
       "4    0.279404        0.372441  1.623135         1.148950       1.850835  ...   \n",
       "\n",
       "   MaritalStatus_Single  BusinessTravel_Travel_Frequently  \\\n",
       "0             -0.674867                         -0.478947   \n",
       "1             -0.674867                         -0.478947   \n",
       "2              1.481773                         -0.478947   \n",
       "3              1.481773                         -0.478947   \n",
       "4             -0.674867                         -0.478947   \n",
       "\n",
       "   BusinessTravel_Travel_Rarely  Department_Research&Development  \\\n",
       "0                      0.639991                        -1.374936   \n",
       "1                      0.639991                         0.727306   \n",
       "2                     -1.562521                         0.727306   \n",
       "3                      0.639991                         0.727306   \n",
       "4                      0.639991                        -1.374936   \n",
       "\n",
       "   Department_Sales  EducationField_LifeSciences  EducationField_Marketing  \\\n",
       "0          1.515941                    -0.822129                 -0.349482   \n",
       "1         -0.659656                    -0.822129                 -0.349482   \n",
       "2         -0.659656                    -0.822129                 -0.349482   \n",
       "3         -0.659656                    -0.822129                 -0.349482   \n",
       "4          1.515941                     1.216354                 -0.349482   \n",
       "\n",
       "   EducationField_Medical  EducationField_Other  \\\n",
       "0                1.448930              -0.23763   \n",
       "1                1.448930              -0.23763   \n",
       "2               -0.690165              -0.23763   \n",
       "3                1.448930              -0.23763   \n",
       "4               -0.690165              -0.23763   \n",
       "\n",
       "   EducationField_TechnicalDegree  \n",
       "0                       -0.322610  \n",
       "1                       -0.322610  \n",
       "2                        3.099717  \n",
       "3                       -0.322610  \n",
       "4                       -0.322610  \n",
       "\n",
       "[5 rows x 43 columns]"
      ]
     },
     "execution_count": 122,
     "metadata": {},
     "output_type": "execute_result"
    }
   ],
   "source": [
    "scaler = StandardScaler()\n",
    "X_train = pd.DataFrame(scaler.fit_transform(X_train), columns=X_train.columns)\n",
    "X_val = pd.DataFrame(scaler.transform(X_val), columns=X_val.columns)\n",
    "X_test=pd.DataFrame(scaler.transform(X_test), columns=X_test.columns)\n",
    "X_train.head()"
   ]
  },
  {
   "cell_type": "markdown",
   "metadata": {},
   "source": [
    "## <b><span style='color:#68A19B'>IV.</span>  Tune Parameters of Random Forest</b>"
   ]
  },
  {
   "cell_type": "code",
   "execution_count": null,
   "metadata": {
    "_kg_hide-input": true
   },
   "outputs": [],
   "source": [
    "from sklearn.ensemble import RandomForestClassifier\n",
    "from sklearn.model_selection import RandomizedSearchCV\n",
    "import numpy as np\n",
    "\n",
    "# Define parameter grid\n",
    "param_grid = {\n",
    "    'n_estimators': [100, 200, 300, 400, 500],\n",
    "    'max_features': [None, 'sqrt'],\n",
    "    'max_depth': [None, 5, 7, 14, 21],\n",
    "    'min_samples_split': [2, 5, 8],\n",
    "    'min_samples_leaf': [3, 4, 5],\n",
    "    'bootstrap': [True, False]\n",
    "}\n",
    "\n",
    "# Initialize Random Forest\n",
    "rf = RandomForestClassifier(random_state=92)\n",
    "\n",
    "# Randomized search with 5-fold CV\n",
    "rf_cv = RandomizedSearchCV(\n",
    "    estimator=rf,\n",
    "    param_distributions=param_grid,\n",
    "    scoring='roc_auc',\n",
    "    n_iter=100,\n",
    "    cv=5,\n",
    "    random_state=92,\n",
    "    n_jobs=-1\n",
    ")\n",
    "\n",
    "# Fit on training data\n",
    "rf_cv.fit(X_train, y_train)\n",
    "\n",
    "# Best AUC score and parameters\n",
    "print(f\"Best AUC: {rf_cv.best_score_:.3f}\")\n",
    "print(\"Best Parameters:\", rf_cv.best_params_)\n"
   ]
  },
  {
   "cell_type": "markdown",
   "metadata": {},
   "source": [
    "Using cross-validation to tune the parameters, the random forest model with the best Area Under the Curve grows to a maximum depth of no more than 7 splits in each tree. The subset of features considered when looking for the best split is the squareroot of the total number of features. In addition, at least 5 samples are required to split an internal node with a minimum of 4 samples in each leaf node."
   ]
  },
  {
   "cell_type": "markdown",
   "metadata": {},
   "source": [
    "## <b><span style='color:#68A19B'>V.</span>    Feature importance</b>"
   ]
  },
  {
   "cell_type": "code",
   "execution_count": null,
   "metadata": {
    "_kg_hide-input": true
   },
   "outputs": [],
   "source": [
    "import plotly.express as px\n",
    "import pandas as pd\n",
    "import seaborn as sns\n",
    "\n",
    "# Get feature importances from best Random Forest\n",
    "feat = pd.DataFrame({\n",
    "    \"Importance\": rf_cv.best_estimator_.feature_importances_\n",
    "}, index=X_train.columns)\n",
    "\n",
    "# Select top 15 important features\n",
    "plot_df = feat.nlargest(15, 'Importance').sort_values('Importance', ascending=True)\n",
    "\n",
    "# Define colors\n",
    "colors = sns.color_palette(\"mako\", 15).as_hex()[::-1]\n",
    "\n",
    "# Plot\n",
    "fig = px.bar(\n",
    "    plot_df,\n",
    "    x=plot_df.index,\n",
    "    y='Importance',\n",
    "    text='Importance',\n",
    "    color=plot_df.index,\n",
    "    color_discrete_sequence=colors,\n",
    "    opacity=0.7\n",
    ")\n",
    "\n",
    "fig.update_traces(\n",
    "    texttemplate='%{text:.2f}',\n",
    "    textposition='outside',\n",
    "    marker_line=dict(width=1, color='#3F3B3A'),\n",
    "    hovertemplate='%{x}<br>Importance = %{y:.2f}'\n",
    ")\n",
    "\n",
    "fig.update_layout(\n",
    "    title='Top 15 Most Important Predictors of Employee Attrition',\n",
    "    coloraxis_showscale=False,\n",
    "    showlegend=False,\n",
    "    font_color=\"#303030\",\n",
    "    height=500,\n",
    "    paper_bgcolor='white',\n",
    "    plot_bgcolor='white',\n",
    "    yaxis_title=\"Importance\",\n",
    "    xaxis=dict(title=\"\", showgrid=True, gridcolor=\"#f5f5f5\")\n",
    ")\n",
    "\n",
    "fig.show()\n"
   ]
  },
  {
   "cell_type": "markdown",
   "metadata": {},
   "source": [
    "This bar graph shows the most important variables in predicting employee attrition using random forest's Gini importance measure. Variable importance is calculated by the decrease in the tree node's impurity from splitting on that feature, averaged over all of the trees in the model. Based on this graph, monthly income, age, and working overtime are the most important predictors of employee attrition. In addition, information related to their job history, like the total number of years they've worked and the length of time they've been with the company and with their current manager, as well as their proximity to the office and salary rate increases are some of the most important contributors in predicting employee attrition."
   ]
  },
  {
   "cell_type": "markdown",
   "metadata": {},
   "source": [
    "## <b><span style='color:#68A19B'>VI.</span> Model evaluation</b>"
   ]
  },
  {
   "cell_type": "code",
   "execution_count": null,
   "metadata": {
    "_kg_hide-input": true
   },
   "outputs": [],
   "source": [
    "from sklearn.metrics import accuracy_score, roc_auc_score\n",
    "\n",
    "# Predict probabilities and classes\n",
    "y_val_pred_prob = rf_cv.predict_proba(X_val)[:, 1]\n",
    "y_test_pred_prob = rf_cv.predict_proba(X_test)[:, 1]\n",
    "y_val_pred = rf_cv.predict(X_val)\n",
    "y_test_pred = rf_cv.predict(X_test)\n",
    "\n",
    "# Calculate metrics\n",
    "val_auc = roc_auc_score(y_val, y_val_pred_prob)\n",
    "test_auc = roc_auc_score(y_test, y_test_pred_prob)\n",
    "val_acc = accuracy_score(y_val, y_val_pred)\n",
    "test_acc = accuracy_score(y_test, y_test_pred)\n",
    "\n",
    "# Print results\n",
    "print(f\"Validation Accuracy: {val_acc*100:.1f}% | AUC = {val_auc:.3f}\")\n",
    "print(f\"Test Accuracy: {test_acc*100:.1f}% | AUC = {test_auc:.3f}\")\n"
   ]
  },
  {
   "cell_type": "markdown",
   "metadata": {},
   "source": [
    "<div style=\"color:white;display:fill;border-radius:5px;background-color:#8ABEB9;overflow:hidden\">\n",
    "    <p style=\"padding:20px;color:white;overflow:hidden;font-size:100%;margin:0;text-align:center\">Conclusion</p>\n",
    "</div>\n",
    "\n",
    "<p>In this analysis, we found that <strong>16% of employees left the company</strong> in the previous quarter, with more than half leaving from the <strong>Research & Development department</strong>. Among women, the highest turnover occurred in the <strong>Human Resources department</strong>. About <strong>1 in 4 workers with the lowest work-life balance</strong> left the company, though the majority of employees who left rated their job satisfaction as <strong>good or excellent</strong>. Former employees also earned significantly less, with a <strong>median monthly income about $2,000/month lower</strong> than current employees. Variables such as <strong>education level, performance rating, and gender</strong> were not significant predictors of attrition.</p>\n",
    "\n",
    "<p>Based on the <strong>Random Forest model feature importances</strong>, an employee's <strong>age, income, tenure, and job history</strong> were among the most influential predictors of attrition. With these features, the model achieved an <strong>AUC of 0.774 on the validation set</strong> and <strong>0.816 on the test set</strong>, indicating strong predictive performance. To further improve the model, additional data on former employees or using weighted sampling methods could help address the class imbalance in the dataset.</p>\n",
    "\n",
    "<div style='color:#68A19B;text-align:center'>\n",
    "    Thank you for reading!<br>\n",
    "    Please let me know if you have any questions or feedback 🙂\n",
    "</div>\n"
   ]
  },
  {
   "cell_type": "code",
   "execution_count": null,
   "metadata": {},
   "outputs": [],
   "source": []
  }
 ],
 "metadata": {
  "kernelspec": {
   "display_name": "Python 3 (ipykernel)",
   "language": "python",
   "name": "python3"
  },
  "language_info": {
   "codemirror_mode": {
    "name": "ipython",
    "version": 3
   },
   "file_extension": ".py",
   "mimetype": "text/x-python",
   "name": "python",
   "nbconvert_exporter": "python",
   "pygments_lexer": "ipython3",
   "version": "3.12.7"
  }
 },
 "nbformat": 4,
 "nbformat_minor": 4
}
